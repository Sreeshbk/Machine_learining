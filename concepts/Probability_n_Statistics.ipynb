{
  "nbformat": 4,
  "nbformat_minor": 0,
  "metadata": {
    "colab": {
      "provenance": [],
      "authorship_tag": "ABX9TyP6qYujMhAz/GrgDzf2Is9Z",
      "include_colab_link": true
    },
    "kernelspec": {
      "name": "python3",
      "display_name": "Python 3"
    },
    "language_info": {
      "name": "python"
    }
  },
  "cells": [
    {
      "cell_type": "markdown",
      "metadata": {
        "id": "view-in-github",
        "colab_type": "text"
      },
      "source": [
        "<a href=\"https://colab.research.google.com/github/Sreeshbk/Machine_learning/blob/main/concepts/Probability_n_Statistics.ipynb\" target=\"_parent\"><img src=\"https://colab.research.google.com/assets/colab-badge.svg\" alt=\"Open In Colab\"/></a>"
      ]
    },
    {
      "cell_type": "markdown",
      "source": [
        "# Probability\n",
        "\n",
        "- `Chance` is a possibility of something happening\n",
        "- `Probability` the likelihood of an event in which we are interested.\n",
        "- The `Likelihood` of an event is the frequency with which the event may occur.\n",
        "- The `probabilistic model` is a generic structure which describes the random outcomes of an activity. The activity (experiment), results of activity (outcomes) and the frequency/likelihood with which the values (outcomes) may occur can be described using a Probabilistic Model.\n",
        "- The process of observation of an activity is termed as an `experiment`.\n",
        "- The results of an observation are termed as `outcomes` of the Experiment.\n",
        "- The events for which we cannot calculate the outcomes, those experiments are called `random experiments`.\n",
        "- `Sample Space` is the set of all the possible outcomes of a random experiment. It can be of two types which are as follows:\n",
        " - Continuous sample space\n",
        "Example: Value of stock for a company can be between $15 and $25 = {15.01, 15.02, …,24.98, 24.99, 25}\n",
        " - Discrete sample space\n",
        "Example: Number of people attending the meeting can be between 10 and 20 = {10, 11, 12,…,20}\n",
        "- If we narrow down our focus to one particular outcome or a set of some outcomes from the entire sample space it is termed as an `Event`.\n",
        "\n",
        "| Dependent Events | Independent Events |\n",
        "|---------------|---------------|\n",
        "|Occurence of event affects another event | Occurence of event doesnot affects another event|\n",
        "\n",
        "- `Meta-phrasing` refers to literal translation. Meta-phrasing involves word by word and line by line translation without loss of information.\n",
        "`Sets` and `Venn diagrams` facilitate the meta-phrasing of the real-time experiment (described as word problems) to a mathematical model.\n",
        "\n",
        " - Sets help translate the problems into mathematical representations.\n",
        " - Venn diagrams help represent the Sets graphically.\n",
        "\n",
        "- A `Set` is a collection of distinct objects/elements. It is a collection of all possible outcomes.\n",
        "The Sets help translate the problems to mathematical representations using set notations.\n",
        "\n",
        " - If a set contains finite no. of elements (x1,x2,x3) it can be represented as S={x1,x2,x3} \n",
        "   \n",
        "   Example: Set of all possible outcomes of a die roll S={1,2,3,4,5,6 }\n",
        "\n",
        " - If a set contains infinite no. of elements (x1,x2,x3,…..) it can be represented as S={x1,x2,x3,…..}\n",
        "\n",
        "   Example: Set of all possible positive real numbers S={0,0.01,1,1.5,2,……}\n",
        "\n",
        "- Intersection: The intersection of two sets A and B is represented as A ∩ B  \n",
        "- Union: The union of two sets A and B is represented as A ∪ B \n",
        "- Complement: The complement of Set A is represented as $\\bar{A}$  \n",
        "- Difference: The difference of Set A and B is represented as  A — B\n",
        "- Symmetric Difference: The symmetric difference of Set A and B is represented as A Δ B \n",
        "\n",
        "## Combination - deals with selection"
      ],
      "metadata": {
        "id": "4oC45ec3gKKL"
      }
    },
    {
      "cell_type": "markdown",
      "source": [
        "Combination without replacement\n",
        "\n",
        "\\begin{equation}\n",
        " C_n^r = \\frac{n!}{(n-r)! \\space r!}\n",
        "\\end{equation}"
      ],
      "metadata": {
        "id": "PXmx0y84knjP"
      }
    },
    {
      "cell_type": "code",
      "source": [
        "from scipy.special import comb \n",
        "import math\n",
        "n=10\n",
        "r=4\n",
        "comb(n, r, exact=True) , math.factorial(n)/(math.factorial(r)*math.factorial(n-r))"
      ],
      "metadata": {
        "colab": {
          "base_uri": "https://localhost:8080/"
        },
        "id": "xSj8fNA0kk_5",
        "outputId": "959933c1-b381-400e-97f7-a7fd8aef93e9"
      },
      "execution_count": 38,
      "outputs": [
        {
          "output_type": "execute_result",
          "data": {
            "text/plain": [
              "(210, 210.0)"
            ]
          },
          "metadata": {},
          "execution_count": 38
        }
      ]
    },
    {
      "cell_type": "markdown",
      "source": [
        "Combination with replacement\n",
        "\n",
        "\\begin{equation}\n",
        " C_n^r =  (\\frac{n!}{ n-1!})^r\n",
        "\\end{equation}"
      ],
      "metadata": {
        "id": "dMwPP-6DmHup"
      }
    },
    {
      "cell_type": "markdown",
      "source": [
        "## Permutation - deals with ording/sequence\n",
        "\n",
        "Without repeation\n",
        "\n",
        "\\begin{equation}\n",
        " P_n^r = \\frac{n!}{(n-r)!}\n",
        "\\end{equation}"
      ],
      "metadata": {
        "id": "KXMKSiPooGk-"
      }
    },
    {
      "cell_type": "code",
      "source": [
        "import math;\n",
        "comb(n, r, exact=True)* math.factorial(2)"
      ],
      "metadata": {
        "colab": {
          "base_uri": "https://localhost:8080/"
        },
        "id": "6l0OLFNwnJjf",
        "outputId": "1c56b14e-9823-462e-a2bb-36342a65c546"
      },
      "execution_count": 39,
      "outputs": [
        {
          "output_type": "execute_result",
          "data": {
            "text/plain": [
              "420"
            ]
          },
          "metadata": {},
          "execution_count": 39
        }
      ]
    },
    {
      "cell_type": "markdown",
      "source": [
        "With Repeatation \\begin{equation}\n",
        " P_n^r = \\frac{noofletter!}{noofrepeatation!} = \\frac{n!}{r!}\n",
        "\\end{equation}"
      ],
      "metadata": {
        "id": "qCvtuqg8pK1i"
      }
    },
    {
      "cell_type": "markdown",
      "source": [
        "### Probability\n",
        "the probability of the Event A is given as \n",
        "\\begin{equation}\n",
        "P(A) = n(A)/n \n",
        "\\end{equation}\n",
        "\n",
        "where,\n",
        " - P(A) is a real number where n > 0\n",
        " - n(A) is the number of times event A has occurred.\n",
        "\n",
        "For a Finite Sample Space S, Consider an Event A.\n",
        "\n",
        "The probability P(A) which is a real number assigned to the Event A must follow the below axioms :\n",
        "\n",
        "- P(A) >= 0\n",
        "\n",
        "- P(S) = 1\n",
        "\n",
        "- If event A and Event B are mutually exclusive then,\n",
        "P (A U B) = P(A) + P(B) , (A ∩ B ) = ∅"
      ],
      "metadata": {
        "id": "Kq2aKHp3p1Vh"
      }
    },
    {
      "cell_type": "markdown",
      "source": [
        "Using the axioms the following properties of probability can be obtained:\n",
        "\n",
        "- P ( $\\bar{A}$ ) = 1 - P (A)\n",
        "- P (∅) = 0\n",
        "- P(A) < P(B)  if A ⊂ B\n",
        "- P(A) <= 1\n",
        "- P(A U B) = P(A) + P(B) - P(A ∩ B)"
      ],
      "metadata": {
        "id": "aql0gsmDqq9W"
      }
    },
    {
      "cell_type": "markdown",
      "source": [
        "## Conditional Probability \n",
        "is used to determine the likelihood of an event when a partial information about the event is known.\n",
        "\\begin{equation}\n",
        "P(A|B)= \\frac{P(A ∩ B)}{P(B)}\n",
        "\\end{equation}\n",
        "\n",
        "the probability that the defective bread supplied by supplier ‘k’\n",
        "\n",
        "\\begin{equation}\n",
        "P(S_k|D)=  \\frac{P(S_k)P(D|S_k)}{\\sum_i P(S_i)P(D|S_i)}\n",
        "\\end{equation} \n"
      ],
      "metadata": {
        "id": "xwXYYE26rPvd"
      }
    },
    {
      "cell_type": "markdown",
      "source": [
        "### Bayes Theorem\n",
        "For Event A and Event B,\n",
        "\n",
        "\\begin{equation} P (A ∩ B) = P(A)P(B|A), \\space  if \\space P(A) ≠ 0  \\end{equation} \n",
        "\n",
        "\\begin{equation} P (A ∩ B) = P(B)P(A|B), \\space if  \\space P(B) ≠ 0 \\end{equation} \n",
        "\n",
        "Bayes Theorem gives a relation between P(A|B) as\n",
        "\n",
        "\\begin{equation}\n",
        "P(A|B)= \\frac{P(A)P(B|A)}{P(B)}\n",
        "\\end{equation} \n",
        "\n",
        "\n"
      ],
      "metadata": {
        "id": "hl6fy8BGsOPG"
      }
    },
    {
      "cell_type": "markdown",
      "source": [
        "# Statistics\n",
        "\n",
        "The collection, analysis, interpretation, presentation and organization of data is termed as statistics.\n",
        "\n",
        "Statistics is used to study a population/process (data).\n",
        "\n",
        "- When all data required for observation/analysis is collected and studied, the data is referred to as the `population`.\n",
        "- When limited data is being collected/analyzed, this data is referred to as `sample` and is used as an indicative of the entire population.\n",
        "\n",
        "- Classification\n",
        "  - `Descriptive statistics`: Summarization of data to describe the main features of the sample.\n",
        "  Descriptive statistics summarize the sample and is used to learn about the data under study.\n",
        "  - `Inferential statistics`: When working with samples of the population the techniques and processes we use to draw conclusions come under inferential statistics let's understand it as we progress through this course.\n",
        "\n",
        "\n",
        "  "
      ],
      "metadata": {
        "id": "7AXsN12fcuJZ"
      }
    },
    {
      "cell_type": "markdown",
      "source": [
        "## Descriptive statistics \n",
        "\n",
        "\n"
      ],
      "metadata": {
        "id": "wJW5lHZw2gl2"
      }
    },
    {
      "cell_type": "markdown",
      "source": [
        "### The Measures of central tendency :\n",
        "      \n",
        "      Central tendency measures are statistical measures used to describe or understand a sample using a single value.\n",
        "      \n",
        "      A measure of central tendency could also indicate the tendency of data to centre around a particular value.\n",
        "      \n",
        "\n",
        "| Type | Description|Formula----------|\n",
        "|-----|----------|------|\n",
        "|arithmetic mean |the sum of all values in the data set divided by the total number of values in the data set.<br> Arithmetic Mean is a measure which is used for numeric data and is a single value<br> that represents the typical value in the given set of numbers.| $\\frac{\\sum_i^n x_i}{n}$|\n",
        "|weighted mean |the total of multiplication of individual weights with values divided by total weight.| $\\frac{\\sum_i^n w_ix_i}{\\sum_i^n w_i}$|\n",
        "|geometric mean|The geometric mean is used while finding the average of numbers that represent growth rate| $\\sqrt[n]{x_1x_2..x_n}$|\n",
        "| |the geometric mean as the arithmetic mean of log-transformed values of the data|$exp[\\frac{\\sum_i^n\\log_ex_i}{n}]$|\n",
        "|Harmonic mean |Harmonic mean is a better estimate of the average of data in situations where the data <br>represents rates/ratios such as speed (km per hr.), heart rate(beats per min.), frequency etc.<br>The harmonic mean is the reciprocal of the arithmetic mean of the reciprocals,| $\\frac{n}{\\frac{1}{x_1}\\frac{1}{x_2}...\\frac{1}{x_n}}$|\n",
        "|median|Median is the value that lies at the centre of the data set when data is ordered. <br>Median divides the data into equal halves when the data is sorted.||\n",
        "|mode|Data that is most frequently occurring in a data set is called Mode.||\n",
        "\n"
      ],
      "metadata": {
        "id": "7vC_0xrG2uIR"
      }
    },
    {
      "cell_type": "code",
      "source": [
        "import statistics as st\n",
        "print(\"mean \",st.mean([1,2,3,4]))\n",
        "print(\"median \",st.median([7800,8000,7500,7300,7000,6500,6750,90000,8000,7800]))\n",
        "print(\"mode\",st.mode([1,2,2,3,4,4,4]))"
      ],
      "metadata": {
        "colab": {
          "base_uri": "https://localhost:8080/"
        },
        "id": "kvbr8seM1rI5",
        "outputId": "5ca08326-a999-4e43-f64f-e55df6328a74"
      },
      "execution_count": 40,
      "outputs": [
        {
          "output_type": "stream",
          "name": "stdout",
          "text": [
            "mean  2.5\n",
            "median  7650.0\n",
            "mode 4\n"
          ]
        }
      ]
    },
    {
      "cell_type": "markdown",
      "source": [
        "### The Measures of dispersion\n",
        "\n",
        "Dispersion represents the variability in the data which simply means, Measures of Dispersion are representative of how squeezed or stretched the data is in comparison with the measures of central tendency. In other words, Measures of Dispersion help us identify how our data is spread overall in the data set.\n",
        "\n",
        "| Type | Description|Formula|\n",
        "|-----|----------|------|\n",
        "|Range|maximum value in a data set - minimum value in a data set|max(x)-min(x)|\n",
        "|Sampe Variance|describes the deviation of data from each other and from the mean.|$ S^2 = \\frac{\\sum_i^n (x_i-\\mu)^2}{n-1}$|\n",
        "|Population Variance|describes the deviation of data from each other and from the mean.|$\\sigma^2 =\\frac{\\sum_i^n (x_i-\\mu)^2}{n}$|\n",
        "|StandardDeviation|the Standard Deviation is the square root of the variance ||\n",
        "|Chebyshev's inequality| relates the mean and the standard deviation<br> It is bound on the probability of finding a value.<br>\"If the value is k standard deviations away from the mean,<br> then the probability of finding it is lesser than 1/k2 \"|$P(|x - µ| ≥ kσ) ≤  1/k2$|\n",
        "|z-score|indicates the distance of the data from the mean in terms of standard deviations.|$z = (x - µ) / σ$\n",
        "|Percentile|Represents the value below which a given percentage of observations fall.| Percentile = (Number of Values Below “x” / Total Number of Values) × 100.\n",
        "|Quartile|Quartiles are 3 points in the data set that divide the data set into 4 equal groups. <br>The first quartile (Q1) is the 25th percentile of the data set i.e. the value below which 25% of the data lies.<br>The second quartile (Q2) is the 50th percentile of the data set i.e. the value below which 50% of the data lies.<br> This is the median (m) of the data set<br>The third quartile (Q3) is the 75th percentile of the data set i.e. the value below which 75% of the data lies.|\n",
        "|IQR|The interquartile range is the difference between the third quartile(Q3) and the first quartile(Q1).<br> This range is used to indicate the spread of the data and is a better measure than range because min and max<br> (used in range) are highly volatile in the presence of unusual values.|IQR = (Q3-Q1) |\n",
        "|Co-efficient of Variation| is the ratio of the standard deviation to the mean and shows the extent of variability <br> in relation to the mean of the population. Lower is better| $COV=S*100/\\bar{x}$\n",
        "\n",
        " \n"
      ],
      "metadata": {
        "id": "7YgKBGLI2w4n"
      }
    },
    {
      "cell_type": "code",
      "source": [
        "import statistics as st\n",
        "import numpy as np\n",
        "from scipy.stats.mstats import mquantiles\n",
        "\n",
        "data = [8,12,4,11,15,10,8,7,4,11,6,6,8,7,4,9,16,6,14,6]\n",
        "print(\"Sample variance \",st.variance(data)) #Sample variance of data.\n",
        "print(\"Population variance \",st.pvariance(data)) #Population variance of data.\n",
        "print(\"Sample Standard Deviation \",st.stdev(data)) # Sample standard deviation of the data.\n",
        "print(\"Population Standard Deviation \",st.pstdev(data)) #Population standard deviation of the data.\n",
        "print(\"90th percentile \", np.percentile(data,90))\n",
        "print(\"90th percentile \", mquantiles(data,prob=[0.25, 0.5, 0.75]))\n",
        "print(\"Five Number Summary\", mquantiles(data ,prob=[0.00,0.25, 0.5, 0.75,1.00]))"
      ],
      "metadata": {
        "colab": {
          "base_uri": "https://localhost:8080/"
        },
        "id": "magcQY-zBVwL",
        "outputId": "df09b1e5-6443-49a8-8b0e-2006488d461c"
      },
      "execution_count": 41,
      "outputs": [
        {
          "output_type": "stream",
          "name": "stdout",
          "text": [
            "Sample variance  12.989473684210527\n",
            "Population variance  12.34\n",
            "Sample Standard Deviation  3.604091242492416\n",
            "Population Standard Deviation  3.5128336140500593\n",
            "90th percentile  14.100000000000001\n",
            "90th percentile  [ 6.  8. 11.]\n",
            "Five Number Summary [ 4.  6.  8. 11. 16.]\n"
          ]
        }
      ]
    },
    {
      "cell_type": "code",
      "source": [
        "import scipy.stats as st\n",
        "marks =[64, 47, 40, 45, 54, 63, 12, 21, 79, 95, 58, 74, 30, 50, 10, 21, 48, 85]\n",
        "st.percentileofscore(marks, 70), sum(list(1 for x in marks if x <70))/ len(marks)"
      ],
      "metadata": {
        "colab": {
          "base_uri": "https://localhost:8080/"
        },
        "id": "RmnZPA6BUjmT",
        "outputId": "48a28378-ad81-438e-9f4d-8828d25e9353"
      },
      "execution_count": 42,
      "outputs": [
        {
          "output_type": "execute_result",
          "data": {
            "text/plain": [
              "(77.77777777777777, 0.7777777777777778)"
            ]
          },
          "metadata": {},
          "execution_count": 42
        }
      ]
    },
    {
      "cell_type": "markdown",
      "source": [
        "### The Measures of shape"
      ],
      "metadata": {
        "id": "L-92cHdh20j-"
      }
    },
    {
      "cell_type": "markdown",
      "source": [
        "| Type | Description|Formula|\n",
        "|-----|----------|------|\n",
        "|Histogram|To represent the distribution of numeric data graphically we use a histogram. |\n",
        "|Skewness| measure of lack of symmetry of the data in comparison with symmetric distribution.<br> In symmetrically distributed data set, the mean and the median coincide.|Skewness = 3 * (Mean - Median) / (Standard Deviation)|\n",
        "|Kurtosis| helps us identify whether the data spread around the mean is high or not.<br>A higher value of kurtosis indicates that data is largely centred around the <br>meanwhile a lower value of kurtosis indicates that data is not centred around the mean.<br>**A value of kurtosis above 3 indicates a peak, while that below 3 indicates flatness**|$kurtosis =\\frac{\\frac{\\sum_i^n (x_i-\\mu)^4}{n}}{s^4}$|"
      ],
      "metadata": {
        "id": "DHkux1_1Vxw-"
      }
    },
    {
      "cell_type": "code",
      "source": [
        "#skewness\n",
        "from scipy.stats import skew, kurtosis\n",
        "import statistics as st\n",
        "\n",
        "data = [11730,5461,6655,7484,10242,8547,5521,13207,7598,9421,11563,6995,10531,11525,7770,7094,8339,8375,8808,6802]\n",
        "skew(data), 3*(st.mean(data)-st.median(data))/st.stdev(data), kurtosis(data,fisher=False,bias=True)\n"
      ],
      "metadata": {
        "colab": {
          "base_uri": "https://localhost:8080/"
        },
        "id": "KeVaDByWWaIt",
        "outputId": "0e2d5505-913c-4df3-d91d-2c35818e3912"
      },
      "execution_count": 43,
      "outputs": [
        {
          "output_type": "execute_result",
          "data": {
            "text/plain": [
              "(0.45023241299126027, 0.45088222215824314, 2.2730363035525505)"
            ]
          },
          "metadata": {},
          "execution_count": 43
        }
      ]
    },
    {
      "cell_type": "markdown",
      "source": [
        "Probability Distributions can be Discrete or Continuous.\n",
        "\n",
        "### Discrete Probability Distribution\n",
        "The associated probability distribution for a random variable with discrete values is called a Discrete Probability Distribution\n",
        "\n",
        "Discrete Probability Distributions are described by using the Probability Mass Function (PMF).\n",
        "\n"
      ],
      "metadata": {
        "id": "Z5Zo1dKE_fsM"
      }
    },
    {
      "cell_type": "code",
      "source": [
        "import pandas as pd\n",
        "ice_cream=pd.DataFrame({'No of items sold in one transaction':[1,2,3,4,5,6], \"No of customers\":[235,175,70,25,25,10]})\n",
        "ice_cream['PMF'] = ice_cream[\"No of customers\"]/ice_cream[\"No of customers\"].sum()\n",
        "ice_cream"
      ],
      "metadata": {
        "colab": {
          "base_uri": "https://localhost:8080/",
          "height": 237
        },
        "id": "hru0RgBFCxAu",
        "outputId": "a524cf0d-2c84-4cf2-dbb2-5763d43a9bc6"
      },
      "execution_count": 44,
      "outputs": [
        {
          "output_type": "execute_result",
          "data": {
            "text/plain": [
              "   No of items sold in one transaction  No of customers       PMF\n",
              "0                                    1              235  0.435185\n",
              "1                                    2              175  0.324074\n",
              "2                                    3               70  0.129630\n",
              "3                                    4               25  0.046296\n",
              "4                                    5               25  0.046296\n",
              "5                                    6               10  0.018519"
            ],
            "text/html": [
              "\n",
              "  <div id=\"df-ad9601e7-be7c-4660-865a-bda5862df736\">\n",
              "    <div class=\"colab-df-container\">\n",
              "      <div>\n",
              "<style scoped>\n",
              "    .dataframe tbody tr th:only-of-type {\n",
              "        vertical-align: middle;\n",
              "    }\n",
              "\n",
              "    .dataframe tbody tr th {\n",
              "        vertical-align: top;\n",
              "    }\n",
              "\n",
              "    .dataframe thead th {\n",
              "        text-align: right;\n",
              "    }\n",
              "</style>\n",
              "<table border=\"1\" class=\"dataframe\">\n",
              "  <thead>\n",
              "    <tr style=\"text-align: right;\">\n",
              "      <th></th>\n",
              "      <th>No of items sold in one transaction</th>\n",
              "      <th>No of customers</th>\n",
              "      <th>PMF</th>\n",
              "    </tr>\n",
              "  </thead>\n",
              "  <tbody>\n",
              "    <tr>\n",
              "      <th>0</th>\n",
              "      <td>1</td>\n",
              "      <td>235</td>\n",
              "      <td>0.435185</td>\n",
              "    </tr>\n",
              "    <tr>\n",
              "      <th>1</th>\n",
              "      <td>2</td>\n",
              "      <td>175</td>\n",
              "      <td>0.324074</td>\n",
              "    </tr>\n",
              "    <tr>\n",
              "      <th>2</th>\n",
              "      <td>3</td>\n",
              "      <td>70</td>\n",
              "      <td>0.129630</td>\n",
              "    </tr>\n",
              "    <tr>\n",
              "      <th>3</th>\n",
              "      <td>4</td>\n",
              "      <td>25</td>\n",
              "      <td>0.046296</td>\n",
              "    </tr>\n",
              "    <tr>\n",
              "      <th>4</th>\n",
              "      <td>5</td>\n",
              "      <td>25</td>\n",
              "      <td>0.046296</td>\n",
              "    </tr>\n",
              "    <tr>\n",
              "      <th>5</th>\n",
              "      <td>6</td>\n",
              "      <td>10</td>\n",
              "      <td>0.018519</td>\n",
              "    </tr>\n",
              "  </tbody>\n",
              "</table>\n",
              "</div>\n",
              "      <button class=\"colab-df-convert\" onclick=\"convertToInteractive('df-ad9601e7-be7c-4660-865a-bda5862df736')\"\n",
              "              title=\"Convert this dataframe to an interactive table.\"\n",
              "              style=\"display:none;\">\n",
              "        \n",
              "  <svg xmlns=\"http://www.w3.org/2000/svg\" height=\"24px\"viewBox=\"0 0 24 24\"\n",
              "       width=\"24px\">\n",
              "    <path d=\"M0 0h24v24H0V0z\" fill=\"none\"/>\n",
              "    <path d=\"M18.56 5.44l.94 2.06.94-2.06 2.06-.94-2.06-.94-.94-2.06-.94 2.06-2.06.94zm-11 1L8.5 8.5l.94-2.06 2.06-.94-2.06-.94L8.5 2.5l-.94 2.06-2.06.94zm10 10l.94 2.06.94-2.06 2.06-.94-2.06-.94-.94-2.06-.94 2.06-2.06.94z\"/><path d=\"M17.41 7.96l-1.37-1.37c-.4-.4-.92-.59-1.43-.59-.52 0-1.04.2-1.43.59L10.3 9.45l-7.72 7.72c-.78.78-.78 2.05 0 2.83L4 21.41c.39.39.9.59 1.41.59.51 0 1.02-.2 1.41-.59l7.78-7.78 2.81-2.81c.8-.78.8-2.07 0-2.86zM5.41 20L4 18.59l7.72-7.72 1.47 1.35L5.41 20z\"/>\n",
              "  </svg>\n",
              "      </button>\n",
              "      \n",
              "  <style>\n",
              "    .colab-df-container {\n",
              "      display:flex;\n",
              "      flex-wrap:wrap;\n",
              "      gap: 12px;\n",
              "    }\n",
              "\n",
              "    .colab-df-convert {\n",
              "      background-color: #E8F0FE;\n",
              "      border: none;\n",
              "      border-radius: 50%;\n",
              "      cursor: pointer;\n",
              "      display: none;\n",
              "      fill: #1967D2;\n",
              "      height: 32px;\n",
              "      padding: 0 0 0 0;\n",
              "      width: 32px;\n",
              "    }\n",
              "\n",
              "    .colab-df-convert:hover {\n",
              "      background-color: #E2EBFA;\n",
              "      box-shadow: 0px 1px 2px rgba(60, 64, 67, 0.3), 0px 1px 3px 1px rgba(60, 64, 67, 0.15);\n",
              "      fill: #174EA6;\n",
              "    }\n",
              "\n",
              "    [theme=dark] .colab-df-convert {\n",
              "      background-color: #3B4455;\n",
              "      fill: #D2E3FC;\n",
              "    }\n",
              "\n",
              "    [theme=dark] .colab-df-convert:hover {\n",
              "      background-color: #434B5C;\n",
              "      box-shadow: 0px 1px 3px 1px rgba(0, 0, 0, 0.15);\n",
              "      filter: drop-shadow(0px 1px 2px rgba(0, 0, 0, 0.3));\n",
              "      fill: #FFFFFF;\n",
              "    }\n",
              "  </style>\n",
              "\n",
              "      <script>\n",
              "        const buttonEl =\n",
              "          document.querySelector('#df-ad9601e7-be7c-4660-865a-bda5862df736 button.colab-df-convert');\n",
              "        buttonEl.style.display =\n",
              "          google.colab.kernel.accessAllowed ? 'block' : 'none';\n",
              "\n",
              "        async function convertToInteractive(key) {\n",
              "          const element = document.querySelector('#df-ad9601e7-be7c-4660-865a-bda5862df736');\n",
              "          const dataTable =\n",
              "            await google.colab.kernel.invokeFunction('convertToInteractive',\n",
              "                                                     [key], {});\n",
              "          if (!dataTable) return;\n",
              "\n",
              "          const docLinkHtml = 'Like what you see? Visit the ' +\n",
              "            '<a target=\"_blank\" href=https://colab.research.google.com/notebooks/data_table.ipynb>data table notebook</a>'\n",
              "            + ' to learn more about interactive tables.';\n",
              "          element.innerHTML = '';\n",
              "          dataTable['output_type'] = 'display_data';\n",
              "          await google.colab.output.renderOutput(dataTable, element);\n",
              "          const docLink = document.createElement('div');\n",
              "          docLink.innerHTML = docLinkHtml;\n",
              "          element.appendChild(docLink);\n",
              "        }\n",
              "      </script>\n",
              "    </div>\n",
              "  </div>\n",
              "  "
            ]
          },
          "metadata": {},
          "execution_count": 44
        }
      ]
    },
    {
      "cell_type": "markdown",
      "source": [
        "#### 1. Discrete uniform random variable\n",
        "A Discrete uniform random variable has two properties:\n",
        "\n",
        "- Fixed number of outcomes\n",
        "- Constant probability for each outcome\n",
        "\n",
        "PMF of X as:\n",
        "\n",
        "# $f(x_k) = 1/k$"
      ],
      "metadata": {
        "id": "Doy36KWNEkdl"
      }
    },
    {
      "cell_type": "code",
      "source": [
        "#Discrete Uniform Distribution\n",
        "from scipy.stats import randint\n",
        "\n",
        "for x in range(1,6):\n",
        "  low = 1 \n",
        "  high = 6 #total no. of possible outcomes + 1\n",
        "  #The flavor of ice-cream selected by a customer is equally likely to be any one of the 5 available flavors.\n",
        "  #Probability of occurrence of each outcome can be computed as follows:\n",
        "  drandint = randint.pmf(x, low, high)\n",
        "  \n",
        "  prandint = randint.cdf(x, low, high)\n",
        "  print(f\"When x={x}, PMF is\", drandint,\", CDF is\", prandint)"
      ],
      "metadata": {
        "colab": {
          "base_uri": "https://localhost:8080/"
        },
        "id": "8LNlCHWeFXo4",
        "outputId": "36ef14e6-9027-4fbf-b357-49f9e4977acf"
      },
      "execution_count": 45,
      "outputs": [
        {
          "output_type": "stream",
          "name": "stdout",
          "text": [
            "When x=1, PMF is 0.2 , CDF is 0.2\n",
            "When x=2, PMF is 0.2 , CDF is 0.4\n",
            "When x=3, PMF is 0.2 , CDF is 0.6\n",
            "When x=4, PMF is 0.2 , CDF is 0.8\n",
            "When x=5, PMF is 0.2 , CDF is 1.0\n"
          ]
        }
      ]
    },
    {
      "cell_type": "markdown",
      "source": [
        "#### 2.Binomial Random Experiment\n",
        "The characteristics of a Binomial Random Experiment are as follows:\n",
        "\n",
        "- Fixed number of trials\n",
        "- A success or a failure is the outcome of a single trial\n",
        "- All the trials are independent of each other\n",
        "- All the trials are same and has equal probability to occur\n",
        "\n",
        "The trials that satisfy the above four conditions are known as **Bernoulli trials**"
      ],
      "metadata": {
        "id": "L8PEEVpdGWzz"
      }
    },
    {
      "cell_type": "markdown",
      "source": [
        "Suppose,\n",
        "\n",
        "- n is the total no. of trials\n",
        "- x is the no. of trials that result in a success\n",
        "- n-x is the no. of trials that result in a failure\n",
        "- p is the probability of a success\n",
        "- q=1-p is the probability of a failure\n",
        "\n",
        "The probability of x successes in n trials in a random experiment is defined by the Binomial Distribution."
      ],
      "metadata": {
        "id": "DHq4WU78GqLm"
      }
    },
    {
      "cell_type": "markdown",
      "source": [
        "To develop the probability distribution for a binomial random experiment:\n",
        "\n",
        "- You must first determine the probability of any one way the event of interest can occur i.e., a success x,  \n",
        "- Then multiply this probability by the total number of ways that event of interest can occur.\n",
        "\n",
        "The total number of possible ways of the occurrence of the event is given by:\n",
        "\n",
        "$C(n,r) = {}^{n}C_r = \\frac{n!}{(n-r)!r!}$\n",
        "\n",
        "where,  \n",
        "\n",
        "C(n,x) = nCx = = no. of combinations of x objects selected from n objects where n>=x\n",
        "\n",
        "n! = n(n-1)(n-2)....(2)(1)\n",
        "0! = 1  by definition\n",
        "\n",
        "- The probability of one of the ways the event of interest i.e., a success x can occur:\n",
        "          \n",
        "  $p^xq^{n-x}$\n",
        "\n",
        "- binomial random variable X's PMF is given as:\n",
        "\n",
        "  $f(x) = P(X=x) = C(n,x)p^x(1-p)^{n-x} = C(n,x)p^xq^{n-x}$\n",
        "\n",
        "  where,\n",
        "\n",
        "  - C(n,x) = The Binomial Coefficient\n",
        "  - n = Total no. of Bernoulli trials\n",
        "  - x = 0,1,…,n = number of successes (where success is defined as what we are looking for)\n",
        "  - x = number of failures\n",
        "  - p = probability of a success          \n",
        "  - q = 1- p = probability of a failure\n",
        "\n",
        " \n",
        "\n",
        " "
      ],
      "metadata": {
        "id": "SRELk091HAFS"
      }
    },
    {
      "cell_type": "code",
      "source": [
        "trails = 5\n",
        "success = 1\n",
        "from math import comb\n",
        "success_event = []\n",
        "failure_event = []\n",
        "combination_event = []\n",
        "probofn_success = []\n",
        "for i in range(0,trails+1):\n",
        "  p = 0.2\n",
        "  q= 1-p\n",
        "  success_event.append(i)\n",
        "  failure_event.append(trails - i) \n",
        "  combination_event.append(comb(trails,i))\n",
        "  probofn_success.append(comb(trails,i) * (p**i)*(q**(trails-i)))\n",
        "\n",
        "pd.DataFrame({'success':success_event,'failure':failure_event,'combination':combination_event,'probofn_success':probofn_success})"
      ],
      "metadata": {
        "colab": {
          "base_uri": "https://localhost:8080/",
          "height": 237
        },
        "id": "lZmDOqwiGV7L",
        "outputId": "ad7be61c-d8a6-439b-c8f5-d97efd0a415c"
      },
      "execution_count": 46,
      "outputs": [
        {
          "output_type": "execute_result",
          "data": {
            "text/plain": [
              "   success  failure  combination  probofn_success\n",
              "0        0        5            1          0.32768\n",
              "1        1        4            5          0.40960\n",
              "2        2        3           10          0.20480\n",
              "3        3        2           10          0.05120\n",
              "4        4        1            5          0.00640\n",
              "5        5        0            1          0.00032"
            ],
            "text/html": [
              "\n",
              "  <div id=\"df-ae8bd93f-2697-4363-a6bb-ca45adf650c1\">\n",
              "    <div class=\"colab-df-container\">\n",
              "      <div>\n",
              "<style scoped>\n",
              "    .dataframe tbody tr th:only-of-type {\n",
              "        vertical-align: middle;\n",
              "    }\n",
              "\n",
              "    .dataframe tbody tr th {\n",
              "        vertical-align: top;\n",
              "    }\n",
              "\n",
              "    .dataframe thead th {\n",
              "        text-align: right;\n",
              "    }\n",
              "</style>\n",
              "<table border=\"1\" class=\"dataframe\">\n",
              "  <thead>\n",
              "    <tr style=\"text-align: right;\">\n",
              "      <th></th>\n",
              "      <th>success</th>\n",
              "      <th>failure</th>\n",
              "      <th>combination</th>\n",
              "      <th>probofn_success</th>\n",
              "    </tr>\n",
              "  </thead>\n",
              "  <tbody>\n",
              "    <tr>\n",
              "      <th>0</th>\n",
              "      <td>0</td>\n",
              "      <td>5</td>\n",
              "      <td>1</td>\n",
              "      <td>0.32768</td>\n",
              "    </tr>\n",
              "    <tr>\n",
              "      <th>1</th>\n",
              "      <td>1</td>\n",
              "      <td>4</td>\n",
              "      <td>5</td>\n",
              "      <td>0.40960</td>\n",
              "    </tr>\n",
              "    <tr>\n",
              "      <th>2</th>\n",
              "      <td>2</td>\n",
              "      <td>3</td>\n",
              "      <td>10</td>\n",
              "      <td>0.20480</td>\n",
              "    </tr>\n",
              "    <tr>\n",
              "      <th>3</th>\n",
              "      <td>3</td>\n",
              "      <td>2</td>\n",
              "      <td>10</td>\n",
              "      <td>0.05120</td>\n",
              "    </tr>\n",
              "    <tr>\n",
              "      <th>4</th>\n",
              "      <td>4</td>\n",
              "      <td>1</td>\n",
              "      <td>5</td>\n",
              "      <td>0.00640</td>\n",
              "    </tr>\n",
              "    <tr>\n",
              "      <th>5</th>\n",
              "      <td>5</td>\n",
              "      <td>0</td>\n",
              "      <td>1</td>\n",
              "      <td>0.00032</td>\n",
              "    </tr>\n",
              "  </tbody>\n",
              "</table>\n",
              "</div>\n",
              "      <button class=\"colab-df-convert\" onclick=\"convertToInteractive('df-ae8bd93f-2697-4363-a6bb-ca45adf650c1')\"\n",
              "              title=\"Convert this dataframe to an interactive table.\"\n",
              "              style=\"display:none;\">\n",
              "        \n",
              "  <svg xmlns=\"http://www.w3.org/2000/svg\" height=\"24px\"viewBox=\"0 0 24 24\"\n",
              "       width=\"24px\">\n",
              "    <path d=\"M0 0h24v24H0V0z\" fill=\"none\"/>\n",
              "    <path d=\"M18.56 5.44l.94 2.06.94-2.06 2.06-.94-2.06-.94-.94-2.06-.94 2.06-2.06.94zm-11 1L8.5 8.5l.94-2.06 2.06-.94-2.06-.94L8.5 2.5l-.94 2.06-2.06.94zm10 10l.94 2.06.94-2.06 2.06-.94-2.06-.94-.94-2.06-.94 2.06-2.06.94z\"/><path d=\"M17.41 7.96l-1.37-1.37c-.4-.4-.92-.59-1.43-.59-.52 0-1.04.2-1.43.59L10.3 9.45l-7.72 7.72c-.78.78-.78 2.05 0 2.83L4 21.41c.39.39.9.59 1.41.59.51 0 1.02-.2 1.41-.59l7.78-7.78 2.81-2.81c.8-.78.8-2.07 0-2.86zM5.41 20L4 18.59l7.72-7.72 1.47 1.35L5.41 20z\"/>\n",
              "  </svg>\n",
              "      </button>\n",
              "      \n",
              "  <style>\n",
              "    .colab-df-container {\n",
              "      display:flex;\n",
              "      flex-wrap:wrap;\n",
              "      gap: 12px;\n",
              "    }\n",
              "\n",
              "    .colab-df-convert {\n",
              "      background-color: #E8F0FE;\n",
              "      border: none;\n",
              "      border-radius: 50%;\n",
              "      cursor: pointer;\n",
              "      display: none;\n",
              "      fill: #1967D2;\n",
              "      height: 32px;\n",
              "      padding: 0 0 0 0;\n",
              "      width: 32px;\n",
              "    }\n",
              "\n",
              "    .colab-df-convert:hover {\n",
              "      background-color: #E2EBFA;\n",
              "      box-shadow: 0px 1px 2px rgba(60, 64, 67, 0.3), 0px 1px 3px 1px rgba(60, 64, 67, 0.15);\n",
              "      fill: #174EA6;\n",
              "    }\n",
              "\n",
              "    [theme=dark] .colab-df-convert {\n",
              "      background-color: #3B4455;\n",
              "      fill: #D2E3FC;\n",
              "    }\n",
              "\n",
              "    [theme=dark] .colab-df-convert:hover {\n",
              "      background-color: #434B5C;\n",
              "      box-shadow: 0px 1px 3px 1px rgba(0, 0, 0, 0.15);\n",
              "      filter: drop-shadow(0px 1px 2px rgba(0, 0, 0, 0.3));\n",
              "      fill: #FFFFFF;\n",
              "    }\n",
              "  </style>\n",
              "\n",
              "      <script>\n",
              "        const buttonEl =\n",
              "          document.querySelector('#df-ae8bd93f-2697-4363-a6bb-ca45adf650c1 button.colab-df-convert');\n",
              "        buttonEl.style.display =\n",
              "          google.colab.kernel.accessAllowed ? 'block' : 'none';\n",
              "\n",
              "        async function convertToInteractive(key) {\n",
              "          const element = document.querySelector('#df-ae8bd93f-2697-4363-a6bb-ca45adf650c1');\n",
              "          const dataTable =\n",
              "            await google.colab.kernel.invokeFunction('convertToInteractive',\n",
              "                                                     [key], {});\n",
              "          if (!dataTable) return;\n",
              "\n",
              "          const docLinkHtml = 'Like what you see? Visit the ' +\n",
              "            '<a target=\"_blank\" href=https://colab.research.google.com/notebooks/data_table.ipynb>data table notebook</a>'\n",
              "            + ' to learn more about interactive tables.';\n",
              "          element.innerHTML = '';\n",
              "          dataTable['output_type'] = 'display_data';\n",
              "          await google.colab.output.renderOutput(dataTable, element);\n",
              "          const docLink = document.createElement('div');\n",
              "          docLink.innerHTML = docLinkHtml;\n",
              "          element.appendChild(docLink);\n",
              "        }\n",
              "      </script>\n",
              "    </div>\n",
              "  </div>\n",
              "  "
            ]
          },
          "metadata": {},
          "execution_count": 46
        }
      ]
    },
    {
      "cell_type": "code",
      "source": [
        "#Binomial Probability Distribution : PMF\n",
        "from scipy.stats import binom\n",
        "\n",
        "x= 1 # no. of successes\n",
        "n= 5 #no. of fixed trials\n",
        "p= 0.2 #probability of success\n",
        "dbinom = binom.pmf(x, n, p)\n",
        "pbinom = binom.cdf(x, n, p)\n",
        "pbinom, dbinom"
      ],
      "metadata": {
        "colab": {
          "base_uri": "https://localhost:8080/"
        },
        "id": "7zhjhOFtN2yO",
        "outputId": "aa44447c-2ba6-4a62-bf66-c62bea0feae8"
      },
      "execution_count": 47,
      "outputs": [
        {
          "output_type": "execute_result",
          "data": {
            "text/plain": [
              "(0.7372799999999999, 0.4095999999999999)"
            ]
          },
          "metadata": {},
          "execution_count": 47
        }
      ]
    },
    {
      "cell_type": "markdown",
      "source": [
        "Quantile is the inverse of CDF, given the probability we can compute the no. of customers that might purchase a single strawberry ice-cream i.e., no. of successes that can occur, as follows:"
      ],
      "metadata": {
        "id": "KvglcE7dQ9LY"
      }
    },
    {
      "cell_type": "code",
      "source": [
        "qbinom = binom.ppf(pbinom, n, p)\n",
        "qbinom"
      ],
      "metadata": {
        "colab": {
          "base_uri": "https://localhost:8080/"
        },
        "id": "GiiMobhZQ_i8",
        "outputId": "8b8f2339-28b8-4af9-8d08-1dbe0583b128"
      },
      "execution_count": 48,
      "outputs": [
        {
          "output_type": "execute_result",
          "data": {
            "text/plain": [
              "1.0"
            ]
          },
          "metadata": {},
          "execution_count": 48
        }
      ]
    },
    {
      "cell_type": "markdown",
      "source": [
        "#### 3. Negative binomial\n",
        "\n",
        "Let us have a look at the PMF of a negative binomial random variable x:\n",
        "\n",
        "$f(x) = P(X=x) = C(x-1,r-1)p^r(1-p)^{x-r} = C(x-1,r-1)p^rq^{x-r}$\n",
        "\n",
        "where, x = r, r+1, r+2, ...\n",
        "\n",
        "p = probability of a success\n",
        "\n",
        "q = 1 - p = probability of a failure\n",
        "\n",
        "The experiment should be performed a minimum of r times to get r successes, and resultant X's range will be between r and ∞.\n",
        "\n",
        "You know that for a binomial random variable:\n",
        "\n",
        "- Number of trials is fixed\n",
        "- Number of successes is unknown (random)\n",
        "\n",
        "So, for a negative binomial random variable also, the no. of successes is fixed and the no. of trials is random. So, it could be called as the opposite or negative, of a binomial random variable.\n",
        "\n",
        " "
      ],
      "metadata": {
        "id": "zFIX_ts7ugyw"
      }
    },
    {
      "cell_type": "code",
      "source": [
        "trails = 6\n",
        "noofsuccess = 2\n",
        "from math import comb\n",
        "success_event = []\n",
        "failure_event = []\n",
        "combination_event = []\n",
        "probofn_success = []\n",
        "for i in range(noofsuccess,trails+1):\n",
        "  p = 0.2\n",
        "  q= 1-p\n",
        "  success_event.append(i)\n",
        "  failure_event.append(i - noofsuccess) \n",
        "  combination_event.append(comb(i,noofsuccess-1))\n",
        "  probofn_success.append(comb(i-1,noofsuccess-1) * (p**(noofsuccess))*(q**(i-noofsuccess)))\n",
        "\n",
        "pd.DataFrame({'event':success_event,'failure(x-r)':failure_event,'combination':combination_event,'probofx_success':probofn_success})"
      ],
      "metadata": {
        "colab": {
          "base_uri": "https://localhost:8080/",
          "height": 206
        },
        "id": "_VhCVm_-yLQA",
        "outputId": "d9f05b23-4a56-444c-ebee-1b087715224e"
      },
      "execution_count": 49,
      "outputs": [
        {
          "output_type": "execute_result",
          "data": {
            "text/plain": [
              "   event  failure(x-r)  combination  probofx_success\n",
              "0      2             0            2          0.04000\n",
              "1      3             1            3          0.06400\n",
              "2      4             2            4          0.07680\n",
              "3      5             3            5          0.08192\n",
              "4      6             4            6          0.08192"
            ],
            "text/html": [
              "\n",
              "  <div id=\"df-3b04d8f4-f087-49c9-aea5-2a93de337de6\">\n",
              "    <div class=\"colab-df-container\">\n",
              "      <div>\n",
              "<style scoped>\n",
              "    .dataframe tbody tr th:only-of-type {\n",
              "        vertical-align: middle;\n",
              "    }\n",
              "\n",
              "    .dataframe tbody tr th {\n",
              "        vertical-align: top;\n",
              "    }\n",
              "\n",
              "    .dataframe thead th {\n",
              "        text-align: right;\n",
              "    }\n",
              "</style>\n",
              "<table border=\"1\" class=\"dataframe\">\n",
              "  <thead>\n",
              "    <tr style=\"text-align: right;\">\n",
              "      <th></th>\n",
              "      <th>event</th>\n",
              "      <th>failure(x-r)</th>\n",
              "      <th>combination</th>\n",
              "      <th>probofx_success</th>\n",
              "    </tr>\n",
              "  </thead>\n",
              "  <tbody>\n",
              "    <tr>\n",
              "      <th>0</th>\n",
              "      <td>2</td>\n",
              "      <td>0</td>\n",
              "      <td>2</td>\n",
              "      <td>0.04000</td>\n",
              "    </tr>\n",
              "    <tr>\n",
              "      <th>1</th>\n",
              "      <td>3</td>\n",
              "      <td>1</td>\n",
              "      <td>3</td>\n",
              "      <td>0.06400</td>\n",
              "    </tr>\n",
              "    <tr>\n",
              "      <th>2</th>\n",
              "      <td>4</td>\n",
              "      <td>2</td>\n",
              "      <td>4</td>\n",
              "      <td>0.07680</td>\n",
              "    </tr>\n",
              "    <tr>\n",
              "      <th>3</th>\n",
              "      <td>5</td>\n",
              "      <td>3</td>\n",
              "      <td>5</td>\n",
              "      <td>0.08192</td>\n",
              "    </tr>\n",
              "    <tr>\n",
              "      <th>4</th>\n",
              "      <td>6</td>\n",
              "      <td>4</td>\n",
              "      <td>6</td>\n",
              "      <td>0.08192</td>\n",
              "    </tr>\n",
              "  </tbody>\n",
              "</table>\n",
              "</div>\n",
              "      <button class=\"colab-df-convert\" onclick=\"convertToInteractive('df-3b04d8f4-f087-49c9-aea5-2a93de337de6')\"\n",
              "              title=\"Convert this dataframe to an interactive table.\"\n",
              "              style=\"display:none;\">\n",
              "        \n",
              "  <svg xmlns=\"http://www.w3.org/2000/svg\" height=\"24px\"viewBox=\"0 0 24 24\"\n",
              "       width=\"24px\">\n",
              "    <path d=\"M0 0h24v24H0V0z\" fill=\"none\"/>\n",
              "    <path d=\"M18.56 5.44l.94 2.06.94-2.06 2.06-.94-2.06-.94-.94-2.06-.94 2.06-2.06.94zm-11 1L8.5 8.5l.94-2.06 2.06-.94-2.06-.94L8.5 2.5l-.94 2.06-2.06.94zm10 10l.94 2.06.94-2.06 2.06-.94-2.06-.94-.94-2.06-.94 2.06-2.06.94z\"/><path d=\"M17.41 7.96l-1.37-1.37c-.4-.4-.92-.59-1.43-.59-.52 0-1.04.2-1.43.59L10.3 9.45l-7.72 7.72c-.78.78-.78 2.05 0 2.83L4 21.41c.39.39.9.59 1.41.59.51 0 1.02-.2 1.41-.59l7.78-7.78 2.81-2.81c.8-.78.8-2.07 0-2.86zM5.41 20L4 18.59l7.72-7.72 1.47 1.35L5.41 20z\"/>\n",
              "  </svg>\n",
              "      </button>\n",
              "      \n",
              "  <style>\n",
              "    .colab-df-container {\n",
              "      display:flex;\n",
              "      flex-wrap:wrap;\n",
              "      gap: 12px;\n",
              "    }\n",
              "\n",
              "    .colab-df-convert {\n",
              "      background-color: #E8F0FE;\n",
              "      border: none;\n",
              "      border-radius: 50%;\n",
              "      cursor: pointer;\n",
              "      display: none;\n",
              "      fill: #1967D2;\n",
              "      height: 32px;\n",
              "      padding: 0 0 0 0;\n",
              "      width: 32px;\n",
              "    }\n",
              "\n",
              "    .colab-df-convert:hover {\n",
              "      background-color: #E2EBFA;\n",
              "      box-shadow: 0px 1px 2px rgba(60, 64, 67, 0.3), 0px 1px 3px 1px rgba(60, 64, 67, 0.15);\n",
              "      fill: #174EA6;\n",
              "    }\n",
              "\n",
              "    [theme=dark] .colab-df-convert {\n",
              "      background-color: #3B4455;\n",
              "      fill: #D2E3FC;\n",
              "    }\n",
              "\n",
              "    [theme=dark] .colab-df-convert:hover {\n",
              "      background-color: #434B5C;\n",
              "      box-shadow: 0px 1px 3px 1px rgba(0, 0, 0, 0.15);\n",
              "      filter: drop-shadow(0px 1px 2px rgba(0, 0, 0, 0.3));\n",
              "      fill: #FFFFFF;\n",
              "    }\n",
              "  </style>\n",
              "\n",
              "      <script>\n",
              "        const buttonEl =\n",
              "          document.querySelector('#df-3b04d8f4-f087-49c9-aea5-2a93de337de6 button.colab-df-convert');\n",
              "        buttonEl.style.display =\n",
              "          google.colab.kernel.accessAllowed ? 'block' : 'none';\n",
              "\n",
              "        async function convertToInteractive(key) {\n",
              "          const element = document.querySelector('#df-3b04d8f4-f087-49c9-aea5-2a93de337de6');\n",
              "          const dataTable =\n",
              "            await google.colab.kernel.invokeFunction('convertToInteractive',\n",
              "                                                     [key], {});\n",
              "          if (!dataTable) return;\n",
              "\n",
              "          const docLinkHtml = 'Like what you see? Visit the ' +\n",
              "            '<a target=\"_blank\" href=https://colab.research.google.com/notebooks/data_table.ipynb>data table notebook</a>'\n",
              "            + ' to learn more about interactive tables.';\n",
              "          element.innerHTML = '';\n",
              "          dataTable['output_type'] = 'display_data';\n",
              "          await google.colab.output.renderOutput(dataTable, element);\n",
              "          const docLink = document.createElement('div');\n",
              "          docLink.innerHTML = docLinkHtml;\n",
              "          element.appendChild(docLink);\n",
              "        }\n",
              "      </script>\n",
              "    </div>\n",
              "  </div>\n",
              "  "
            ]
          },
          "metadata": {},
          "execution_count": 49
        }
      ]
    },
    {
      "cell_type": "code",
      "source": [
        "#Negative Binomial Probability Distribution: PMF\n",
        "from scipy.stats import nbinom\n",
        "x= 4 # no. of trials it takes to achieve n successes\n",
        "n= 2 #no. of successes\n",
        "p= 0.2 #probability of success\n",
        "dnbinom = nbinom.pmf(x, n, p)\n",
        "pnbinom = nbinom.cdf(x, n, p)\n",
        "dnbinom,pnbinom"
      ],
      "metadata": {
        "colab": {
          "base_uri": "https://localhost:8080/"
        },
        "id": "1rD2S3NlxAsw",
        "outputId": "dbbb8d10-c95c-4fd6-ecf6-de20fa14487a"
      },
      "execution_count": 50,
      "outputs": [
        {
          "output_type": "execute_result",
          "data": {
            "text/plain": [
              "(0.08191999999999998, 0.3446400000000002)"
            ]
          },
          "metadata": {},
          "execution_count": 50
        }
      ]
    },
    {
      "cell_type": "code",
      "source": [
        "##Negative Binomial Probability Distribution: PPF\n",
        "from scipy.stats import nbinom\n",
        "x= 4 # no. of trials it takes to achieve n successes\n",
        "n= 2 #no. of successes\n",
        "p= 0.2 #probability of success\n",
        "q = nbinom.cdf(x, n, p)\n",
        "qnbinom = nbinom.ppf(q, n, p)\n",
        "qnbinom"
      ],
      "metadata": {
        "colab": {
          "base_uri": "https://localhost:8080/"
        },
        "id": "t26I9hM8xVmb",
        "outputId": "bf58fd6d-d00a-4ae3-889c-9eac7a82006f"
      },
      "execution_count": 51,
      "outputs": [
        {
          "output_type": "execute_result",
          "data": {
            "text/plain": [
              "4.0"
            ]
          },
          "metadata": {},
          "execution_count": 51
        }
      ]
    },
    {
      "cell_type": "markdown",
      "source": [
        "#### 4. Poisson\n",
        "\n",
        "So, we have an interval of real numbers, let us assume their counts (i.e., success or an outcome of interest, x) occurring randomly throughout the interval. If you say that the interval could be further partitioned into sub-intervals of length small enough such that it possesses the following characteristics for each sub-interval:\n",
        "\n",
        "1) P(success > 1) is almost zero\n",
        "\n",
        "2) P(success = 1) would be the same for every subinterval and its value would be proportional to the sub-interval length\n",
        "\n",
        "3) n(success) in each sub-interval would be independent of other sub-intervals.\n",
        "\n",
        "If any random experiment satisfies the given 3 conditions would be called a Poisson process.\n",
        "\n",
        "Historically, the term “process” has been utilized to indicate the system observation over a time period.\n",
        "\n",
        "The random variable X that equals the number of counts in the interval of a Poisson process is called a Poisson random variable with parameter 0<𝜆, and the PMF of X can be defined as follows:\n",
        "\n",
        " $f(x) = P(x=X) = \\frac{e^{-\\lambda} \\lambda^x}{x!} $\n",
        "\n",
        "where,  x = 0,1,2,3… = no. of counts i.e., number of total successes in the provided interval\n",
        "\n",
        "𝜆 = successes count we are expecting in the provided interval\n",
        "\n",
        "e = 2.71828 i.e., Euler’s no."
      ],
      "metadata": {
        "id": "xMrWjBdo1bpm"
      }
    },
    {
      "cell_type": "code",
      "source": [
        "#Poisson Probability Distribution: PMF\n",
        "from scipy.stats import poisson\n",
        "x= 12 # no. of successes\n",
        "mu= 10 #lambda\n",
        "#The probability that exactly 12 customers arrive in the next 1 hour for  lambda = 10, can be computed as follows:\n",
        "dpois = poisson.pmf(x, mu)\n",
        "dpois"
      ],
      "metadata": {
        "colab": {
          "base_uri": "https://localhost:8080/"
        },
        "id": "ZM7NHxWp2vPa",
        "outputId": "b18772e9-5607-4906-a6b5-8a07bd9cb05b"
      },
      "execution_count": 52,
      "outputs": [
        {
          "output_type": "execute_result",
          "data": {
            "text/plain": [
              "0.09478033009176803"
            ]
          },
          "metadata": {},
          "execution_count": 52
        }
      ]
    },
    {
      "cell_type": "code",
      "source": [
        "#Poisson Probability Distribution: CDF\n",
        "from scipy.stats import poisson\n",
        "x= 12 # no. of successes\n",
        "mu= 10 #lambda\n",
        "#The probability that 12 or less customers arrive in the next 1 hour for lambda = 10, can be computed as follows:\n",
        "ppois = poisson.cdf(x, mu)\n",
        "ppois"
      ],
      "metadata": {
        "colab": {
          "base_uri": "https://localhost:8080/"
        },
        "id": "rLKSzNbc23tR",
        "outputId": "33faadb8-8f1e-4d2e-f5cd-2dcc92bcb1fd"
      },
      "execution_count": 53,
      "outputs": [
        {
          "output_type": "execute_result",
          "data": {
            "text/plain": [
              "0.7915564763948745"
            ]
          },
          "metadata": {},
          "execution_count": 53
        }
      ]
    },
    {
      "cell_type": "code",
      "source": [
        "#Poisson Probability Distribution: PPF\n",
        "from scipy.stats import poisson\n",
        "x= 12 # no. of successes\n",
        "mu= 10 #lambda\n",
        "q = poisson.cdf(x, mu)\n",
        "#Since, quantile is the inverse of CDF, given the probability we can compute the no. of customers\n",
        "#that might arrive at the ice-cream parlor as follows:\n",
        "qpois = poisson.ppf(q, mu)\n",
        "qpois"
      ],
      "metadata": {
        "colab": {
          "base_uri": "https://localhost:8080/"
        },
        "id": "vqcosrFB3SpO",
        "outputId": "542b620f-2e08-4b61-b020-7c513621ae73"
      },
      "execution_count": 54,
      "outputs": [
        {
          "output_type": "execute_result",
          "data": {
            "text/plain": [
              "12.0"
            ]
          },
          "metadata": {},
          "execution_count": 54
        }
      ]
    },
    {
      "cell_type": "markdown",
      "source": [
        "### Continuous Probability Distribution\n",
        "\n",
        "The associated probability distribution for a random variable with continuous (or approx. continuous) values is called a Continuous Probability Distribution\n",
        "\n",
        "Continuous Probability Distributions are described by using the Probability Density Function (PDF)."
      ],
      "metadata": {
        "id": "iYCZfZJ8AWVh"
      }
    },
    {
      "cell_type": "markdown",
      "source": [
        "#### 1. Continuous uniform\n",
        "\n",
        "X (continuous random variable) between a and b which can assume values:\n",
        "\n",
        "$f(x) = \\frac{1}{(b-a)} where, a<=x<=b $\n",
        "\n",
        "is a continuous uniform random variable.\n",
        "\n",
        "In the interval [a, b], X's CDF can be given as:\n",
        "\n",
        "$F(x) = \\frac{(x-a)}{(b-a)} where, a<=x<=b$\n",
        "\n",
        "$     = 0, elsewhere$"
      ],
      "metadata": {
        "id": "lrHdyXyHBVjQ"
      }
    },
    {
      "cell_type": "code",
      "source": [
        "#Continuous Uniform Distribution: PDF\n",
        "from scipy.stats import uniform\n",
        "x= 105.0 #change the values to any value in the interval [101.7, 124.3] and observe the output\n",
        "low= 101.7 #lower limit of distribution\n",
        "diff= 22.6 #upper limit = low + diff\n",
        "#The value of x can be any value in the interval [101.7, 124.3]. \n",
        "#As an example x is taken as 105 in the code shown below.\n",
        "dunif = uniform.pdf(x,loc = low,scale = diff)\n",
        "print(\"The probability of weight taking any value between 101.7g and 124.3g for a single scoop of ice-cream\",dunif)"
      ],
      "metadata": {
        "colab": {
          "base_uri": "https://localhost:8080/"
        },
        "id": "mzxORBMlCei0",
        "outputId": "07ccf383-f71a-4ac0-dbee-40280f8df39e"
      },
      "execution_count": 55,
      "outputs": [
        {
          "output_type": "stream",
          "name": "stdout",
          "text": [
            "The probability of weight taking any value between 101.7g and 124.3g for a single scoop of ice-cream 0.04424778761061947\n"
          ]
        }
      ]
    },
    {
      "cell_type": "code",
      "source": [
        "#Continuous Uniform Distribution: CDF\n",
        "from scipy.stats import uniform\n",
        "x= 105.0 #change the values to any value in the interval [101.7, 124.3] and observe the output\n",
        "low= 101.7 #lower limit of distribution\n",
        "diff= 22.6 #upper limit = low + diff\n",
        "punif = uniform.cdf(x,loc = low,scale = diff)\n",
        "print(\"The probability of weight taking 105g between 101.7g and 124.3g for a single scoop of ice-cream \",punif)\n",
        "\n",
        "qunif = uniform.ppf(punif,loc = low,scale = diff)\n",
        "print(f\"The weight for probability {qunif}  between 101.7g and 124.3g for a single scoop of ice-cream \",qunif)"
      ],
      "metadata": {
        "colab": {
          "base_uri": "https://localhost:8080/"
        },
        "id": "xSDeTcf0C7B0",
        "outputId": "77fa52b8-3f2c-47dc-912c-8a439fb95dbe"
      },
      "execution_count": 56,
      "outputs": [
        {
          "output_type": "stream",
          "name": "stdout",
          "text": [
            "The probability of weight taking 105g between 101.7g and 124.3g for a single scoop of ice-cream  0.14601769911504411\n",
            "The weight for probability 105.0  between 101.7g and 124.3g for a single scoop of ice-cream  105.0\n"
          ]
        }
      ]
    },
    {
      "cell_type": "markdown",
      "source": [
        "2. Normal Distribution - Gaussian Distribution is symmetrical with a single central peak(unimodal) at the mean. \n",
        "\n",
        "It is a bell-shaped frequency distribution curve.\n",
        "\n",
        "Following are properties of X (Random Variable) which is following the normal distribution:\n",
        "\n",
        "- The bell-shaped  frequency distribution curve\n",
        "- 1 is the total area under the normal curve\n",
        "- 0 is the probability of X (normal random variable) being equal to particular value.\n",
        "- Mean, median and mode of the distribution are at the center\n",
        "- The curve is x-axis asymptote, i.e. two normal distribution tails never touch the x-axis and extend indefinitely\n",
        "\n",
        "The PDF of X (normally distributed random variable):\n",
        "\n",
        "$ f(x, \\mu, σ^2) =   \\frac{1}{σ\\sqrt{2\\pi}} e^{-(x - \\mu)^2/2*σ^2}$ \n",
        "\n",
        "where, -∞ < x < ∞\n",
        "\n",
        "           x is a normal random variable with the population mean µ and standard deviation as  σ (σ > 0)\n",
        "\n",
        "           Π and e  are constants\n",
        "\n",
        "           Π ~ 3.14159\n",
        "\n",
        "           e is Euler’s no. ~ 2.71828"
      ],
      "metadata": {
        "id": "Dy3f4C-dFrHd"
      }
    },
    {
      "cell_type": "markdown",
      "source": [
        "A normal distribution with:\n",
        "\n",
        "- zero mean (µ=0)\n",
        "- unit variance (σ =1) \n",
        "is called as Standard Normal Distribution\n",
        "\n",
        "$ f(x) =   \\frac{1}{\\sqrt{2\\pi}} e^{-(x )^2/2}$ \n",
        "\n",
        "A z- score (standard score) indicates the total number of standard deviations from the mean by a random variable and can be calculated as follows:\n",
        "\n",
        "$z = \\frac{x-\\mu}{σ}$\n",
        "\n",
        "where, X is the random variable, with µ and σ as \n",
        "\n",
        "           z is the no. of standard deviations from to the mean of the distribution"
      ],
      "metadata": {
        "id": "7FwRxTXVH4v0"
      }
    },
    {
      "cell_type": "code",
      "source": [
        "#Normal Distribution\n",
        "from scipy.stats import norm\n",
        "#Finding CDF using z-score\n",
        "x = 84\n",
        "mu = 95\n",
        "sd = 11\n",
        "z = (x-mu)/sd\n",
        "print(z)\n",
        "pnorm_z = norm.cdf(z)\n",
        "pnorm_z\n"
      ],
      "metadata": {
        "colab": {
          "base_uri": "https://localhost:8080/"
        },
        "id": "eMu8W6Ciiip2",
        "outputId": "f41e43a1-5a1a-4b1e-f8ef-f040fb8d2c4b"
      },
      "execution_count": 58,
      "outputs": [
        {
          "output_type": "stream",
          "name": "stdout",
          "text": [
            "-1.0\n"
          ]
        },
        {
          "output_type": "execute_result",
          "data": {
            "text/plain": [
              "0.15865525393145707"
            ]
          },
          "metadata": {},
          "execution_count": 58
        }
      ]
    },
    {
      "cell_type": "code",
      "source": [
        "from scipy.stats import norm\n",
        "mu = 95\n",
        "sd = 11\n",
        "p_x_between_84and117 = norm.cdf(117, loc = mu, scale = sd) - norm.cdf(84, loc = mu, scale = sd) #P(84 < X < 117)\n",
        "p_x_between_84and117\n"
      ],
      "metadata": {
        "colab": {
          "base_uri": "https://localhost:8080/"
        },
        "id": "KFdJMjdJi-gi",
        "outputId": "5eb9e736-642a-409e-ef35-32b85540ecfa"
      },
      "execution_count": 59,
      "outputs": [
        {
          "output_type": "execute_result",
          "data": {
            "text/plain": [
              "0.8185946141203637"
            ]
          },
          "metadata": {},
          "execution_count": 59
        }
      ]
    },
    {
      "cell_type": "code",
      "source": [
        "from scipy.stats import norm\n",
        "mu = 95\n",
        "sd = 11\n",
        "p_x_greater_than_117 = 1 - norm.cdf(117, loc = mu, scale = sd) #P(X > 117)\n",
        "p_x_greater_than_117"
      ],
      "metadata": {
        "colab": {
          "base_uri": "https://localhost:8080/"
        },
        "id": "7PjOhsDSjIUw",
        "outputId": "1340383f-4bc5-4eb6-c4de-f638ce11e678"
      },
      "execution_count": 60,
      "outputs": [
        {
          "output_type": "execute_result",
          "data": {
            "text/plain": [
              "0.02275013194817921"
            ]
          },
          "metadata": {},
          "execution_count": 60
        }
      ]
    },
    {
      "cell_type": "markdown",
      "source": [
        "##### Law of Large Numbers(LLN)\n",
        "\n",
        "The Law of Large Numbers states that, as the sample size of random variable increases, their sample mean approaches their theoretical mean (i.e., population mean).\n",
        "\n",
        "The Law of Large Numbers (LLN) is a theorem that describes the result of performing the same experiment a large number of times. According to this law, the average result obtained from a large number of trials should be close to the expected value and will tend to be closer with more trials."
      ],
      "metadata": {
        "id": "JUsD3Kl8jyHt"
      }
    },
    {
      "cell_type": "code",
      "source": [
        "#Law of Large Numbers\n",
        "print(\"Mean when sample size is 5: \",np.mean(norm.rvs(loc = 50, scale = 5, size = 5)))\n",
        "print(\"Mean when sample size is 10: \",np.mean(norm.rvs(loc = 50, scale = 5, size = 10)))\n",
        "print(\"Mean when sample size is 100: \",np.mean(norm.rvs(loc = 50, scale = 5, size = 100)))\n",
        "print(\"Mean when sample size is 1000: \",np.mean(norm.rvs(loc = 50, scale = 5, size = 1000)))\n",
        "print(\"Mean when sample size is 10000: \",np.mean(norm.rvs(loc = 50, scale = 5, size = 10000)))\n",
        "print(\"Mean when sample size is 100000: \",np.mean(norm.rvs(loc = 50, scale = 5, size = 100000)))"
      ],
      "metadata": {
        "colab": {
          "base_uri": "https://localhost:8080/"
        },
        "id": "YNRqV1U5kDXk",
        "outputId": "a355c84f-135e-4012-ca5e-7915ea3afa5e"
      },
      "execution_count": 61,
      "outputs": [
        {
          "output_type": "stream",
          "name": "stdout",
          "text": [
            "Mean when sample size is 5:  48.10006362080088\n",
            "Mean when sample size is 10:  51.38896330356094\n",
            "Mean when sample size is 100:  50.465518840771416\n",
            "Mean when sample size is 1000:  50.136782613332436\n",
            "Mean when sample size is 10000:  50.03071434400656\n",
            "Mean when sample size is 100000:  49.96801678862917\n"
          ]
        }
      ]
    },
    {
      "cell_type": "code",
      "source": [
        "import pandas as pd\n",
        "import numpy as np\n",
        "n = 10000\n",
        "p = 0.4\n",
        "result = []\n",
        "for i in range(1,n):\n",
        "    x = np.random.binomial(1, p, size = i)\n",
        "    mean_of_x = x.mean()\n",
        "    result.append(mean_of_x)\n",
        "df = pd.DataFrame({'mean':result})\n",
        "from IPython.core.pylabtools import figsize\n",
        "import matplotlib.pyplot as plt\n",
        "figsize(11,9)\n",
        "df.plot(color ='r')\n",
        "plt.xlabel('Numbers')\n",
        "plt.ylabel('Sample Mean')\n",
        "plt.title('Simulation of Law of Large Numbers')\n",
        "plt.show()\n"
      ],
      "metadata": {
        "colab": {
          "base_uri": "https://localhost:8080/",
          "height": 567
        },
        "id": "0VTscazSkXR-",
        "outputId": "52fa81a7-d59f-4b09-bb6c-4ac766e29626"
      },
      "execution_count": 62,
      "outputs": [
        {
          "output_type": "display_data",
          "data": {
            "text/plain": [
              "<Figure size 792x648 with 1 Axes>"
            ],
            "image/png": "[encoded data removed]"
          },
          "metadata": {
            "needs_background": "light"
          }
        }
      ]
    },
    {
      "cell_type": "markdown",
      "source": [
        "#### Central Limit Theorem (CLT)\n",
        "\n",
        "Assume a random sample mean X̄, X1, X2, ..., Xn of size n from a population with mean μ and standard deviation σ.\n",
        "\n",
        "CLT says that the sampling distribution of the sample mean X̄ is approximately normal with mean μ and standard deviation σ⁄√n for large sample size n.\n",
        "\n",
        "If X1, X2, ..., Xn is a random sample of size n taken from a population (either finite or infinite) with mean μ and finite variance σ2, and if X̄ is the sample mean, the limiting form of the distribution of\n",
        "\n",
        "$Z = \\frac{\\bar{X}-\\mu}{σ/\\sqrt{n}}$\n",
        "\n",
        "where, n → ∞,  is the standard normal distribution.\n",
        "\n",
        "z is the standard normal distribution\n",
        "\n",
        "We can use CLT when:\n",
        "\n",
        "- The normal distribution is a good approximation of the mean sample distribution when n exceeds 25.\n",
        "- The normal approximation can be good for n as small as 4 or 5 if the underlying distribution is continuous, symmetrical and with only one peak.\n",
        "- If the underlying distribution is approximately normal, then X̄ distribution will be approximately normal for n as small as 2 or 3."
      ],
      "metadata": {
        "id": "THIaR5HWkjcE"
      }
    },
    {
      "cell_type": "markdown",
      "source": [
        "#### Moment Generating Functions MGF\n",
        "A moment is a specific quantitative measure of the shape of a set of points in statistics.\n",
        "\n",
        "If the points represent the density of the probability, then:\n",
        "\n",
        "- the 0th moment is the total probability (i.e., one),\n",
        "- the 1st moment is the mean,\n",
        "- the 2nd moment about the mean is variance,\n",
        "- the 3rd moment is the skewness, and\n",
        "- the 4th moment is the kurtosis. \n",
        "\n",
        "The nth moment of a real-valued continuous function f(x) of a real variable about a value c is\n",
        "$\\mu_n = \\int_{-∞}^{∞} (x-c)^n f(x) dx$"
      ],
      "metadata": {
        "id": "NdUM2HW3lu2P"
      }
    },
    {
      "cell_type": "markdown",
      "source": [
        "##### Normalized moments:\n",
        "\n",
        "\n",
        "The normalized nth central moment or standardized moment is the nth central moment divided by σn\n",
        "\n",
        "$ x = \\frac{E[(x-\\bar{x})^n]}{σ^n}$\n",
        "\n",
        "\n",
        "High-order moments are moments with n > 4, with variance, skewness, and kurtosis, these are higher-order statistics, involving non-linear combinations of the data, and can be used for description or estimation of further shape parameters. The higher the moment, the harder it is to estimate, as larger samples are needed to obtain similar quality estimates."
      ],
      "metadata": {
        "id": "YYEwqSPlmxov"
      }
    },
    {
      "cell_type": "markdown",
      "source": [
        "Special functions, called moment-generating functions(MGF’s) provides an alternate way to calculate mean and variance of a random variable\n",
        "\n",
        "For X (random variable), the MGF’s can be given as,\n",
        "\n",
        "$M_X(t) =  E(e^{tX}) = \\{ \\begin{array}{} \\Sigma_x e^{tX} P(X=x) ← Discrete \\\\   \\int_{-∞}^{∞} e^{tX} f_x(x) dx ← Continuous \\end{array} $\n",
        "\n",
        "MGF does not always exist even for real-valued arguments, unlike the characteristic function.\n",
        "\n",
        "MGF can be interpreted as the expectation of the random variable etx\n",
        "\n",
        "The etx series expansion is:\n",
        "\n",
        "$e^{tX} = 1 + tX + \\frac{t^2X^2}{2!} + \\frac{t^3X^3}{3!} ...+ \\frac{t^nX^n}{n!}$\n",
        "\n",
        "\n",
        "The Moment generating functions are always positive and  Mx(0) is equal to 1.\n",
        "\n",
        "MGF of Normal Distribution.$M_X(t) =  e^{\\mu t}e^{\\frac{1}{2} \\sigma^2 t^2}$ "
      ],
      "metadata": {
        "id": "IB2Hky2XnjwE"
      }
    },
    {
      "cell_type": "markdown",
      "source": [
        "#### 3 log-normal distribution \n",
        "is a continuous probability distribution of a random variable whose logarithm is normally distributed.\n",
        "\n",
        "Random variable X is log-normally distributed, 𝒍𝒏(𝑿)=𝑾 i.e., the natural logarithm of X normally distributed.\n",
        "\n",
        "Properties of Lognormal distribution  :\n",
        "\n",
        "- The random variable that is lognormally distributed, can only assign positive and real values in it.\n",
        "- Lognormal distribution of x (random variable) has two parameters mean and standard deviation which is denoted by μ and σ respectively.\n",
        "\n",
        "  $x = e^{\\mu+\\sigma z}$\n",
        "\n",
        "  where z is a standard normal variable.\n",
        "\n",
        "  "
      ],
      "metadata": {
        "id": "RrTupZRgu5rI"
      }
    },
    {
      "cell_type": "code",
      "source": [
        "from scipy.stats import lognorm\n",
        "p_x_greater_than_10000 = 1 -  lognorm.cdf(10000, s=1.5, loc = 10, scale = np.exp(10)) #P(X > 10000)\n",
        "print(p_x_greater_than_10000)"
      ],
      "metadata": {
        "colab": {
          "base_uri": "https://localhost:8080/"
        },
        "id": "X2tPxSBNwE5X",
        "outputId": "694e4531-5604-447e-ce76-2bc7c6cd3e88"
      },
      "execution_count": 63,
      "outputs": [
        {
          "output_type": "stream",
          "name": "stdout",
          "text": [
            "0.7009402709965952\n"
          ]
        }
      ]
    },
    {
      "cell_type": "code",
      "source": [
        "#Log Normal Distribution\n",
        "from scipy.stats import lognorm\n",
        "p_x_greater_than_10000 = lognorm.sf(10000, 1.5, loc = 10, scale = np.exp(10)) #P(X > 10000)\n",
        "print(p_x_greater_than_10000)"
      ],
      "metadata": {
        "colab": {
          "base_uri": "https://localhost:8080/"
        },
        "id": "sQDxdkcxwMmC",
        "outputId": "41fe8b56-7fe4-4b3e-9619-decfc14976f5"
      },
      "execution_count": 64,
      "outputs": [
        {
          "output_type": "stream",
          "name": "stdout",
          "text": [
            "0.7009402709965952\n"
          ]
        }
      ]
    },
    {
      "cell_type": "markdown",
      "source": [
        "#### 4. Negative Exponential Distribution\n",
        "\n",
        "The negative exponential  (also known as exponential distribution) is the probability distribution that describes the time between the events in a Poisson process.\n",
        "\n",
        "Where Poisson process is a type of random mathematical object known as a point process or point field that consists of randomly located points located on some underlying mathematical space. \n",
        "\n",
        "The PDF of Negative Exponential Distribution is defined as follows:\n",
        "\n",
        "$f(x;\\lambda) = \\{ \\begin{array}{} \\lambda e^{-\\lambda x} ← x>=0 \\\\ 0 ,  x<0 \\end{array} $\n",
        "\n",
        "where, λ (Lambda) is the rate of the distribution,  λ > 0 \n",
        "\n",
        "x is inter-arrival time between successes\n",
        "\n",
        "e is Euler’s number, ~ 2.71828\n",
        "\n",
        "The CDF of Negative Exponential Distribution is defined as follows:\n",
        "\n",
        "$f(x;\\lambda) = \\{ \\begin{array}{} 1- e^{-\\lambda x} ← x>=0 \\\\ 0 ,  x<0 \\end{array} $\n",
        "\n",
        "\n",
        "where, λ (Lambda) is the rate of the distribution,  λ > 0 \n",
        "\n",
        "x is inter-arrival time between successes\n",
        "\n",
        "e is Euler’s number, ~ 2.71828"
      ],
      "metadata": {
        "id": "994_EOqrwWuS"
      }
    },
    {
      "cell_type": "markdown",
      "source": [
        "The probability of customer not arriving in the first 7 min’s every hour is equal to all the customers arriving after 7 min’s, which can be calculated using the CDF, expon.cdf().\n",
        "\n",
        "Let the no. of customers be X, then mean, λ equals 10 customers per 60 minutes or 1/6 customer per minute if X ≥ 7 denotes the inter-arrival time between customers.\n",
        "\n",
        "P(X > 7) =  1 - (p(x = 0) + p(x = 1) + p(x = 2) + … +  p(x = 7))"
      ],
      "metadata": {
        "id": "LDeIOG65zuLF"
      }
    },
    {
      "cell_type": "code",
      "source": [
        "#Negative Exponential Distribution\n",
        "from scipy.stats import expon\n",
        "x  = 7 #7mins\n",
        "#scale = 1/lambda = 6\n",
        "scale = 6\n",
        " \n",
        "pexp = expon.cdf(x, scale = scale)\n",
        "print(\"The probability of customers not arriving in the first 7 min’s every hour is\",1 - pexp)\n"
      ],
      "metadata": {
        "colab": {
          "base_uri": "https://localhost:8080/"
        },
        "id": "9908m_dwzhfZ",
        "outputId": "3527b0cc-4450-4c20-857c-bd99d94a7e4a"
      },
      "execution_count": 66,
      "outputs": [
        {
          "output_type": "stream",
          "name": "stdout",
          "text": [
            "The probability of customers not arriving in the first 7 min’s every hour is 0.3114032239145976\n"
          ]
        }
      ]
    },
    {
      "cell_type": "markdown",
      "source": [
        "Negative Exponential Distribution has an important property called as memory-less property, and it can be defined as “the future states of the process are independent of its past history and depends solely on its present state”.\n",
        "\n",
        "P(X ≥ t + h |  X > t)  where, t ≥ 0\n",
        "\n",
        "Here, P(X ≥ t + h |  X > t) denotes the conditional probability of X being larger than t + h, given that its larger than or equal to t.\n",
        "\n",
        "This relation implies that the probability that the event happens during a time interval of length (h) is independent of how much time has already elapsed (t) without the event happening.\n",
        "\n",
        "According to memoryless property, even if 5 min’s already elapsed in an hour, the probability of customers not arriving in the 7 minutes is still 31.14%. "
      ],
      "metadata": {
        "id": "jXAvuK8l0O4y"
      }
    },
    {
      "cell_type": "markdown",
      "source": [
        "#### Gamma distribution\n",
        "\n",
        "The gamma distribution is considered when the probability for the waiting time is required until the αth success occurs, given that the mean success rate per unit of time is λ =1 ⁄ β.\n",
        "\n",
        "Where α (alpha) is known as the shape parameter, while β (beta) is the scale parameter.\n",
        "\n",
        "The PDF of Gamma Distribution is defined as follows:\n",
        "\n",
        "$f(x) = \\frac{1/β^\\alpha}{\\tau(\\alpha)} x^{\\alpha-1} e^{-x/\\beta}$\n",
        "\n",
        "where f (x): the probability of waiting for αth success\n",
        "\n",
        "- α (alpha)- shape parameter\n",
        "- β (beta)- scale parameter.\n",
        "- λ = 1 / β  is the mean rate of success per unit of time\n",
        "\n",
        "For integer values of x (Discrete), we have gamma(Γ), Γ(α)=(α-1)!  \n",
        "\n",
        "For any positive real number (Continuous),\n",
        "\n",
        "$\\tau(\\alpha)= \\int_o^∞ t^{\\alpha-1} e^{-t} dt$\n",
        "\n",
        "\n",
        "with the interval [0, ∞].\n",
        "\n",
        "A Gamma distribution with β  = 1 is known as the standard Gamma distribution.\n",
        "\n",
        "Gamma distribution with shape parameter α = 1 and scale parameter β is a negative exponential distribution."
      ],
      "metadata": {
        "id": "349zxF6K4MMv"
      }
    },
    {
      "cell_type": "markdown",
      "source": [
        "On any day, the ice cream machines are expected to dispense 1000 ice creams every 50 hours. According to the manufacturer's specifications, the machines are expected to fail once every 100 hours. What are the chances that both the machines will fail in the full 50 hours?"
      ],
      "metadata": {
        "id": "bbgEBrNE7k5O"
      }
    },
    {
      "cell_type": "code",
      "source": [
        "#Gamma Distribution\n",
        "from scipy.stats import gamma\n",
        "#The failure of both the machines, alpha = shape = 2 & the average time of failure is lambda =  1 / 100.\n",
        "#scale = 1/lambda\n",
        "x = 50 #50 hours\n",
        "alpha = 2\n",
        "scale = 100\n",
        "pgamma = gamma.cdf(x, a = alpha, scale = scale)\n",
        "print(\"The Probability of both the machines failing in full 50 hours is \",pgamma*100)\n"
      ],
      "metadata": {
        "colab": {
          "base_uri": "https://localhost:8080/"
        },
        "id": "y30pEeC-7PKF",
        "outputId": "c1e64a36-29bf-4ee5-ecdf-2617ead5670e"
      },
      "execution_count": 69,
      "outputs": [
        {
          "output_type": "stream",
          "name": "stdout",
          "text": [
            "The Probability of both the machines failing in full 50 hours is  9.020401043104986\n"
          ]
        }
      ]
    },
    {
      "cell_type": "markdown",
      "source": [
        "#### A Weibull Distribution \n",
        "is a generalization of Exponential Distribution. A Weibull (1, β) random variable is an exponential random variable with mean β.\n",
        "\n",
        "Both the PDF’s as shown below are same when in case of:\n",
        "\n",
        "- Weibull distribution, α & β = 1\n",
        "- exponential distribution, λ = 1 \n",
        "\n",
        "The Weibull distribution is used to model the time until physical systems fail. The distribution parameters give model systems a great deal of flexibility where the number of failures increases, decreases or stays constant over time.\n",
        "\n",
        "The Weibull distribution is one of the most commonly used reliability engineering distributions. It is a versatile distribution that can take on the characteristics of other types of distributions, based on the value of the shape parameter.\n",
        "\n",
        "X (random variable) with probability density function\n",
        "\n",
        "$f(x) = \\frac{\\beta}{\\alpha}( \\frac{x}{\\alpha})^{\\beta-1}e^{-( \\frac{x}{\\alpha})β}$\n",
        "\n",
        "where α (alpha)- shape parameter\n",
        "\n",
        "          β (beta)- scale parameter\n",
        "\n",
        "          α > 0 & β > 0\n",
        "\n",
        "The following graph shows the Weibull Distribution PDF with various shape and scale parameters.\n",
        "\n",
        "CDF is\n",
        "\n",
        "$ F(x) = 1-e^{-(\\frac{x}{\\alpha})\\beta}$\n",
        "\n",
        "where α (alpha)- shape parameter\n",
        "\n",
        "β (beta)- scale parameter\n",
        "\n",
        "α > 0 & β > 0\n",
        "\n",
        "e is Euler’s number, ~ 2.71828"
      ],
      "metadata": {
        "id": "u02DmJYv72vD"
      }
    },
    {
      "cell_type": "code",
      "source": [
        "#Weibull Distribution\n",
        "from scipy.stats import weibull_min\n",
        "import matplotlib.pyplot as plt\n",
        "IAT = 5 #inter arrival time\n",
        "shape = 1\n",
        "y1 = expon.rvs(scale = IAT, size = 100) # depicted by blue color in the plot\n",
        "y2 = weibull_min.rvs(c = shape, scale = IAT, size=100) #depicted by orange color in the plot\n",
        " \n",
        "import numpy as np\n",
        "from scipy.stats import gaussian_kde\n",
        "density1 = gaussian_kde(y1)\n",
        "density2 = gaussian_kde(y2)\n",
        "xs = np.linspace(0,40,100)\n",
        "density1.covariance_factor = lambda : .20\n",
        "density1._compute_covariance()\n",
        "plt.plot(xs,density1(xs))\n",
        "xs = np.linspace(0,40,100)\n",
        "density2.covariance_factor = lambda : .20\n",
        "density2._compute_covariance()\n",
        "plt.plot(xs,density2(xs))\n",
        "plt.show()\n",
        "# Change the values of scale parameter and observe the distributions"
      ],
      "metadata": {
        "colab": {
          "base_uri": "https://localhost:8080/",
          "height": 537
        },
        "id": "vWLETFLK7ZEd",
        "outputId": "2c670776-4b5f-46a4-ecbf-12d00e5adc10"
      },
      "execution_count": 70,
      "outputs": [
        {
          "output_type": "display_data",
          "data": {
            "text/plain": [
              "<Figure size 792x648 with 1 Axes>"
            ],
            "image/png": "[encoded data removed]"
          },
          "metadata": {
            "needs_background": "light"
          }
        }
      ]
    },
    {
      "cell_type": "markdown",
      "source": [
        "Gamma and Weibull distributions are generalizations of the exponential distribution.\n",
        "\n",
        "The exponential distribution describes the waiting time of a Poisson process (the time to wait for an event to occur, if that event is likely to occur at any time interval), then the Γ(α, β) distribution describes the time to wait for α independent events to occur,\n",
        "\n",
        "where, α- shape parameter\n",
        "\n",
        "β- scale parameter.\n",
        "\n",
        "While the Weibull distribution describes the time to wait for an event, the α parameter describes how fast the probability increases (proportional to t(α - 1))."
      ],
      "metadata": {
        "id": "1LE6wL_DXo2O"
      }
    }
  ]
}