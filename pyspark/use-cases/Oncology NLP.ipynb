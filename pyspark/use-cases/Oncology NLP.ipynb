{
 "cells": [
  {
   "cell_type": "markdown",
   "id": "f2030450-6251-4750-9c62-7a0acf291d97",
   "metadata": {},
   "source": [
    "## Abstracting Real World Data from Oncology Notes: Entity Extraction\n",
    "\n",
    "[MT ONCOLOGY NOTES](https://www.mtsamplereports.com/) comprises of millions of ehr records of patients. It contains semi-structured data like demographics, insurance details, and a lot more, but most importantly, it also contains free-text data like real encounters and notes.\n",
    "\n",
    "Here we show how to use Spark NLP's existing models to process raw text and extract highly specialized cancer information that can be used for various downstream use cases, including:\n",
    "- Staff demand analysis according to specialties.\n",
    "- Preparing reimbursement-ready data with billable codes.\n",
    "- Analysis of risk factors of patients and symptoms.\n",
    "- Analysis of cancer disease and symptoms.\n",
    "- Drug usage analysis for inventory management.\n",
    "- Preparing timeline of procedures.\n",
    "- Relations between internal body part and procedures.\n",
    "- Analysis of procedures used on oncological events.\n",
    "- Checking assertion status of oncological findings."
   ]
  },
  {
   "cell_type": "code",
   "execution_count": null,
   "id": "91eef3ce-aa7e-49aa-a598-4c7707a9bc46",
   "metadata": {},
   "outputs": [],
   "source": []
  }
 ],
 "metadata": {
  "kernelspec": {
   "display_name": "Python 3 (ipykernel)",
   "language": "python",
   "name": "python3"
  },
  "language_info": {
   "codemirror_mode": {
    "name": "ipython",
    "version": 3
   },
   "file_extension": ".py",
   "mimetype": "text/x-python",
   "name": "python",
   "nbconvert_exporter": "python",
   "pygments_lexer": "ipython3",
   "version": "3.10.8"
  }
 },
 "nbformat": 4,
 "nbformat_minor": 5
}
