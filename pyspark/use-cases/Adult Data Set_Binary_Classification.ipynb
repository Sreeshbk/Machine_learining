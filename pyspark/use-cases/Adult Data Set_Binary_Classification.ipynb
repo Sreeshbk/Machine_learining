{
 "cells": [
  {
   "cell_type": "markdown",
   "id": "6f34ca1e-1829-47a3-827a-d3a0ec4e60c8",
   "metadata": {},
   "source": [
    "# Binary Classification\n",
    "Binary Classification is the task of predicting a binary label. For example, is an email spam or not spam? Should I show this ad to this user or not? Will it rain tomorrow or not? This notebook illustrates algorithms for making these types of predictions."
   ]
  },
  {
   "cell_type": "markdown",
   "id": "159e20e5-c731-447e-9a44-920ec97f2c3e",
   "metadata": {},
   "source": [
    "## Dataset Overview"
   ]
  },
  {
   "cell_type": "markdown",
   "id": "919c3932-1814-47e9-9265-8709b318ca0d",
   "metadata": {},
   "source": [
    "The Adult dataset is publicly available at the [UCI Machine Learning Repository](https://archive.ics.uci.edu/ml/datasets/Adult). This data derives from census data and consists of information about 48842 individuals and their annual income. You can use this information to predict if an individual earns <=50K or >50k a year. The dataset consists of both numeric and categorical variables.\n",
    "\n",
    "**Attribute Information:**\n",
    "\n",
    "- age: continuous\n",
    "- workclass: Private,Self-emp-not-inc, Self-emp-inc, Federal-gov, Local-gov, State-gov, Without-pay, Never-worked\n",
    "- fnlwgt: continuous\n",
    "- education: Bachelors, Some-college, 11th, HS-grad, Prof-school, Assoc-acdm, Assoc-voc...\n",
    "- education-num: continuous\n",
    "- marital-status: Married-civ-spouse, Divorced, Never-married, Separated, Widowed, Married-spouse-absent...\n",
    "- occupation: Tech-support, Craft-repair, Other-service, Sales, Exec-managerial, Prof-specialty, Handlers-cleaners...\n",
    "- relationship: Wife, Own-child, Husband, Not-in-family, Other-relative, Unmarried\n",
    "- race: White, Asian-Pac-Islander, Amer-Indian-Eskimo, Other, Black\n",
    "- sex: Female, Male\n",
    "- capital-gain: continuous\n",
    "- capital-loss: continuous\n",
    "- hours-per-week: continuous\n",
    "- native-country: United-States, Cambodia, England, Puerto-Rico, Canada, Germany...\n",
    "- Target/Label: - <=50K, >50K"
   ]
  },
  {
   "cell_type": "code",
   "execution_count": 1,
   "id": "23a0d384-0dc1-40da-bed2-88d02cb79f53",
   "metadata": {},
   "outputs": [],
   "source": [
    "import mlflow.pyfunc\n",
    "import mlflow.spark\n",
    "import mlflow\n",
    "from mlflow.tracking import MlflowClient\n",
    " \n",
    "mlflow.set_tracking_uri(\"http://host.docker.internal:5000\")\n",
    "client = MlflowClient(\"http://host.docker.internal:5000\")"
   ]
  },
  {
   "cell_type": "code",
   "execution_count": 2,
   "id": "6e9f7eb5-bba4-4db6-95fe-75c87956c94e",
   "metadata": {},
   "outputs": [],
   "source": [
    "from pyspark import SparkFiles\n",
    "from pyspark.sql.session import SparkSession\n",
    "spark = SparkSession.builder.appName('Adult binary classification').getOrCreate()"
   ]
  },
  {
   "cell_type": "code",
   "execution_count": 3,
   "id": "0220253f-f510-443f-86c3-c6243a60801f",
   "metadata": {},
   "outputs": [],
   "source": [
    "url = \"https://archive.ics.uci.edu/ml/machine-learning-databases/adult/adult.data\"\n",
    "from pyspark import SparkFiles\n",
    "spark.sparkContext.addFile(url)"
   ]
  },
  {
   "cell_type": "code",
   "execution_count": 12,
   "id": "de8195f0-2f7f-42c3-99e2-1a0fc6eefc2d",
   "metadata": {},
   "outputs": [],
   "source": [
    "from pyspark.sql.types import DoubleType, StringType, StructField, StructType\n",
    " \n",
    "schema = StructType([\n",
    "  StructField(\"age\", DoubleType(), False),\n",
    "  StructField(\"workclass\", StringType(), False),\n",
    "  StructField(\"fnlwgt\", DoubleType(), False),\n",
    "  StructField(\"education\", StringType(), False),\n",
    "  StructField(\"education_num\", DoubleType(), False),\n",
    "  StructField(\"marital_status\", StringType(), False),\n",
    "  StructField(\"occupation\", StringType(), False),\n",
    "  StructField(\"relationship\", StringType(), False),\n",
    "  StructField(\"race\", StringType(), False),\n",
    "  StructField(\"sex\", StringType(), False),\n",
    "  StructField(\"capital_gain\", DoubleType(), False),\n",
    "  StructField(\"capital_loss\", DoubleType(), False),\n",
    "  StructField(\"hours_per_week\", DoubleType(), False),\n",
    "  StructField(\"native_country\", StringType(), False),\n",
    "  StructField(\"income\", StringType(), False)\n",
    "])\n",
    " \n",
    "dataset = spark.read.csv(\"file://\"+SparkFiles.get(\"adult.data\"), schema=schema)\n",
    "cols = dataset.columns"
   ]
  },
  {
   "cell_type": "markdown",
   "id": "bc7d52ab-702f-43c5-a958-5505f7cc00a5",
   "metadata": {},
   "source": [
    "## Preprocess Data\n",
    "To use algorithms like Logistic Regression, you must first convert the categorical variables in the dataset into numeric variables. There are two ways to do this.\n",
    "\n",
    "- Category Indexing\n",
    "This is basically assigning a numeric value to each category from {0, 1, 2, ...numCategories-1}. This introduces an implicit ordering among your categories, and is more suitable for ordinal variables (eg: Poor: 0, Average: 1, Good: 2)\n",
    "\n",
    "- One-Hot Encoding\n",
    "This converts categories into binary vectors with at most one nonzero value (eg: (Blue: [1, 0]), (Green: [0, 1]), (Red: [0, 0]))\n",
    "\n",
    "This notebook uses a combination of StringIndexer and, depending on your Spark version, either OneHotEncoder or OneHotEncoderEstimator to convert the categorical variables. OneHotEncoder and OneHotEncoderEstimator return a SparseVector.\n",
    "\n",
    "Since there is more than one stage of feature transformations, use a Pipeline to tie the stages together. This simplifies the code."
   ]
  },
  {
   "cell_type": "code",
   "execution_count": 13,
   "id": "11968150-8461-4ba2-a8ce-6e09b3d9b977",
   "metadata": {},
   "outputs": [],
   "source": [
    "import pyspark\n",
    "from pyspark.ml import Pipeline\n",
    "from pyspark.ml.feature import StringIndexer, VectorAssembler"
   ]
  },
  {
   "cell_type": "code",
   "execution_count": 14,
   "id": "8728c4a7-dfa5-42e7-a409-e6882d2fb4a7",
   "metadata": {},
   "outputs": [],
   "source": [
    "categoricalColumns = [\"workclass\", \"education\", \"marital_status\", \"occupation\", \"relationship\", \"race\", \"sex\", \"native_country\"]\n",
    "stages = [] # stages in Pipeline\n",
    "for categoricalCol in categoricalColumns:\n",
    "    # Category Indexing with StringIndexer\n",
    "    stringIndexer = StringIndexer(inputCol=categoricalCol, outputCol=categoricalCol + \"Index\")\n",
    "    # Use OneHotEncoder to convert categorical variables into binary SparseVectors\n",
    "    from pyspark.ml.feature import OneHotEncoder\n",
    "    encoder = OneHotEncoder(inputCols=[stringIndexer.getOutputCol()], outputCols=[categoricalCol + \"classVec\"])\n",
    "    # Add stages.  These are not run here, but will run all at once later on.\n",
    "    stages += [stringIndexer, encoder]"
   ]
  },
  {
   "cell_type": "markdown",
   "id": "b54e6c88-eace-4273-954d-95bc345f0393",
   "metadata": {},
   "source": [
    "The above code basically indexes each categorical column using the `StringIndexer`, and then converts the indexed categories into one-hot encoded variables. The resulting output has the binary vectors appended to the end of each row.\n",
    "\n",
    "Use the `StringIndexer` again to encode labels to label indices."
   ]
  },
  {
   "cell_type": "code",
   "execution_count": 15,
   "id": "821c3048-c9c0-450a-a4a9-4eb4b23a97e2",
   "metadata": {},
   "outputs": [],
   "source": [
    "# Convert label into label indices using the StringIndexer\n",
    "label_stringIdx = StringIndexer(inputCol=\"income\", outputCol=\"label\")\n",
    "stages += [label_stringIdx]"
   ]
  },
  {
   "cell_type": "markdown",
   "id": "d8fab48d-92fc-4989-9f04-b3c84af313a6",
   "metadata": {},
   "source": [
    "Use a `VectorAssembler` to combine all the feature columns into a single vector column. This includes both the numeric columns and the one-hot encoded binary vector columns in the dataset."
   ]
  },
  {
   "cell_type": "code",
   "execution_count": 16,
   "id": "e37a585f-cbb3-4400-afbd-4b8255e44806",
   "metadata": {},
   "outputs": [],
   "source": [
    "# Transform all features into a vector using VectorAssembler\n",
    "numericCols = [\"age\", \"fnlwgt\", \"education_num\", \"capital_gain\", \"capital_loss\", \"hours_per_week\"]\n",
    "assemblerInputs = [c + \"classVec\" for c in categoricalColumns] + numericCols\n",
    "assembler = VectorAssembler(inputCols=assemblerInputs, outputCol=\"features\")\n",
    "stages += [assembler]"
   ]
  },
  {
   "cell_type": "markdown",
   "id": "3fe8ba97-6adf-47df-b2ef-173bb0179ccf",
   "metadata": {},
   "source": [
    "Run the stages as a `Pipeline`. This puts the data through all of the feature transformations in a single call."
   ]
  },
  {
   "cell_type": "code",
   "execution_count": 18,
   "id": "fef564ae-b046-44eb-80e9-8930f525b166",
   "metadata": {},
   "outputs": [],
   "source": [
    "from pyspark.ml.classification import LogisticRegression\n",
    "  \n",
    "partialPipeline = Pipeline().setStages(stages)\n",
    "pipelineModel = partialPipeline.fit(dataset)\n",
    "preppedDataDF = pipelineModel.transform(dataset)"
   ]
  },
  {
   "cell_type": "code",
   "execution_count": 20,
   "id": "e2036c9d-302f-4d07-8d0f-1cea91169c22",
   "metadata": {},
   "outputs": [
    {
     "data": {
      "image/png": "[encoded data removed]",
      "text/plain": [
       "<Figure size 500x500 with 1 Axes>"
      ]
     },
     "metadata": {},
     "output_type": "display_data"
    }
   ],
   "source": [
    "# Fit model to prepped data\n",
    "lrModel = LogisticRegression().fit(preppedDataDF)\n",
    " \n",
    "# ROC for training data\n",
    "import matplotlib.pyplot as plt\n",
    "plt.figure(figsize=(5,5))\n",
    "plt.plot([0, 1], [0, 1], 'r--')\n",
    "plt.plot(lrModel.summary.roc.select('FPR').collect(),\n",
    "         lrModel.summary.roc.select('TPR').collect())\n",
    "plt.xlabel('FPR')\n",
    "plt.ylabel('TPR')\n",
    "plt.show()"
   ]
  },
  {
   "cell_type": "code",
   "execution_count": 23,
   "id": "d7f7cc03-aaa9-41c1-bc08-7c5fca5e57dc",
   "metadata": {},
   "outputs": [
    {
     "name": "stdout",
     "output_type": "stream",
     "text": [
      "+-----+--------------------+----+----------+-------+----------+-------------+--------------+-------------+--------------+------+-----+------------+------------+--------------+--------------+------+\n",
      "|label|            features| age| workclass| fnlwgt| education|education_num|marital_status|   occupation|  relationship|  race|  sex|capital_gain|capital_loss|hours_per_week|native_country|income|\n",
      "+-----+--------------------+----+----------+-------+----------+-------------+--------------+-------------+--------------+------+-----+------------+------------+--------------+--------------+------+\n",
      "|  0.0|(100,[4,10,24,32,...|39.0| State-gov|77516.0| Bachelors|         13.0| Never-married| Adm-clerical| Not-in-family| White| Male|      2174.0|         0.0|          40.0| United-States| <=50K|\n",
      "+-----+--------------------+----+----------+-------+----------+-------------+--------------+-------------+--------------+------+-----+------------+------------+--------------+--------------+------+\n",
      "only showing top 1 row\n",
      "\n"
     ]
    }
   ],
   "source": [
    "# Keep relevant columns\n",
    "selectedcols = [\"label\", \"features\"] + cols\n",
    "dataset = preppedDataDF.select(selectedcols)\n",
    "dataset.show(1)"
   ]
  },
  {
   "cell_type": "code",
   "execution_count": 24,
   "id": "74e212af-e3f1-4bdf-bdc5-613725259248",
   "metadata": {},
   "outputs": [
    {
     "name": "stdout",
     "output_type": "stream",
     "text": [
      "22832\n",
      "9729\n"
     ]
    }
   ],
   "source": [
    "### Randomly split data into training and test sets. set seed for reproducibility\n",
    "(trainingData, testData) = dataset.randomSplit([0.7, 0.3], seed=100)\n",
    "print(trainingData.count())\n",
    "print(testData.count())"
   ]
  },
  {
   "cell_type": "markdown",
   "id": "fa4de6ad-2e2f-40d6-93f3-f22b3c95ab2b",
   "metadata": {},
   "source": [
    "## Fit and Evaluate Models"
   ]
  },
  {
   "cell_type": "code",
   "execution_count": 26,
   "id": "36fc4f32-4f3a-4426-81aa-f749e4ac8f46",
   "metadata": {},
   "outputs": [
    {
     "name": "stdout",
     "output_type": "stream",
     "text": [
      "+-----+----------+--------------------+----+---------------+\n",
      "|label|prediction|         probability| age|     occupation|\n",
      "+-----+----------+--------------------+----+---------------+\n",
      "|  0.0|       1.0|[0.16646708724833...|36.0| Prof-specialty|\n",
      "|  0.0|       0.0|[0.70012031106347...|32.0| Prof-specialty|\n",
      "+-----+----------+--------------------+----+---------------+\n",
      "only showing top 2 rows\n",
      "\n"
     ]
    }
   ],
   "source": [
    "from pyspark.ml.classification import LogisticRegression\n",
    " \n",
    "# Create initial LogisticRegression model\n",
    "lr = LogisticRegression(labelCol=\"label\", featuresCol=\"features\", maxIter=10)\n",
    " \n",
    "# Train model with Training Data\n",
    "lrModel = lr.fit(trainingData)\n",
    "# Make predictions on test data using the transform() method.\n",
    "# LogisticRegression.transform() will only use the 'features' column.\n",
    "predictions = lrModel.transform(testData)\n",
    "\n",
    "# View model's predictions and probabilities of each prediction class\n",
    "# You can select any columns in the above schema to view as well\n",
    "selected = predictions.select(\"label\", \"prediction\", \"probability\", \"age\", \"occupation\")\n",
    "selected.show(2)"
   ]
  },
  {
   "cell_type": "markdown",
   "id": "41e9c2eb-0074-4d2a-aa68-535e40f696fd",
   "metadata": {},
   "source": [
    "Use `BinaryClassificationEvaluator` to evaluate the model."
   ]
  },
  {
   "cell_type": "code",
   "execution_count": 27,
   "id": "9a7161a8-891a-4dcc-8380-d49e18116180",
   "metadata": {},
   "outputs": [
    {
     "data": {
      "text/plain": [
       "0.9010633018702178"
      ]
     },
     "execution_count": 27,
     "metadata": {},
     "output_type": "execute_result"
    }
   ],
   "source": [
    "from pyspark.ml.evaluation import BinaryClassificationEvaluator\n",
    " \n",
    "# Evaluate model\n",
    "evaluator = BinaryClassificationEvaluator()\n",
    "evaluator.evaluate(predictions)"
   ]
  },
  {
   "cell_type": "code",
   "execution_count": 28,
   "id": "f5b4fd67-0c15-4a3b-b539-e9dfc4f2aff6",
   "metadata": {},
   "outputs": [
    {
     "data": {
      "text/plain": [
       "'areaUnderROC'"
      ]
     },
     "execution_count": 28,
     "metadata": {},
     "output_type": "execute_result"
    }
   ],
   "source": [
    "evaluator.getMetricName()"
   ]
  },
  {
   "cell_type": "markdown",
   "id": "7df73df1-3845-45ef-8bc9-0421de191df7",
   "metadata": {},
   "source": [
    "The evaluator accepts two kinds of metrics - `areaUnderROC` and `areaUnderPR`. Set it to `areaUnderPR` by using `evaluator.setMetricName(\"areaUnderPR\")`.\n",
    "\n",
    "Now, tune the model using `ParamGridBuilder` and `CrossValidator`.\n",
    "\n",
    "You can use `explainParams()` to print a list of all parameters and their definitions."
   ]
  },
  {
   "cell_type": "code",
   "execution_count": 30,
   "id": "59e8e9fb-d5e3-4033-8114-3dc1dfe55358",
   "metadata": {},
   "outputs": [
    {
     "name": "stdout",
     "output_type": "stream",
     "text": [
      "aggregationDepth: suggested depth for treeAggregate (>= 2). (default: 2)\n",
      "elasticNetParam: the ElasticNet mixing parameter, in range [0, 1]. For alpha = 0, the penalty is an L2 penalty. For alpha = 1, it is an L1 penalty. (default: 0.0)\n",
      "family: The name of family which is a description of the label distribution to be used in the model. Supported options: auto, binomial, multinomial (default: auto)\n",
      "featuresCol: features column name. (default: features, current: features)\n",
      "fitIntercept: whether to fit an intercept term. (default: True)\n",
      "labelCol: label column name. (default: label, current: label)\n",
      "lowerBoundsOnCoefficients: The lower bounds on coefficients if fitting under bound constrained optimization. The bound matrix must be compatible with the shape (1, number of features) for binomial regression, or (number of classes, number of features) for multinomial regression. (undefined)\n",
      "lowerBoundsOnIntercepts: The lower bounds on intercepts if fitting under bound constrained optimization. The bounds vector size must beequal with 1 for binomial regression, or the number oflasses for multinomial regression. (undefined)\n",
      "maxBlockSizeInMB: maximum memory in MB for stacking input data into blocks. Data is stacked within partitions. If more than remaining data size in a partition then it is adjusted to the data size. Default 0.0 represents choosing optimal value, depends on specific algorithm. Must be >= 0. (default: 0.0)\n",
      "maxIter: max number of iterations (>= 0). (default: 100, current: 10)\n",
      "predictionCol: prediction column name. (default: prediction)\n",
      "probabilityCol: Column name for predicted class conditional probabilities. Note: Not all models output well-calibrated probability estimates! These probabilities should be treated as confidences, not precise probabilities. (default: probability)\n",
      "rawPredictionCol: raw prediction (a.k.a. confidence) column name. (default: rawPrediction)\n",
      "regParam: regularization parameter (>= 0). (default: 0.0)\n",
      "standardization: whether to standardize the training features before fitting the model. (default: True)\n",
      "threshold: Threshold in binary classification prediction, in range [0, 1]. If threshold and thresholds are both set, they must match.e.g. if threshold is p, then thresholds must be equal to [1-p, p]. (default: 0.5)\n",
      "thresholds: Thresholds in multi-class classification to adjust the probability of predicting each class. Array must have length equal to the number of classes, with values > 0, excepting that at most one value may be 0. The class with largest value p/t is predicted, where p is the original probability of that class and t is the class's threshold. (undefined)\n",
      "tol: the convergence tolerance for iterative algorithms (>= 0). (default: 1e-06)\n",
      "upperBoundsOnCoefficients: The upper bounds on coefficients if fitting under bound constrained optimization. The bound matrix must be compatible with the shape (1, number of features) for binomial regression, or (number of classes, number of features) for multinomial regression. (undefined)\n",
      "upperBoundsOnIntercepts: The upper bounds on intercepts if fitting under bound constrained optimization. The bound vector size must be equal with 1 for binomial regression, or the number of classes for multinomial regression. (undefined)\n",
      "weightCol: weight column name. If this is not set or empty, we treat all instance weights as 1.0. (undefined)\n"
     ]
    }
   ],
   "source": [
    "print(lr.explainParams())"
   ]
  },
  {
   "cell_type": "code",
   "execution_count": 31,
   "id": "dae1f2e0-fc47-409b-a415-079e61cefbfd",
   "metadata": {},
   "outputs": [],
   "source": [
    "from pyspark.ml.tuning import ParamGridBuilder, CrossValidator\n",
    " \n",
    "# Create ParamGrid for Cross Validation\n",
    "paramGrid = (ParamGridBuilder()\n",
    "             .addGrid(lr.regParam, [0.01, 0.5, 2.0])\n",
    "             .addGrid(lr.elasticNetParam, [0.0, 0.5, 1.0])\n",
    "             .addGrid(lr.maxIter, [1, 5, 10])\n",
    "             .build())"
   ]
  },
  {
   "cell_type": "code",
   "execution_count": 32,
   "id": "6502995e-30b7-47a5-a092-1161e9711af7",
   "metadata": {},
   "outputs": [],
   "source": [
    "# Create 5-fold CrossValidator\n",
    "cv = CrossValidator(estimator=lr, estimatorParamMaps=paramGrid, evaluator=evaluator, numFolds=5)\n",
    " \n",
    "# Run cross validations\n",
    "cvModel = cv.fit(trainingData)\n",
    "# this will likely take a fair amount of time because of the amount of models that we're creating and testing"
   ]
  },
  {
   "cell_type": "code",
   "execution_count": 33,
   "id": "85e14113-8919-4b55-90c6-a3f62b6b04dd",
   "metadata": {},
   "outputs": [],
   "source": [
    "# Use the test set to measure the accuracy of the model on new data\n",
    "predictions = cvModel.transform(testData)"
   ]
  },
  {
   "cell_type": "code",
   "execution_count": 34,
   "id": "df51de37-4920-4970-ac3c-d538a050c5f4",
   "metadata": {},
   "outputs": [
    {
     "data": {
      "text/plain": [
       "0.8997203469558716"
      ]
     },
     "execution_count": 34,
     "metadata": {},
     "output_type": "execute_result"
    }
   ],
   "source": [
    "\n",
    "# cvModel uses the best model found from the Cross Validation\n",
    "# Evaluate best model\n",
    "evaluator.evaluate(predictions)"
   ]
  },
  {
   "cell_type": "code",
   "execution_count": 35,
   "id": "40af0608-4da6-4138-b621-0e6b7977e4bd",
   "metadata": {},
   "outputs": [
    {
     "name": "stdout",
     "output_type": "stream",
     "text": [
      "Model Intercept:  -6.336365999298099\n"
     ]
    }
   ],
   "source": [
    "print('Model Intercept: ', cvModel.bestModel.intercept)"
   ]
  },
  {
   "cell_type": "code",
   "execution_count": 36,
   "id": "1e628984-c69c-47ae-9004-84ca755e3812",
   "metadata": {},
   "outputs": [
    {
     "name": "stdout",
     "output_type": "stream",
     "text": [
      "+--------------------+\n",
      "|      Feature Weight|\n",
      "+--------------------+\n",
      "| 0.10492555077522134|\n",
      "| -0.3128222519796268|\n",
      "|-0.06075451360468...|\n",
      "| -0.2721306281794785|\n",
      "|-0.14581243598919214|\n",
      "|  0.3495304348424823|\n",
      "| 0.47753854084743574|\n",
      "| -2.4920423132828398|\n",
      "|-0.18817807301492645|\n",
      "| 0.02457242800190841|\n",
      "|  0.4055326717725701|\n",
      "|  0.6041914661074328|\n",
      "| 0.09249180451745206|\n",
      "| -0.6495393362369409|\n",
      "|-0.06796598188360077|\n",
      "|   -0.50113851942221|\n",
      "| -0.7555258791036417|\n",
      "|  0.8758631574746794|\n",
      "| -0.6424968866720012|\n",
      "| -0.3124342654495672|\n",
      "+--------------------+\n",
      "only showing top 20 rows\n",
      "\n"
     ]
    }
   ],
   "source": [
    "weights = cvModel.bestModel.coefficients\n",
    "weights = [(float(w),) for w in weights]  # convert numpy type to float, and to tuple\n",
    "weightsDF = spark.createDataFrame(weights, [\"Feature Weight\"])\n",
    "weightsDF.show()"
   ]
  },
  {
   "cell_type": "code",
   "execution_count": 37,
   "id": "eb76f8b1-555a-49ba-8078-1db8f02c00ad",
   "metadata": {},
   "outputs": [
    {
     "name": "stdout",
     "output_type": "stream",
     "text": [
      "+-----+----------+--------------------+----+---------------+\n",
      "|label|prediction|         probability| age|     occupation|\n",
      "+-----+----------+--------------------+----+---------------+\n",
      "|  0.0|       1.0|[0.21060910009532...|36.0| Prof-specialty|\n",
      "|  0.0|       0.0|[0.68097448822474...|32.0| Prof-specialty|\n",
      "|  0.0|       0.0|[0.54341491059548...|33.0| Prof-specialty|\n",
      "|  0.0|       0.0|[0.65860417846993...|39.0| Prof-specialty|\n",
      "|  0.0|       0.0|[0.61463593853443...|39.0| Prof-specialty|\n",
      "|  0.0|       0.0|[0.60241279947003...|50.0| Prof-specialty|\n",
      "|  0.0|       0.0|[0.59586897256623...|51.0| Prof-specialty|\n",
      "|  0.0|       0.0|[0.59681289807548...|60.0| Prof-specialty|\n",
      "|  0.0|       0.0|[0.72170646267586...|34.0| Prof-specialty|\n",
      "|  0.0|       0.0|[0.96796930272851...|20.0| Prof-specialty|\n",
      "|  0.0|       1.0|[0.47756430733627...|35.0| Prof-specialty|\n",
      "|  0.0|       0.0|[0.52627860330667...|42.0| Prof-specialty|\n",
      "|  0.0|       0.0|[0.56664870040475...|43.0| Prof-specialty|\n",
      "|  0.0|       0.0|[0.69652413506702...|48.0| Prof-specialty|\n",
      "|  0.0|       0.0|[0.63393882434786...|50.0| Prof-specialty|\n",
      "|  0.0|       0.0|[0.71935421270930...|27.0|   Craft-repair|\n",
      "|  0.0|       0.0|[0.62984231821867...|32.0|   Craft-repair|\n",
      "|  0.0|       0.0|[0.52752225767823...|45.0|   Craft-repair|\n",
      "|  0.0|       0.0|[0.59137675155716...|46.0|   Craft-repair|\n",
      "|  0.0|       1.0|[0.48787380566873...|56.0|   Craft-repair|\n",
      "+-----+----------+--------------------+----+---------------+\n",
      "only showing top 20 rows\n",
      "\n"
     ]
    }
   ],
   "source": [
    "# View best model's predictions and probabilities of each prediction class\n",
    "selected = predictions.select(\"label\", \"prediction\", \"probability\", \"age\", \"occupation\")\n",
    "selected.show()"
   ]
  },
  {
   "cell_type": "markdown",
   "id": "d84c96d8-f60c-4c95-9232-ca4881ced302",
   "metadata": {},
   "source": [
    "## Decision Tree"
   ]
  },
  {
   "cell_type": "code",
   "execution_count": 38,
   "id": "aa18df64-cec4-4f50-995b-e8d7f4859924",
   "metadata": {},
   "outputs": [],
   "source": [
    "from pyspark.ml.classification import DecisionTreeClassifier\n",
    " \n",
    "# Create initial Decision Tree Model\n",
    "dt = DecisionTreeClassifier(labelCol=\"label\", featuresCol=\"features\", maxDepth=3)\n",
    " \n",
    "# Train model with Training Data\n",
    "dtModel = dt.fit(trainingData)\n"
   ]
  },
  {
   "cell_type": "code",
   "execution_count": 39,
   "id": "4cc64ac4-703a-46de-bb2d-30f6b5c37f71",
   "metadata": {},
   "outputs": [
    {
     "name": "stdout",
     "output_type": "stream",
     "text": [
      "numNodes =  11\n",
      "depth =  3\n"
     ]
    }
   ],
   "source": [
    "print(\"numNodes = \", dtModel.numNodes)\n",
    "print(\"depth = \", dtModel.depth)"
   ]
  },
  {
   "cell_type": "code",
   "execution_count": 40,
   "id": "290a986d-be4c-4bbe-a3db-9eb0be50114d",
   "metadata": {},
   "outputs": [
    {
     "data": {
      "text/plain": [
       "DecisionTreeClassificationModel: uid=DecisionTreeClassifier_a0f7d5677e06, depth=3, numNodes=11, numClasses=2, numFeatures=100"
      ]
     },
     "metadata": {},
     "output_type": "display_data"
    }
   ],
   "source": [
    "display(dtModel)"
   ]
  },
  {
   "cell_type": "code",
   "execution_count": 41,
   "id": "18a65e73-941a-4793-b9cd-b3cc85378f4a",
   "metadata": {},
   "outputs": [
    {
     "name": "stdout",
     "output_type": "stream",
     "text": [
      "root\n",
      " |-- label: double (nullable = false)\n",
      " |-- features: vector (nullable = true)\n",
      " |-- age: double (nullable = true)\n",
      " |-- workclass: string (nullable = true)\n",
      " |-- fnlwgt: double (nullable = true)\n",
      " |-- education: string (nullable = true)\n",
      " |-- education_num: double (nullable = true)\n",
      " |-- marital_status: string (nullable = true)\n",
      " |-- occupation: string (nullable = true)\n",
      " |-- relationship: string (nullable = true)\n",
      " |-- race: string (nullable = true)\n",
      " |-- sex: string (nullable = true)\n",
      " |-- capital_gain: double (nullable = true)\n",
      " |-- capital_loss: double (nullable = true)\n",
      " |-- hours_per_week: double (nullable = true)\n",
      " |-- native_country: string (nullable = true)\n",
      " |-- income: string (nullable = true)\n",
      " |-- rawPrediction: vector (nullable = true)\n",
      " |-- probability: vector (nullable = true)\n",
      " |-- prediction: double (nullable = false)\n",
      "\n"
     ]
    }
   ],
   "source": [
    "# Make predictions on test data using the Transformer.transform() method.\n",
    "predictions = dtModel.transform(testData)\n",
    "predictions.printSchema()"
   ]
  },
  {
   "cell_type": "code",
   "execution_count": 44,
   "id": "a4a86516-0aab-4d7f-a057-f1585b954b60",
   "metadata": {},
   "outputs": [
    {
     "name": "stdout",
     "output_type": "stream",
     "text": [
      "+-----+----------+--------------------+----+---------------+\n",
      "|label|prediction|         probability| age|     occupation|\n",
      "+-----+----------+--------------------+----+---------------+\n",
      "|  0.0|       0.0|[0.68822950358599...|36.0| Prof-specialty|\n",
      "|  0.0|       0.0|[0.68822950358599...|32.0| Prof-specialty|\n",
      "+-----+----------+--------------------+----+---------------+\n",
      "only showing top 2 rows\n",
      "\n"
     ]
    }
   ],
   "source": [
    "# View model's predictions and probabilities of each prediction class\n",
    "selected = predictions.select(\"label\", \"prediction\", \"probability\", \"age\", \"occupation\")\n",
    "selected.show(2)"
   ]
  },
  {
   "cell_type": "code",
   "execution_count": 45,
   "id": "480d7919-1fd3-474b-9979-910320be3f69",
   "metadata": {},
   "outputs": [
    {
     "data": {
      "text/plain": [
       "0.761369082285424"
      ]
     },
     "execution_count": 45,
     "metadata": {},
     "output_type": "execute_result"
    }
   ],
   "source": [
    "from pyspark.ml.evaluation import BinaryClassificationEvaluator\n",
    "# Evaluate model\n",
    "evaluator = BinaryClassificationEvaluator()\n",
    "evaluator.evaluate(predictions)"
   ]
  },
  {
   "cell_type": "markdown",
   "id": "924de3b9-7bb0-4108-836f-1ce288e75b41",
   "metadata": {},
   "source": [
    "Entropy and the Gini coefficient are the supported measures of impurity for `Decision Trees`. This is `Gini` by default. Changing this value is simple, `model.setImpurity(\"Entropy\")`."
   ]
  },
  {
   "cell_type": "code",
   "execution_count": 47,
   "id": "fbcf196c-f1a5-4ac4-a838-05ff0c65c79f",
   "metadata": {},
   "outputs": [
    {
     "data": {
      "text/plain": [
       "'gini'"
      ]
     },
     "execution_count": 47,
     "metadata": {},
     "output_type": "execute_result"
    }
   ],
   "source": [
    "dt.getImpurity()"
   ]
  },
  {
   "cell_type": "markdown",
   "id": "41b5176a-047e-4186-a595-5d1157398468",
   "metadata": {},
   "source": [
    "Now tune the model with using ParamGridBuilder and CrossValidator.\n",
    "\n",
    "With three values for maxDepth and three values for maxBin, the grid has 4 x 3 = 12 parameter settings for CrossValidator."
   ]
  },
  {
   "cell_type": "code",
   "execution_count": 48,
   "id": "6556f75b-48b4-4ba9-8ba4-b26e3ea5a496",
   "metadata": {},
   "outputs": [],
   "source": [
    "# Create ParamGrid for Cross Validation\n",
    "from pyspark.ml.tuning import ParamGridBuilder, CrossValidator\n",
    "paramGrid = (ParamGridBuilder()\n",
    "             .addGrid(dt.maxDepth, [1, 2, 6, 10])\n",
    "             .addGrid(dt.maxBins, [20, 40, 80])\n",
    "             .build())"
   ]
  },
  {
   "cell_type": "code",
   "execution_count": 49,
   "id": "e061bcb8-4c21-4fae-98f9-cda1f1730711",
   "metadata": {},
   "outputs": [],
   "source": [
    "# Create 5-fold CrossValidator\n",
    "cv = CrossValidator(estimator=dt, estimatorParamMaps=paramGrid, evaluator=evaluator, numFolds=5)\n",
    " \n",
    "# Run cross validations\n",
    "cvModel = cv.fit(trainingData)\n",
    "# Takes ~5 minutes"
   ]
  },
  {
   "cell_type": "code",
   "execution_count": 50,
   "id": "23d75ebd-c12f-482a-b9d8-9f74e66e8c6b",
   "metadata": {},
   "outputs": [
    {
     "name": "stdout",
     "output_type": "stream",
     "text": [
      "numNodes =  385\n",
      "depth =  10\n"
     ]
    }
   ],
   "source": [
    "print(\"numNodes = \", cvModel.bestModel.numNodes)\n",
    "print(\"depth = \", cvModel.bestModel.depth)"
   ]
  },
  {
   "cell_type": "code",
   "execution_count": 51,
   "id": "b69777df-a5a1-47f0-b85b-39ccf0b4de17",
   "metadata": {},
   "outputs": [],
   "source": [
    "# Use test set to measure the accuracy of the model on new data\n",
    "predictions = cvModel.transform(testData)"
   ]
  },
  {
   "cell_type": "code",
   "execution_count": 52,
   "id": "eede241f-d77b-469c-b9ef-cf486a1e1c72",
   "metadata": {},
   "outputs": [
    {
     "data": {
      "text/plain": [
       "0.7876576458601124"
      ]
     },
     "execution_count": 52,
     "metadata": {},
     "output_type": "execute_result"
    }
   ],
   "source": [
    "# cvModel uses the best model found from the Cross Validation\n",
    "# Evaluate best model\n",
    "evaluator.evaluate(predictions)"
   ]
  },
  {
   "cell_type": "code",
   "execution_count": 53,
   "id": "c3882f6f-e467-4da5-b37f-dd3823dfdfee",
   "metadata": {},
   "outputs": [
    {
     "name": "stdout",
     "output_type": "stream",
     "text": [
      "+-----+----------+--------------------+----+---------------+\n",
      "|label|prediction|         probability| age|     occupation|\n",
      "+-----+----------+--------------------+----+---------------+\n",
      "|  0.0|       0.0|     [0.8125,0.1875]|36.0| Prof-specialty|\n",
      "|  0.0|       0.0|[0.84040747028862...|32.0| Prof-specialty|\n",
      "|  0.0|       0.0|[0.73248407643312...|33.0| Prof-specialty|\n",
      "|  0.0|       0.0|[0.65073746312684...|39.0| Prof-specialty|\n",
      "|  0.0|       0.0|[0.65073746312684...|39.0| Prof-specialty|\n",
      "|  0.0|       0.0|[0.65073746312684...|50.0| Prof-specialty|\n",
      "|  0.0|       0.0|[0.65073746312684...|51.0| Prof-specialty|\n",
      "|  0.0|       0.0|[0.89389067524115...|60.0| Prof-specialty|\n",
      "|  0.0|       0.0|[0.84040747028862...|34.0| Prof-specialty|\n",
      "|  0.0|       0.0|[0.91361256544502...|20.0| Prof-specialty|\n",
      "|  0.0|       0.0|[0.84040747028862...|35.0| Prof-specialty|\n",
      "|  0.0|       0.0|[0.65073746312684...|42.0| Prof-specialty|\n",
      "|  0.0|       0.0|[0.65073746312684...|43.0| Prof-specialty|\n",
      "|  0.0|       0.0|[0.73913043478260...|48.0| Prof-specialty|\n",
      "|  0.0|       0.0|[0.73913043478260...|50.0| Prof-specialty|\n",
      "|  0.0|       0.0|[0.91361256544502...|27.0|   Craft-repair|\n",
      "|  0.0|       0.0|[0.84040747028862...|32.0|   Craft-repair|\n",
      "|  0.0|       0.0|[0.65073746312684...|45.0|   Craft-repair|\n",
      "|  0.0|       0.0|[0.65073746312684...|46.0|   Craft-repair|\n",
      "|  0.0|       0.0|[0.65073746312684...|56.0|   Craft-repair|\n",
      "+-----+----------+--------------------+----+---------------+\n",
      "only showing top 20 rows\n",
      "\n"
     ]
    }
   ],
   "source": [
    "# View Best model's predictions and probabilities of each prediction class\n",
    "selected = predictions.select(\"label\", \"prediction\", \"probability\", \"age\", \"occupation\")\n",
    "selected.show()"
   ]
  },
  {
   "cell_type": "markdown",
   "id": "1b5f2492-baa3-499d-9427-3cd6407adb25",
   "metadata": {},
   "source": [
    "## Random Forest"
   ]
  },
  {
   "cell_type": "code",
   "execution_count": 54,
   "id": "4b50fb33-dc9c-4150-9641-27fbde38ff07",
   "metadata": {},
   "outputs": [],
   "source": [
    "from pyspark.ml.classification import RandomForestClassifier\n",
    " \n",
    "# Create an initial RandomForest model.\n",
    "rf = RandomForestClassifier(labelCol=\"label\", featuresCol=\"features\")\n",
    " \n",
    "# Train model with Training Data\n",
    "rfModel = rf.fit(trainingData)"
   ]
  },
  {
   "cell_type": "code",
   "execution_count": 55,
   "id": "6f52481c-d663-41ec-8a77-65b463abd7d2",
   "metadata": {},
   "outputs": [],
   "source": [
    "# Make predictions on test data using the Transformer.transform() method.\n",
    "predictions = rfModel.transform(testData)"
   ]
  },
  {
   "cell_type": "code",
   "execution_count": 57,
   "id": "122d7752-aa32-41fc-812f-dd1171d7677b",
   "metadata": {},
   "outputs": [
    {
     "name": "stdout",
     "output_type": "stream",
     "text": [
      "+-----+----------+--------------------+----+---------------+\n",
      "|label|prediction|         probability| age|     occupation|\n",
      "+-----+----------+--------------------+----+---------------+\n",
      "|  0.0|       0.0|[0.50179581871895...|36.0| Prof-specialty|\n",
      "|  0.0|       0.0|[0.68486094126803...|32.0| Prof-specialty|\n",
      "|  0.0|       0.0|[0.66929320945799...|33.0| Prof-specialty|\n",
      "|  0.0|       0.0|[0.63430850456527...|39.0| Prof-specialty|\n",
      "|  0.0|       0.0|[0.61035413107809...|39.0| Prof-specialty|\n",
      "+-----+----------+--------------------+----+---------------+\n",
      "only showing top 5 rows\n",
      "\n"
     ]
    }
   ],
   "source": [
    "# View model's predictions and probabilities of each prediction class\n",
    "selected = predictions.select(\"label\", \"prediction\", \"probability\", \"age\", \"occupation\")\n",
    "selected.show(5)"
   ]
  },
  {
   "cell_type": "code",
   "execution_count": 58,
   "id": "a3e98bf0-0e70-4673-8e2c-c20a2e738fb7",
   "metadata": {},
   "outputs": [
    {
     "data": {
      "text/plain": [
       "0.8828832119722976"
      ]
     },
     "execution_count": 58,
     "metadata": {},
     "output_type": "execute_result"
    }
   ],
   "source": [
    "from pyspark.ml.evaluation import BinaryClassificationEvaluator\n",
    " \n",
    "# Evaluate model\n",
    "evaluator = BinaryClassificationEvaluator()\n",
    "evaluator.evaluate(predictions)"
   ]
  },
  {
   "cell_type": "markdown",
   "id": "942d2245-a047-4da1-b83d-94fc9ec087db",
   "metadata": {},
   "source": [
    "Now tune the model with ParamGridBuilder and CrossValidator.\n",
    "\n",
    "With three values for maxDepth, two values for maxBin, and two values for numTrees, the grid has 3 x 2 x 2 = 12 parameter settings for CrossValidator."
   ]
  },
  {
   "cell_type": "code",
   "execution_count": 59,
   "id": "32f18a6a-375e-4515-8fc6-79a20783dde3",
   "metadata": {},
   "outputs": [],
   "source": [
    "# Create ParamGrid for Cross Validation\n",
    "from pyspark.ml.tuning import ParamGridBuilder, CrossValidator\n",
    " \n",
    "paramGrid = (ParamGridBuilder()\n",
    "             .addGrid(rf.maxDepth, [2, 4, 6])\n",
    "             .addGrid(rf.maxBins, [20, 60])\n",
    "             .addGrid(rf.numTrees, [5, 20])\n",
    "             .build())"
   ]
  },
  {
   "cell_type": "code",
   "execution_count": 60,
   "id": "d18be6dd-966f-4711-8c98-dfb5ff992247",
   "metadata": {},
   "outputs": [],
   "source": [
    "# Create 5-fold CrossValidator\n",
    "cv = CrossValidator(estimator=rf, estimatorParamMaps=paramGrid, evaluator=evaluator, numFolds=5)\n",
    " \n",
    "# Run cross validations.  This can take about 6 minutes since it is training over 20 trees!\n",
    "cvModel = cv.fit(trainingData)"
   ]
  },
  {
   "cell_type": "code",
   "execution_count": 61,
   "id": "d5cea39b-d520-41b8-9488-7f2cc64e42d0",
   "metadata": {},
   "outputs": [
    {
     "data": {
      "text/plain": [
       "0.8883498862204388"
      ]
     },
     "execution_count": 61,
     "metadata": {},
     "output_type": "execute_result"
    }
   ],
   "source": [
    "# Use the test set to measure the accuracy of the model on new data\n",
    "predictions = cvModel.transform(testData)\n",
    "# cvModel uses the best model found from the Cross Validation\n",
    "# Evaluate best model\n",
    "evaluator.evaluate(predictions)"
   ]
  },
  {
   "cell_type": "code",
   "execution_count": 63,
   "id": "3d489f34-e9ca-436e-8984-beedd0b47499",
   "metadata": {},
   "outputs": [
    {
     "name": "stdout",
     "output_type": "stream",
     "text": [
      "+-----+----------+--------------------+----+---------------+\n",
      "|label|prediction|         probability| age|     occupation|\n",
      "+-----+----------+--------------------+----+---------------+\n",
      "|  0.0|       0.0|[0.54762221128431...|36.0| Prof-specialty|\n",
      "|  0.0|       0.0|[0.67236950383125...|32.0| Prof-specialty|\n",
      "|  0.0|       0.0|[0.66240142283041...|33.0| Prof-specialty|\n",
      "|  0.0|       0.0|[0.61394440029768...|39.0| Prof-specialty|\n",
      "|  0.0|       0.0|[0.60397631929684...|39.0| Prof-specialty|\n",
      "+-----+----------+--------------------+----+---------------+\n",
      "only showing top 5 rows\n",
      "\n"
     ]
    }
   ],
   "source": [
    "# View model's predictions and probabilities of each prediction class\n",
    "selected = predictions.select(\"label\", \"prediction\", \"probability\", \"age\", \"occupation\")\n",
    "selected.show(5)"
   ]
  },
  {
   "cell_type": "code",
   "execution_count": 62,
   "id": "7c263687-2bab-4046-86d5-95450a8d75dc",
   "metadata": {},
   "outputs": [],
   "source": [
    "bestModel = cvModel.bestModel"
   ]
  },
  {
   "cell_type": "code",
   "execution_count": 64,
   "id": "06863b0b-57d9-48d5-a793-848bb3c9a4b9",
   "metadata": {},
   "outputs": [],
   "source": [
    "# Generate predictions for entire dataset\n",
    "finalPredictions = bestModel.transform(dataset)"
   ]
  },
  {
   "cell_type": "code",
   "execution_count": 65,
   "id": "cf8c892c-f631-440d-8430-99eb83458adc",
   "metadata": {},
   "outputs": [
    {
     "data": {
      "text/plain": [
       "0.8952770867925589"
      ]
     },
     "execution_count": 65,
     "metadata": {},
     "output_type": "execute_result"
    }
   ],
   "source": [
    "# Evaluate best model\n",
    "evaluator.evaluate(finalPredictions)"
   ]
  },
  {
   "cell_type": "code",
   "execution_count": null,
   "id": "3ab0c0d1-6bb6-4510-8f95-0c5d04a9242a",
   "metadata": {},
   "outputs": [],
   "source": []
  },
  {
   "cell_type": "code",
   "execution_count": 66,
   "id": "c0151a6a-4c4e-4f96-9df1-4f103a186711",
   "metadata": {},
   "outputs": [],
   "source": [
    "finalPredictions.createOrReplaceTempView(\"finalPredictions\")"
   ]
  },
  {
   "cell_type": "code",
   "execution_count": 69,
   "id": "1195694d-1ccf-46f9-aca4-d7dc32e82217",
   "metadata": {},
   "outputs": [
    {
     "name": "stdout",
     "output_type": "stream",
     "text": [
      "+------------------+----------+-----+\n",
      "|        occupation|prediction|count|\n",
      "+------------------+----------+-----+\n",
      "|                 ?|       1.0|  139|\n",
      "|                 ?|       0.0| 1704|\n",
      "|      Adm-clerical|       1.0|  202|\n",
      "|      Adm-clerical|       0.0| 3568|\n",
      "|      Armed-Forces|       1.0|    1|\n",
      "|      Armed-Forces|       0.0|    8|\n",
      "|      Craft-repair|       1.0|  249|\n",
      "|      Craft-repair|       0.0| 3850|\n",
      "|   Exec-managerial|       0.0| 2698|\n",
      "|   Exec-managerial|       1.0| 1368|\n",
      "|   Farming-fishing|       1.0|   58|\n",
      "|   Farming-fishing|       0.0|  936|\n",
      "| Handlers-cleaners|       0.0| 1339|\n",
      "| Handlers-cleaners|       1.0|   31|\n",
      "| Machine-op-inspct|       0.0| 1929|\n",
      "| Machine-op-inspct|       1.0|   73|\n",
      "|     Other-service|       0.0| 3258|\n",
      "|     Other-service|       1.0|   37|\n",
      "|   Priv-house-serv|       0.0|  149|\n",
      "|    Prof-specialty|       0.0| 2416|\n",
      "+------------------+----------+-----+\n",
      "only showing top 20 rows\n",
      "\n"
     ]
    }
   ],
   "source": [
    "spark.sql(\"\"\"SELECT occupation, prediction, count(*) AS count\n",
    "FROM finalPredictions\n",
    "GROUP BY occupation, prediction\n",
    "ORDER BY occupation\"\"\").show()"
   ]
  },
  {
   "cell_type": "code",
   "execution_count": null,
   "id": "52ad40b5-a1d3-4761-85c4-23e4006bb3c7",
   "metadata": {},
   "outputs": [],
   "source": []
  }
 ],
 "metadata": {
  "kernelspec": {
   "display_name": "Python 3 (ipykernel)",
   "language": "python",
   "name": "python3"
  },
  "language_info": {
   "codemirror_mode": {
    "name": "ipython",
    "version": 3
   },
   "file_extension": ".py",
   "mimetype": "text/x-python",
   "name": "python",
   "nbconvert_exporter": "python",
   "pygments_lexer": "ipython3",
   "version": "3.10.8"
  }
 },
 "nbformat": 4,
 "nbformat_minor": 5
}
