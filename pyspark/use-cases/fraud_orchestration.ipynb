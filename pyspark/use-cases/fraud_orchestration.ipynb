{
 "cells": [
  {
   "cell_type": "markdown",
   "id": "41641c03-b7b4-4f1a-bba1-669236c59daa",
   "metadata": {},
   "source": [
    "# Fraud framework - Model building"
   ]
  },
  {
   "cell_type": "markdown",
   "id": "6b728d1d-b305-4f2d-a61c-ed5a150332b6",
   "metadata": {},
   "source": [
    "The financial service industry (FSI) is rushing towards transformational change to support new channels and services, delivering transactional features and facilitating payments through new digital channels to remain competitive. Unfortunately, the speed and convenience that these capabilities afford is a benefit to consumers and fraudsters alike.\n",
    "\n",
    "Building a fraud framework often goes beyond just creating a highly accurate machine learning model due ever changing landscape and customer expectation. Oftentimes it involves a complex decision science setup which combines rules engine with a need for a robust and scalable machine learning platform. "
   ]
  },
  {
   "cell_type": "code",
   "execution_count": 1,
   "id": "13d29266-953b-41be-a446-4b0a91463c02",
   "metadata": {},
   "outputs": [],
   "source": [
    "import numpy as np                   # array, vector, matrix calculations\n",
    "import pandas as pd                  # DataFrame handling\n",
    "import xgboost as xgb                # gradient boosting machines (GBMs)\n",
    "import mlflow\n",
    "import os\n",
    "import mlflow.pyfunc\n",
    "import mlflow.spark\n",
    "import mlflow\n",
    "from mlflow.tracking import MlflowClient\n",
    " \n",
    "mlflow.set_tracking_uri(\"http://host.docker.internal:5000\")\n",
    "client = MlflowClient(\"http://host.docker.internal:5000\")"
   ]
  },
  {
   "cell_type": "code",
   "execution_count": 2,
   "id": "32d5b5c6-83fe-408b-8bcb-95ee043621c6",
   "metadata": {},
   "outputs": [],
   "source": [
    "from pyspark import SparkFiles\n",
    "from pyspark.sql.session import SparkSession\n",
    "spark = SparkSession.builder.appName('Fraud Detection').getOrCreate()\n",
    "raw_data_path = 'Fraud_final-1.parquet'"
   ]
  },
  {
   "cell_type": "code",
   "execution_count": 3,
   "id": "5837983f-e2ac-49ca-95c2-fc7a1474e20a",
   "metadata": {},
   "outputs": [],
   "source": [
    "url = \"https://raw.githubusercontent.com/databricks-industry-solutions/fraud-orchestration/main/Fraud_final-1.csv\"\n",
    "spark.sparkContext.addFile(url)\n",
    "spark.read.option(\"inferSchema\", \"true\") \\\n",
    "          .option(\"header\", \"true\") \\\n",
    "          .option(\"delim\", \",\") \\\n",
    "          .csv(\"file://\" + SparkFiles.get(\"Fraud_final-1.csv\")) \\\n",
    "          .write \\\n",
    "          .format(\"parquet\") \\\n",
    "          .mode(\"overwrite\") \\\n",
    "          .save(raw_data_path)"
   ]
  },
  {
   "cell_type": "code",
   "execution_count": 4,
   "id": "e334886f-26b7-45b4-aa2f-318363380078",
   "metadata": {},
   "outputs": [],
   "source": [
    "def preprocess_data(source_df,\n",
    "                    numeric_columns,\n",
    "                    fitted_scaler):\n",
    "    '''\n",
    "    Subset df with selected columns\n",
    "    Use the fitted scaler to center and scale the numeric columns  \n",
    "    '''\n",
    "    res_df = source_df[numeric_columns].copy()\n",
    "\n",
    "    ## scale the numeric columns with the pre-built scaler\n",
    "    res_df[numeric_columns] = fitted_scaler.transform(res_df[numeric_columns])\n",
    "\n",
    "    return res_df"
   ]
  },
  {
   "cell_type": "code",
   "execution_count": 5,
   "id": "84c239dc-65d9-49af-b16e-5e1410199681",
   "metadata": {},
   "outputs": [],
   "source": [
    "class XGBWrapper(mlflow.pyfunc.PythonModel):\n",
    "    '''\n",
    "    XGBClassifier model with embedded pre-processing.\n",
    "\n",
    "    This class is an MLflow custom python function wrapper around a XGB model.\n",
    "    The wrapper provides data preprocessing so that the model can be applied to input dataframe directly.\n",
    "    :Input: to the model is pandas dataframe\n",
    "    :Output: predicted price for each listing\n",
    "    The model declares current local versions of XGBoost and pillow as dependencies in its\n",
    "    conda environment file.  \n",
    "    '''\n",
    "    def __init__(self,\n",
    "               model,\n",
    "               X,\n",
    "               y,\n",
    "               numeric_columns):\n",
    "\n",
    "        self.model = model\n",
    "\n",
    "        from sklearn.model_selection import train_test_split\n",
    "        self.X_train, self.X_test, self.y_train, self.y_test = train_test_split(X, y, test_size=0.30, random_state=2019)\n",
    "        self.numeric_columns = numeric_columns\n",
    "\n",
    "        from sklearn.preprocessing import StandardScaler \n",
    "        #create a scaler for our numeric variables\n",
    "        # only run this on the training dataset and use to scale test set later.\n",
    "        scaler = StandardScaler()\n",
    "        self.fitted_scaler = scaler.fit(self.X_train[self.numeric_columns])\n",
    "        self.X_train_processed = preprocess_data(self.X_train, self.numeric_columns, self.fitted_scaler)\n",
    "        self.X_test_processed  = preprocess_data(self.X_test, self.numeric_columns, self.fitted_scaler)\n",
    "\n",
    "        def _accuracy_metrics(model, X, y):\n",
    "            import sklearn\n",
    "            from sklearn import metrics\n",
    "            y_pred = model.predict_proba(X)[:,1]\n",
    "            fpr, tpr, thresholds = sklearn.metrics.roc_curve(y, y_pred)\n",
    "            self.auc = sklearn.metrics.auc(fpr, tpr)\n",
    "            print(\"Model AUC is:\", self.auc)\n",
    "\n",
    "            return self.auc\n",
    "\n",
    "        self.auc = _accuracy_metrics(model=self.model, X=self.X_test_processed, y=self.y_test )\n",
    "\n",
    "\n",
    "    def predict(self, context, input):\n",
    "        '''\n",
    "          Generate predictions from the input df \n",
    "          Subset input df with selected columns\n",
    "          Assess the model accuracy\n",
    "          Use the fitted scaler to center and scale the numeric columns  \n",
    "          :param input: pandas.DataFrame with numeric_columns to be scored. The\n",
    "                       columns must has same schema as numeric_columns of X_train\n",
    "         :return: numpy 1-d array as fraud probabilities \n",
    "        '''\n",
    "        input_processed = self._preprocess_data(X=input, numeric_columns=self.numeric_columns, fitted_scaler=self.fitted_scaler )\n",
    "        return pd.DataFrame(self.model.predict_proba(input_processed)[:,1], columns=['predicted'])\n",
    "\n",
    "\n",
    "    def _preprocess_data(self,\n",
    "                      X,\n",
    "                      numeric_columns,\n",
    "                      fitted_scaler):\n",
    "        res_df = preprocess_data(X, numeric_columns, fitted_scaler)\n",
    "        self._df = res_df\n",
    "\n",
    "        return res_df"
   ]
  },
  {
   "cell_type": "code",
   "execution_count": 6,
   "id": "1e03770e-35ca-4b16-b7fb-13a570c0a438",
   "metadata": {},
   "outputs": [],
   "source": [
    "def fit(X, y):\n",
    "    \"\"\"\n",
    "    :return: dict with fields 'loss' (scalar loss) and 'model' fitted model instance\n",
    "    \"\"\"\n",
    "    import xgboost\n",
    "    from xgboost import XGBClassifier\n",
    "    from sklearn.model_selection import cross_val_score\n",
    "\n",
    "    _model =  XGBClassifier(learning_rate=0.3,\n",
    "                          gamma=5,\n",
    "                          max_depth=8,\n",
    "                          n_estimators=15,\n",
    "                          min_child_weight = 9, objective='binary:logistic')\n",
    "\n",
    "    xgb_model = _model.fit(X, y)\n",
    "\n",
    "    score = -cross_val_score(_model, X, y, scoring='roc_auc').mean()\n",
    "\n",
    "    return {'loss': score, 'model': xgb_model}"
   ]
  },
  {
   "cell_type": "code",
   "execution_count": 7,
   "id": "ed1e4cea-7b08-4b18-a4a6-561dfc32bea4",
   "metadata": {},
   "outputs": [],
   "source": [
    "from pyspark.sql.functions import * \n",
    "\n",
    "import cloudpickle\n",
    "import pandas as pd\n",
    "import numpy as np"
   ]
  },
  {
   "cell_type": "markdown",
   "id": "f07146d4-a1bb-424d-8d63-b8b6031f19d2",
   "metadata": {},
   "source": [
    "Our input dataset has several fields which will be used for rule based modeling and machine learning. In this notebook we will rely on our machine learning model to identify important features that are effective at predicting fraud. Let's take a look into descriptions of these features to understand our downstream modeling and intrepretability results.\n",
    "\n",
    "\n",
    "- LAST_ADR_CHNG_DUR     - Duration in days since the last address change on the account.\n",
    "- AVG_DLY_AUTHZN_AMT    - The average daily authorization amount on the plastic since the day of first use.\n",
    "- DISTANCE_FROM_HOME\t  - Approximate distance of customer's home from merchant.\n",
    "- HOME_PHN_NUM_CHNG_DUR - Duration in days since the home phone number was changed on the account."
   ]
  },
  {
   "cell_type": "code",
   "execution_count": 8,
   "id": "9a3a61fb-2146-4d3c-9d72-3dc67d98e699",
   "metadata": {},
   "outputs": [
    {
     "data": {
      "text/html": [
       "<div>\n",
       "<style scoped>\n",
       "    .dataframe tbody tr th:only-of-type {\n",
       "        vertical-align: middle;\n",
       "    }\n",
       "\n",
       "    .dataframe tbody tr th {\n",
       "        vertical-align: top;\n",
       "    }\n",
       "\n",
       "    .dataframe thead th {\n",
       "        text-align: right;\n",
       "    }\n",
       "</style>\n",
       "<table border=\"1\" class=\"dataframe\">\n",
       "  <thead>\n",
       "    <tr style=\"text-align: right;\">\n",
       "      <th></th>\n",
       "      <th>ACCT_PROD_CD</th>\n",
       "      <th>ACCT_AVL_CASH_BEFORE_AMT</th>\n",
       "      <th>ACCT_AVL_MONEY_BEFORE_AMT</th>\n",
       "      <th>ACCT_CL_AMT</th>\n",
       "      <th>ACCT_CURR_BAL</th>\n",
       "      <th>APPRD_AUTHZN_CNT</th>\n",
       "      <th>APPRD_CASH_AUTHZN_CNT</th>\n",
       "      <th>AUTHZN_AMT</th>\n",
       "      <th>AUTHZN_OUTSTD_AMT</th>\n",
       "      <th>AVG_DLY_AUTHZN_AMT</th>\n",
       "      <th>AUTHZN_OUTSTD_CASH_AMT</th>\n",
       "      <th>CDHLDR_PRES_CD</th>\n",
       "      <th>HOTEL_STAY_CAR_RENTL_DUR</th>\n",
       "      <th>LAST_ADR_CHNG_DUR</th>\n",
       "      <th>HOME_PHN_NUM_CHNG_DUR</th>\n",
       "      <th>PLSTC_ISU_DUR</th>\n",
       "      <th>POS_COND_CD</th>\n",
       "      <th>POS_ENTRY_MTHD_CD</th>\n",
       "      <th>DISTANCE_FROM_HOME</th>\n",
       "      <th>FRD_IND</th>\n",
       "    </tr>\n",
       "  </thead>\n",
       "  <tbody>\n",
       "    <tr>\n",
       "      <th>0</th>\n",
       "      <td>10.0</td>\n",
       "      <td>11500.0</td>\n",
       "      <td>20153.38</td>\n",
       "      <td>23000</td>\n",
       "      <td>2647.55</td>\n",
       "      <td>2</td>\n",
       "      <td>0</td>\n",
       "      <td>10.33</td>\n",
       "      <td>209.40</td>\n",
       "      <td>51</td>\n",
       "      <td>0.0</td>\n",
       "      <td>0.0</td>\n",
       "      <td>0</td>\n",
       "      <td>779</td>\n",
       "      <td>0</td>\n",
       "      <td>18</td>\n",
       "      <td>0</td>\n",
       "      <td>90</td>\n",
       "      <td>10.486238</td>\n",
       "      <td>0</td>\n",
       "    </tr>\n",
       "    <tr>\n",
       "      <th>1</th>\n",
       "      <td>12.0</td>\n",
       "      <td>2500.0</td>\n",
       "      <td>2639.33</td>\n",
       "      <td>5000</td>\n",
       "      <td>2200.72</td>\n",
       "      <td>3</td>\n",
       "      <td>0</td>\n",
       "      <td>12.44</td>\n",
       "      <td>172.39</td>\n",
       "      <td>22</td>\n",
       "      <td>0.0</td>\n",
       "      <td>0.0</td>\n",
       "      <td>0</td>\n",
       "      <td>999</td>\n",
       "      <td>577</td>\n",
       "      <td>781</td>\n",
       "      <td>0</td>\n",
       "      <td>90</td>\n",
       "      <td>0.000000</td>\n",
       "      <td>0</td>\n",
       "    </tr>\n",
       "    <tr>\n",
       "      <th>2</th>\n",
       "      <td>12.0</td>\n",
       "      <td>2500.0</td>\n",
       "      <td>4697.33</td>\n",
       "      <td>5000</td>\n",
       "      <td>302.67</td>\n",
       "      <td>1</td>\n",
       "      <td>0</td>\n",
       "      <td>5.27</td>\n",
       "      <td>5.27</td>\n",
       "      <td>4</td>\n",
       "      <td>0.0</td>\n",
       "      <td>0.0</td>\n",
       "      <td>0</td>\n",
       "      <td>999</td>\n",
       "      <td>0</td>\n",
       "      <td>999</td>\n",
       "      <td>0</td>\n",
       "      <td>90</td>\n",
       "      <td>0.690797</td>\n",
       "      <td>0</td>\n",
       "    </tr>\n",
       "    <tr>\n",
       "      <th>3</th>\n",
       "      <td>12.0</td>\n",
       "      <td>15000.0</td>\n",
       "      <td>29898.62</td>\n",
       "      <td>30000</td>\n",
       "      <td>101.38</td>\n",
       "      <td>0</td>\n",
       "      <td>0</td>\n",
       "      <td>13.00</td>\n",
       "      <td>0.00</td>\n",
       "      <td>0</td>\n",
       "      <td>0.0</td>\n",
       "      <td>3.0</td>\n",
       "      <td>0</td>\n",
       "      <td>294</td>\n",
       "      <td>0</td>\n",
       "      <td>181</td>\n",
       "      <td>8</td>\n",
       "      <td>1</td>\n",
       "      <td>0.000000</td>\n",
       "      <td>0</td>\n",
       "    </tr>\n",
       "    <tr>\n",
       "      <th>4</th>\n",
       "      <td>21.0</td>\n",
       "      <td>300.0</td>\n",
       "      <td>300.00</td>\n",
       "      <td>300</td>\n",
       "      <td>0.00</td>\n",
       "      <td>0</td>\n",
       "      <td>0</td>\n",
       "      <td>18.27</td>\n",
       "      <td>0.00</td>\n",
       "      <td>0</td>\n",
       "      <td>0.0</td>\n",
       "      <td>2.0</td>\n",
       "      <td>0</td>\n",
       "      <td>0</td>\n",
       "      <td>0</td>\n",
       "      <td>110</td>\n",
       "      <td>8</td>\n",
       "      <td>1</td>\n",
       "      <td>1.541868</td>\n",
       "      <td>0</td>\n",
       "    </tr>\n",
       "  </tbody>\n",
       "</table>\n",
       "</div>"
      ],
      "text/plain": [
       "   ACCT_PROD_CD  ACCT_AVL_CASH_BEFORE_AMT  ACCT_AVL_MONEY_BEFORE_AMT  \\\n",
       "0          10.0                   11500.0                   20153.38   \n",
       "1          12.0                    2500.0                    2639.33   \n",
       "2          12.0                    2500.0                    4697.33   \n",
       "3          12.0                   15000.0                   29898.62   \n",
       "4          21.0                     300.0                     300.00   \n",
       "\n",
       "   ACCT_CL_AMT  ACCT_CURR_BAL  APPRD_AUTHZN_CNT  APPRD_CASH_AUTHZN_CNT  \\\n",
       "0        23000        2647.55                 2                      0   \n",
       "1         5000        2200.72                 3                      0   \n",
       "2         5000         302.67                 1                      0   \n",
       "3        30000         101.38                 0                      0   \n",
       "4          300           0.00                 0                      0   \n",
       "\n",
       "   AUTHZN_AMT  AUTHZN_OUTSTD_AMT  AVG_DLY_AUTHZN_AMT  AUTHZN_OUTSTD_CASH_AMT  \\\n",
       "0       10.33             209.40                  51                     0.0   \n",
       "1       12.44             172.39                  22                     0.0   \n",
       "2        5.27               5.27                   4                     0.0   \n",
       "3       13.00               0.00                   0                     0.0   \n",
       "4       18.27               0.00                   0                     0.0   \n",
       "\n",
       "   CDHLDR_PRES_CD  HOTEL_STAY_CAR_RENTL_DUR  LAST_ADR_CHNG_DUR  \\\n",
       "0             0.0                         0                779   \n",
       "1             0.0                         0                999   \n",
       "2             0.0                         0                999   \n",
       "3             3.0                         0                294   \n",
       "4             2.0                         0                  0   \n",
       "\n",
       "   HOME_PHN_NUM_CHNG_DUR  PLSTC_ISU_DUR  POS_COND_CD  POS_ENTRY_MTHD_CD  \\\n",
       "0                      0             18            0                 90   \n",
       "1                    577            781            0                 90   \n",
       "2                      0            999            0                 90   \n",
       "3                      0            181            8                  1   \n",
       "4                      0            110            8                  1   \n",
       "\n",
       "   DISTANCE_FROM_HOME  FRD_IND  \n",
       "0           10.486238        0  \n",
       "1            0.000000        0  \n",
       "2            0.690797        0  \n",
       "3            0.000000        0  \n",
       "4            1.541868        0  "
      ]
     },
     "execution_count": 8,
     "metadata": {},
     "output_type": "execute_result"
    }
   ],
   "source": [
    "df = spark.read.format(\"parquet\") \\\n",
    "  .load(raw_data_path)\n",
    "\n",
    "data = df.toPandas()\n",
    "data = data.drop(columns=['AUTH_ID', 'ACCT_ID_TOKEN'])\n",
    "numeric_columns = data.columns.to_list()\n",
    "numeric_columns.remove('FRD_IND')\n",
    "data.head()"
   ]
  },
  {
   "cell_type": "code",
   "execution_count": 9,
   "id": "b2897abd-d07a-44d7-acd3-4ad0ccaa71f8",
   "metadata": {},
   "outputs": [
    {
     "name": "stderr",
     "output_type": "stream",
     "text": [
      "/opt/conda/lib/python3.10/site-packages/_distutils_hack/__init__.py:33: UserWarning: Setuptools is replacing distutils.\n",
      "  warnings.warn(\"Setuptools is replacing distutils.\")\n"
     ]
    }
   ],
   "source": [
    "conda_env = mlflow.pyfunc.get_default_conda_env()\n",
    "conda_env['dependencies'][2]['pip'] += ['xgboost']\n",
    "conda_env['dependencies'][2]['pip'] += ['sklearn']"
   ]
  },
  {
   "cell_type": "code",
   "execution_count": 10,
   "id": "85d891ed-f854-41cc-92e5-cd13a07178d9",
   "metadata": {},
   "outputs": [],
   "source": [
    "experiment_name = f\"/dff_orchestrator\"\n",
    "mlflow.set_experiment(experiment_name) \n",
    "model_run_name = 'fraud-xgb-wrapper'"
   ]
  },
  {
   "cell_type": "code",
   "execution_count": 11,
   "id": "30d3b160-c797-4a1e-a38a-f4570e8b9227",
   "metadata": {},
   "outputs": [
    {
     "name": "stdout",
     "output_type": "stream",
     "text": [
      "Model AUC is: 0.9698514579130754\n",
      "The latest run id:  22dbc55b21a04e96a32d1db94d2f1672\n"
     ]
    }
   ],
   "source": [
    "with mlflow.start_run() as run:\n",
    "    mlflow.log_param('Input-data-location', raw_data_path)\n",
    "    from sklearn.model_selection import train_test_split\n",
    "    X_train, X_test, y_train, y_test = train_test_split(data.drop([\"FRD_IND\"], axis=1), data[\"FRD_IND\"], test_size=0.33, random_state=42)\n",
    "\n",
    "    from sklearn.preprocessing import StandardScaler \n",
    "    # create a scaler for our numeric variables\n",
    "    # only run this on the training dataset and use to scale test set later.\n",
    "    scaler = StandardScaler()\n",
    "    fitted_scaler = scaler.fit(X_train[numeric_columns])\n",
    "    X_train_processed = preprocess_data(source_df=X_train, numeric_columns=numeric_columns, fitted_scaler=fitted_scaler )\n",
    "\n",
    "    #train a model and get the loss\n",
    "    train_dict = {}\n",
    "    train_dict = fit(X=X_train_processed, y=y_train)\n",
    "    xgb_model = train_dict['model']\n",
    "    mlflow.log_metric('loss', train_dict['loss'])\n",
    "\n",
    "    ##------- log pyfunc custom model -------##\n",
    "    # make an instance of the Pyfunc Class\n",
    "    myXGB = XGBWrapper(model = xgb_model,\n",
    "                     X = data[numeric_columns].copy(), \n",
    "                     y = data['FRD_IND'], \n",
    "                     numeric_columns = numeric_columns)\n",
    "\n",
    "    mlflow.pyfunc.log_model(model_run_name, python_model=myXGB, conda_env=conda_env)\n",
    "\n",
    "    mlflow.log_metric('auroc', myXGB.auc)\n",
    "  \n",
    "# programmatically get the latest Run ID\n",
    "runs = mlflow.search_runs(mlflow.get_experiment_by_name(experiment_name).experiment_id)\n",
    "latest_run_id = runs.sort_values('end_time').iloc[-1][\"run_id\"]\n",
    "print('The latest run id: ', latest_run_id)"
   ]
  },
  {
   "cell_type": "code",
   "execution_count": 12,
   "id": "a28d51cb-45b1-44be-9a1d-c5dd93d51000",
   "metadata": {},
   "outputs": [
    {
     "data": {
      "text/html": [
       "<div>\n",
       "<style scoped>\n",
       "    .dataframe tbody tr th:only-of-type {\n",
       "        vertical-align: middle;\n",
       "    }\n",
       "\n",
       "    .dataframe tbody tr th {\n",
       "        vertical-align: top;\n",
       "    }\n",
       "\n",
       "    .dataframe thead th {\n",
       "        text-align: right;\n",
       "    }\n",
       "</style>\n",
       "<table border=\"1\" class=\"dataframe\">\n",
       "  <thead>\n",
       "    <tr style=\"text-align: right;\">\n",
       "      <th></th>\n",
       "      <th>predicted</th>\n",
       "    </tr>\n",
       "  </thead>\n",
       "  <tbody>\n",
       "    <tr>\n",
       "      <th>1899</th>\n",
       "      <td>0.753315</td>\n",
       "    </tr>\n",
       "    <tr>\n",
       "      <th>1900</th>\n",
       "      <td>0.641191</td>\n",
       "    </tr>\n",
       "    <tr>\n",
       "      <th>1901</th>\n",
       "      <td>0.598438</td>\n",
       "    </tr>\n",
       "    <tr>\n",
       "      <th>1902</th>\n",
       "      <td>0.753315</td>\n",
       "    </tr>\n",
       "    <tr>\n",
       "      <th>1903</th>\n",
       "      <td>0.494439</td>\n",
       "    </tr>\n",
       "  </tbody>\n",
       "</table>\n",
       "</div>"
      ],
      "text/plain": [
       "      predicted\n",
       "1899   0.753315\n",
       "1900   0.641191\n",
       "1901   0.598438\n",
       "1902   0.753315\n",
       "1903   0.494439"
      ]
     },
     "execution_count": 12,
     "metadata": {},
     "output_type": "execute_result"
    }
   ],
   "source": [
    "X = data[numeric_columns].copy()\n",
    "y = data['FRD_IND']\n",
    "train_dict = fit(X=X, y=y)\n",
    "xgb_model = train_dict['model']\n",
    "\n",
    "predictions = myXGB.predict(spark, X)\n",
    "predictions.tail()"
   ]
  },
  {
   "cell_type": "code",
   "execution_count": 13,
   "id": "a8f7b1d3-3df1-4580-a924-4fe7fbce4b9d",
   "metadata": {},
   "outputs": [
    {
     "name": "stderr",
     "output_type": "stream",
     "text": [
      "Registered model 'fraud_xgb_model' already exists. Creating a new version of this model...\n",
      "2022/12/14 05:57:11 INFO mlflow.tracking._model_registry.client: Waiting up to 300 seconds for model version to finish creation.                     Model name: fraud_xgb_model, version 2\n",
      "Created version '2' of model 'fraud_xgb_model'.\n"
     ]
    }
   ],
   "source": [
    "model_uri = \"runs:/{}/{}\".format(latest_run_id, model_run_name)\n",
    "model_name = \"fraud_xgb_model\"\n",
    "result = mlflow.register_model(model_uri, model_name)\n",
    "version = result.version"
   ]
  },
  {
   "cell_type": "code",
   "execution_count": 14,
   "id": "3c4bd60f-9a9f-497a-991f-976567f167b0",
   "metadata": {},
   "outputs": [
    {
     "data": {
      "text/plain": [
       "<ModelVersion: creation_timestamp=1670997431510, current_stage='Production', description='', last_updated_timestamp=1670997431678, name='fraud_xgb_model', run_id='22dbc55b21a04e96a32d1db94d2f1672', run_link='', source='mlflow-artifacts:/1/22dbc55b21a04e96a32d1db94d2f1672/artifacts/fraud-xgb-wrapper', status='READY', status_message='', tags={}, user_id='', version='2'>"
      ]
     },
     "execution_count": 14,
     "metadata": {},
     "output_type": "execute_result"
    }
   ],
   "source": [
    "client.transition_model_version_stage(\n",
    "  name=model_name,\n",
    "  version=version,\n",
    "  stage=\"Production\",\n",
    ")"
   ]
  },
  {
   "cell_type": "code",
   "execution_count": 15,
   "id": "1d89b614-8ad1-431c-95e7-a6fbaed0209c",
   "metadata": {},
   "outputs": [
    {
     "name": "stderr",
     "output_type": "stream",
     "text": [
      "ntree_limit is deprecated, use `iteration_range` or model slicing instead.\n"
     ]
    },
    {
     "name": "stdout",
     "output_type": "stream",
     "text": [
      "+-------------------+--------------------+\n",
      "|        Mean |SHAP||              Column|\n",
      "+-------------------+--------------------+\n",
      "| 0.4465157985687256|   AUTHZN_OUTSTD_AMT|\n",
      "|0.43674156069755554|  AVG_DLY_AUTHZN_AMT|\n",
      "|0.43153446912765503|          AUTHZN_AMT|\n",
      "|0.38638320565223694|   LAST_ADR_CHNG_DUR|\n",
      "|0.32470762729644775|       PLSTC_ISU_DUR|\n",
      "| 0.3182542622089386|        ACCT_PROD_CD|\n",
      "| 0.2876538336277008|HOME_PHN_NUM_CHNG...|\n",
      "|0.25261637568473816|       ACCT_CURR_BAL|\n",
      "+-------------------+--------------------+\n",
      "\n"
     ]
    }
   ],
   "source": [
    "import shap\n",
    "from pyspark.sql import *\n",
    "explainer = shap.TreeExplainer(xgb_model)\n",
    "shap_values = explainer.shap_values(X, y=y.values)\n",
    "mean_abs_shap = np.absolute(shap_values).mean(axis=0).tolist()\n",
    "spark.createDataFrame(sorted(list(zip(mean_abs_shap, X.columns)), reverse=True)[:8], [\"Mean |SHAP|\", \"Column\"]).show()"
   ]
  },
  {
   "cell_type": "code",
   "execution_count": 16,
   "id": "142de88a-af22-404f-90ac-fc483433cd9b",
   "metadata": {},
   "outputs": [
    {
     "name": "stdout",
     "output_type": "stream",
     "text": [
      "(1904, 19)\n"
     ]
    }
   ],
   "source": [
    "shap_values = explainer.shap_values(X, y=y.values)\n",
    "print(shap_values.shape)"
   ]
  },
  {
   "cell_type": "code",
   "execution_count": 17,
   "id": "2831acab-5129-4d6c-9403-0b64a5901582",
   "metadata": {},
   "outputs": [
    {
     "data": {
      "image/png": "[encoded data removed]",
      "text/plain": [
       "<Figure size 2000x300 with 1 Axes>"
      ]
     },
     "metadata": {},
     "output_type": "display_data"
    }
   ],
   "source": [
    "shap.force_plot(explainer.expected_value, shap_values[0,:], X.iloc[0,:],matplotlib=True)"
   ]
  },
  {
   "cell_type": "code",
   "execution_count": 18,
   "id": "94d9e09d-8c28-4325-a680-cb3bff1862ca",
   "metadata": {},
   "outputs": [
    {
     "name": "stderr",
     "output_type": "stream",
     "text": [
      "iteritems is deprecated and will be removed in a future version. Use .items instead.\n",
      "iteritems is deprecated and will be removed in a future version. Use .items instead.\n"
     ]
    }
   ],
   "source": [
    "import pandas as pd \n",
    "schema = spark.createDataFrame(X).schema\n",
    "df = spark.createDataFrame(pd.DataFrame(shap_values, columns=X.columns)).withColumn(\"id\", monotonically_increasing_id())\n",
    "for col in df.columns:\n",
    "    df = df.withColumnRenamed(col, 'shap_v_' + col)\n",
    "df.createOrReplaceTempView(\"fraud_shap_values\")"
   ]
  },
  {
   "cell_type": "code",
   "execution_count": 19,
   "id": "913dbe70-af28-4c77-be02-b0ee33a496ac",
   "metadata": {},
   "outputs": [
    {
     "name": "stderr",
     "output_type": "stream",
     "text": [
      "iteritems is deprecated and will be removed in a future version. Use .items instead.\n",
      "iteritems is deprecated and will be removed in a future version. Use .items instead.\n"
     ]
    }
   ],
   "source": [
    "spark.createDataFrame(pd.concat([pd.DataFrame(X, columns=X.columns), pd.DataFrame(predictions, columns=['predicted']), pd.DataFrame(y, columns=['FRD_IND'])], axis=1)).withColumn(\"id\", monotonically_increasing_id()).createOrReplaceTempView(\"txns\")\n"
   ]
  },
  {
   "cell_type": "code",
   "execution_count": 20,
   "id": "809341ae-5a88-45cc-a0d2-5894c0da8b35",
   "metadata": {},
   "outputs": [],
   "source": [
    "spark.sql(\"\"\"select t.*, \n",
    "       s.*\n",
    "from txns t join fraud_shap_values s \n",
    "on t.id = s.shap_v_id\"\"\").write.format(\"parquet\").mode('overwrite').save(\"silver_fraud_shap_values.parquet\")"
   ]
  },
  {
   "cell_type": "code",
   "execution_count": 21,
   "id": "1c7c06ed-df0b-45bb-9fac-8113b23278c6",
   "metadata": {},
   "outputs": [
    {
     "name": "stdout",
     "output_type": "stream",
     "text": [
      "+-------------+-------+---+\n",
      "|predicted_Ind|frd_ind| ct|\n",
      "+-------------+-------+---+\n",
      "|            1|      0| 17|\n",
      "|            0|      0|935|\n",
      "|            0|      1|421|\n",
      "|            1|      1|531|\n",
      "+-------------+-------+---+\n",
      "\n"
     ]
    }
   ],
   "source": [
    "df = spark.read.format(\"parquet\") \\\n",
    "  .load(\"silver_fraud_shap_values.parquet\").createOrReplaceTempView(\"silver_fraud_shap_values\")\n",
    "spark.sql(\"\"\"select case when predicted > 0.5 then 1 else 0 end predicted_Ind, frd_ind, count(1) ct\n",
    "from silver_fraud_shap_values\n",
    "group by case when predicted > 0.5 then 1 else 0 end, frd_ind\"\"\").show()"
   ]
  },
  {
   "cell_type": "code",
   "execution_count": 51,
   "id": "26b4e37b-fe76-4fb1-9826-c5f3ba44a27c",
   "metadata": {},
   "outputs": [
    {
     "data": {
      "application/vnd.jupyter.widget-view+json": {
       "model_id": "b32538bf4e074dada456a3541136867d",
       "version_major": 2,
       "version_minor": 0
      },
      "text/plain": [
       "GridspecLayout(children=(IntText(value=21, description='ACCT_PROD_CD', layout=Layout(flex='1 1 auto', grid_are…"
      ]
     },
     "execution_count": 51,
     "metadata": {},
     "output_type": "execute_result"
    }
   ],
   "source": [
    "import ipywidgets as widgets\n",
    "from ipywidgets import Layout, Button\n",
    "style = {'description_width': 'initial'}\n",
    "def int_text(text, value):\n",
    "    \n",
    "    return widgets.IntText(\n",
    "        layout=Layout(flex='1 1 auto', width='50%'),\n",
    "        style=style,\n",
    "        value=value,\n",
    "        description=text\n",
    "    )\n",
    "\n",
    "\n",
    "\n",
    "\n",
    "from ipywidgets import GridspecLayout\n",
    "\n",
    "grid = GridspecLayout((len(numeric_columns)//2) + 3, 2)\n",
    "\n",
    "def load_grid():\n",
    "    fields = data[numeric_columns].to_dict('split')\n",
    "    rnd = np.random.randint(0,len(fields['data']))\n",
    "    fields = list(zip(fields['columns'],fields['data'][rnd]))\n",
    "    for i in range(len(numeric_columns)//2 +1):\n",
    "        for j in range(2):\n",
    "            if i*2+j%4 < len(numeric_columns):\n",
    "                grid[i, j] = int_text(*fields[i*2+j%4])\n",
    "    return fields\n",
    "                \n",
    "fields = load_grid()\n",
    "\n",
    "grid[len(numeric_columns)//2+1, 0] = widgets.Button(\n",
    "    description='Predict',\n",
    "    disabled=False,\n",
    "    button_style='', # 'success', 'info', 'warning', 'danger' or ''\n",
    "    tooltip='Predict'\n",
    ")\n",
    "grid[len(numeric_columns)//2+1, 1] = widgets.Button(\n",
    "    description='Refresh',\n",
    "    disabled=False,\n",
    "    button_style='', # 'success', 'info', 'warning', 'danger' or ''\n",
    "    tooltip='Refresh'\n",
    ")\n",
    "def predict():\n",
    "    datamap = {}\n",
    "    for i in range(len(numeric_columns)//2 +1):\n",
    "        for j in range(2):\n",
    "            if i*2+j%4 < len(numeric_columns):\n",
    "                datamap[fields[i*2+j%4][0]] = [grid[i, j].value]\n",
    "    \n",
    "    df = pd.DataFrame.from_dict(datamap)\n",
    "\n",
    "    logged_model = 'runs:/e402fa9ca7d04e3e835358324aee8ce8/fraud-xgb-wrapper'\n",
    "\n",
    "    # Score dataframe against DFF orchestration engine\n",
    "    model = mlflow.pyfunc.load_model(logged_model)\n",
    "    decision = 0 #model.predict(df).iloc[0]\n",
    "    grid[len(numeric_columns)//2+2 , 1]= widgets.IntText(\n",
    "        layout=Layout(flex='1 1 auto', width='50%'),\n",
    "        style=style,\n",
    "        value=decision,\n",
    "        description='FRD_IND',\n",
    "        disabled=True\n",
    "    )\n",
    "    \n",
    "#\n",
    "def on_button_clicked(b):\n",
    "    predict()\n",
    "\n",
    "def on_button_refresh(b):\n",
    "    load_grid()\n",
    "    \n",
    "grid[len(numeric_columns)//2+1 , 0].on_click(on_button_clicked)\n",
    "grid[len(numeric_columns)//2+1 , 1].on_click(on_button_refresh)\n",
    "grid\n"
   ]
  },
  {
   "cell_type": "code",
   "execution_count": 23,
   "id": "897f4de5-30fc-45c8-b8d2-5a2a831d028f",
   "metadata": {},
   "outputs": [],
   "source": [
    "!rm -rf Fraud_final-1*\n",
    "!rm -rf silver_fraud*"
   ]
  },
  {
   "cell_type": "code",
   "execution_count": null,
   "id": "3f2f07df-9aa2-4854-a1c1-c1b8cad603bc",
   "metadata": {},
   "outputs": [],
   "source": []
  }
 ],
 "metadata": {
  "kernelspec": {
   "display_name": "Python 3 (ipykernel)",
   "language": "python",
   "name": "python3"
  },
  "language_info": {
   "codemirror_mode": {
    "name": "ipython",
    "version": 3
   },
   "file_extension": ".py",
   "mimetype": "text/x-python",
   "name": "python",
   "nbconvert_exporter": "python",
   "pygments_lexer": "ipython3",
   "version": "3.10.8"
  }
 },
 "nbformat": 4,
 "nbformat_minor": 5
}
