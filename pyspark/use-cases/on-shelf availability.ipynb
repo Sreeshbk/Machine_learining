{
 "cells": [
  {
   "cell_type": "markdown",
   "id": "a19e9eaf-b8ea-486c-9853-f292ca02f86c",
   "metadata": {},
   "source": [
    "The purpose of this notebook is to access and prepare the data needed for calculating on-shelf availability (OSA). This notebook was developed by Tredence in partnership with Databricks."
   ]
  }
 ],
 "metadata": {
  "kernelspec": {
   "display_name": "Python 3 (ipykernel)",
   "language": "python",
   "name": "python3"
  },
  "language_info": {
   "codemirror_mode": {
    "name": "ipython",
    "version": 3
   },
   "file_extension": ".py",
   "mimetype": "text/x-python",
   "name": "python",
   "nbconvert_exporter": "python",
   "pygments_lexer": "ipython3",
   "version": "3.10.8"
  }
 },
 "nbformat": 4,
 "nbformat_minor": 5
}
