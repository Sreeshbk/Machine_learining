{
 "cells": [
  {
   "cell_type": "markdown",
   "id": "ad55d0f8-1d44-4290-b7db-d76707161b93",
   "metadata": {},
   "source": [
    "# SFO Survey Machine Learning Example\n",
    "Each year, San Francisco Airport (SFO) conducts a customer satisfaction survey to find out what they are doing well and where they can improve. The survey gauges satisfaction with SFO facilities, services, and amenities. SFO compares results to previous surveys to discover elements of the guest experience that are not satisfactory.\n",
    "\n",
    "The 2013 SFO Survey Results consists of customer responses to survey questions and an overall satisfaction rating with the airport. We investigated whether we could use machine learning to predict a customer's overall response given their responses to the individual questions. That in and of itself is not very useful because the customer has already provided an overall rating as well as individual ratings for various aspects of the airport such as parking, food quality and restroom cleanliness. However, we didn't stop at prediction instead we asked the question:"
   ]
  },
  {
   "cell_type": "code",
   "execution_count": 1,
   "id": "2dd7ca7f-b70c-444e-953c-3c8fc8d268d4",
   "metadata": {},
   "outputs": [],
   "source": [
    "url='https://data.sfgov.org/api/views/3w8r-nuxp/rows.csv?accessType=DOWNLOAD&bom=true&format=true&delimiter=%3B'"
   ]
  },
  {
   "cell_type": "code",
   "execution_count": 2,
   "id": "08cb9b46-1219-4ab1-8296-d01a8c6e2826",
   "metadata": {},
   "outputs": [
    {
     "data": {
      "text/html": [
       "<style>pre { white-space: pre !important; }</style>"
      ],
      "text/plain": [
       "<IPython.core.display.HTML object>"
      ]
     },
     "metadata": {},
     "output_type": "display_data"
    }
   ],
   "source": [
    "from pyspark import SparkFiles\n",
    "from pyspark.sql.types import *\n",
    "import pyspark.sql.functions as f\n",
    " \n",
    "import pandas as pd\n",
    "from pyspark.sql.session import SparkSession\n",
    "spark = SparkSession.builder.appName('SFO Survey').getOrCreate()\n",
    "from IPython.core.display import HTML\n",
    "display(HTML(\"<style>pre { white-space: pre !important; }</style>\"))\n",
    "spark.conf.set(\"spark.sql.repl.eagerEval.enabled\", True)"
   ]
  },
  {
   "cell_type": "code",
   "execution_count": 3,
   "id": "798d107c-8086-4045-86e2-07b03b2e4458",
   "metadata": {},
   "outputs": [],
   "source": [
    "spark.sparkContext.addFile(url)"
   ]
  },
  {
   "cell_type": "code",
   "execution_count": 9,
   "id": "14772c66-00cc-4487-91bb-031472dd0bf7",
   "metadata": {},
   "outputs": [],
   "source": [
    "dataset = spark.read.option(\"header\",\"true\").option(\"inferSchema\",\"true\").csv(\"file://\"+SparkFiles.get(\"rows.csv\"),sep=\";\")\n",
    "cols = dataset.columns"
   ]
  },
  {
   "cell_type": "code",
   "execution_count": 10,
   "id": "91e2813b-3ad5-404b-8c9c-58e2f18e5a66",
   "metadata": {},
   "outputs": [
    {
     "data": {
      "text/html": [
       "<table border='1'>\n",
       "<tr><th>RESPNUM</th><th>CCGID</th><th>RUNID</th><th>INTDATE</th><th>DAY</th><th>GATE</th><th>BAREA</th><th>STRATA</th><th>PEAK</th><th>METH</th><th>SAQ</th><th>AIRLINE</th><th>DESTINATION</th><th>FLIGHT</th><th>AIRLINE_CODE</th><th>DEST_CODE</th><th>DESTGEO</th><th>DESTMARK</th><th>ARRTIME</th><th>DEPTIME</th><th>Q2PURP1</th><th>Q2PURP2</th><th>Q2PURP3</th><th>Q3GETTO1</th><th>Q3GETTO2</th><th>Q3GETTO3</th><th>Q3PARK</th><th>Q4BAGS</th><th>Q4STORE</th><th>Q4FOOD</th><th>Q4WIFI</th><th>Q5TIMESFLOWN</th><th>Q5FIRSTTIME</th><th>Q6LONGUSE</th><th>Q7ART</th><th>Q7FOOD</th><th>Q7STORE</th><th>Q7SIGN</th><th>Q7WALKWAY</th><th>Q7SCREENS</th><th>Q7INFODOWN</th><th>Q7INFOUP</th><th>Q7WIFI</th><th>Q7ROADS</th><th>Q7PARK</th><th>Q7AIRTRAIN</th><th>Q7LTPARKING</th><th>Q7RENTAL</th><th>Q7ALL</th><th>Q8-1</th><th>Q8-2</th><th>Q8-3</th><th>Q8-4</th><th>Q8-5</th><th>Q8-6</th><th>Q9Boarding</th><th>Q9AirTrain</th><th>Q9Rental</th><th>Q9Food</th><th>Q9Restroom</th><th>Q9All</th><th>Q9-1</th><th>Q9-2</th><th>Q9-3</th><th>Q10Safe</th><th>Q10-1</th><th>Q10-2</th><th>Q10-3</th><th>Q11TSAPRE</th><th>Q12PRECHECKRATE</th><th>Q12-1</th><th>Q12-2</th><th>Q12-3</th><th>Q13COUNTY</th><th>Q13GETRATE</th><th>Q14FIND </th><th>Q14PASSTHRU</th><th>Q15PROBLEM</th><th>Q15A</th><th>Q15-1</th><th>Q15-2</th><th>Q15-3</th><th>NETPRO  </th><th>Q17LIVE</th><th>Q18COUNTY</th><th>Q18ZIP</th><th>Q18COUNTRY</th><th>HOME</th><th>Q19Clear</th><th>Q20Age</th><th>Q21Gender</th><th>Q22Income</th><th>Q23FLY</th><th>Q24SJC</th><th>Q24OAK</th><th>LANG</th><th>WEIGHT</th></tr>\n",
       "<tr><td>1,842</td><td>1,680</td><td>552</td><td>21</td><td>2</td><td>102</td><td>G</td><td>3</td><td>3</td><td>1</td><td>2</td><td>TURKISH AIRLINES</td><td>ISTANBUL</td><td>80</td><td>29</td><td>27</td><td>7</td><td>4</td><td>12/31/1899 02:00:...</td><td>12/31/1899 06:15:...</td><td>2</td><td>null</td><td>null</td><td>2</td><td>null</td><td>null</td><td>null</td><td>1</td><td>1</td><td>1</td><td>1</td><td>2</td><td>1</td><td>1</td><td>6</td><td>6</td><td>3</td><td>4</td><td>4</td><td>4</td><td>4</td><td>4</td><td>4</td><td>4</td><td>6</td><td>6</td><td>6</td><td>6</td><td>4</td><td>0</td><td>null</td><td>null</td><td>null</td><td>null</td><td>null</td><td>4</td><td>6</td><td>6</td><td>6</td><td>4</td><td>3</td><td>0</td><td>null</td><td>null</td><td>3</td><td>4</td><td>null</td><td>null</td><td>0</td><td>null</td><td>null</td><td>null</td><td>null</td><td>18</td><td>5</td><td>4</td><td>3</td><td>2</td><td>null</td><td>null</td><td>null</td><td>null</td><td>5</td><td>3</td><td>null</td><td>null</td><td>CYPRUS</td><td>15</td><td>2</td><td>6</td><td>2</td><td>0</td><td>0</td><td>2</td><td>2</td><td>1</td><td>0.6704842</td></tr>\n",
       "<tr><td>1,844</td><td>1,681</td><td>552</td><td>21</td><td>2</td><td>102</td><td>G</td><td>3</td><td>3</td><td>1</td><td>2</td><td>TURKISH AIRLINES</td><td>ISTANBUL</td><td>80</td><td>29</td><td>27</td><td>7</td><td>4</td><td>12/31/1899 01:00:...</td><td>12/31/1899 06:15:...</td><td>2</td><td>3</td><td>null</td><td>9</td><td>null</td><td>null</td><td>null</td><td>1</td><td>2</td><td>2</td><td>2</td><td>1</td><td>2</td><td>1</td><td>6</td><td>3</td><td>4</td><td>4</td><td>4</td><td>5</td><td>6</td><td>6</td><td>2</td><td>4</td><td>6</td><td>4</td><td>6</td><td>2</td><td>4</td><td>0</td><td>null</td><td>null</td><td>null</td><td>null</td><td>null</td><td>5</td><td>4</td><td>3</td><td>6</td><td>4</td><td>4</td><td>0</td><td>null</td><td>null</td><td>4</td><td>0</td><td>null</td><td>null</td><td>1</td><td>2</td><td>14</td><td>null</td><td>null</td><td>5</td><td>4</td><td>4</td><td>3</td><td>2</td><td>null</td><td>null</td><td>null</td><td>null</td><td>7</td><td>3</td><td>null</td><td>null</td><td>TURKEY</td><td>15</td><td>2</td><td>4</td><td>1</td><td>2</td><td>1</td><td>2</td><td>2</td><td>1</td><td>0.6704842</td></tr>\n",
       "<tr><td>1,840</td><td>1,678</td><td>552</td><td>21</td><td>2</td><td>102</td><td>G</td><td>3</td><td>3</td><td>1</td><td>1</td><td>TURKISH AIRLINES</td><td>ISTANBUL</td><td>80</td><td>29</td><td>27</td><td>7</td><td>4</td><td>12/31/1899 03:30:...</td><td>12/31/1899 06:15:...</td><td>5</td><td>null</td><td>null</td><td>7</td><td>null</td><td>null</td><td>null</td><td>3</td><td>3</td><td>3</td><td>1</td><td>1</td><td>2</td><td>3</td><td>3</td><td>6</td><td>4</td><td>4</td><td>6</td><td>4</td><td>3</td><td>3</td><td>5</td><td>6</td><td>6</td><td>6</td><td>6</td><td>6</td><td>4</td><td>0</td><td>null</td><td>null</td><td>null</td><td>null</td><td>null</td><td>4</td><td>6</td><td>6</td><td>6</td><td>2</td><td>3</td><td>0</td><td>null</td><td>null</td><td>4</td><td>0</td><td>null</td><td>null</td><td>1</td><td>3</td><td>0</td><td>null</td><td>null</td><td>0</td><td>4</td><td>5</td><td>3</td><td>2</td><td>null</td><td>null</td><td>null</td><td>null</td><td>7</td><td>3</td><td>null</td><td>null</td><td>TURKEY</td><td>15</td><td>1</td><td>5</td><td>1</td><td>5</td><td>2</td><td>2</td><td>2</td><td>1</td><td>0.6704842</td></tr>\n",
       "<tr><td>1,837</td><td>1,676</td><td>552</td><td>21</td><td>2</td><td>102</td><td>G</td><td>3</td><td>3</td><td>1</td><td>1</td><td>TURKISH AIRLINES</td><td>ISTANBUL</td><td>80</td><td>29</td><td>27</td><td>7</td><td>4</td><td>12/31/1899 02:30:...</td><td>12/31/1899 06:15:...</td><td>3</td><td>null</td><td>null</td><td>5</td><td>null</td><td>null</td><td>null</td><td>1</td><td>1</td><td>1</td><td>1</td><td>2</td><td>1</td><td>0</td><td>0</td><td>4</td><td>4</td><td>4</td><td>5</td><td>4</td><td>0</td><td>0</td><td>5</td><td>0</td><td>0</td><td>0</td><td>0</td><td>0</td><td>4</td><td>0</td><td>null</td><td>null</td><td>null</td><td>null</td><td>null</td><td>5</td><td>0</td><td>0</td><td>3</td><td>4</td><td>4</td><td>0</td><td>null</td><td>null</td><td>4</td><td>0</td><td>null</td><td>null</td><td>0</td><td>null</td><td>null</td><td>null</td><td>null</td><td>0</td><td>0</td><td>0</td><td>0</td><td>0</td><td>null</td><td>null</td><td>null</td><td>null</td><td>8</td><td>3</td><td>null</td><td>null</td><td>MACEDONIA</td><td>15</td><td>2</td><td>2</td><td>2</td><td>3</td><td>3</td><td>2</td><td>1</td><td>1</td><td>0.6704842</td></tr>\n",
       "<tr><td>1,833</td><td>1,674</td><td>552</td><td>21</td><td>2</td><td>102</td><td>G</td><td>3</td><td>3</td><td>1</td><td>2</td><td>TURKISH AIRLINES</td><td>ISTANBUL</td><td>80</td><td>29</td><td>27</td><td>7</td><td>4</td><td>12/31/1899 03:20:...</td><td>12/31/1899 06:15:...</td><td>4</td><td>null</td><td>null</td><td>2</td><td>null</td><td>null</td><td>null</td><td>1</td><td>2</td><td>0</td><td>2</td><td>3</td><td>1</td><td>2</td><td>0</td><td>0</td><td>0</td><td>0</td><td>0</td><td>0</td><td>0</td><td>0</td><td>0</td><td>0</td><td>0</td><td>0</td><td>0</td><td>0</td><td>BLANK</td><td>11</td><td>null</td><td>null</td><td>null</td><td>null</td><td>null</td><td>5</td><td>6</td><td>6</td><td>4</td><td>5</td><td>5</td><td>1</td><td>null</td><td>null</td><td>3</td><td>1</td><td>null</td><td>null</td><td>0</td><td>null</td><td>null</td><td>null</td><td>null</td><td>0</td><td>3</td><td>3</td><td>3</td><td>1</td><td>I FLEW WITH TK A ...</td><td>31</td><td>null</td><td>null</td><td>8</td><td>3</td><td>null</td><td>null</td><td>GERMANY</td><td>15</td><td>2</td><td>2</td><td>2</td><td>2</td><td>2</td><td>2</td><td>2</td><td>1</td><td>0.6704842</td></tr>\n",
       "<tr><td>3,010</td><td>2,216</td><td>613</td><td>23</td><td>4</td><td>58</td><td>D</td><td>3</td><td>2</td><td>1</td><td>2</td><td>AMERICAN</td><td>MIAMI</td><td>556</td><td>8</td><td>37</td><td>2</td><td>4</td><td>12/31/1899 08:00:...</td><td>12/31/1899 09:28:...</td><td>1</td><td>null</td><td>null</td><td>5</td><td>null</td><td>null</td><td>null</td><td>2</td><td>0</td><td>1</td><td>2</td><td>1</td><td>2</td><td>1</td><td>3</td><td>4</td><td>3</td><td>3</td><td>3</td><td>3</td><td>6</td><td>3</td><td>6</td><td>6</td><td>6</td><td>6</td><td>6</td><td>6</td><td>4</td><td>0</td><td>null</td><td>null</td><td>null</td><td>null</td><td>null</td><td>5</td><td>6</td><td>6</td><td>4</td><td>0</td><td>4</td><td>0</td><td>null</td><td>null</td><td>5</td><td>0</td><td>null</td><td>null</td><td>0</td><td>null</td><td>null</td><td>null</td><td>null</td><td>5</td><td>4</td><td>5</td><td>3</td><td>2</td><td>null</td><td>null</td><td>null</td><td>null</td><td>8</td><td>3</td><td>MIAMI-DADE COUNTY</td><td>33146</td><td>US</td><td>12</td><td>1</td><td>4</td><td>2</td><td>4</td><td>3</td><td>2</td><td>2</td><td>1</td><td>1.0611394</td></tr>\n",
       "<tr><td>1,838</td><td>1,677</td><td>552</td><td>21</td><td>2</td><td>102</td><td>G</td><td>3</td><td>3</td><td>1</td><td>2</td><td>TURKISH AIRLINES</td><td>ISTANBUL</td><td>80</td><td>29</td><td>27</td><td>7</td><td>4</td><td>12/31/1899 03:00:...</td><td>12/31/1899 06:15:...</td><td>1</td><td>null</td><td>null</td><td>6</td><td>null</td><td>null</td><td>null</td><td>1</td><td>2</td><td>1</td><td>1</td><td>1</td><td>2</td><td>1</td><td>4</td><td>3</td><td>3</td><td>2</td><td>3</td><td>4</td><td>4</td><td>4</td><td>5</td><td>6</td><td>6</td><td>6</td><td>6</td><td>6</td><td>4</td><td>0</td><td>null</td><td>null</td><td>null</td><td>null</td><td>null</td><td>5</td><td>6</td><td>6</td><td>5</td><td>3</td><td>4</td><td>0</td><td>null</td><td>null</td><td>5</td><td>0</td><td>null</td><td>null</td><td>0</td><td>null</td><td>null</td><td>null</td><td>null</td><td>5</td><td>5</td><td>4</td><td>4</td><td>2</td><td>null</td><td>null</td><td>null</td><td>null</td><td>8</td><td>3</td><td>null</td><td>null</td><td>TURKEY</td><td>15</td><td>2</td><td>3</td><td>1</td><td>2</td><td>2</td><td>2</td><td>2</td><td>1</td><td>0.6704842</td></tr>\n",
       "<tr><td>1,845</td><td>1,682</td><td>552</td><td>21</td><td>2</td><td>102</td><td>G</td><td>3</td><td>3</td><td>1</td><td>2</td><td>TURKISH AIRLINES</td><td>ISTANBUL</td><td>80</td><td>29</td><td>27</td><td>7</td><td>4</td><td>12/31/1899 04:00:...</td><td>12/31/1899 06:15:...</td><td>2</td><td>null</td><td>null</td><td>3</td><td>null</td><td>null</td><td>null</td><td>2</td><td>2</td><td>2</td><td>1</td><td>1</td><td>0</td><td>1</td><td>3</td><td>6</td><td>6</td><td>4</td><td>4</td><td>4</td><td>6</td><td>6</td><td>4</td><td>6</td><td>6</td><td>6</td><td>6</td><td>6</td><td>4</td><td>0</td><td>null</td><td>null</td><td>null</td><td>null</td><td>null</td><td>4</td><td>6</td><td>6</td><td>6</td><td>3</td><td>3</td><td>0</td><td>null</td><td>null</td><td>4</td><td>0</td><td>null</td><td>null</td><td>4</td><td>null</td><td>null</td><td>null</td><td>null</td><td>11</td><td>6</td><td>4</td><td>6</td><td>2</td><td>null</td><td>null</td><td>null</td><td>null</td><td>8</td><td>3</td><td>CLARK COUNTY</td><td>98661</td><td>US</td><td>10</td><td>2</td><td>6</td><td>1</td><td>2</td><td>2</td><td>2</td><td>2</td><td>1</td><td>0.6704842</td></tr>\n",
       "<tr><td>2,097</td><td>1,705</td><td>557</td><td>21</td><td>2</td><td>98</td><td>G</td><td>3</td><td>3</td><td>1</td><td>2</td><td>UNITED INTL</td><td>MEXICO CITY</td><td>412</td><td>31</td><td>36</td><td>4</td><td>4</td><td>12/31/1899 08:45:...</td><td>12/31/1899 11:10:...</td><td>1</td><td>null</td><td>null</td><td>2</td><td>null</td><td>null</td><td>null</td><td>2</td><td>1</td><td>2</td><td>1</td><td>4</td><td>1</td><td>4</td><td>4</td><td>3</td><td>3</td><td>4</td><td>4</td><td>4</td><td>6</td><td>6</td><td>4</td><td>4</td><td>4</td><td>6</td><td>3</td><td>6</td><td>4</td><td>0</td><td>null</td><td>null</td><td>null</td><td>null</td><td>null</td><td>4</td><td>6</td><td>6</td><td>4</td><td>4</td><td>4</td><td>0</td><td>null</td><td>null</td><td>4</td><td>4</td><td>null</td><td>null</td><td>1</td><td>5</td><td>21</td><td>10</td><td>null</td><td>2</td><td>3</td><td>5</td><td>5</td><td>2</td><td>null</td><td>null</td><td>null</td><td>null</td><td>9</td><td>1</td><td>CONTRA COSTA COUNTY</td><td>94505</td><td>US</td><td>2</td><td>2</td><td>6</td><td>2</td><td>4</td><td>2</td><td>1</td><td>1</td><td>1</td><td>1.4869248</td></tr>\n",
       "<tr><td>1,846</td><td>1,683</td><td>552</td><td>21</td><td>2</td><td>102</td><td>G</td><td>3</td><td>3</td><td>1</td><td>2</td><td>TURKISH AIRLINES</td><td>ISTANBUL</td><td>80</td><td>29</td><td>27</td><td>7</td><td>4</td><td>12/31/1899 03:50:...</td><td>12/31/1899 06:15:...</td><td>1</td><td>null</td><td>null</td><td>7</td><td>null</td><td>null</td><td>null</td><td>2</td><td>2</td><td>2</td><td>2</td><td>2</td><td>2</td><td>1</td><td>3</td><td>4</td><td>3</td><td>4</td><td>3</td><td>4</td><td>3</td><td>0</td><td>2</td><td>3</td><td>2</td><td>2</td><td>2</td><td>2</td><td>4</td><td>0</td><td>null</td><td>null</td><td>null</td><td>null</td><td>null</td><td>5</td><td>5</td><td>5</td><td>5</td><td>4</td><td>5</td><td>0</td><td>null</td><td>null</td><td>4</td><td>0</td><td>null</td><td>null</td><td>0</td><td>null</td><td>null</td><td>null</td><td>null</td><td>25</td><td>4</td><td>5</td><td>5</td><td>2</td><td>null</td><td>null</td><td>null</td><td>null</td><td>9</td><td>0</td><td>null</td><td>null</td><td>null</td><td>99</td><td>2</td><td>4</td><td>0</td><td>2</td><td>2</td><td>2</td><td>2</td><td>1</td><td>0.6704842</td></tr>\n",
       "<tr><td>1,831</td><td>1,673</td><td>552</td><td>21</td><td>2</td><td>102</td><td>G</td><td>3</td><td>3</td><td>1</td><td>2</td><td>TURKISH AIRLINES</td><td>ISTANBUL</td><td>80</td><td>29</td><td>27</td><td>7</td><td>4</td><td>12/31/1899 01:30:...</td><td>12/31/1899 06:15:...</td><td>1</td><td>null</td><td>null</td><td>6</td><td>null</td><td>null</td><td>null</td><td>1</td><td>1</td><td>2</td><td>1</td><td>2</td><td>1</td><td>2</td><td>5</td><td>5</td><td>5</td><td>5</td><td>5</td><td>4</td><td>6</td><td>6</td><td>4</td><td>6</td><td>6</td><td>6</td><td>6</td><td>6</td><td>5</td><td>0</td><td>null</td><td>null</td><td>null</td><td>null</td><td>null</td><td>5</td><td>6</td><td>6</td><td>6</td><td>4</td><td>5</td><td>0</td><td>null</td><td>null</td><td>4</td><td>12</td><td>null</td><td>null</td><td>2</td><td>null</td><td>null</td><td>null</td><td>null</td><td>5</td><td>5</td><td>5</td><td>5</td><td>2</td><td>null</td><td>null</td><td>null</td><td>null</td><td>9</td><td>3</td><td>null</td><td>null</td><td>BULGARIA</td><td>15</td><td>2</td><td>3</td><td>1</td><td>0</td><td>2</td><td>0</td><td>1</td><td>1</td><td>0.6704842</td></tr>\n",
       "<tr><td>1,848</td><td>1,684</td><td>552</td><td>21</td><td>2</td><td>102</td><td>G</td><td>3</td><td>3</td><td>1</td><td>1</td><td>TURKISH AIRLINES</td><td>ISTANBUL</td><td>80</td><td>29</td><td>27</td><td>7</td><td>4</td><td>12/31/1899 04:00:...</td><td>12/31/1899 06:15:...</td><td>2</td><td>null</td><td>null</td><td>7</td><td>null</td><td>null</td><td>null</td><td>1</td><td>1</td><td>1</td><td>1</td><td>1</td><td>1</td><td>4</td><td>4</td><td>4</td><td>4</td><td>4</td><td>3</td><td>3</td><td>3</td><td>3</td><td>4</td><td>4</td><td>4</td><td>6</td><td>6</td><td>6</td><td>4</td><td>102</td><td>null</td><td>null</td><td>null</td><td>null</td><td>null</td><td>4</td><td>4</td><td>4</td><td>4</td><td>4</td><td>4</td><td>0</td><td>null</td><td>null</td><td>3</td><td>23</td><td>null</td><td>null</td><td>3</td><td>null</td><td>null</td><td>null</td><td>null</td><td>5</td><td>4</td><td>4</td><td>5</td><td>2</td><td>null</td><td>null</td><td>null</td><td>null</td><td>9</td><td>3</td><td>null</td><td>null</td><td>TURKEY</td><td>15</td><td>2</td><td>6</td><td>1</td><td>1</td><td>2</td><td>2</td><td>2</td><td>1</td><td>0.6704842</td></tr>\n",
       "<tr><td>1,841</td><td>1,679</td><td>552</td><td>21</td><td>2</td><td>102</td><td>G</td><td>3</td><td>3</td><td>1</td><td>2</td><td>TURKISH AIRLINES</td><td>ISTANBUL</td><td>80</td><td>29</td><td>27</td><td>7</td><td>4</td><td>12/31/1899 01:15:...</td><td>12/31/1899 06:15:...</td><td>13</td><td>null</td><td>null</td><td>2</td><td>null</td><td>null</td><td>null</td><td>1</td><td>1</td><td>1</td><td>1</td><td>4</td><td>1</td><td>2</td><td>5</td><td>5</td><td>5</td><td>5</td><td>5</td><td>5</td><td>5</td><td>5</td><td>5</td><td>5</td><td>5</td><td>5</td><td>6</td><td>5</td><td>5</td><td>203</td><td>202</td><td>null</td><td>null</td><td>null</td><td>null</td><td>5</td><td>5</td><td>5</td><td>5</td><td>4</td><td>5</td><td>0</td><td>null</td><td>null</td><td>5</td><td>0</td><td>null</td><td>null</td><td>2</td><td>null</td><td>null</td><td>null</td><td>null</td><td>1</td><td>5</td><td>5</td><td>2</td><td>2</td><td>null</td><td>null</td><td>null</td><td>null</td><td>9</td><td>2</td><td>HUMBOLDT COUNTY</td><td>95501</td><td>US</td><td>10</td><td>2</td><td>5</td><td>2</td><td>2</td><td>3</td><td>2</td><td>2</td><td>1</td><td>0.6704842</td></tr>\n",
       "<tr><td>1,835</td><td>1,675</td><td>552</td><td>21</td><td>2</td><td>102</td><td>G</td><td>3</td><td>3</td><td>1</td><td>1</td><td>TURKISH AIRLINES</td><td>ISTANBUL</td><td>80</td><td>29</td><td>27</td><td>7</td><td>4</td><td>12/31/1899 01:00:...</td><td>12/31/1899 06:15:...</td><td>3</td><td>null</td><td>null</td><td>2</td><td>null</td><td>null</td><td>null</td><td>1</td><td>2</td><td>2</td><td>1</td><td>1</td><td>2</td><td>0</td><td>5</td><td>5</td><td>5</td><td>5</td><td>5</td><td>5</td><td>5</td><td>5</td><td>5</td><td>5</td><td>5</td><td>5</td><td>5</td><td>5</td><td>5</td><td>8</td><td>null</td><td>null</td><td>null</td><td>null</td><td>null</td><td>5</td><td>5</td><td>5</td><td>5</td><td>5</td><td>5</td><td>0</td><td>null</td><td>null</td><td>5</td><td>3</td><td>null</td><td>null</td><td>3</td><td>null</td><td>null</td><td>null</td><td>null</td><td>5</td><td>0</td><td>4</td><td>5</td><td>2</td><td>null</td><td>null</td><td>null</td><td>null</td><td>10</td><td>2</td><td>YOLO COUNTY</td><td>95691</td><td>US</td><td>10</td><td>2</td><td>3</td><td>1</td><td>1</td><td>3</td><td>2</td><td>2</td><td>1</td><td>0.6704842</td></tr>\n",
       "<tr><td>1,849</td><td>1,685</td><td>552</td><td>21</td><td>2</td><td>102</td><td>G</td><td>3</td><td>3</td><td>1</td><td>2</td><td>TURKISH AIRLINES</td><td>ISTANBUL</td><td>80</td><td>29</td><td>27</td><td>7</td><td>4</td><td>12/31/1899 01:30:...</td><td>12/31/1899 06:15:...</td><td>3</td><td>null</td><td>null</td><td>5</td><td>null</td><td>null</td><td>null</td><td>0</td><td>1</td><td>0</td><td>0</td><td>1</td><td>2</td><td>1</td><td>0</td><td>4</td><td>0</td><td>5</td><td>5</td><td>5</td><td>0</td><td>0</td><td>0</td><td>6</td><td>6</td><td>6</td><td>6</td><td>6</td><td>5</td><td>60</td><td>null</td><td>null</td><td>null</td><td>null</td><td>null</td><td>5</td><td>6</td><td>0</td><td>5</td><td>5</td><td>5</td><td>0</td><td>null</td><td>null</td><td>5</td><td>0</td><td>null</td><td>null</td><td>0</td><td>null</td><td>null</td><td>null</td><td>null</td><td>0</td><td>5</td><td>5</td><td>5</td><td>2</td><td>null</td><td>null</td><td>null</td><td>null</td><td>10</td><td>3</td><td>null</td><td>null</td><td>null</td><td>99</td><td>2</td><td>3</td><td>2</td><td>0</td><td>0</td><td>0</td><td>0</td><td>1</td><td>0.6704842</td></tr>\n",
       "<tr><td>2,289</td><td>794</td><td>537</td><td>16</td><td>4</td><td>8</td><td>A</td><td>3</td><td>3</td><td>1</td><td>1</td><td>QANTAS</td><td>SYDNEY</td><td>74</td><td>26</td><td>67</td><td>9</td><td>4</td><td>12/31/1899 08:00:...</td><td>12/31/1899 10:45:...</td><td>4</td><td>null</td><td>null</td><td>2</td><td>null</td><td>null</td><td>null</td><td>1</td><td>1</td><td>0</td><td>0</td><td>1</td><td>2</td><td>1</td><td>5</td><td>5</td><td>5</td><td>5</td><td>5</td><td>5</td><td>5</td><td>5</td><td>5</td><td>4</td><td>4</td><td>4</td><td>4</td><td>4</td><td>5</td><td>0</td><td>null</td><td>null</td><td>null</td><td>null</td><td>null</td><td>4</td><td>4</td><td>4</td><td>4</td><td>4</td><td>4</td><td>0</td><td>null</td><td>null</td><td>5</td><td>0</td><td>null</td><td>null</td><td>0</td><td>null</td><td>null</td><td>null</td><td>null</td><td>7</td><td>4</td><td>4</td><td>0</td><td>0</td><td>null</td><td>null</td><td>null</td><td>null</td><td>11</td><td>0</td><td>null</td><td>null</td><td>null</td><td>99</td><td>0</td><td>0</td><td>0</td><td>0</td><td>0</td><td>0</td><td>0</td><td>1</td><td>0.6704842</td></tr>\n",
       "<tr><td>977</td><td>1,355</td><td>542</td><td>18</td><td>6</td><td>99</td><td>G</td><td>3</td><td>3</td><td>1</td><td>2</td><td>LUFTHANSA</td><td>MUNICH</td><td>459</td><td>24</td><td>39</td><td>6</td><td>4</td><td>12/31/1899 01:00:...</td><td>12/31/1899 08:55:...</td><td>2</td><td>3</td><td>null</td><td>3</td><td>null</td><td>null</td><td>null</td><td>0</td><td>1</td><td>0</td><td>1</td><td>1</td><td>1</td><td>0</td><td>0</td><td>3</td><td>3</td><td>0</td><td>4</td><td>4</td><td>0</td><td>0</td><td>4</td><td>0</td><td>0</td><td>0</td><td>0</td><td>0</td><td>3</td><td>0</td><td>null</td><td>null</td><td>null</td><td>null</td><td>null</td><td>0</td><td>0</td><td>0</td><td>0</td><td>0</td><td>3</td><td>0</td><td>null</td><td>null</td><td>3</td><td>0</td><td>null</td><td>null</td><td>4</td><td>null</td><td>null</td><td>null</td><td>null</td><td>11</td><td>1</td><td>3</td><td>0</td><td>2</td><td>null</td><td>null</td><td>null</td><td>null</td><td>11</td><td>0</td><td>null</td><td>null</td><td>null</td><td>99</td><td>2</td><td>6</td><td>2</td><td>0</td><td>0</td><td>2</td><td>2</td><td>1</td><td>0.3607733</td></tr>\n",
       "<tr><td>105</td><td>565</td><td>626</td><td>29</td><td>3</td><td>88</td><td>F</td><td>2</td><td>1</td><td>1</td><td>1</td><td>UNITED</td><td>WASHINGTON,DC-DULLES</td><td>727</td><td>30</td><td>72</td><td>2</td><td>2</td><td>12/31/1899 09:55:...</td><td>12/31/1899 12:20:...</td><td>3</td><td>null</td><td>null</td><td>6</td><td>null</td><td>null</td><td>null</td><td>1</td><td>0</td><td>1</td><td>1</td><td>3</td><td>1</td><td>4</td><td>0</td><td>3</td><td>6</td><td>0</td><td>3</td><td>3</td><td>0</td><td>0</td><td>3</td><td>2</td><td>2</td><td>4</td><td>6</td><td>6</td><td>BLANK</td><td>101</td><td>null</td><td>null</td><td>null</td><td>null</td><td>null</td><td>4</td><td>5</td><td>6</td><td>4</td><td>4</td><td>3</td><td>0</td><td>null</td><td>null</td><td>4</td><td>0</td><td>null</td><td>null</td><td>2</td><td>null</td><td>null</td><td>null</td><td>null</td><td>1</td><td>3</td><td>3</td><td>0</td><td>2</td><td>null</td><td>null</td><td>null</td><td>null</td><td>11</td><td>1</td><td>ALAMEDA COUNTY</td><td>94703</td><td>US</td><td>1</td><td>2</td><td>7</td><td>2</td><td>4</td><td>2</td><td>2</td><td>1</td><td>1</td><td>1.4869248</td></tr>\n",
       "<tr><td>1,973</td><td>1,109</td><td>105</td><td>11</td><td>6</td><td>7</td><td>A</td><td>2</td><td>3</td><td>1</td><td>1</td><td>CATHAY PACIFIC</td><td>HONG KONG</td><td>879</td><td>12</td><td>23</td><td>8</td><td>4</td><td>12/31/1899 11:00:...</td><td>12/31/1899 01:05:...</td><td>2</td><td>null</td><td>null</td><td>2</td><td>null</td><td>null</td><td>null</td><td>1</td><td>2</td><td>2</td><td>2</td><td>1</td><td>2</td><td>1</td><td>6</td><td>4</td><td>6</td><td>4</td><td>5</td><td>5</td><td>6</td><td>6</td><td>6</td><td>6</td><td>6</td><td>6</td><td>6</td><td>6</td><td>5</td><td>1</td><td>null</td><td>null</td><td>null</td><td>null</td><td>null</td><td>5</td><td>6</td><td>6</td><td>6</td><td>5</td><td>5</td><td>0</td><td>null</td><td>null</td><td>5</td><td>0</td><td>null</td><td>null</td><td>2</td><td>null</td><td>null</td><td>null</td><td>null</td><td>5</td><td>5</td><td>5</td><td>3</td><td>1</td><td>TRANSLATE</td><td>33</td><td>null</td><td>null</td><td>0</td><td>3</td><td>null</td><td>null</td><td>CHINA</td><td>16</td><td>2</td><td>7</td><td>2</td><td>3</td><td>2</td><td>2</td><td>2</td><td>3</td><td>0.3191648</td></tr>\n",
       "<tr><td>2,385</td><td>891</td><td>531</td><td>16</td><td>4</td><td>102</td><td>G</td><td>3</td><td>3</td><td>1</td><td>1</td><td>UNITED INTL</td><td>SYDNEY</td><td>863</td><td>31</td><td>67</td><td>9</td><td>4</td><td>12/31/1899 02:00:...</td><td>12/31/1899 10:35:...</td><td>2</td><td>null</td><td>null</td><td>3</td><td>null</td><td>null</td><td>null</td><td>2</td><td>1</td><td>1</td><td>1</td><td>1</td><td>2</td><td>1</td><td>6</td><td>3</td><td>3</td><td>4</td><td>5</td><td>3</td><td>6</td><td>6</td><td>5</td><td>6</td><td>6</td><td>6</td><td>6</td><td>6</td><td>4</td><td>505</td><td>null</td><td>null</td><td>null</td><td>null</td><td>null</td><td>5</td><td>6</td><td>6</td><td>5</td><td>4</td><td>4</td><td>0</td><td>null</td><td>null</td><td>5</td><td>0</td><td>null</td><td>null</td><td>4</td><td>null</td><td>null</td><td>null</td><td>null</td><td>11</td><td>6</td><td>4</td><td>6</td><td>1</td><td>MY AIRLINE LOST M...</td><td>41</td><td>null</td><td>null</td><td>0</td><td>3</td><td>null</td><td>null</td><td>AUSTRALIA</td><td>19</td><td>2</td><td>3</td><td>1</td><td>4</td><td>3</td><td>2</td><td>2</td><td>1</td><td>1.4869248</td></tr>\n",
       "</table>\n",
       "only showing top 20 rows\n"
      ],
      "text/plain": [
       "+-------+-----+-----+-------+---+----+-----+------+----+----+---+----------------+--------------------+------+------------+---------+-------+--------+--------------------+--------------------+-------+-------+-------+--------+--------+--------+------+------+-------+------+------+------------+-----------+---------+-----+------+-------+------+---------+---------+----------+--------+------+-------+------+----------+-----------+--------+-----+----+----+----+----+----+----+----------+----------+--------+------+----------+-----+----+----+----+-------+-----+-----+-----+---------+---------------+-----+-----+-----+---------+----------+--------+-----------+----------+--------------------+-----+-----+-----+--------+-------+-------------------+------+----------+----+--------+------+---------+---------+------+------+------+----+---------+\n",
       "|RESPNUM|CCGID|RUNID|INTDATE|DAY|GATE|BAREA|STRATA|PEAK|METH|SAQ|         AIRLINE|         DESTINATION|FLIGHT|AIRLINE_CODE|DEST_CODE|DESTGEO|DESTMARK|             ARRTIME|             DEPTIME|Q2PURP1|Q2PURP2|Q2PURP3|Q3GETTO1|Q3GETTO2|Q3GETTO3|Q3PARK|Q4BAGS|Q4STORE|Q4FOOD|Q4WIFI|Q5TIMESFLOWN|Q5FIRSTTIME|Q6LONGUSE|Q7ART|Q7FOOD|Q7STORE|Q7SIGN|Q7WALKWAY|Q7SCREENS|Q7INFODOWN|Q7INFOUP|Q7WIFI|Q7ROADS|Q7PARK|Q7AIRTRAIN|Q7LTPARKING|Q7RENTAL|Q7ALL|Q8-1|Q8-2|Q8-3|Q8-4|Q8-5|Q8-6|Q9Boarding|Q9AirTrain|Q9Rental|Q9Food|Q9Restroom|Q9All|Q9-1|Q9-2|Q9-3|Q10Safe|Q10-1|Q10-2|Q10-3|Q11TSAPRE|Q12PRECHECKRATE|Q12-1|Q12-2|Q12-3|Q13COUNTY|Q13GETRATE|Q14FIND |Q14PASSTHRU|Q15PROBLEM|                Q15A|Q15-1|Q15-2|Q15-3|NETPRO  |Q17LIVE|          Q18COUNTY|Q18ZIP|Q18COUNTRY|HOME|Q19Clear|Q20Age|Q21Gender|Q22Income|Q23FLY|Q24SJC|Q24OAK|LANG|   WEIGHT|\n",
       "+-------+-----+-----+-------+---+----+-----+------+----+----+---+----------------+--------------------+------+------------+---------+-------+--------+--------------------+--------------------+-------+-------+-------+--------+--------+--------+------+------+-------+------+------+------------+-----------+---------+-----+------+-------+------+---------+---------+----------+--------+------+-------+------+----------+-----------+--------+-----+----+----+----+----+----+----+----------+----------+--------+------+----------+-----+----+----+----+-------+-----+-----+-----+---------+---------------+-----+-----+-----+---------+----------+--------+-----------+----------+--------------------+-----+-----+-----+--------+-------+-------------------+------+----------+----+--------+------+---------+---------+------+------+------+----+---------+\n",
       "|  1,842|1,680|  552|     21|  2| 102|    G|     3|   3|   1|  2|TURKISH AIRLINES|            ISTANBUL|    80|          29|       27|      7|       4|12/31/1899 02:00:...|12/31/1899 06:15:...|      2|   null|   null|       2|    null|    null|  null|     1|      1|     1|     1|           2|          1|        1|    6|     6|      3|     4|        4|        4|         4|       4|     4|      4|     6|         6|          6|       6|    4|   0|null|null|null|null|null|         4|         6|       6|     6|         4|    3|   0|null|null|      3|    4| null| null|        0|           null| null| null| null|       18|         5|       4|          3|         2|                null| null| null| null|       5|      3|               null|  null|    CYPRUS|  15|       2|     6|        2|        0|     0|     2|     2|   1|0.6704842|\n",
       "|  1,844|1,681|  552|     21|  2| 102|    G|     3|   3|   1|  2|TURKISH AIRLINES|            ISTANBUL|    80|          29|       27|      7|       4|12/31/1899 01:00:...|12/31/1899 06:15:...|      2|      3|   null|       9|    null|    null|  null|     1|      2|     2|     2|           1|          2|        1|    6|     3|      4|     4|        4|        5|         6|       6|     2|      4|     6|         4|          6|       2|    4|   0|null|null|null|null|null|         5|         4|       3|     6|         4|    4|   0|null|null|      4|    0| null| null|        1|              2|   14| null| null|        5|         4|       4|          3|         2|                null| null| null| null|       7|      3|               null|  null|    TURKEY|  15|       2|     4|        1|        2|     1|     2|     2|   1|0.6704842|\n",
       "|  1,840|1,678|  552|     21|  2| 102|    G|     3|   3|   1|  1|TURKISH AIRLINES|            ISTANBUL|    80|          29|       27|      7|       4|12/31/1899 03:30:...|12/31/1899 06:15:...|      5|   null|   null|       7|    null|    null|  null|     3|      3|     3|     1|           1|          2|        3|    3|     6|      4|     4|        6|        4|         3|       3|     5|      6|     6|         6|          6|       6|    4|   0|null|null|null|null|null|         4|         6|       6|     6|         2|    3|   0|null|null|      4|    0| null| null|        1|              3|    0| null| null|        0|         4|       5|          3|         2|                null| null| null| null|       7|      3|               null|  null|    TURKEY|  15|       1|     5|        1|        5|     2|     2|     2|   1|0.6704842|\n",
       "|  1,837|1,676|  552|     21|  2| 102|    G|     3|   3|   1|  1|TURKISH AIRLINES|            ISTANBUL|    80|          29|       27|      7|       4|12/31/1899 02:30:...|12/31/1899 06:15:...|      3|   null|   null|       5|    null|    null|  null|     1|      1|     1|     1|           2|          1|        0|    0|     4|      4|     4|        5|        4|         0|       0|     5|      0|     0|         0|          0|       0|    4|   0|null|null|null|null|null|         5|         0|       0|     3|         4|    4|   0|null|null|      4|    0| null| null|        0|           null| null| null| null|        0|         0|       0|          0|         0|                null| null| null| null|       8|      3|               null|  null| MACEDONIA|  15|       2|     2|        2|        3|     3|     2|     1|   1|0.6704842|\n",
       "|  1,833|1,674|  552|     21|  2| 102|    G|     3|   3|   1|  2|TURKISH AIRLINES|            ISTANBUL|    80|          29|       27|      7|       4|12/31/1899 03:20:...|12/31/1899 06:15:...|      4|   null|   null|       2|    null|    null|  null|     1|      2|     0|     2|           3|          1|        2|    0|     0|      0|     0|        0|        0|         0|       0|     0|      0|     0|         0|          0|       0|BLANK|  11|null|null|null|null|null|         5|         6|       6|     4|         5|    5|   1|null|null|      3|    1| null| null|        0|           null| null| null| null|        0|         3|       3|          3|         1|I FLEW WITH TK A ...|   31| null| null|       8|      3|               null|  null|   GERMANY|  15|       2|     2|        2|        2|     2|     2|     2|   1|0.6704842|\n",
       "|  3,010|2,216|  613|     23|  4|  58|    D|     3|   2|   1|  2|        AMERICAN|               MIAMI|   556|           8|       37|      2|       4|12/31/1899 08:00:...|12/31/1899 09:28:...|      1|   null|   null|       5|    null|    null|  null|     2|      0|     1|     2|           1|          2|        1|    3|     4|      3|     3|        3|        3|         6|       3|     6|      6|     6|         6|          6|       6|    4|   0|null|null|null|null|null|         5|         6|       6|     4|         0|    4|   0|null|null|      5|    0| null| null|        0|           null| null| null| null|        5|         4|       5|          3|         2|                null| null| null| null|       8|      3|  MIAMI-DADE COUNTY| 33146|        US|  12|       1|     4|        2|        4|     3|     2|     2|   1|1.0611394|\n",
       "|  1,838|1,677|  552|     21|  2| 102|    G|     3|   3|   1|  2|TURKISH AIRLINES|            ISTANBUL|    80|          29|       27|      7|       4|12/31/1899 03:00:...|12/31/1899 06:15:...|      1|   null|   null|       6|    null|    null|  null|     1|      2|     1|     1|           1|          2|        1|    4|     3|      3|     2|        3|        4|         4|       4|     5|      6|     6|         6|          6|       6|    4|   0|null|null|null|null|null|         5|         6|       6|     5|         3|    4|   0|null|null|      5|    0| null| null|        0|           null| null| null| null|        5|         5|       4|          4|         2|                null| null| null| null|       8|      3|               null|  null|    TURKEY|  15|       2|     3|        1|        2|     2|     2|     2|   1|0.6704842|\n",
       "|  1,845|1,682|  552|     21|  2| 102|    G|     3|   3|   1|  2|TURKISH AIRLINES|            ISTANBUL|    80|          29|       27|      7|       4|12/31/1899 04:00:...|12/31/1899 06:15:...|      2|   null|   null|       3|    null|    null|  null|     2|      2|     2|     1|           1|          0|        1|    3|     6|      6|     4|        4|        4|         6|       6|     4|      6|     6|         6|          6|       6|    4|   0|null|null|null|null|null|         4|         6|       6|     6|         3|    3|   0|null|null|      4|    0| null| null|        4|           null| null| null| null|       11|         6|       4|          6|         2|                null| null| null| null|       8|      3|       CLARK COUNTY| 98661|        US|  10|       2|     6|        1|        2|     2|     2|     2|   1|0.6704842|\n",
       "|  2,097|1,705|  557|     21|  2|  98|    G|     3|   3|   1|  2|     UNITED INTL|         MEXICO CITY|   412|          31|       36|      4|       4|12/31/1899 08:45:...|12/31/1899 11:10:...|      1|   null|   null|       2|    null|    null|  null|     2|      1|     2|     1|           4|          1|        4|    4|     3|      3|     4|        4|        4|         6|       6|     4|      4|     4|         6|          3|       6|    4|   0|null|null|null|null|null|         4|         6|       6|     4|         4|    4|   0|null|null|      4|    4| null| null|        1|              5|   21|   10| null|        2|         3|       5|          5|         2|                null| null| null| null|       9|      1|CONTRA COSTA COUNTY| 94505|        US|   2|       2|     6|        2|        4|     2|     1|     1|   1|1.4869248|\n",
       "|  1,846|1,683|  552|     21|  2| 102|    G|     3|   3|   1|  2|TURKISH AIRLINES|            ISTANBUL|    80|          29|       27|      7|       4|12/31/1899 03:50:...|12/31/1899 06:15:...|      1|   null|   null|       7|    null|    null|  null|     2|      2|     2|     2|           2|          2|        1|    3|     4|      3|     4|        3|        4|         3|       0|     2|      3|     2|         2|          2|       2|    4|   0|null|null|null|null|null|         5|         5|       5|     5|         4|    5|   0|null|null|      4|    0| null| null|        0|           null| null| null| null|       25|         4|       5|          5|         2|                null| null| null| null|       9|      0|               null|  null|      null|  99|       2|     4|        0|        2|     2|     2|     2|   1|0.6704842|\n",
       "|  1,831|1,673|  552|     21|  2| 102|    G|     3|   3|   1|  2|TURKISH AIRLINES|            ISTANBUL|    80|          29|       27|      7|       4|12/31/1899 01:30:...|12/31/1899 06:15:...|      1|   null|   null|       6|    null|    null|  null|     1|      1|     2|     1|           2|          1|        2|    5|     5|      5|     5|        5|        4|         6|       6|     4|      6|     6|         6|          6|       6|    5|   0|null|null|null|null|null|         5|         6|       6|     6|         4|    5|   0|null|null|      4|   12| null| null|        2|           null| null| null| null|        5|         5|       5|          5|         2|                null| null| null| null|       9|      3|               null|  null|  BULGARIA|  15|       2|     3|        1|        0|     2|     0|     1|   1|0.6704842|\n",
       "|  1,848|1,684|  552|     21|  2| 102|    G|     3|   3|   1|  1|TURKISH AIRLINES|            ISTANBUL|    80|          29|       27|      7|       4|12/31/1899 04:00:...|12/31/1899 06:15:...|      2|   null|   null|       7|    null|    null|  null|     1|      1|     1|     1|           1|          1|        4|    4|     4|      4|     4|        3|        3|         3|       3|     4|      4|     4|         6|          6|       6|    4| 102|null|null|null|null|null|         4|         4|       4|     4|         4|    4|   0|null|null|      3|   23| null| null|        3|           null| null| null| null|        5|         4|       4|          5|         2|                null| null| null| null|       9|      3|               null|  null|    TURKEY|  15|       2|     6|        1|        1|     2|     2|     2|   1|0.6704842|\n",
       "|  1,841|1,679|  552|     21|  2| 102|    G|     3|   3|   1|  2|TURKISH AIRLINES|            ISTANBUL|    80|          29|       27|      7|       4|12/31/1899 01:15:...|12/31/1899 06:15:...|     13|   null|   null|       2|    null|    null|  null|     1|      1|     1|     1|           4|          1|        2|    5|     5|      5|     5|        5|        5|         5|       5|     5|      5|     5|         5|          6|       5|    5| 203| 202|null|null|null|null|         5|         5|       5|     5|         4|    5|   0|null|null|      5|    0| null| null|        2|           null| null| null| null|        1|         5|       5|          2|         2|                null| null| null| null|       9|      2|    HUMBOLDT COUNTY| 95501|        US|  10|       2|     5|        2|        2|     3|     2|     2|   1|0.6704842|\n",
       "|  1,835|1,675|  552|     21|  2| 102|    G|     3|   3|   1|  1|TURKISH AIRLINES|            ISTANBUL|    80|          29|       27|      7|       4|12/31/1899 01:00:...|12/31/1899 06:15:...|      3|   null|   null|       2|    null|    null|  null|     1|      2|     2|     1|           1|          2|        0|    5|     5|      5|     5|        5|        5|         5|       5|     5|      5|     5|         5|          5|       5|    5|   8|null|null|null|null|null|         5|         5|       5|     5|         5|    5|   0|null|null|      5|    3| null| null|        3|           null| null| null| null|        5|         0|       4|          5|         2|                null| null| null| null|      10|      2|        YOLO COUNTY| 95691|        US|  10|       2|     3|        1|        1|     3|     2|     2|   1|0.6704842|\n",
       "|  1,849|1,685|  552|     21|  2| 102|    G|     3|   3|   1|  2|TURKISH AIRLINES|            ISTANBUL|    80|          29|       27|      7|       4|12/31/1899 01:30:...|12/31/1899 06:15:...|      3|   null|   null|       5|    null|    null|  null|     0|      1|     0|     0|           1|          2|        1|    0|     4|      0|     5|        5|        5|         0|       0|     0|      6|     6|         6|          6|       6|    5|  60|null|null|null|null|null|         5|         6|       0|     5|         5|    5|   0|null|null|      5|    0| null| null|        0|           null| null| null| null|        0|         5|       5|          5|         2|                null| null| null| null|      10|      3|               null|  null|      null|  99|       2|     3|        2|        0|     0|     0|     0|   1|0.6704842|\n",
       "|  2,289|  794|  537|     16|  4|   8|    A|     3|   3|   1|  1|          QANTAS|              SYDNEY|    74|          26|       67|      9|       4|12/31/1899 08:00:...|12/31/1899 10:45:...|      4|   null|   null|       2|    null|    null|  null|     1|      1|     0|     0|           1|          2|        1|    5|     5|      5|     5|        5|        5|         5|       5|     5|      4|     4|         4|          4|       4|    5|   0|null|null|null|null|null|         4|         4|       4|     4|         4|    4|   0|null|null|      5|    0| null| null|        0|           null| null| null| null|        7|         4|       4|          0|         0|                null| null| null| null|      11|      0|               null|  null|      null|  99|       0|     0|        0|        0|     0|     0|     0|   1|0.6704842|\n",
       "|    977|1,355|  542|     18|  6|  99|    G|     3|   3|   1|  2|       LUFTHANSA|              MUNICH|   459|          24|       39|      6|       4|12/31/1899 01:00:...|12/31/1899 08:55:...|      2|      3|   null|       3|    null|    null|  null|     0|      1|     0|     1|           1|          1|        0|    0|     3|      3|     0|        4|        4|         0|       0|     4|      0|     0|         0|          0|       0|    3|   0|null|null|null|null|null|         0|         0|       0|     0|         0|    3|   0|null|null|      3|    0| null| null|        4|           null| null| null| null|       11|         1|       3|          0|         2|                null| null| null| null|      11|      0|               null|  null|      null|  99|       2|     6|        2|        0|     0|     2|     2|   1|0.3607733|\n",
       "|    105|  565|  626|     29|  3|  88|    F|     2|   1|   1|  1|          UNITED|WASHINGTON,DC-DULLES|   727|          30|       72|      2|       2|12/31/1899 09:55:...|12/31/1899 12:20:...|      3|   null|   null|       6|    null|    null|  null|     1|      0|     1|     1|           3|          1|        4|    0|     3|      6|     0|        3|        3|         0|       0|     3|      2|     2|         4|          6|       6|BLANK| 101|null|null|null|null|null|         4|         5|       6|     4|         4|    3|   0|null|null|      4|    0| null| null|        2|           null| null| null| null|        1|         3|       3|          0|         2|                null| null| null| null|      11|      1|     ALAMEDA COUNTY| 94703|        US|   1|       2|     7|        2|        4|     2|     2|     1|   1|1.4869248|\n",
       "|  1,973|1,109|  105|     11|  6|   7|    A|     2|   3|   1|  1|  CATHAY PACIFIC|           HONG KONG|   879|          12|       23|      8|       4|12/31/1899 11:00:...|12/31/1899 01:05:...|      2|   null|   null|       2|    null|    null|  null|     1|      2|     2|     2|           1|          2|        1|    6|     4|      6|     4|        5|        5|         6|       6|     6|      6|     6|         6|          6|       6|    5|   1|null|null|null|null|null|         5|         6|       6|     6|         5|    5|   0|null|null|      5|    0| null| null|        2|           null| null| null| null|        5|         5|       5|          3|         1|           TRANSLATE|   33| null| null|       0|      3|               null|  null|     CHINA|  16|       2|     7|        2|        3|     2|     2|     2|   3|0.3191648|\n",
       "|  2,385|  891|  531|     16|  4| 102|    G|     3|   3|   1|  1|     UNITED INTL|              SYDNEY|   863|          31|       67|      9|       4|12/31/1899 02:00:...|12/31/1899 10:35:...|      2|   null|   null|       3|    null|    null|  null|     2|      1|     1|     1|           1|          2|        1|    6|     3|      3|     4|        5|        3|         6|       6|     5|      6|     6|         6|          6|       6|    4| 505|null|null|null|null|null|         5|         6|       6|     5|         4|    4|   0|null|null|      5|    0| null| null|        4|           null| null| null| null|       11|         6|       4|          6|         1|MY AIRLINE LOST M...|   41| null| null|       0|      3|               null|  null| AUSTRALIA|  19|       2|     3|        1|        4|     3|     2|     2|   1|1.4869248|\n",
       "+-------+-----+-----+-------+---+----+-----+------+----+----+---+----------------+--------------------+------+------------+---------+-------+--------+--------------------+--------------------+-------+-------+-------+--------+--------+--------+------+------+-------+------+------+------------+-----------+---------+-----+------+-------+------+---------+---------+----------+--------+------+-------+------+----------+-----------+--------+-----+----+----+----+----+----+----+----------+----------+--------+------+----------+-----+----+----+----+-------+-----+-----+-----+---------+---------------+-----+-----+-----+---------+----------+--------+-----------+----------+--------------------+-----+-----+-----+--------+-------+-------------------+------+----------+----+--------+------+---------+---------+------+------+------+----+---------+\n",
       "only showing top 20 rows"
      ]
     },
     "metadata": {},
     "output_type": "display_data"
    }
   ],
   "source": [
    "display(dataset)"
   ]
  },
  {
   "cell_type": "code",
   "execution_count": 11,
   "id": "1af6c48d-351f-4996-99b5-324838794786",
   "metadata": {},
   "outputs": [
    {
     "name": "stdout",
     "output_type": "stream",
     "text": [
      "root\n",
      " |-- RESPNUM: string (nullable = true)\n",
      " |-- CCGID: string (nullable = true)\n",
      " |-- RUNID: integer (nullable = true)\n",
      " |-- INTDATE: integer (nullable = true)\n",
      " |-- DAY: integer (nullable = true)\n",
      " |-- GATE: integer (nullable = true)\n",
      " |-- BAREA: string (nullable = true)\n",
      " |-- STRATA: integer (nullable = true)\n",
      " |-- PEAK: integer (nullable = true)\n",
      " |-- METH: integer (nullable = true)\n",
      " |-- SAQ: integer (nullable = true)\n",
      " |-- AIRLINE: string (nullable = true)\n",
      " |-- DESTINATION: string (nullable = true)\n",
      " |-- FLIGHT: string (nullable = true)\n",
      " |-- AIRLINE_CODE: integer (nullable = true)\n",
      " |-- DEST_CODE: integer (nullable = true)\n",
      " |-- DESTGEO: integer (nullable = true)\n",
      " |-- DESTMARK: integer (nullable = true)\n",
      " |-- ARRTIME: string (nullable = true)\n",
      " |-- DEPTIME: string (nullable = true)\n",
      " |-- Q2PURP1: integer (nullable = true)\n",
      " |-- Q2PURP2: integer (nullable = true)\n",
      " |-- Q2PURP3: integer (nullable = true)\n",
      " |-- Q3GETTO1: integer (nullable = true)\n",
      " |-- Q3GETTO2: integer (nullable = true)\n",
      " |-- Q3GETTO3: integer (nullable = true)\n",
      " |-- Q3PARK: integer (nullable = true)\n",
      " |-- Q4BAGS: integer (nullable = true)\n",
      " |-- Q4STORE: integer (nullable = true)\n",
      " |-- Q4FOOD: integer (nullable = true)\n",
      " |-- Q4WIFI: integer (nullable = true)\n",
      " |-- Q5TIMESFLOWN: integer (nullable = true)\n",
      " |-- Q5FIRSTTIME: integer (nullable = true)\n",
      " |-- Q6LONGUSE: integer (nullable = true)\n",
      " |-- Q7ART: integer (nullable = true)\n",
      " |-- Q7FOOD: integer (nullable = true)\n",
      " |-- Q7STORE: integer (nullable = true)\n",
      " |-- Q7SIGN: integer (nullable = true)\n",
      " |-- Q7WALKWAY: integer (nullable = true)\n",
      " |-- Q7SCREENS: integer (nullable = true)\n",
      " |-- Q7INFODOWN: integer (nullable = true)\n",
      " |-- Q7INFOUP: integer (nullable = true)\n",
      " |-- Q7WIFI: integer (nullable = true)\n",
      " |-- Q7ROADS: integer (nullable = true)\n",
      " |-- Q7PARK: integer (nullable = true)\n",
      " |-- Q7AIRTRAIN: integer (nullable = true)\n",
      " |-- Q7LTPARKING: integer (nullable = true)\n",
      " |-- Q7RENTAL: integer (nullable = true)\n",
      " |-- Q7ALL: string (nullable = true)\n",
      " |-- Q8-1: integer (nullable = true)\n",
      " |-- Q8-2: integer (nullable = true)\n",
      " |-- Q8-3: integer (nullable = true)\n",
      " |-- Q8-4: integer (nullable = true)\n",
      " |-- Q8-5: integer (nullable = true)\n",
      " |-- Q8-6: integer (nullable = true)\n",
      " |-- Q9Boarding: integer (nullable = true)\n",
      " |-- Q9AirTrain: integer (nullable = true)\n",
      " |-- Q9Rental: integer (nullable = true)\n",
      " |-- Q9Food: integer (nullable = true)\n",
      " |-- Q9Restroom: integer (nullable = true)\n",
      " |-- Q9All: integer (nullable = true)\n",
      " |-- Q9-1: integer (nullable = true)\n",
      " |-- Q9-2: integer (nullable = true)\n",
      " |-- Q9-3: integer (nullable = true)\n",
      " |-- Q10Safe: integer (nullable = true)\n",
      " |-- Q10-1: integer (nullable = true)\n",
      " |-- Q10-2: integer (nullable = true)\n",
      " |-- Q10-3: integer (nullable = true)\n",
      " |-- Q11TSAPRE: integer (nullable = true)\n",
      " |-- Q12PRECHECKRATE: integer (nullable = true)\n",
      " |-- Q12-1: integer (nullable = true)\n",
      " |-- Q12-2: integer (nullable = true)\n",
      " |-- Q12-3: integer (nullable = true)\n",
      " |-- Q13COUNTY: integer (nullable = true)\n",
      " |-- Q13GETRATE: integer (nullable = true)\n",
      " |-- Q14FIND : integer (nullable = true)\n",
      " |-- Q14PASSTHRU: integer (nullable = true)\n",
      " |-- Q15PROBLEM: integer (nullable = true)\n",
      " |-- Q15A: string (nullable = true)\n",
      " |-- Q15-1: integer (nullable = true)\n",
      " |-- Q15-2: integer (nullable = true)\n",
      " |-- Q15-3: integer (nullable = true)\n",
      " |-- NETPRO  : integer (nullable = true)\n",
      " |-- Q17LIVE: integer (nullable = true)\n",
      " |-- Q18COUNTY: string (nullable = true)\n",
      " |-- Q18ZIP: integer (nullable = true)\n",
      " |-- Q18COUNTRY: string (nullable = true)\n",
      " |-- HOME: integer (nullable = true)\n",
      " |-- Q19Clear: integer (nullable = true)\n",
      " |-- Q20Age: integer (nullable = true)\n",
      " |-- Q21Gender: integer (nullable = true)\n",
      " |-- Q22Income: integer (nullable = true)\n",
      " |-- Q23FLY: integer (nullable = true)\n",
      " |-- Q24SJC: integer (nullable = true)\n",
      " |-- Q24OAK: integer (nullable = true)\n",
      " |-- LANG: integer (nullable = true)\n",
      " |-- WEIGHT: double (nullable = true)\n",
      "\n"
     ]
    }
   ],
   "source": [
    "dataset.printSchema()"
   ]
  },
  {
   "cell_type": "markdown",
   "id": "d108ba67-f222-4a59-a491-24f296ca4434",
   "metadata": {},
   "source": [
    "As you can see above there are many questions in the survey including what airline the customer flew on, where do they live, etc. For the purposes of answering the above, focus on the Q7A, Q7B, Q7C .. Q7O questions since they directly related to customer satisfaction, which is what you want to measure. If you drill down on those variables you get the following:\n",
    "\n",
    "|Column Name\t|Data Type\t|Description|\n",
    "|---------------|-----------|-----------|\n",
    "|Q7FOOD|INTEGER|Restaurants|\n",
    "|Q7STORE|INTEGER|Retail shops and concessions||\n",
    "|Q7SIGN|INTEGER|Signs and Directions inside SFO|\n",
    "|Q7WALKWAY|INTEGER|Escalators / elevators / moving walkways|\n",
    "|Q7SCREENS|INTEGER|Information on screens and monitors|\n",
    "|Q7INFODOWN|INTEGER|Information booth near arrivals area|\n",
    "|Q7INFOUP|INTEGER|Information booth near departure areas|\n",
    "|Q7WIFI|INTEGER|Airport WiFi|\n",
    "|Q7ROADS|INTEGER|Signs and directions on SFO airport roadways|\n",
    "|Q7PARK|INTEGER|Airport parking facilities|\n",
    "|Q7AIRTRAIN|INTEGER|AirTrain|\n",
    "|Q7LTPARKING|INTEGER|Long term parking lot shuttle|\n",
    "|Q7RENTAL|INTEGER|Airport rental car center|\n",
    "|Q7ALL|INTEGER|SFO Airport as a whole|\n",
    "\n",
    "The possible values for the above are:\n",
    "\n",
    "0 = no answer, 1 = Unacceptable, 2 = Below Average, 3 = Average, 4 = Good, 5 = Outstanding, 6 = Not visited or not applicable\n",
    "\n",
    "Select only the fields you are interested in."
   ]
  },
  {
   "cell_type": "code",
   "execution_count": 22,
   "id": "8c3a83b7-bb15-405f-973f-e509df33472d",
   "metadata": {},
   "outputs": [],
   "source": [
    "dataset = dataset.select(*[ c for c in cols if c.startswith('Q7')])"
   ]
  },
  {
   "cell_type": "code",
   "execution_count": 25,
   "id": "ea97eecd-1871-4616-a79a-038584fe26cb",
   "metadata": {},
   "outputs": [
    {
     "data": {
      "text/plain": [
       "\"'avg(Q7ART) Q7ART', 'avg(Q7FOOD) Q7FOOD', 'avg(Q7STORE) Q7STORE', 'avg(Q7SIGN) Q7SIGN', 'avg(Q7WALKWAY) Q7WALKWAY', 'avg(Q7SCREENS) Q7SCREENS', 'avg(Q7INFODOWN) Q7INFODOWN', 'avg(Q7INFOUP) Q7INFOUP', 'avg(Q7WIFI) Q7WIFI', 'avg(Q7ROADS) Q7ROADS', 'avg(Q7PARK) Q7PARK', 'avg(Q7AIRTRAIN) Q7AIRTRAIN', 'avg(Q7LTPARKING) Q7LTPARKING', 'avg(Q7RENTAL) Q7RENTAL', 'avg(Q7ALL) Q7ALL'\""
      ]
     },
     "execution_count": 25,
     "metadata": {},
     "output_type": "execute_result"
    }
   ],
   "source": [
    "a = map(lambda s: \"'avg(\" + s +\") \" + s + \"'\",dataset.columns)\n",
    "\", \".join(a)"
   ]
  },
  {
   "cell_type": "code",
   "execution_count": 26,
   "id": "6fbba122-2b31-4b0b-aa86-6e3cb2365e6c",
   "metadata": {},
   "outputs": [
    {
     "data": {
      "text/html": [
       "<table border='1'>\n",
       "<tr><th>Q7ART</th><th>Q7FOOD</th><th>Q7STORE</th><th>Q7SIGN</th><th>Q7WALKWAY</th><th>Q7SCREENS</th><th>Q7INFODOWN</th><th>Q7INFOUP</th><th>Q7WIFI</th><th>Q7ROADS</th><th>Q7PARK</th><th>Q7AIRTRAIN</th><th>Q7LTPARKING</th><th>Q7RENTAL</th><th>Q7ALL</th></tr>\n",
       "<tr><td>4.159487362050552</td><td>3.7689569241723033</td><td>3.747953008187967</td><td>3.9348522605909575</td><td>4.086151655393379</td><td>3.995372018511926</td><td>4.527233891064435</td><td>4.487006051975792</td><td>4.232111071555714</td><td>4.3203987184051265</td><td>4.729441082235671</td><td>4.6511213955144175</td><td>4.99003203987184</td><td>4.803488786044856</td><td>4.002666666666666</td></tr>\n",
       "</table>\n"
      ],
      "text/plain": [
       "+-----------------+------------------+-----------------+------------------+-----------------+-----------------+-----------------+-----------------+-----------------+------------------+-----------------+------------------+----------------+-----------------+-----------------+\n",
       "|            Q7ART|            Q7FOOD|          Q7STORE|            Q7SIGN|        Q7WALKWAY|        Q7SCREENS|       Q7INFODOWN|         Q7INFOUP|           Q7WIFI|           Q7ROADS|           Q7PARK|        Q7AIRTRAIN|     Q7LTPARKING|         Q7RENTAL|            Q7ALL|\n",
       "+-----------------+------------------+-----------------+------------------+-----------------+-----------------+-----------------+-----------------+-----------------+------------------+-----------------+------------------+----------------+-----------------+-----------------+\n",
       "|4.159487362050552|3.7689569241723033|3.747953008187967|3.9348522605909575|4.086151655393379|3.995372018511926|4.527233891064435|4.487006051975792|4.232111071555714|4.3203987184051265|4.729441082235671|4.6511213955144175|4.99003203987184|4.803488786044856|4.002666666666666|\n",
       "+-----------------+------------------+-----------------+------------------+-----------------+-----------------+-----------------+-----------------+-----------------+------------------+-----------------+------------------+----------------+-----------------+-----------------+"
      ]
     },
     "metadata": {},
     "output_type": "display_data"
    }
   ],
   "source": [
    "avgs = dataset.selectExpr('avg(Q7ART) Q7ART', 'avg(Q7FOOD) Q7FOOD', 'avg(Q7STORE) Q7STORE', 'avg(Q7SIGN) Q7SIGN', 'avg(Q7WALKWAY) Q7WALKWAY', 'avg(Q7SCREENS) Q7SCREENS', 'avg(Q7INFODOWN) Q7INFODOWN', 'avg(Q7INFOUP) Q7INFOUP', 'avg(Q7WIFI) Q7WIFI', 'avg(Q7ROADS) Q7ROADS', 'avg(Q7PARK) Q7PARK', 'avg(Q7AIRTRAIN) Q7AIRTRAIN', 'avg(Q7LTPARKING) Q7LTPARKING', 'avg(Q7RENTAL) Q7RENTAL', 'avg(Q7ALL) Q7ALL')\n",
    "display(avgs)"
   ]
  },
  {
   "cell_type": "code",
   "execution_count": 42,
   "id": "e26112ef-2289-42c5-b3c2-2ab264b1cb40",
   "metadata": {},
   "outputs": [
    {
     "data": {
      "image/png": "[encoded data removed]",
      "text/plain": [
       "<Figure size 1000x500 with 1 Axes>"
      ]
     },
     "metadata": {},
     "output_type": "display_data"
    }
   ],
   "source": [
    "import matplotlib.pyplot as plt\n",
    "avgs.toPandas().plot(kind='bar',figsize=(10,5))\n",
    "plt.show()"
   ]
  },
  {
   "cell_type": "markdown",
   "id": "a38338ec-3b8f-475b-9c31-1cc8c693bb4e",
   "metadata": {},
   "source": [
    "So basic statistics can't seem to answer the question: What factors drove the customer to give the overall rating?\n",
    "\n",
    "So let's try to use a predictive algorithm to see if these individual ratings can be used to predict an overall rating."
   ]
  },
  {
   "cell_type": "markdown",
   "id": "6ea94cd2-ebb5-4baf-accf-359764efb59b",
   "metadata": {},
   "source": [
    "## Create Model\n",
    "Here use a decision tree algorithm to create a predictive model."
   ]
  },
  {
   "cell_type": "markdown",
   "id": "c96d2684-d5d6-48f1-b028-9a1002b75e83",
   "metadata": {},
   "source": [
    "First need to treat responses of 0 = No Answer and 6 = Not Visited or Not Applicable as missing values. One of the ways you can do this is a technique called mean impute which is when we use the mean of the column as a replacement for the missing value. You can use a replace function to set all values of 0 or 6 to the average rating of 3. You also need a label column of type double so do that as well."
   ]
  },
  {
   "cell_type": "code",
   "execution_count": 54,
   "id": "8140b1d9-e91a-4376-a4dd-2760493dc3bc",
   "metadata": {},
   "outputs": [
    {
     "data": {
      "text/html": [
       "<table border='1'>\n",
       "<tr><th>Q7ART</th><th>Q7FOOD</th><th>Q7STORE</th><th>Q7SIGN</th><th>Q7WALKWAY</th><th>Q7SCREENS</th><th>Q7INFODOWN</th><th>Q7INFOUP</th><th>Q7WIFI</th><th>Q7ROADS</th><th>Q7PARK</th><th>Q7AIRTRAIN</th><th>Q7LTPARKING</th><th>Q7RENTAL</th><th>label</th></tr>\n",
       "<tr><td>3</td><td>3</td><td>3</td><td>4</td><td>4</td><td>4</td><td>4</td><td>4</td><td>4</td><td>4</td><td>3</td><td>3</td><td>3</td><td>3</td><td>4.0</td></tr>\n",
       "<tr><td>3</td><td>3</td><td>4</td><td>4</td><td>4</td><td>5</td><td>3</td><td>3</td><td>2</td><td>4</td><td>3</td><td>4</td><td>3</td><td>2</td><td>4.0</td></tr>\n",
       "<tr><td>3</td><td>3</td><td>4</td><td>4</td><td>3</td><td>4</td><td>3</td><td>3</td><td>5</td><td>3</td><td>3</td><td>3</td><td>3</td><td>3</td><td>4.0</td></tr>\n",
       "<tr><td>3</td><td>4</td><td>4</td><td>4</td><td>5</td><td>4</td><td>3</td><td>3</td><td>5</td><td>3</td><td>3</td><td>3</td><td>3</td><td>3</td><td>4.0</td></tr>\n",
       "<tr><td>3</td><td>3</td><td>3</td><td>3</td><td>3</td><td>3</td><td>3</td><td>3</td><td>3</td><td>3</td><td>3</td><td>3</td><td>3</td><td>3</td><td>3.0</td></tr>\n",
       "<tr><td>3</td><td>4</td><td>3</td><td>3</td><td>3</td><td>3</td><td>3</td><td>3</td><td>3</td><td>3</td><td>3</td><td>3</td><td>3</td><td>3</td><td>4.0</td></tr>\n",
       "<tr><td>4</td><td>3</td><td>3</td><td>2</td><td>3</td><td>4</td><td>4</td><td>4</td><td>5</td><td>3</td><td>3</td><td>3</td><td>3</td><td>3</td><td>4.0</td></tr>\n",
       "<tr><td>3</td><td>3</td><td>3</td><td>4</td><td>4</td><td>4</td><td>3</td><td>3</td><td>4</td><td>3</td><td>3</td><td>3</td><td>3</td><td>3</td><td>4.0</td></tr>\n",
       "<tr><td>4</td><td>3</td><td>3</td><td>4</td><td>4</td><td>4</td><td>3</td><td>3</td><td>4</td><td>4</td><td>4</td><td>3</td><td>3</td><td>3</td><td>4.0</td></tr>\n",
       "<tr><td>3</td><td>4</td><td>3</td><td>4</td><td>3</td><td>4</td><td>3</td><td>3</td><td>2</td><td>3</td><td>2</td><td>2</td><td>2</td><td>2</td><td>4.0</td></tr>\n",
       "<tr><td>5</td><td>5</td><td>5</td><td>5</td><td>5</td><td>4</td><td>3</td><td>3</td><td>4</td><td>3</td><td>3</td><td>3</td><td>3</td><td>3</td><td>5.0</td></tr>\n",
       "<tr><td>4</td><td>4</td><td>4</td><td>4</td><td>3</td><td>3</td><td>3</td><td>3</td><td>4</td><td>4</td><td>4</td><td>3</td><td>3</td><td>3</td><td>4.0</td></tr>\n",
       "<tr><td>5</td><td>5</td><td>5</td><td>5</td><td>5</td><td>5</td><td>5</td><td>5</td><td>5</td><td>5</td><td>5</td><td>5</td><td>3</td><td>5</td><td>5.0</td></tr>\n",
       "<tr><td>5</td><td>5</td><td>5</td><td>5</td><td>5</td><td>5</td><td>5</td><td>5</td><td>5</td><td>5</td><td>5</td><td>5</td><td>5</td><td>5</td><td>5.0</td></tr>\n",
       "<tr><td>3</td><td>4</td><td>3</td><td>5</td><td>5</td><td>5</td><td>3</td><td>3</td><td>3</td><td>3</td><td>3</td><td>3</td><td>3</td><td>3</td><td>5.0</td></tr>\n",
       "<tr><td>5</td><td>5</td><td>5</td><td>5</td><td>5</td><td>5</td><td>5</td><td>5</td><td>5</td><td>4</td><td>4</td><td>4</td><td>4</td><td>4</td><td>5.0</td></tr>\n",
       "<tr><td>3</td><td>3</td><td>3</td><td>3</td><td>4</td><td>4</td><td>3</td><td>3</td><td>4</td><td>3</td><td>3</td><td>3</td><td>3</td><td>3</td><td>3.0</td></tr>\n",
       "<tr><td>3</td><td>3</td><td>3</td><td>3</td><td>3</td><td>3</td><td>3</td><td>3</td><td>3</td><td>2</td><td>2</td><td>4</td><td>3</td><td>3</td><td>3.0</td></tr>\n",
       "<tr><td>3</td><td>4</td><td>3</td><td>4</td><td>5</td><td>5</td><td>3</td><td>3</td><td>3</td><td>3</td><td>3</td><td>3</td><td>3</td><td>3</td><td>5.0</td></tr>\n",
       "<tr><td>3</td><td>3</td><td>3</td><td>4</td><td>5</td><td>3</td><td>3</td><td>3</td><td>5</td><td>3</td><td>3</td><td>3</td><td>3</td><td>3</td><td>4.0</td></tr>\n",
       "</table>\n",
       "only showing top 20 rows\n"
      ],
      "text/plain": [
       "+-----+------+-------+------+---------+---------+----------+--------+------+-------+------+----------+-----------+--------+-----+\n",
       "|Q7ART|Q7FOOD|Q7STORE|Q7SIGN|Q7WALKWAY|Q7SCREENS|Q7INFODOWN|Q7INFOUP|Q7WIFI|Q7ROADS|Q7PARK|Q7AIRTRAIN|Q7LTPARKING|Q7RENTAL|label|\n",
       "+-----+------+-------+------+---------+---------+----------+--------+------+-------+------+----------+-----------+--------+-----+\n",
       "|    3|     3|      3|     4|        4|        4|         4|       4|     4|      4|     3|         3|          3|       3|  4.0|\n",
       "|    3|     3|      4|     4|        4|        5|         3|       3|     2|      4|     3|         4|          3|       2|  4.0|\n",
       "|    3|     3|      4|     4|        3|        4|         3|       3|     5|      3|     3|         3|          3|       3|  4.0|\n",
       "|    3|     4|      4|     4|        5|        4|         3|       3|     5|      3|     3|         3|          3|       3|  4.0|\n",
       "|    3|     3|      3|     3|        3|        3|         3|       3|     3|      3|     3|         3|          3|       3|  3.0|\n",
       "|    3|     4|      3|     3|        3|        3|         3|       3|     3|      3|     3|         3|          3|       3|  4.0|\n",
       "|    4|     3|      3|     2|        3|        4|         4|       4|     5|      3|     3|         3|          3|       3|  4.0|\n",
       "|    3|     3|      3|     4|        4|        4|         3|       3|     4|      3|     3|         3|          3|       3|  4.0|\n",
       "|    4|     3|      3|     4|        4|        4|         3|       3|     4|      4|     4|         3|          3|       3|  4.0|\n",
       "|    3|     4|      3|     4|        3|        4|         3|       3|     2|      3|     2|         2|          2|       2|  4.0|\n",
       "|    5|     5|      5|     5|        5|        4|         3|       3|     4|      3|     3|         3|          3|       3|  5.0|\n",
       "|    4|     4|      4|     4|        3|        3|         3|       3|     4|      4|     4|         3|          3|       3|  4.0|\n",
       "|    5|     5|      5|     5|        5|        5|         5|       5|     5|      5|     5|         5|          3|       5|  5.0|\n",
       "|    5|     5|      5|     5|        5|        5|         5|       5|     5|      5|     5|         5|          5|       5|  5.0|\n",
       "|    3|     4|      3|     5|        5|        5|         3|       3|     3|      3|     3|         3|          3|       3|  5.0|\n",
       "|    5|     5|      5|     5|        5|        5|         5|       5|     5|      4|     4|         4|          4|       4|  5.0|\n",
       "|    3|     3|      3|     3|        4|        4|         3|       3|     4|      3|     3|         3|          3|       3|  3.0|\n",
       "|    3|     3|      3|     3|        3|        3|         3|       3|     3|      2|     2|         4|          3|       3|  3.0|\n",
       "|    3|     4|      3|     4|        5|        5|         3|       3|     3|      3|     3|         3|          3|       3|  5.0|\n",
       "|    3|     3|      3|     4|        5|        3|         3|       3|     5|      3|     3|         3|          3|       3|  4.0|\n",
       "+-----+------+-------+------+---------+---------+----------+--------+------+-------+------+----------+-----------+--------+-----+\n",
       "only showing top 20 rows"
      ]
     },
     "metadata": {},
     "output_type": "display_data"
    }
   ],
   "source": [
    "training = dataset.withColumn(\"label\", dataset['Q7ALL']*1.0).na.fill(value=0).replace(0,3).replace(6,3).drop('Q7ALL')\n",
    "display(training)"
   ]
  },
  {
   "cell_type": "code",
   "execution_count": 56,
   "id": "cbbde7cd-511a-41f1-898a-33c23ffb5ce3",
   "metadata": {},
   "outputs": [],
   "source": [
    "from pyspark.ml import Pipeline\n",
    "from pyspark.ml.feature import VectorAssembler\n",
    "from pyspark.ml.regression import DecisionTreeRegressor\n",
    "from pyspark.ml.tuning import ParamGridBuilder, CrossValidator\n",
    "from pyspark.ml.evaluation import RegressionEvaluator\n",
    " \n",
    "inputCols = training.columns[:-1]\n",
    "\n",
    "va = VectorAssembler(inputCols=inputCols,outputCol=\"features\")\n",
    "dt = DecisionTreeRegressor(labelCol=\"label\", featuresCol=\"features\", maxDepth=4)\n",
    "evaluator = RegressionEvaluator(metricName = \"rmse\", labelCol=\"label\")\n",
    "grid = ParamGridBuilder().addGrid(dt.maxDepth, [3, 5, 7, 10]).build()\n",
    "cv = CrossValidator(estimator=dt, estimatorParamMaps=grid, evaluator=evaluator, numFolds = 10)\n",
    "pipeline = Pipeline(stages=[va, dt])"
   ]
  },
  {
   "cell_type": "code",
   "execution_count": 57,
   "id": "6a18c734-d11d-43c5-bc3a-d9ed6183f935",
   "metadata": {},
   "outputs": [],
   "source": [
    "model = pipeline.fit(training)"
   ]
  },
  {
   "cell_type": "code",
   "execution_count": 58,
   "id": "8feb72c2-801a-47e3-ac5d-f0bacdfe9c02",
   "metadata": {},
   "outputs": [
    {
     "data": {
      "text/plain": [
       "DecisionTreeRegressionModel: uid=DecisionTreeRegressor_4b6fc452f34e, depth=4, numNodes=31, numFeatures=14"
      ]
     },
     "metadata": {},
     "output_type": "display_data"
    }
   ],
   "source": [
    "display(model.stages[-1])"
   ]
  },
  {
   "cell_type": "code",
   "execution_count": 59,
   "id": "aa57963e-8915-4782-816f-3e0237d027c5",
   "metadata": {},
   "outputs": [
    {
     "data": {
      "text/html": [
       "<table border='1'>\n",
       "<tr><th>Q7ART</th><th>Q7FOOD</th><th>Q7STORE</th><th>Q7SIGN</th><th>Q7WALKWAY</th><th>Q7SCREENS</th><th>Q7INFODOWN</th><th>Q7INFOUP</th><th>Q7WIFI</th><th>Q7ROADS</th><th>Q7PARK</th><th>Q7AIRTRAIN</th><th>Q7LTPARKING</th><th>Q7RENTAL</th><th>label</th><th>features</th><th>prediction</th></tr>\n",
       "<tr><td>3</td><td>3</td><td>3</td><td>4</td><td>4</td><td>4</td><td>4</td><td>4</td><td>4</td><td>4</td><td>3</td><td>3</td><td>3</td><td>3</td><td>4.0</td><td>[3.0,3.0,3.0,4.0,...</td><td>3.807531380753138</td></tr>\n",
       "<tr><td>3</td><td>3</td><td>4</td><td>4</td><td>4</td><td>5</td><td>3</td><td>3</td><td>2</td><td>4</td><td>3</td><td>4</td><td>3</td><td>2</td><td>4.0</td><td>[3.0,3.0,4.0,4.0,...</td><td>3.807531380753138</td></tr>\n",
       "<tr><td>3</td><td>3</td><td>4</td><td>4</td><td>3</td><td>4</td><td>3</td><td>3</td><td>5</td><td>3</td><td>3</td><td>3</td><td>3</td><td>3</td><td>4.0</td><td>[3.0,3.0,4.0,4.0,...</td><td>3.807531380753138</td></tr>\n",
       "<tr><td>3</td><td>4</td><td>4</td><td>4</td><td>5</td><td>4</td><td>3</td><td>3</td><td>5</td><td>3</td><td>3</td><td>3</td><td>3</td><td>3</td><td>4.0</td><td>[3.0,4.0,4.0,4.0,...</td><td>3.807531380753138</td></tr>\n",
       "<tr><td>3</td><td>3</td><td>3</td><td>3</td><td>3</td><td>3</td><td>3</td><td>3</td><td>3</td><td>3</td><td>3</td><td>3</td><td>3</td><td>3</td><td>3.0</td><td>[3.0,3.0,3.0,3.0,...</td><td>3.34032634032634</td></tr>\n",
       "<tr><td>3</td><td>4</td><td>3</td><td>3</td><td>3</td><td>3</td><td>3</td><td>3</td><td>3</td><td>3</td><td>3</td><td>3</td><td>3</td><td>3</td><td>4.0</td><td>[3.0,4.0,3.0,3.0,...</td><td>3.34032634032634</td></tr>\n",
       "<tr><td>4</td><td>3</td><td>3</td><td>2</td><td>3</td><td>4</td><td>4</td><td>4</td><td>5</td><td>3</td><td>3</td><td>3</td><td>3</td><td>3</td><td>4.0</td><td>[4.0,3.0,3.0,2.0,...</td><td>4.070967741935484</td></tr>\n",
       "<tr><td>3</td><td>3</td><td>3</td><td>4</td><td>4</td><td>4</td><td>3</td><td>3</td><td>4</td><td>3</td><td>3</td><td>3</td><td>3</td><td>3</td><td>4.0</td><td>[3.0,3.0,3.0,4.0,...</td><td>3.807531380753138</td></tr>\n",
       "<tr><td>4</td><td>3</td><td>3</td><td>4</td><td>4</td><td>4</td><td>3</td><td>3</td><td>4</td><td>4</td><td>4</td><td>3</td><td>3</td><td>3</td><td>4.0</td><td>[4.0,3.0,3.0,4.0,...</td><td>4.070967741935484</td></tr>\n",
       "<tr><td>3</td><td>4</td><td>3</td><td>4</td><td>3</td><td>4</td><td>3</td><td>3</td><td>2</td><td>3</td><td>2</td><td>2</td><td>2</td><td>2</td><td>4.0</td><td>[3.0,4.0,3.0,4.0,...</td><td>3.807531380753138</td></tr>\n",
       "<tr><td>5</td><td>5</td><td>5</td><td>5</td><td>5</td><td>4</td><td>3</td><td>3</td><td>4</td><td>3</td><td>3</td><td>3</td><td>3</td><td>3</td><td>5.0</td><td>[5.0,5.0,5.0,5.0,...</td><td>4.711229946524064</td></tr>\n",
       "<tr><td>4</td><td>4</td><td>4</td><td>4</td><td>3</td><td>3</td><td>3</td><td>3</td><td>4</td><td>4</td><td>4</td><td>3</td><td>3</td><td>3</td><td>4.0</td><td>[4.0,4.0,4.0,4.0,...</td><td>3.870967741935484</td></tr>\n",
       "<tr><td>5</td><td>5</td><td>5</td><td>5</td><td>5</td><td>5</td><td>5</td><td>5</td><td>5</td><td>5</td><td>5</td><td>5</td><td>3</td><td>5</td><td>5.0</td><td>[5.0,5.0,5.0,5.0,...</td><td>4.711229946524064</td></tr>\n",
       "<tr><td>5</td><td>5</td><td>5</td><td>5</td><td>5</td><td>5</td><td>5</td><td>5</td><td>5</td><td>5</td><td>5</td><td>5</td><td>5</td><td>5</td><td>5.0</td><td>[5.0,5.0,5.0,5.0,...</td><td>5.0</td></tr>\n",
       "<tr><td>3</td><td>4</td><td>3</td><td>5</td><td>5</td><td>5</td><td>3</td><td>3</td><td>3</td><td>3</td><td>3</td><td>3</td><td>3</td><td>3</td><td>5.0</td><td>[3.0,4.0,3.0,5.0,...</td><td>4.229333333333333</td></tr>\n",
       "<tr><td>5</td><td>5</td><td>5</td><td>5</td><td>5</td><td>5</td><td>5</td><td>5</td><td>5</td><td>4</td><td>4</td><td>4</td><td>4</td><td>4</td><td>5.0</td><td>[5.0,5.0,5.0,5.0,...</td><td>4.711229946524064</td></tr>\n",
       "<tr><td>3</td><td>3</td><td>3</td><td>3</td><td>4</td><td>4</td><td>3</td><td>3</td><td>4</td><td>3</td><td>3</td><td>3</td><td>3</td><td>3</td><td>3.0</td><td>[3.0,3.0,3.0,3.0,...</td><td>3.807531380753138</td></tr>\n",
       "<tr><td>3</td><td>3</td><td>3</td><td>3</td><td>3</td><td>3</td><td>3</td><td>3</td><td>3</td><td>2</td><td>2</td><td>4</td><td>3</td><td>3</td><td>3.0</td><td>[3.0,3.0,3.0,3.0,...</td><td>3.34032634032634</td></tr>\n",
       "<tr><td>3</td><td>4</td><td>3</td><td>4</td><td>5</td><td>5</td><td>3</td><td>3</td><td>3</td><td>3</td><td>3</td><td>3</td><td>3</td><td>3</td><td>5.0</td><td>[3.0,4.0,3.0,4.0,...</td><td>3.807531380753138</td></tr>\n",
       "<tr><td>3</td><td>3</td><td>3</td><td>4</td><td>5</td><td>3</td><td>3</td><td>3</td><td>5</td><td>3</td><td>3</td><td>3</td><td>3</td><td>3</td><td>4.0</td><td>[3.0,3.0,3.0,4.0,...</td><td>3.4910714285714284</td></tr>\n",
       "</table>\n",
       "only showing top 20 rows\n"
      ],
      "text/plain": [
       "+-----+------+-------+------+---------+---------+----------+--------+------+-------+------+----------+-----------+--------+-----+--------------------+------------------+\n",
       "|Q7ART|Q7FOOD|Q7STORE|Q7SIGN|Q7WALKWAY|Q7SCREENS|Q7INFODOWN|Q7INFOUP|Q7WIFI|Q7ROADS|Q7PARK|Q7AIRTRAIN|Q7LTPARKING|Q7RENTAL|label|            features|        prediction|\n",
       "+-----+------+-------+------+---------+---------+----------+--------+------+-------+------+----------+-----------+--------+-----+--------------------+------------------+\n",
       "|    3|     3|      3|     4|        4|        4|         4|       4|     4|      4|     3|         3|          3|       3|  4.0|[3.0,3.0,3.0,4.0,...| 3.807531380753138|\n",
       "|    3|     3|      4|     4|        4|        5|         3|       3|     2|      4|     3|         4|          3|       2|  4.0|[3.0,3.0,4.0,4.0,...| 3.807531380753138|\n",
       "|    3|     3|      4|     4|        3|        4|         3|       3|     5|      3|     3|         3|          3|       3|  4.0|[3.0,3.0,4.0,4.0,...| 3.807531380753138|\n",
       "|    3|     4|      4|     4|        5|        4|         3|       3|     5|      3|     3|         3|          3|       3|  4.0|[3.0,4.0,4.0,4.0,...| 3.807531380753138|\n",
       "|    3|     3|      3|     3|        3|        3|         3|       3|     3|      3|     3|         3|          3|       3|  3.0|[3.0,3.0,3.0,3.0,...|  3.34032634032634|\n",
       "|    3|     4|      3|     3|        3|        3|         3|       3|     3|      3|     3|         3|          3|       3|  4.0|[3.0,4.0,3.0,3.0,...|  3.34032634032634|\n",
       "|    4|     3|      3|     2|        3|        4|         4|       4|     5|      3|     3|         3|          3|       3|  4.0|[4.0,3.0,3.0,2.0,...| 4.070967741935484|\n",
       "|    3|     3|      3|     4|        4|        4|         3|       3|     4|      3|     3|         3|          3|       3|  4.0|[3.0,3.0,3.0,4.0,...| 3.807531380753138|\n",
       "|    4|     3|      3|     4|        4|        4|         3|       3|     4|      4|     4|         3|          3|       3|  4.0|[4.0,3.0,3.0,4.0,...| 4.070967741935484|\n",
       "|    3|     4|      3|     4|        3|        4|         3|       3|     2|      3|     2|         2|          2|       2|  4.0|[3.0,4.0,3.0,4.0,...| 3.807531380753138|\n",
       "|    5|     5|      5|     5|        5|        4|         3|       3|     4|      3|     3|         3|          3|       3|  5.0|[5.0,5.0,5.0,5.0,...| 4.711229946524064|\n",
       "|    4|     4|      4|     4|        3|        3|         3|       3|     4|      4|     4|         3|          3|       3|  4.0|[4.0,4.0,4.0,4.0,...| 3.870967741935484|\n",
       "|    5|     5|      5|     5|        5|        5|         5|       5|     5|      5|     5|         5|          3|       5|  5.0|[5.0,5.0,5.0,5.0,...| 4.711229946524064|\n",
       "|    5|     5|      5|     5|        5|        5|         5|       5|     5|      5|     5|         5|          5|       5|  5.0|[5.0,5.0,5.0,5.0,...|               5.0|\n",
       "|    3|     4|      3|     5|        5|        5|         3|       3|     3|      3|     3|         3|          3|       3|  5.0|[3.0,4.0,3.0,5.0,...| 4.229333333333333|\n",
       "|    5|     5|      5|     5|        5|        5|         5|       5|     5|      4|     4|         4|          4|       4|  5.0|[5.0,5.0,5.0,5.0,...| 4.711229946524064|\n",
       "|    3|     3|      3|     3|        4|        4|         3|       3|     4|      3|     3|         3|          3|       3|  3.0|[3.0,3.0,3.0,3.0,...| 3.807531380753138|\n",
       "|    3|     3|      3|     3|        3|        3|         3|       3|     3|      2|     2|         4|          3|       3|  3.0|[3.0,3.0,3.0,3.0,...|  3.34032634032634|\n",
       "|    3|     4|      3|     4|        5|        5|         3|       3|     3|      3|     3|         3|          3|       3|  5.0|[3.0,4.0,3.0,4.0,...| 3.807531380753138|\n",
       "|    3|     3|      3|     4|        5|        3|         3|       3|     5|      3|     3|         3|          3|       3|  4.0|[3.0,3.0,3.0,4.0,...|3.4910714285714284|\n",
       "+-----+------+-------+------+---------+---------+----------+--------+------+-------+------+----------+-----------+--------+-----+--------------------+------------------+\n",
       "only showing top 20 rows"
      ]
     },
     "metadata": {},
     "output_type": "display_data"
    }
   ],
   "source": [
    "predictions = model.transform(training)\n",
    "display(predictions)"
   ]
  },
  {
   "cell_type": "code",
   "execution_count": 64,
   "id": "ee67ebc1-d192-459c-92c9-3f8b6b470a59",
   "metadata": {},
   "outputs": [
    {
     "data": {
      "text/plain": [
       "0.6305952817761662"
      ]
     },
     "execution_count": 64,
     "metadata": {},
     "output_type": "execute_result"
    }
   ],
   "source": [
    "from pyspark.ml.evaluation import RegressionEvaluator\n",
    "from pyspark.sql.functions import * \n",
    " \n",
    "evaluator = RegressionEvaluator()\n",
    " \n",
    "evaluator.evaluate(predictions.withColumn('prediction', round(col('prediction'))), {evaluator.metricName: \"rmse\"})"
   ]
  },
  {
   "cell_type": "code",
   "execution_count": 65,
   "id": "4856a5d0-18e1-4caa-8de2-6ea06021ac1a",
   "metadata": {},
   "outputs": [
    {
     "data": {
      "text/plain": [
       "SparseVector(14, {0: 0.0694, 1: 0.1365, 2: 0.0366, 3: 0.5505, 4: 0.0031, 5: 0.1809, 10: 0.0166, 12: 0.0065})"
      ]
     },
     "execution_count": 65,
     "metadata": {},
     "output_type": "execute_result"
    }
   ],
   "source": [
    "model.stages[1].featureImportances"
   ]
  },
  {
   "cell_type": "code",
   "execution_count": 66,
   "id": "82968f79-32c6-45b3-a441-4c0ce6756647",
   "metadata": {},
   "outputs": [],
   "source": [
    "featureImportance = model.stages[1].featureImportances.toArray()\n",
    "featureNames = map(lambda s: s.name, dataset.schema.fields)\n",
    "featureImportanceMap = zip(featureImportance, featureNames)"
   ]
  },
  {
   "cell_type": "code",
   "execution_count": 68,
   "id": "1d3673fe-71ca-4669-a97d-180f35d9fbfd",
   "metadata": {},
   "outputs": [
    {
     "data": {
      "text/html": [
       "<table border='1'>\n",
       "<tr><th>Feature</th><th>Importance</th></tr>\n",
       "<tr><td>Q7SIGN</td><td>0.5504690497103084</td></tr>\n",
       "<tr><td>Q7SCREENS</td><td>0.18093490191263886</td></tr>\n",
       "<tr><td>Q7FOOD</td><td>0.13652080272942918</td></tr>\n",
       "<tr><td>Q7ART</td><td>0.0694055570462642</td></tr>\n",
       "<tr><td>Q7STORE</td><td>0.03656774137077657</td></tr>\n",
       "<tr><td>Q7PARK</td><td>0.016554999116558958</td></tr>\n",
       "<tr><td>Q7LTPARKING</td><td>0.006463821484460761</td></tr>\n",
       "<tr><td>Q7WALKWAY</td><td>0.003083126629562986</td></tr>\n",
       "<tr><td>Q7ROADS</td><td>0.0</td></tr>\n",
       "<tr><td>Q7INFOUP</td><td>0.0</td></tr>\n",
       "<tr><td>Q7WIFI</td><td>0.0</td></tr>\n",
       "<tr><td>Q7RENTAL</td><td>0.0</td></tr>\n",
       "<tr><td>Q7AIRTRAIN</td><td>0.0</td></tr>\n",
       "<tr><td>Q7INFODOWN</td><td>0.0</td></tr>\n",
       "</table>\n"
      ],
      "text/plain": [
       "+-----------+--------------------+\n",
       "|    Feature|          Importance|\n",
       "+-----------+--------------------+\n",
       "|     Q7SIGN|  0.5504690497103084|\n",
       "|  Q7SCREENS| 0.18093490191263886|\n",
       "|     Q7FOOD| 0.13652080272942918|\n",
       "|      Q7ART|  0.0694055570462642|\n",
       "|    Q7STORE| 0.03656774137077657|\n",
       "|     Q7PARK|0.016554999116558958|\n",
       "|Q7LTPARKING|0.006463821484460761|\n",
       "|  Q7WALKWAY|0.003083126629562986|\n",
       "| Q7INFODOWN|                 0.0|\n",
       "|   Q7RENTAL|                 0.0|\n",
       "|    Q7ROADS|                 0.0|\n",
       "| Q7AIRTRAIN|                 0.0|\n",
       "|   Q7INFOUP|                 0.0|\n",
       "|     Q7WIFI|                 0.0|\n",
       "+-----------+--------------------+"
      ]
     },
     "metadata": {},
     "output_type": "display_data"
    }
   ],
   "source": [
    "importancesDf = spark.createDataFrame(spark.sparkContext.parallelize(featureImportanceMap).map(lambda r: [r[1], float(r[0])]))\n",
    "importancesDf = importancesDf.withColumnRenamed(\"_1\", \"Feature\").withColumnRenamed(\"_2\", \"Importance\")\n",
    "display(importancesDf.orderBy(desc(\"Importance\")))"
   ]
  },
  {
   "cell_type": "markdown",
   "id": "f9f7668e-e4f5-4fd0-a357-b30ee7dbb599",
   "metadata": {},
   "source": [
    "As you can see below, the 3 most important features are:\n",
    "\n",
    "- Signs\n",
    "- Screens\n",
    "- Food\n",
    "\n",
    "This is useful information for the airport management. It means that people want to first know where they are going. Second, they check the airport screens and monitors so they can find their gate and be on time for their flight. Third, they like to have good quality food.\n",
    "\n",
    "This is especially interesting considering that taking the average of these feature variables told us nothing about the importance of the variables in determining the overall rating by the survey responder.\n",
    "\n",
    "These 3 features combine to make up 86% of the overall rating."
   ]
  },
  {
   "cell_type": "code",
   "execution_count": 70,
   "id": "9ee95717-55ee-4306-bf53-f21fc7bc2dbd",
   "metadata": {},
   "outputs": [
    {
     "data": {
      "text/plain": [
       "[Row(sum(Importance)=0.8679247543523765)]"
      ]
     },
     "execution_count": 70,
     "metadata": {},
     "output_type": "execute_result"
    }
   ],
   "source": [
    "importancesDf.orderBy(desc(\"Importance\")).limit(3).agg(sum(\"Importance\")).take(1)"
   ]
  },
  {
   "cell_type": "code",
   "execution_count": 72,
   "id": "2a1d0471-7f50-4c7a-aac6-135240852d40",
   "metadata": {},
   "outputs": [
    {
     "data": {
      "text/plain": [
       "<AxesSubplot: xlabel='Feature'>"
      ]
     },
     "execution_count": 72,
     "metadata": {},
     "output_type": "execute_result"
    },
    {
     "data": {
      "image/png": "[encoded data removed]",
      "text/plain": [
       "<Figure size 640x480 with 1 Axes>"
      ]
     },
     "metadata": {},
     "output_type": "display_data"
    }
   ],
   "source": [
    "importancesDf.orderBy(desc(\"Importance\")).toPandas().plot(x=\"Feature\",kind=\"bar\")"
   ]
  },
  {
   "cell_type": "code",
   "execution_count": null,
   "id": "13295a96-2523-43df-8973-b1cf888a5338",
   "metadata": {},
   "outputs": [],
   "source": []
  }
 ],
 "metadata": {
  "kernelspec": {
   "display_name": "Python 3 (ipykernel)",
   "language": "python",
   "name": "python3"
  },
  "language_info": {
   "codemirror_mode": {
    "name": "ipython",
    "version": 3
   },
   "file_extension": ".py",
   "mimetype": "text/x-python",
   "name": "python",
   "nbconvert_exporter": "python",
   "pygments_lexer": "ipython3",
   "version": "3.10.8"
  }
 },
 "nbformat": 4,
 "nbformat_minor": 5
}
