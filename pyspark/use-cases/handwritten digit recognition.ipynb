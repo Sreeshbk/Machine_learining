{
 "cells": [
  {
   "cell_type": "markdown",
   "id": "362f49b1-e515-4ed3-9e1b-2a6637ffd6d0",
   "metadata": {},
   "source": [
    "# Decision Trees for handwritten digit recognition"
   ]
  },
  {
   "cell_type": "markdown",
   "id": "0c902f34-8940-4ad3-94e3-1ca44fa786d5",
   "metadata": {},
   "source": [
    "This notebook demonstrates learning a Decision Tree using Spark's distributed implementation. It gives the reader a better understanding of some critical hyperparameters for the tree learning algorithm, using examples to demonstrate how tuning the hyperparameters can improve accuracy.\n",
    "\n",
    "- Background: To learn more about Decision Trees, check out the resources at the end of this notebook. The visual description of ML and Decision Trees provides nice intuition helpful to understand this notebook, and Wikipedia gives lots of details.\n",
    "- Data: We use the classic MNIST handwritten digit recognition dataset.\n",
    "- Goal: Our goal for our data is to learn how to recognize digits (0 - 9) from images of handwriting. However, we will focus on understanding trees, not on this particular learning problem.\n",
    "- Takeaways: Decision Trees take several hyperparameters which can affect the accuracy of the learned model. There is no one \"best\" setting for these for all datasets. To get the optimal accuracy, we need to tune these hyperparameters based on our data."
   ]
  },
  {
   "cell_type": "code",
   "execution_count": 1,
   "id": "f33dd669-5164-4a4c-8c7a-82b3274a02cb",
   "metadata": {},
   "outputs": [],
   "source": [
    "#!rm -rf data"
   ]
  },
  {
   "cell_type": "code",
   "execution_count": 2,
   "id": "e18beb3c-9835-4cfc-9636-96fbd7ae2b88",
   "metadata": {},
   "outputs": [],
   "source": [
    "import mlflow.pyfunc\n",
    "import mlflow.spark\n",
    "import mlflow\n",
    "from mlflow.tracking import MlflowClient\n",
    " \n",
    "mlflow.set_tracking_uri(\"http://host.docker.internal:5000\")\n",
    "client = MlflowClient(\"http://host.docker.internal:5000\")"
   ]
  },
  {
   "cell_type": "code",
   "execution_count": 3,
   "id": "3a460e77-43e7-497c-9a61-81e4e9ef49b4",
   "metadata": {},
   "outputs": [],
   "source": [
    "from pyspark import SparkFiles\n",
    "from pyspark.sql.session import SparkSession\n",
    "spark = SparkSession.builder.appName('handwritten digit recognition').getOrCreate()"
   ]
  },
  {
   "cell_type": "code",
   "execution_count": 4,
   "id": "280c329e-a057-425e-bebf-53711ce3a620",
   "metadata": {},
   "outputs": [],
   "source": [
    "#!mkdir data ;wget https://raw.githubusercontent.com/sbussmann/kaggle-mnist/master/Data/train.csv  -O data/train.csv\n",
    "#!wget https://raw.githubusercontent.com/sbussmann/kaggle-mnist/master/Data/test.csv  -O data/test.csv"
   ]
  },
  {
   "cell_type": "code",
   "execution_count": 5,
   "id": "0f24080c-9363-4b7f-a1ed-61fb85446fcb",
   "metadata": {},
   "outputs": [
    {
     "name": "stdout",
     "output_type": "stream",
     "text": [
      "We have $42000 in training images and $28001 in test images   \n"
     ]
    }
   ],
   "source": [
    "from pyspark.sql.functions import *\n",
    "from pyspark.sql.window import Window\n",
    "data = spark.read.format(\"csv\").option(\"header\",\"true\").option(\"inferSchema\",\"true\").load('./data/train.csv')\n",
    "data_test = spark.read.format(\"csv\").option(\"inferSchema\",\"true\").load('./data/test.csv', schema = data.schema[1:])\n",
    "\n",
    "print(f\"We have ${data.count()} in training images and ${data_test.count()} in test images   \")"
   ]
  },
  {
   "cell_type": "code",
   "execution_count": 6,
   "id": "2e9da4a2-c3a0-4031-9531-aa4337d9cb97",
   "metadata": {},
   "outputs": [
    {
     "name": "stdout",
     "output_type": "stream",
     "text": [
      "We have $37794 training images and $4206 validation images .\n"
     ]
    }
   ],
   "source": [
    "\n",
    "windowSpec  = Window.partitionBy(\"label\")\n",
    "windowSpecAgg = windowSpec.orderBy('rnd')\n",
    "data = data.withColumn('rnd',rand())\\\n",
    "    .withColumn(\"rn_\", row_number().over(windowSpecAgg)) \\\n",
    "    .withColumn(\"test\", when(col(\"rn_\")/max(col('rn_')).over(windowSpec)*lit(100) >= 90, 0).otherwise(1)) \\\n",
    "    .drop('rnd','rn_') \n",
    "training = data.filter('test==1').drop('test')\n",
    "validation = data.filter('test==0').drop('test')\n",
    "print(f\"We have ${training.count()} training images and ${validation.count()} validation images .\")"
   ]
  },
  {
   "cell_type": "code",
   "execution_count": 7,
   "id": "67ede275-8e32-4e98-974c-d9a15f1fa569",
   "metadata": {},
   "outputs": [
    {
     "name": "stdout",
     "output_type": "stream",
     "text": [
      "+-----+-----+\n",
      "|label|count|\n",
      "+-----+-----+\n",
      "|    0| 3718|\n",
      "|    1| 4215|\n",
      "|    2| 3759|\n",
      "|    3| 3915|\n",
      "|    4| 3664|\n",
      "|    5| 3415|\n",
      "|    6| 3723|\n",
      "|    7| 3960|\n",
      "|    8| 3656|\n",
      "|    9| 3769|\n",
      "+-----+-----+\n",
      "\n"
     ]
    }
   ],
   "source": [
    "training.groupby('label').count().show()"
   ]
  },
  {
   "cell_type": "code",
   "execution_count": 8,
   "id": "870274db-fa17-4964-ba35-64901019613e",
   "metadata": {},
   "outputs": [
    {
     "name": "stdout",
     "output_type": "stream",
     "text": [
      "+-----+-----+\n",
      "|label|count|\n",
      "+-----+-----+\n",
      "|    0|  414|\n",
      "|    1|  469|\n",
      "|    2|  418|\n",
      "|    3|  436|\n",
      "|    4|  408|\n",
      "|    5|  380|\n",
      "|    6|  414|\n",
      "|    7|  441|\n",
      "|    8|  407|\n",
      "|    9|  419|\n",
      "+-----+-----+\n",
      "\n"
     ]
    }
   ],
   "source": [
    "validation.groupby('label').count().show()"
   ]
  },
  {
   "cell_type": "markdown",
   "id": "a6938604-7a0d-4893-a1ba-875120841792",
   "metadata": {},
   "source": [
    "## Train a Decision Tree"
   ]
  },
  {
   "cell_type": "code",
   "execution_count": 9,
   "id": "bd0b9b40-f2dd-4d23-8914-f14a871c36b4",
   "metadata": {},
   "outputs": [],
   "source": [
    "from  pyspark.ml.classification import DecisionTreeClassifier, DecisionTreeClassificationModel\n",
    "from pyspark.ml.feature import StringIndexer,VectorAssembler\n",
    "from pyspark.ml import Pipeline"
   ]
  },
  {
   "cell_type": "code",
   "execution_count": 10,
   "id": "ed909ac0-7c73-4e86-b456-c2bc929522a7",
   "metadata": {},
   "outputs": [],
   "source": [
    "# StringIndexer: Read input column \"label\" (digits) and annotate them as categorical values.\n",
    "vectorizer = VectorAssembler(inputCols=training.columns[1:], outputCol=\"features\", handleInvalid='skip')\n",
    "indexer = StringIndexer(inputCol =\"label\",outputCol=\"indexedLabel\")\n",
    "\n",
    "# DecisionTreeClassifier: Learn to predict column \"indexedLabel\" using the \"features\" column.\n",
    "dtc =  DecisionTreeClassifier( featuresCol=\"features\",labelCol=\"indexedLabel\")\n",
    "stages = [indexer,vectorizer, dtc]\n",
    "# Chain indexer + dtc together into a single ML Pipeline.\n",
    "pipeline = Pipeline().setStages(stages)"
   ]
  },
  {
   "cell_type": "code",
   "execution_count": 11,
   "id": "33bea4f0-0573-434d-92fc-5c18f1c6b538",
   "metadata": {},
   "outputs": [],
   "source": [
    "model = pipeline.fit(training)"
   ]
  },
  {
   "cell_type": "code",
   "execution_count": 12,
   "id": "d44d4aea-74d4-47e4-bd52-cf4ab923c961",
   "metadata": {},
   "outputs": [
    {
     "data": {
      "text/plain": [
       "DecisionTreeClassificationModel: uid=DecisionTreeClassifier_0a0822dbae58, depth=5, numNodes=59, numClasses=10, numFeatures=784"
      ]
     },
     "metadata": {},
     "output_type": "display_data"
    }
   ],
   "source": [
    "tree = model.stages[-1]\n",
    "display(tree)"
   ]
  },
  {
   "cell_type": "code",
   "execution_count": 13,
   "id": "ddbd217b-2132-4f9a-9a08-2c4e0ef335b5",
   "metadata": {},
   "outputs": [],
   "source": [
    "from pyspark.ml.evaluation import MulticlassClassificationEvaluator\n",
    "evaluator = MulticlassClassificationEvaluator(labelCol=\"indexedLabel\", \n",
    "                                               predictionCol=\"prediction\", \n",
    "                                               metricName=\"accuracy\")"
   ]
  },
  {
   "cell_type": "code",
   "execution_count": 14,
   "id": "9309471d-becb-411a-a85a-049c6de20232",
   "metadata": {},
   "outputs": [
    {
     "name": "stdout",
     "output_type": "stream",
     "text": [
      "+-----+------------+--------------------+----------+\n",
      "|label|indexedLabel|            features|prediction|\n",
      "+-----+------------+--------------------+----------+\n",
      "|    1|         0.0|(784,[152,153,154...|       0.0|\n",
      "|    1|         0.0|(784,[125,126,127...|       0.0|\n",
      "+-----+------------+--------------------+----------+\n",
      "only showing top 2 rows\n",
      "\n"
     ]
    },
    {
     "data": {
      "text/plain": [
       "0.6795054683785069"
      ]
     },
     "execution_count": 14,
     "metadata": {},
     "output_type": "execute_result"
    }
   ],
   "source": [
    "val_pred = model.transform(validation)\n",
    "val_pred.select(\"label\",\"indexedLabel\",\"features\",\"prediction\").show(2)\n",
    "evaluator.evaluate(val_pred)"
   ]
  },
  {
   "cell_type": "code",
   "execution_count": 28,
   "id": "d3aba7f6-5ce2-4aeb-b294-d9746c434dae",
   "metadata": {},
   "outputs": [
    {
     "data": {
      "text/plain": [
       "<matplotlib.image.AxesImage at 0x7fdf6c1a73a0>"
      ]
     },
     "execution_count": 28,
     "metadata": {},
     "output_type": "execute_result"
    },
    {
     "data": {
      "image/png": "[encoded data removed]",
      "text/plain": [
       "<Figure size 640x480 with 1 Axes>"
      ]
     },
     "metadata": {},
     "output_type": "display_data"
    }
   ],
   "source": [
    "import matplotlib.pyplot as plt\n",
    "from pyspark.ml.linalg import Vector, DenseVector, SparseVector\n",
    "plt.imshow(DenseVector(val_pred.first().features.toArray()).reshape(28,28),cmap=\"Greys\")"
   ]
  },
  {
   "cell_type": "code",
   "execution_count": 39,
   "id": "aad0b492-91c6-47df-aa82-a7904ecdc88d",
   "metadata": {},
   "outputs": [
    {
     "name": "stdout",
     "output_type": "stream",
     "text": [
      "['1', '7', '3', '9', '2', '6', '0', '4', '8', '5']\n",
      "+-----+--------------------+----------------+\n",
      "|label|            features|prediction_label|\n",
      "+-----+--------------------+----------------+\n",
      "|    1|(784,[152,153,154...|               1|\n",
      "|    1|(784,[125,126,127...|               1|\n",
      "+-----+--------------------+----------------+\n",
      "only showing top 2 rows\n",
      "\n"
     ]
    }
   ],
   "source": [
    "user_labels = model.stages[0].labels\n",
    "print(user_labels)\n",
    "from pyspark.ml.feature import IndexToString\n",
    "\n",
    "user_id_to_label = IndexToString(\n",
    "    inputCol=\"prediction\", outputCol=\"prediction_label\", labels=user_labels)\n",
    "pred_label =user_id_to_label.transform(val_pred).select(\"label\",\"features\",\"prediction_label\")\n",
    "pred_label.show(2)"
   ]
  },
  {
   "cell_type": "code",
   "execution_count": 44,
   "id": "4f40bc8b-1c9d-4d31-bcfa-880c050dd49d",
   "metadata": {},
   "outputs": [
    {
     "name": "stdout",
     "output_type": "stream",
     "text": [
      "root\n",
      " |-- label: integer (nullable = true)\n",
      " |-- features: vector (nullable = true)\n",
      " |-- prediction_label: string (nullable = true)\n",
      "\n"
     ]
    }
   ],
   "source": [
    "pred_label.printSchema()"
   ]
  },
  {
   "cell_type": "code",
   "execution_count": 45,
   "id": "31466f67-f41e-4b33-9052-6a4a492cc225",
   "metadata": {},
   "outputs": [
    {
     "data": {
      "text/plain": [
       "array([[329,   0,   5,   3,   0,  10,  11,  13,   1,   3],\n",
       "       [  0, 362,  15,   1,   4,   7,   0,   8,  10,   1],\n",
       "       [ 11,  25, 307,  48,  22,   8,  27,  15,  37,  13],\n",
       "       [  5,   0,   7, 185,   1,  19,   1,   0,   5,   5],\n",
       "       [  2,  21,   6,   5, 278,  10,  14,  31,  11,  30],\n",
       "       [ 36,   6,  17,  74,   9, 209,  21,   6,  21,   9],\n",
       "       [  6,  12,  22,  11,  33,  34, 300,   0,  25,   5],\n",
       "       [  2,   3,  13,   6,   3,   4,   1, 325,   4,  42],\n",
       "       [ 20,  34,  17,  51,  14,  23,  37,   6, 259,   7],\n",
       "       [  3,   6,   9,  52,  44,  56,   2,  37,  34, 304]])"
      ]
     },
     "execution_count": 45,
     "metadata": {},
     "output_type": "execute_result"
    }
   ],
   "source": [
    "from sklearn.metrics import confusion_matrix\n",
    "confusion_matrix(pred_label.select(\"prediction_label\").collect(),pred_label.select(col(\"label\").cast(StringType())).collect())"
   ]
  },
  {
   "cell_type": "code",
   "execution_count": 46,
   "id": "917df8e0-588b-4a2a-92dd-42e663afbb29",
   "metadata": {},
   "outputs": [],
   "source": [
    "!rm -rf data"
   ]
  }
 ],
 "metadata": {
  "kernelspec": {
   "display_name": "Python 3 (ipykernel)",
   "language": "python",
   "name": "python3"
  },
  "language_info": {
   "codemirror_mode": {
    "name": "ipython",
    "version": 3
   },
   "file_extension": ".py",
   "mimetype": "text/x-python",
   "name": "python",
   "nbconvert_exporter": "python",
   "pygments_lexer": "ipython3",
   "version": "3.10.8"
  }
 },
 "nbformat": 4,
 "nbformat_minor": 5
}
