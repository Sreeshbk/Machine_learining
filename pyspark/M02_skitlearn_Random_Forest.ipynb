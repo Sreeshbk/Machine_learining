{
 "cells": [
  {
   "cell_type": "markdown",
   "id": "efbaca38-8587-456f-96a8-e88b948041f6",
   "metadata": {},
   "source": [
    " It uses algorithms from the popular machine learning package scikit-learn along with MLflow for tracking the model development process and Hyperopt to automate hyperparameter tuning."
   ]
  },
  {
   "cell_type": "code",
   "execution_count": 1,
   "id": "e3a0e015-5a99-460e-8867-d79ce505687e",
   "metadata": {},
   "outputs": [],
   "source": [
    "import mlflow\n",
    "import mlflow.sklearn\n",
    "import pandas as pd\n",
    "import matplotlib.pyplot as plt\n",
    "import seaborn as sns\n",
    " \n",
    "from sklearn.model_selection import train_test_split\n",
    "from sklearn.datasets import fetch_california_housing\n",
    " \n",
    "from sklearn.ensemble import RandomForestRegressor\n",
    "from sklearn.metrics import mean_squared_error\n",
    "mlflow.set_tracking_uri(\"http://host.docker.internal:5000\")"
   ]
  },
  {
   "cell_type": "markdown",
   "id": "b89ba760-e0c5-446b-b8fb-c496efa37d6a",
   "metadata": {},
   "source": [
    "## Load and preprocess data"
   ]
  },
  {
   "cell_type": "code",
   "execution_count": 2,
   "id": "99d91c54-4340-431f-98a2-d7aa69e476c2",
   "metadata": {},
   "outputs": [],
   "source": [
    "cal_housing = fetch_california_housing()\n",
    " \n",
    "# split 80/20 train-test\n",
    "X_train, X_test, y_train, y_test = train_test_split(cal_housing.data,\n",
    "                                                    cal_housing.target,\n",
    "                                                    test_size=0.2)\n"
   ]
  },
  {
   "cell_type": "markdown",
   "id": "10995ebc-927d-4e55-a55b-28331e107d48",
   "metadata": {},
   "source": [
    "## Scale Data"
   ]
  },
  {
   "cell_type": "code",
   "execution_count": 3,
   "id": "fd101e9e-d43f-41bb-8fa2-66fb8c79a00d",
   "metadata": {},
   "outputs": [],
   "source": [
    "from sklearn.preprocessing import StandardScaler\n",
    " \n",
    "scaler = StandardScaler()\n",
    "X_train = scaler.fit_transform(X_train)\n",
    "X_test = scaler.transform(X_test)"
   ]
  },
  {
   "cell_type": "code",
   "execution_count": 4,
   "id": "e13a46c2-a2b7-493b-b032-fd97ee74a32a",
   "metadata": {},
   "outputs": [],
   "source": [
    "# Enable autolog()\n",
    "# mlflow.sklearn.autolog() requires mlflow 1.11.0 or above.\n",
    "mlflow.sklearn.autolog()"
   ]
  },
  {
   "cell_type": "markdown",
   "id": "f44ce9a8-05ef-4eda-8971-fcaa4a083cf3",
   "metadata": {},
   "source": [
    "## Train Model"
   ]
  },
  {
   "cell_type": "code",
   "execution_count": 5,
   "id": "555b356e-78e7-486c-a4a7-75ef37d3b6b3",
   "metadata": {},
   "outputs": [
    {
     "name": "stderr",
     "output_type": "stream",
     "text": [
      "2022/12/12 05:49:48 WARNING mlflow.utils.autologging_utils: MLflow autologging encountered a warning: \"/opt/conda/lib/python3.10/site-packages/_distutils_hack/__init__.py:33: UserWarning: Setuptools is replacing distutils.\"\n"
     ]
    }
   ],
   "source": [
    "# With autolog() enabled, all model parameters, a model score, and the fitted model are automatically logged.  \n",
    "with mlflow.start_run():\n",
    "  \n",
    "    # Set the model parameters. \n",
    "    n_estimators = 100\n",
    "    max_depth = 6\n",
    "    max_features = 3\n",
    "\n",
    "    # Create and train model.\n",
    "    rf = RandomForestRegressor(n_estimators = n_estimators, max_depth = max_depth, max_features = max_features)\n",
    "    rf.fit(X_train, y_train)\n",
    "\n",
    "    # Use the model to make predictions on the test dataset.\n",
    "    predictions = rf.predict(X_test) "
   ]
  },
  {
   "cell_type": "code",
   "execution_count": 6,
   "id": "9c18416d-ed33-44cc-ab99-8679bd9014c2",
   "metadata": {},
   "outputs": [
    {
     "name": "stdout",
     "output_type": "stream",
     "text": [
      " 19%|█▉        | 6/32 [00:21<01:32,  3.56s/trial, best loss: 0.40147786483740683]"
     ]
    },
    {
     "name": "stderr",
     "output_type": "stream",
     "text": [
      "2022/12/12 05:50:13 WARNING mlflow.models.model: Logging model metadata to the tracking server has failed, possibly due older server version. The model artifacts have been logged successfully under mlflow-artifacts:/0/b04c4c6b2a7846e9b88f383b89621a83/artifacts. In addition to exporting model artifacts, MLflow clients 1.7.0 and above attempt to record model metadata to the tracking store. If logging to a mlflow server via REST, consider upgrading the server version to MLflow 1.7.0 or above. Set logging level to DEBUG via `logging.getLogger(\"mlflow\").setLevel(logging.DEBUG)` to see the full traceback.\n",
      "\n"
     ]
    },
    {
     "name": "stdout",
     "output_type": "stream",
     "text": [
      " 22%|██▏       | 7/32 [00:25<01:29,  3.56s/trial, best loss: 0.40147786483740683]"
     ]
    },
    {
     "name": "stderr",
     "output_type": "stream",
     "text": [
      "2022/12/12 05:50:17 WARNING mlflow.models.model: Logging model metadata to the tracking server has failed, possibly due older server version. The model artifacts have been logged successfully under mlflow-artifacts:/0/b04c4c6b2a7846e9b88f383b89621a83/artifacts. In addition to exporting model artifacts, MLflow clients 1.7.0 and above attempt to record model metadata to the tracking store. If logging to a mlflow server via REST, consider upgrading the server version to MLflow 1.7.0 or above. Set logging level to DEBUG via `logging.getLogger(\"mlflow\").setLevel(logging.DEBUG)` to see the full traceback.\n",
      "\n"
     ]
    },
    {
     "name": "stdout",
     "output_type": "stream",
     "text": [
      " 25%|██▌       | 8/32 [00:28<01:25,  3.57s/trial, best loss: 0.40147786483740683]"
     ]
    },
    {
     "name": "stderr",
     "output_type": "stream",
     "text": [
      "2022/12/12 05:50:20 WARNING mlflow.models.model: Logging model metadata to the tracking server has failed, possibly due older server version. The model artifacts have been logged successfully under mlflow-artifacts:/0/b04c4c6b2a7846e9b88f383b89621a83/artifacts. In addition to exporting model artifacts, MLflow clients 1.7.0 and above attempt to record model metadata to the tracking store. If logging to a mlflow server via REST, consider upgrading the server version to MLflow 1.7.0 or above. Set logging level to DEBUG via `logging.getLogger(\"mlflow\").setLevel(logging.DEBUG)` to see the full traceback.\n",
      "\n"
     ]
    },
    {
     "name": "stdout",
     "output_type": "stream",
     "text": [
      " 28%|██▊       | 9/32 [00:32<01:21,  3.55s/trial, best loss: 0.40147786483740683]"
     ]
    },
    {
     "name": "stderr",
     "output_type": "stream",
     "text": [
      "2022/12/12 05:50:24 WARNING mlflow.models.model: Logging model metadata to the tracking server has failed, possibly due older server version. The model artifacts have been logged successfully under mlflow-artifacts:/0/b04c4c6b2a7846e9b88f383b89621a83/artifacts. In addition to exporting model artifacts, MLflow clients 1.7.0 and above attempt to record model metadata to the tracking store. If logging to a mlflow server via REST, consider upgrading the server version to MLflow 1.7.0 or above. Set logging level to DEBUG via `logging.getLogger(\"mlflow\").setLevel(logging.DEBUG)` to see the full traceback.\n",
      "\n"
     ]
    },
    {
     "name": "stdout",
     "output_type": "stream",
     "text": [
      " 31%|███▏      | 10/32 [00:35<01:18,  3.56s/trial, best loss: 0.40147786483740683]"
     ]
    },
    {
     "name": "stderr",
     "output_type": "stream",
     "text": [
      "2022/12/12 05:50:28 WARNING mlflow.models.model: Logging model metadata to the tracking server has failed, possibly due older server version. The model artifacts have been logged successfully under mlflow-artifacts:/0/b04c4c6b2a7846e9b88f383b89621a83/artifacts. In addition to exporting model artifacts, MLflow clients 1.7.0 and above attempt to record model metadata to the tracking store. If logging to a mlflow server via REST, consider upgrading the server version to MLflow 1.7.0 or above. Set logging level to DEBUG via `logging.getLogger(\"mlflow\").setLevel(logging.DEBUG)` to see the full traceback.\n",
      "\n"
     ]
    },
    {
     "name": "stdout",
     "output_type": "stream",
     "text": [
      " 34%|███▍      | 11/32 [00:39<01:14,  3.55s/trial, best loss: 0.39997795162863903]"
     ]
    },
    {
     "name": "stderr",
     "output_type": "stream",
     "text": [
      "2022/12/12 05:50:31 WARNING mlflow.models.model: Logging model metadata to the tracking server has failed, possibly due older server version. The model artifacts have been logged successfully under mlflow-artifacts:/0/b04c4c6b2a7846e9b88f383b89621a83/artifacts. In addition to exporting model artifacts, MLflow clients 1.7.0 and above attempt to record model metadata to the tracking store. If logging to a mlflow server via REST, consider upgrading the server version to MLflow 1.7.0 or above. Set logging level to DEBUG via `logging.getLogger(\"mlflow\").setLevel(logging.DEBUG)` to see the full traceback.\n",
      "\n"
     ]
    },
    {
     "name": "stdout",
     "output_type": "stream",
     "text": [
      " 38%|███▊      | 12/32 [00:42<01:10,  3.53s/trial, best loss: 0.39997795162863903]"
     ]
    },
    {
     "name": "stderr",
     "output_type": "stream",
     "text": [
      "2022/12/12 05:50:35 WARNING mlflow.models.model: Logging model metadata to the tracking server has failed, possibly due older server version. The model artifacts have been logged successfully under mlflow-artifacts:/0/b04c4c6b2a7846e9b88f383b89621a83/artifacts. In addition to exporting model artifacts, MLflow clients 1.7.0 and above attempt to record model metadata to the tracking store. If logging to a mlflow server via REST, consider upgrading the server version to MLflow 1.7.0 or above. Set logging level to DEBUG via `logging.getLogger(\"mlflow\").setLevel(logging.DEBUG)` to see the full traceback.\n",
      "\n"
     ]
    },
    {
     "name": "stdout",
     "output_type": "stream",
     "text": [
      " 41%|████      | 13/32 [00:46<01:07,  3.54s/trial, best loss: 0.39997795162863903]"
     ]
    },
    {
     "name": "stderr",
     "output_type": "stream",
     "text": [
      "2022/12/12 05:50:38 WARNING mlflow.models.model: Logging model metadata to the tracking server has failed, possibly due older server version. The model artifacts have been logged successfully under mlflow-artifacts:/0/b04c4c6b2a7846e9b88f383b89621a83/artifacts. In addition to exporting model artifacts, MLflow clients 1.7.0 and above attempt to record model metadata to the tracking store. If logging to a mlflow server via REST, consider upgrading the server version to MLflow 1.7.0 or above. Set logging level to DEBUG via `logging.getLogger(\"mlflow\").setLevel(logging.DEBUG)` to see the full traceback.\n",
      "\n"
     ]
    },
    {
     "name": "stdout",
     "output_type": "stream",
     "text": [
      " 44%|████▍     | 14/32 [00:49<01:03,  3.53s/trial, best loss: 0.39997795162863903]"
     ]
    },
    {
     "name": "stderr",
     "output_type": "stream",
     "text": [
      "2022/12/12 05:50:42 WARNING mlflow.models.model: Logging model metadata to the tracking server has failed, possibly due older server version. The model artifacts have been logged successfully under mlflow-artifacts:/0/b04c4c6b2a7846e9b88f383b89621a83/artifacts. In addition to exporting model artifacts, MLflow clients 1.7.0 and above attempt to record model metadata to the tracking store. If logging to a mlflow server via REST, consider upgrading the server version to MLflow 1.7.0 or above. Set logging level to DEBUG via `logging.getLogger(\"mlflow\").setLevel(logging.DEBUG)` to see the full traceback.\n",
      "\n"
     ]
    },
    {
     "name": "stdout",
     "output_type": "stream",
     "text": [
      " 47%|████▋     | 15/32 [00:53<01:00,  3.58s/trial, best loss: 0.39981574272524284]"
     ]
    },
    {
     "name": "stderr",
     "output_type": "stream",
     "text": [
      "2022/12/12 05:50:45 WARNING mlflow.models.model: Logging model metadata to the tracking server has failed, possibly due older server version. The model artifacts have been logged successfully under mlflow-artifacts:/0/b04c4c6b2a7846e9b88f383b89621a83/artifacts. In addition to exporting model artifacts, MLflow clients 1.7.0 and above attempt to record model metadata to the tracking store. If logging to a mlflow server via REST, consider upgrading the server version to MLflow 1.7.0 or above. Set logging level to DEBUG via `logging.getLogger(\"mlflow\").setLevel(logging.DEBUG)` to see the full traceback.\n",
      "\n"
     ]
    },
    {
     "name": "stdout",
     "output_type": "stream",
     "text": [
      " 50%|█████     | 16/32 [00:57<00:57,  3.57s/trial, best loss: 0.39981574272524284]"
     ]
    },
    {
     "name": "stderr",
     "output_type": "stream",
     "text": [
      "2022/12/12 05:50:49 WARNING mlflow.models.model: Logging model metadata to the tracking server has failed, possibly due older server version. The model artifacts have been logged successfully under mlflow-artifacts:/0/b04c4c6b2a7846e9b88f383b89621a83/artifacts. In addition to exporting model artifacts, MLflow clients 1.7.0 and above attempt to record model metadata to the tracking store. If logging to a mlflow server via REST, consider upgrading the server version to MLflow 1.7.0 or above. Set logging level to DEBUG via `logging.getLogger(\"mlflow\").setLevel(logging.DEBUG)` to see the full traceback.\n",
      "\n"
     ]
    },
    {
     "name": "stdout",
     "output_type": "stream",
     "text": [
      " 53%|█████▎    | 17/32 [01:00<00:53,  3.55s/trial, best loss: 0.39981574272524284]"
     ]
    },
    {
     "name": "stderr",
     "output_type": "stream",
     "text": [
      "2022/12/12 05:50:52 WARNING mlflow.models.model: Logging model metadata to the tracking server has failed, possibly due older server version. The model artifacts have been logged successfully under mlflow-artifacts:/0/b04c4c6b2a7846e9b88f383b89621a83/artifacts. In addition to exporting model artifacts, MLflow clients 1.7.0 and above attempt to record model metadata to the tracking store. If logging to a mlflow server via REST, consider upgrading the server version to MLflow 1.7.0 or above. Set logging level to DEBUG via `logging.getLogger(\"mlflow\").setLevel(logging.DEBUG)` to see the full traceback.\n",
      "\n"
     ]
    },
    {
     "name": "stdout",
     "output_type": "stream",
     "text": [
      " 56%|█████▋    | 18/32 [01:04<00:49,  3.53s/trial, best loss: 0.39981574272524284]"
     ]
    },
    {
     "name": "stderr",
     "output_type": "stream",
     "text": [
      "2022/12/12 05:50:56 WARNING mlflow.models.model: Logging model metadata to the tracking server has failed, possibly due older server version. The model artifacts have been logged successfully under mlflow-artifacts:/0/b04c4c6b2a7846e9b88f383b89621a83/artifacts. In addition to exporting model artifacts, MLflow clients 1.7.0 and above attempt to record model metadata to the tracking store. If logging to a mlflow server via REST, consider upgrading the server version to MLflow 1.7.0 or above. Set logging level to DEBUG via `logging.getLogger(\"mlflow\").setLevel(logging.DEBUG)` to see the full traceback.\n",
      "\n"
     ]
    },
    {
     "name": "stdout",
     "output_type": "stream",
     "text": [
      " 59%|█████▉    | 19/32 [01:07<00:46,  3.56s/trial, best loss: 0.39981574272524284]"
     ]
    },
    {
     "name": "stderr",
     "output_type": "stream",
     "text": [
      "2022/12/12 05:51:00 WARNING mlflow.models.model: Logging model metadata to the tracking server has failed, possibly due older server version. The model artifacts have been logged successfully under mlflow-artifacts:/0/b04c4c6b2a7846e9b88f383b89621a83/artifacts. In addition to exporting model artifacts, MLflow clients 1.7.0 and above attempt to record model metadata to the tracking store. If logging to a mlflow server via REST, consider upgrading the server version to MLflow 1.7.0 or above. Set logging level to DEBUG via `logging.getLogger(\"mlflow\").setLevel(logging.DEBUG)` to see the full traceback.\n",
      "\n"
     ]
    },
    {
     "name": "stdout",
     "output_type": "stream",
     "text": [
      " 62%|██████▎   | 20/32 [01:11<00:42,  3.56s/trial, best loss: 0.39981574272524284]"
     ]
    },
    {
     "name": "stderr",
     "output_type": "stream",
     "text": [
      "2022/12/12 05:51:03 WARNING mlflow.models.model: Logging model metadata to the tracking server has failed, possibly due older server version. The model artifacts have been logged successfully under mlflow-artifacts:/0/b04c4c6b2a7846e9b88f383b89621a83/artifacts. In addition to exporting model artifacts, MLflow clients 1.7.0 and above attempt to record model metadata to the tracking store. If logging to a mlflow server via REST, consider upgrading the server version to MLflow 1.7.0 or above. Set logging level to DEBUG via `logging.getLogger(\"mlflow\").setLevel(logging.DEBUG)` to see the full traceback.\n",
      "\n"
     ]
    },
    {
     "name": "stdout",
     "output_type": "stream",
     "text": [
      " 66%|██████▌   | 21/32 [01:14<00:39,  3.58s/trial, best loss: 0.39981574272524284]"
     ]
    },
    {
     "name": "stderr",
     "output_type": "stream",
     "text": [
      "2022/12/12 05:51:07 WARNING mlflow.models.model: Logging model metadata to the tracking server has failed, possibly due older server version. The model artifacts have been logged successfully under mlflow-artifacts:/0/b04c4c6b2a7846e9b88f383b89621a83/artifacts. In addition to exporting model artifacts, MLflow clients 1.7.0 and above attempt to record model metadata to the tracking store. If logging to a mlflow server via REST, consider upgrading the server version to MLflow 1.7.0 or above. Set logging level to DEBUG via `logging.getLogger(\"mlflow\").setLevel(logging.DEBUG)` to see the full traceback.\n",
      "\n"
     ]
    },
    {
     "name": "stdout",
     "output_type": "stream",
     "text": [
      " 69%|██████▉   | 22/32 [01:18<00:35,  3.59s/trial, best loss: 0.39981574272524284]"
     ]
    },
    {
     "name": "stderr",
     "output_type": "stream",
     "text": [
      "2022/12/12 05:51:10 WARNING mlflow.models.model: Logging model metadata to the tracking server has failed, possibly due older server version. The model artifacts have been logged successfully under mlflow-artifacts:/0/b04c4c6b2a7846e9b88f383b89621a83/artifacts. In addition to exporting model artifacts, MLflow clients 1.7.0 and above attempt to record model metadata to the tracking store. If logging to a mlflow server via REST, consider upgrading the server version to MLflow 1.7.0 or above. Set logging level to DEBUG via `logging.getLogger(\"mlflow\").setLevel(logging.DEBUG)` to see the full traceback.\n",
      "\n"
     ]
    },
    {
     "name": "stdout",
     "output_type": "stream",
     "text": [
      " 72%|███████▏  | 23/32 [01:21<00:32,  3.57s/trial, best loss: 0.39981574272524284]"
     ]
    },
    {
     "name": "stderr",
     "output_type": "stream",
     "text": [
      "2022/12/12 05:51:14 WARNING mlflow.models.model: Logging model metadata to the tracking server has failed, possibly due older server version. The model artifacts have been logged successfully under mlflow-artifacts:/0/b04c4c6b2a7846e9b88f383b89621a83/artifacts. In addition to exporting model artifacts, MLflow clients 1.7.0 and above attempt to record model metadata to the tracking store. If logging to a mlflow server via REST, consider upgrading the server version to MLflow 1.7.0 or above. Set logging level to DEBUG via `logging.getLogger(\"mlflow\").setLevel(logging.DEBUG)` to see the full traceback.\n",
      "\n"
     ]
    },
    {
     "name": "stdout",
     "output_type": "stream",
     "text": [
      " 75%|███████▌  | 24/32 [01:25<00:28,  3.56s/trial, best loss: 0.39981574272524284]"
     ]
    },
    {
     "name": "stderr",
     "output_type": "stream",
     "text": [
      "2022/12/12 05:51:17 WARNING mlflow.models.model: Logging model metadata to the tracking server has failed, possibly due older server version. The model artifacts have been logged successfully under mlflow-artifacts:/0/b04c4c6b2a7846e9b88f383b89621a83/artifacts. In addition to exporting model artifacts, MLflow clients 1.7.0 and above attempt to record model metadata to the tracking store. If logging to a mlflow server via REST, consider upgrading the server version to MLflow 1.7.0 or above. Set logging level to DEBUG via `logging.getLogger(\"mlflow\").setLevel(logging.DEBUG)` to see the full traceback.\n",
      "\n"
     ]
    },
    {
     "name": "stdout",
     "output_type": "stream",
     "text": [
      " 78%|███████▊  | 25/32 [01:29<00:24,  3.57s/trial, best loss: 0.39981574272524284]"
     ]
    },
    {
     "name": "stderr",
     "output_type": "stream",
     "text": [
      "2022/12/12 05:51:21 WARNING mlflow.models.model: Logging model metadata to the tracking server has failed, possibly due older server version. The model artifacts have been logged successfully under mlflow-artifacts:/0/b04c4c6b2a7846e9b88f383b89621a83/artifacts. In addition to exporting model artifacts, MLflow clients 1.7.0 and above attempt to record model metadata to the tracking store. If logging to a mlflow server via REST, consider upgrading the server version to MLflow 1.7.0 or above. Set logging level to DEBUG via `logging.getLogger(\"mlflow\").setLevel(logging.DEBUG)` to see the full traceback.\n",
      "\n"
     ]
    },
    {
     "name": "stdout",
     "output_type": "stream",
     "text": [
      " 81%|████████▏ | 26/32 [01:32<00:21,  3.57s/trial, best loss: 0.39981574272524284]"
     ]
    },
    {
     "name": "stderr",
     "output_type": "stream",
     "text": [
      "2022/12/12 05:51:25 WARNING mlflow.models.model: Logging model metadata to the tracking server has failed, possibly due older server version. The model artifacts have been logged successfully under mlflow-artifacts:/0/b04c4c6b2a7846e9b88f383b89621a83/artifacts. In addition to exporting model artifacts, MLflow clients 1.7.0 and above attempt to record model metadata to the tracking store. If logging to a mlflow server via REST, consider upgrading the server version to MLflow 1.7.0 or above. Set logging level to DEBUG via `logging.getLogger(\"mlflow\").setLevel(logging.DEBUG)` to see the full traceback.\n",
      "\n"
     ]
    },
    {
     "name": "stdout",
     "output_type": "stream",
     "text": [
      " 84%|████████▍ | 27/32 [01:36<00:17,  3.58s/trial, best loss: 0.39981574272524284]"
     ]
    },
    {
     "name": "stderr",
     "output_type": "stream",
     "text": [
      "2022/12/12 05:51:28 WARNING mlflow.models.model: Logging model metadata to the tracking server has failed, possibly due older server version. The model artifacts have been logged successfully under mlflow-artifacts:/0/b04c4c6b2a7846e9b88f383b89621a83/artifacts. In addition to exporting model artifacts, MLflow clients 1.7.0 and above attempt to record model metadata to the tracking store. If logging to a mlflow server via REST, consider upgrading the server version to MLflow 1.7.0 or above. Set logging level to DEBUG via `logging.getLogger(\"mlflow\").setLevel(logging.DEBUG)` to see the full traceback.\n",
      "\n"
     ]
    },
    {
     "name": "stdout",
     "output_type": "stream",
     "text": [
      " 88%|████████▊ | 28/32 [01:39<00:14,  3.58s/trial, best loss: 0.39981574272524284]"
     ]
    },
    {
     "name": "stderr",
     "output_type": "stream",
     "text": [
      "2022/12/12 05:51:32 WARNING mlflow.models.model: Logging model metadata to the tracking server has failed, possibly due older server version. The model artifacts have been logged successfully under mlflow-artifacts:/0/b04c4c6b2a7846e9b88f383b89621a83/artifacts. In addition to exporting model artifacts, MLflow clients 1.7.0 and above attempt to record model metadata to the tracking store. If logging to a mlflow server via REST, consider upgrading the server version to MLflow 1.7.0 or above. Set logging level to DEBUG via `logging.getLogger(\"mlflow\").setLevel(logging.DEBUG)` to see the full traceback.\n",
      "\n"
     ]
    },
    {
     "name": "stdout",
     "output_type": "stream",
     "text": [
      " 91%|█████████ | 29/32 [01:43<00:10,  3.60s/trial, best loss: 0.39981574272524284]"
     ]
    },
    {
     "name": "stderr",
     "output_type": "stream",
     "text": [
      "2022/12/12 05:51:35 WARNING mlflow.models.model: Logging model metadata to the tracking server has failed, possibly due older server version. The model artifacts have been logged successfully under mlflow-artifacts:/0/b04c4c6b2a7846e9b88f383b89621a83/artifacts. In addition to exporting model artifacts, MLflow clients 1.7.0 and above attempt to record model metadata to the tracking store. If logging to a mlflow server via REST, consider upgrading the server version to MLflow 1.7.0 or above. Set logging level to DEBUG via `logging.getLogger(\"mlflow\").setLevel(logging.DEBUG)` to see the full traceback.\n",
      "\n"
     ]
    },
    {
     "name": "stdout",
     "output_type": "stream",
     "text": [
      " 94%|█████████▍| 30/32 [01:47<00:07,  3.62s/trial, best loss: 0.39981574272524284]"
     ]
    },
    {
     "name": "stderr",
     "output_type": "stream",
     "text": [
      "2022/12/12 05:51:39 WARNING mlflow.models.model: Logging model metadata to the tracking server has failed, possibly due older server version. The model artifacts have been logged successfully under mlflow-artifacts:/0/b04c4c6b2a7846e9b88f383b89621a83/artifacts. In addition to exporting model artifacts, MLflow clients 1.7.0 and above attempt to record model metadata to the tracking store. If logging to a mlflow server via REST, consider upgrading the server version to MLflow 1.7.0 or above. Set logging level to DEBUG via `logging.getLogger(\"mlflow\").setLevel(logging.DEBUG)` to see the full traceback.\n",
      "\n"
     ]
    },
    {
     "name": "stdout",
     "output_type": "stream",
     "text": [
      " 97%|█████████▋| 31/32 [01:50<00:03,  3.60s/trial, best loss: 0.39981574272524284]"
     ]
    },
    {
     "name": "stderr",
     "output_type": "stream",
     "text": [
      "2022/12/12 05:51:43 WARNING mlflow.models.model: Logging model metadata to the tracking server has failed, possibly due older server version. The model artifacts have been logged successfully under mlflow-artifacts:/0/b04c4c6b2a7846e9b88f383b89621a83/artifacts. In addition to exporting model artifacts, MLflow clients 1.7.0 and above attempt to record model metadata to the tracking store. If logging to a mlflow server via REST, consider upgrading the server version to MLflow 1.7.0 or above. Set logging level to DEBUG via `logging.getLogger(\"mlflow\").setLevel(logging.DEBUG)` to see the full traceback.\n",
      "\n"
     ]
    },
    {
     "name": "stdout",
     "output_type": "stream",
     "text": [
      "100%|██████████| 32/32 [01:54<00:00,  3.57s/trial, best loss: 0.39981574272524284]\n"
     ]
    }
   ],
   "source": [
    "from hyperopt import fmin, tpe, hp, SparkTrials, Trials, STATUS_OK\n",
    " \n",
    "search_space = {\n",
    "  'max_depth': hp.quniform('max_depth', 2, 10, 1),\n",
    "  'n_estimators': hp.quniform('n_estimators', 200, 1000, 100),\n",
    "  'max_features': hp.quniform('max_features', 3, 8, 1),\n",
    "}\n",
    " \n",
    "def train_model(params):\n",
    "   \n",
    "    # Create and train model.\n",
    "    rf = RandomForestRegressor(n_estimators = n_estimators, max_depth = max_depth, max_features = max_features)\n",
    "    rf.fit(X_train, y_train)\n",
    "\n",
    "    predictions = rf.predict(X_test)\n",
    "\n",
    "    # Evaluate the model\n",
    "    mse = mean_squared_error(y_test, predictions)\n",
    "\n",
    "    return {\"loss\": mse, \"status\": STATUS_OK}\n",
    "  \n",
    "spark_trials =Trials()\n",
    " \n",
    "with mlflow.start_run() as run:\n",
    "    best_params = fmin(\n",
    "        fn=train_model, \n",
    "        space=search_space, \n",
    "        algo=tpe.suggest, \n",
    "        max_evals=32,\n",
    "        trials=spark_trials)"
   ]
  },
  {
   "cell_type": "markdown",
   "id": "bc455c36-1b23-4368-821f-b3d230dfa1cb",
   "metadata": {},
   "source": [
    "## Review the feature importances"
   ]
  },
  {
   "cell_type": "code",
   "execution_count": 7,
   "id": "e759cfc7-df7d-4da6-909f-8e02f6594581",
   "metadata": {},
   "outputs": [
    {
     "data": {
      "text/html": [
       "<style type=\"text/css\">\n",
       "#T_9170a_row0_col0 {\n",
       "  background-color: #008000;\n",
       "  color: #f1f1f1;\n",
       "}\n",
       "#T_9170a_row1_col0 {\n",
       "  background-color: #c9e4c9;\n",
       "  color: #000000;\n",
       "}\n",
       "#T_9170a_row2_col0 {\n",
       "  background-color: #d4ead4;\n",
       "  color: #000000;\n",
       "}\n",
       "#T_9170a_row3_col0 {\n",
       "  background-color: #d5ead5;\n",
       "  color: #000000;\n",
       "}\n",
       "#T_9170a_row4_col0 {\n",
       "  background-color: #e1f0e1;\n",
       "  color: #000000;\n",
       "}\n",
       "#T_9170a_row5_col0 {\n",
       "  background-color: #f0f8f0;\n",
       "  color: #000000;\n",
       "}\n",
       "#T_9170a_row6_col0 {\n",
       "  background-color: #fcfefc;\n",
       "  color: #000000;\n",
       "}\n",
       "#T_9170a_row7_col0 {\n",
       "  background-color: #ffffff;\n",
       "  color: #000000;\n",
       "}\n",
       "</style>\n",
       "<table id=\"T_9170a\">\n",
       "  <thead>\n",
       "    <tr>\n",
       "      <th class=\"blank level0\" >&nbsp;</th>\n",
       "      <th id=\"T_9170a_level0_col0\" class=\"col_heading level0 col0\" >importance</th>\n",
       "    </tr>\n",
       "  </thead>\n",
       "  <tbody>\n",
       "    <tr>\n",
       "      <th id=\"T_9170a_level0_row0\" class=\"row_heading level0 row0\" >MedInc</th>\n",
       "      <td id=\"T_9170a_row0_col0\" class=\"data row0 col0\" >0.563378</td>\n",
       "    </tr>\n",
       "    <tr>\n",
       "      <th id=\"T_9170a_level0_row1\" class=\"row_heading level0 row1\" >AveOccup</th>\n",
       "      <td id=\"T_9170a_row1_col0\" class=\"data row1 col0\" >0.122732</td>\n",
       "    </tr>\n",
       "    <tr>\n",
       "      <th id=\"T_9170a_level0_row2\" class=\"row_heading level0 row2\" >AveRooms</th>\n",
       "      <td id=\"T_9170a_row2_col0\" class=\"data row2 col0\" >0.098170</td>\n",
       "    </tr>\n",
       "    <tr>\n",
       "      <th id=\"T_9170a_level0_row3\" class=\"row_heading level0 row3\" >Latitude</th>\n",
       "      <td id=\"T_9170a_row3_col0\" class=\"data row3 col0\" >0.095040</td>\n",
       "    </tr>\n",
       "    <tr>\n",
       "      <th id=\"T_9170a_level0_row4\" class=\"row_heading level0 row4\" >Longitude</th>\n",
       "      <td id=\"T_9170a_row4_col0\" class=\"data row4 col0\" >0.069653</td>\n",
       "    </tr>\n",
       "    <tr>\n",
       "      <th id=\"T_9170a_level0_row5\" class=\"row_heading level0 row5\" >HouseAge</th>\n",
       "      <td id=\"T_9170a_row5_col0\" class=\"data row5 col0\" >0.036857</td>\n",
       "    </tr>\n",
       "    <tr>\n",
       "      <th id=\"T_9170a_level0_row6\" class=\"row_heading level0 row6\" >AveBedrms</th>\n",
       "      <td id=\"T_9170a_row6_col0\" class=\"data row6 col0\" >0.011167</td>\n",
       "    </tr>\n",
       "    <tr>\n",
       "      <th id=\"T_9170a_level0_row7\" class=\"row_heading level0 row7\" >Population</th>\n",
       "      <td id=\"T_9170a_row7_col0\" class=\"data row7 col0\" >0.003004</td>\n",
       "    </tr>\n",
       "  </tbody>\n",
       "</table>\n"
      ],
      "text/plain": [
       "<pandas.io.formats.style.Styler at 0x7ff428583eb0>"
      ]
     },
     "execution_count": 7,
     "metadata": {},
     "output_type": "execute_result"
    }
   ],
   "source": [
    "feature_importances = pd.DataFrame(rf.feature_importances_, index=cal_housing.feature_names, columns=['importance'])\n",
    "feature_importances.sort_values('importance', ascending=False,inplace=True)\n",
    "cm = sns.color_palette(\"blend:white,green\", as_cmap=True)\n",
    "feature_importances.style.background_gradient(cmap = cm,axis=None)"
   ]
  },
  {
   "cell_type": "markdown",
   "id": "2a92b193-9c3f-4e2c-919c-97090e180f6e",
   "metadata": {},
   "source": [
    "# Build the final model"
   ]
  },
  {
   "cell_type": "code",
   "execution_count": 8,
   "id": "62eca705-1996-41c3-89ac-47fbcf895d83",
   "metadata": {},
   "outputs": [
    {
     "name": "stdout",
     "output_type": "stream",
     "text": [
      "{'max_depth': 3.0, 'max_features': 4.0, 'n_estimators': 200.0}\n"
     ]
    }
   ],
   "source": [
    "import hyperopt\n",
    " \n",
    "print(hyperopt.space_eval(search_space, best_params))"
   ]
  },
  {
   "cell_type": "code",
   "execution_count": 9,
   "id": "1aadf2b9-dda1-4873-ab1d-a816fd5df1da",
   "metadata": {},
   "outputs": [],
   "source": [
    "max_depth = int(hyperopt.space_eval(search_space, best_params)[\"max_depth\"])\n",
    "max_features = int(hyperopt.space_eval(search_space, best_params)[\"max_features\"])\n",
    "n_estimators = int(hyperopt.space_eval(search_space, best_params)[\"n_estimators\"]) "
   ]
  },
  {
   "cell_type": "code",
   "execution_count": 10,
   "id": "95996e51-2462-4bce-b7e8-3358864380e4",
   "metadata": {},
   "outputs": [],
   "source": [
    "X_all_train = scaler.fit_transform(cal_housing.data)\n",
    "y_all_train = cal_housing.target"
   ]
  },
  {
   "cell_type": "code",
   "execution_count": 11,
   "id": "84aa495e-d5fa-4925-a6f3-cb9644dba6a2",
   "metadata": {},
   "outputs": [
    {
     "data": {
      "image/png": "[encoded data removed]",
      "text/plain": [
       "<Figure size 640x480 with 1 Axes>"
      ]
     },
     "metadata": {},
     "output_type": "display_data"
    }
   ],
   "source": [
    "with mlflow.start_run() as run:\n",
    "  \n",
    "    rf_new = RandomForestRegressor(n_estimators = n_estimators, max_depth = max_depth, max_features = max_features)\n",
    "    rf_new.fit(X_all_train, y_all_train)\n",
    "\n",
    "    # Save the run information to register the model later\n",
    "    rf_uri = run.info.artifact_uri\n",
    "\n",
    "    # Plot predicted vs known values for a quick visual check of the model and log the plot as an artifact\n",
    "    rf_pred = rf_new.predict(X_all_train)\n",
    "    plt.plot(y_all_train, rf_pred, \"o\", markersize=2)\n",
    "    plt.xlabel(\"observed value\")\n",
    "    plt.ylabel(\"predicted value\")\n",
    "    plt.savefig(\"rfplot.png\")\n",
    "    mlflow.log_artifact(\"rfplot.png\") "
   ]
  },
  {
   "cell_type": "code",
   "execution_count": 12,
   "id": "fdcafbd4-9c0a-4764-9efa-e6c637633d64",
   "metadata": {},
   "outputs": [
    {
     "name": "stderr",
     "output_type": "stream",
     "text": [
      "Successfully registered model 'rf_cal_housing'.\n",
      "2022/12/12 05:51:48 INFO mlflow.tracking._model_registry.client: Waiting up to 300 seconds for model version to finish creation.                     Model name: rf_cal_housing, version 1\n",
      "Created version '1' of model 'rf_cal_housing'.\n"
     ]
    }
   ],
   "source": [
    "import time\n",
    " \n",
    "model_name = \"rf_cal_housing\"\n",
    "model_uri = rf_uri+\"/model\"\n",
    "new_model_version = mlflow.register_model(model_uri, model_name)\n",
    " \n",
    "# Registering the model takes a few seconds, so add a delay before continuing with the next cell\n",
    "time.sleep(5)"
   ]
  },
  {
   "cell_type": "markdown",
   "id": "ef33b5c0-be0e-4b12-9e08-6035644c60f8",
   "metadata": {},
   "source": [
    "## Load Model for Prediction"
   ]
  },
  {
   "cell_type": "code",
   "execution_count": 13,
   "id": "c09e6648-ceec-4383-bd50-5df3c92a72b0",
   "metadata": {},
   "outputs": [
    {
     "data": {
      "text/plain": [
       "array([3.88205252, 1.46732287])"
      ]
     },
     "execution_count": 13,
     "metadata": {},
     "output_type": "execute_result"
    }
   ],
   "source": [
    "new_data = [[ 2.2 , -0.9,  1.05, -0.08, -0.34, 0.01,  0.74, -1.1],\n",
    "            [ -0.9 , 2.6,  -1.4, -0.54, -0.86, 0.77,  0.35, -.08] ]\n",
    " \n",
    "rf_model = mlflow.sklearn.load_model(f\"models:/{model_name}/{new_model_version.version}\")\n",
    "preds = rf_model.predict(new_data)\n",
    "preds"
   ]
  }
 ],
 "metadata": {
  "kernelspec": {
   "display_name": "Python 3 (ipykernel)",
   "language": "python",
   "name": "python3"
  },
  "language_info": {
   "codemirror_mode": {
    "name": "ipython",
    "version": 3
   },
   "file_extension": ".py",
   "mimetype": "text/x-python",
   "name": "python",
   "nbconvert_exporter": "python",
   "pygments_lexer": "ipython3",
   "version": "3.10.8"
  }
 },
 "nbformat": 4,
 "nbformat_minor": 5
}
