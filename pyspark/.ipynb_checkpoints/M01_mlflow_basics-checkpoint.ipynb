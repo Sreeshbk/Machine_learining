{
 "cells": [
  {
   "cell_type": "markdown",
   "id": "83d4a962-ef6a-45a4-8417-932d6b8c66eb",
   "metadata": {},
   "source": [
    "# MLFlow Basics"
   ]
  }
 ],
 "metadata": {
  "kernelspec": {
   "display_name": "Python 3 (ipykernel)",
   "language": "python",
   "name": "python3"
  },
  "language_info": {
   "codemirror_mode": {
    "name": "ipython",
    "version": 3
   },
   "file_extension": ".py",
   "mimetype": "text/x-python",
   "name": "python",
   "nbconvert_exporter": "python",
   "pygments_lexer": "ipython3",
   "version": "3.10.8"
  }
 },
 "nbformat": 4,
 "nbformat_minor": 5
}
