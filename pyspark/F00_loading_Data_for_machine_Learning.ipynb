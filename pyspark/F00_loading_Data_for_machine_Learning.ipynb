{
 "cells": [
  {
   "cell_type": "markdown",
   "id": "e7d20026-6f91-4bd4-b044-3d6c4403022d",
   "metadata": {},
   "source": [
    "# Load data for Machine Learning and Deep Learning"
   ]
  },
  {
   "cell_type": "markdown",
   "id": "6e9d8dbd-191f-4cf5-bc43-8adc2f5fcdcb",
   "metadata": {},
   "source": [
    "This Notebook covers information about loading data specifically for ML and DL application"
   ]
  },
  {
   "cell_type": "markdown",
   "id": "60fcadef-a1f1-4e21-ab8a-dd49cb7a0ce6",
   "metadata": {},
   "source": [
    "## Petastorm"
   ]
  },
  {
   "cell_type": "markdown",
   "id": "4c6a76ec-fbf9-41fb-8659-9e5e48e8e000",
   "metadata": {},
   "source": [
    "Petastorm is an opensource data access library that enables directly loading data stored in Apache Parquet Format. This library enables single-node or distributed training and evaluation of deep learning model directly from datasets in Apache parquet format and dataset that are loaded as Apache Spark Data frame"
   ]
  },
  {
   "cell_type": "markdown",
   "id": "20178c79-2124-48ba-abd1-d174aded7859",
   "metadata": {},
   "source": [
    "Petastorm Spark convertor API simplifies data conversion from Spark to Tensorflow or Pytorch."
   ]
  },
  {
   "cell_type": "code",
   "execution_count": 7,
   "id": "a97066ff-882a-4681-be34-86bc122311a7",
   "metadata": {},
   "outputs": [],
   "source": [
    "from pyspark.sql.session import SparkSession\n",
    "spark = SparkSession.builder.appName('Loading Data').getOrCreate()"
   ]
  },
  {
   "cell_type": "code",
   "execution_count": 8,
   "id": "1f90ed37-85cf-4167-bd48-ac84b908fd3f",
   "metadata": {},
   "outputs": [],
   "source": [
    "from petastorm.spark import SparkDatasetConverter, make_spark_converter\n",
    "spark.conf.set(SparkDatasetConverter.PARENT_CACHE_DIR_URL_CONF, 'file:///home/jovyan/cache')"
   ]
  },
  {
   "cell_type": "code",
   "execution_count": 5,
   "id": "6e0447c9-99bc-4241-98b6-ba71f4554fd9",
   "metadata": {},
   "outputs": [
    {
     "name": "stdout",
     "output_type": "stream",
     "text": [
      "/home/jovyan/Machine_learning/pyspark\n"
     ]
    }
   ],
   "source": [
    "from pyspakr"
   ]
  },
  {
   "cell_type": "code",
   "execution_count": null,
   "id": "7e0d40e7-6b80-4868-a988-770b2eed0acc",
   "metadata": {},
   "outputs": [],
   "source": []
  }
 ],
 "metadata": {
  "kernelspec": {
   "display_name": "Python 3 (ipykernel)",
   "language": "python",
   "name": "python3"
  },
  "language_info": {
   "codemirror_mode": {
    "name": "ipython",
    "version": 3
   },
   "file_extension": ".py",
   "mimetype": "text/x-python",
   "name": "python",
   "nbconvert_exporter": "python",
   "pygments_lexer": "ipython3",
   "version": "3.10.8"
  }
 },
 "nbformat": 4,
 "nbformat_minor": 5
}
