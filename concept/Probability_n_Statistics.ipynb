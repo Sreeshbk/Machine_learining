{
  "nbformat": 4,
  "nbformat_minor": 0,
  "metadata": {
    "colab": {
      "provenance": [],
      "authorship_tag": "ABX9TyPP0D9yWyKRZw5Qf6iEizOf",
      "include_colab_link": true
    },
    "kernelspec": {
      "name": "python3",
      "display_name": "Python 3"
    },
    "language_info": {
      "name": "python"
    }
  },
  "cells": [
    {
      "cell_type": "markdown",
      "metadata": {
        "id": "view-in-github",
        "colab_type": "text"
      },
      "source": [
        "<a href=\"https://colab.research.google.com/github/Sreeshbk/Machine_learning/blob/main/concept/Probability_n_Statistics.ipynb\" target=\"_parent\"><img src=\"https://colab.research.google.com/assets/colab-badge.svg\" alt=\"Open In Colab\"/></a>"
      ]
    },
    {
      "cell_type": "markdown",
      "source": [
        "# Probability\n",
        "\n",
        "- `Chance` is a possibility of something happening\n",
        "- `Probability` the likelihood of an event in which we are interested.\n",
        "- The `Likelihood` of an event is the frequency with which the event may occur.\n",
        "- The `probabilistic model` is a generic structure which describes the random outcomes of an activity. The activity (experiment), results of activity (outcomes) and the frequency/likelihood with which the values (outcomes) may occur can be described using a Probabilistic Model.\n",
        "- The process of observation of an activity is termed as an `experiment`.\n",
        "- The results of an observation are termed as `outcomes` of the Experiment.\n",
        "- The events for which we cannot calculate the outcomes, those experiments are called `random experiments`.\n",
        "- `Sample Space` is the set of all the possible outcomes of a random experiment. It can be of two types which are as follows:\n",
        " - Continuous sample space\n",
        "Example: Value of stock for a company can be between $15 and $25 = {15.01, 15.02, …,24.98, 24.99, 25}\n",
        " - Discrete sample space\n",
        "Example: Number of people attending the meeting can be between 10 and 20 = {10, 11, 12,…,20}\n",
        "- If we narrow down our focus to one particular outcome or a set of some outcomes from the entire sample space it is termed as an `Event`.\n",
        "\n",
        "| Dependent Events | Independent Events |\n",
        "|---------------|---------------|\n",
        "|Occurence of event affects another event | Occurence of event doesnot affects another event|\n",
        "\n",
        "- `Meta-phrasing` refers to literal translation. Meta-phrasing involves word by word and line by line translation without loss of information.\n",
        "`Sets` and `Venn diagrams` facilitate the meta-phrasing of the real-time experiment (described as word problems) to a mathematical model.\n",
        "\n",
        " - Sets help translate the problems into mathematical representations.\n",
        " - Venn diagrams help represent the Sets graphically.\n",
        "\n",
        "- A `Set` is a collection of distinct objects/elements. It is a collection of all possible outcomes.\n",
        "The Sets help translate the problems to mathematical representations using set notations.\n",
        "\n",
        " - If a set contains finite no. of elements (x1,x2,x3) it can be represented as S={x1,x2,x3} \n",
        "   \n",
        "   Example: Set of all possible outcomes of a die roll S={1,2,3,4,5,6 }\n",
        "\n",
        " - If a set contains infinite no. of elements (x1,x2,x3,…..) it can be represented as S={x1,x2,x3,…..}\n",
        "\n",
        "   Example: Set of all possible positive real numbers S={0,0.01,1,1.5,2,……}\n",
        "\n",
        "- Intersection: The intersection of two sets A and B is represented as A ∩ B  \n",
        "- Union: The union of two sets A and B is represented as A ∪ B \n",
        "- Complement: The complement of Set A is represented as $\\bar{A}$  \n",
        "- Difference: The difference of Set A and B is represented as  A — B\n",
        "- Symmetric Difference: The symmetric difference of Set A and B is represented as A Δ B \n",
        "\n",
        "## Combination - deals with selection"
      ],
      "metadata": {
        "id": "4oC45ec3gKKL"
      }
    },
    {
      "cell_type": "markdown",
      "source": [
        "Combination without replacement\n",
        "\n",
        "\\begin{equation}\n",
        " C_n^r = \\frac{n!}{(n-r)! \\space r!}\n",
        "\\end{equation}"
      ],
      "metadata": {
        "id": "PXmx0y84knjP"
      }
    },
    {
      "cell_type": "code",
      "source": [
        "from scipy.special import comb \n",
        "import math\n",
        "n=10\n",
        "r=4\n",
        "comb(n, r, exact=True) , math.factorial(n)/(math.factorial(r)*math.factorial(n-r))"
      ],
      "metadata": {
        "colab": {
          "base_uri": "https://localhost:8080/"
        },
        "id": "xSj8fNA0kk_5",
        "outputId": "70bcb1dc-1cdc-4639-8354-3d5ab2eb5be0"
      },
      "execution_count": null,
      "outputs": [
        {
          "output_type": "execute_result",
          "data": {
            "text/plain": [
              "(210, 210.0)"
            ]
          },
          "metadata": {},
          "execution_count": 1
        }
      ]
    },
    {
      "cell_type": "markdown",
      "source": [
        "Combination with replacement\n",
        "\n",
        "\\begin{equation}\n",
        " C_n^r =  (\\frac{n!}{ n-1!})^r\n",
        "\\end{equation}"
      ],
      "metadata": {
        "id": "dMwPP-6DmHup"
      }
    },
    {
      "cell_type": "markdown",
      "source": [
        "## Permutation - deals with ording/sequence\n",
        "\n",
        "Without repeation\n",
        "\n",
        "\\begin{equation}\n",
        " P_n^r = \\frac{n!}{(n-r)!}\n",
        "\\end{equation}"
      ],
      "metadata": {
        "id": "KXMKSiPooGk-"
      }
    },
    {
      "cell_type": "code",
      "source": [
        "import math;\n",
        "comb(n, r, exact=True)* math.factorial(2)"
      ],
      "metadata": {
        "colab": {
          "base_uri": "https://localhost:8080/"
        },
        "id": "6l0OLFNwnJjf",
        "outputId": "137d25fb-1b02-40d9-c0d2-7a65de128b1d"
      },
      "execution_count": null,
      "outputs": [
        {
          "output_type": "execute_result",
          "data": {
            "text/plain": [
              "420"
            ]
          },
          "metadata": {},
          "execution_count": 2
        }
      ]
    },
    {
      "cell_type": "markdown",
      "source": [
        "With Repeatation \\begin{equation}\n",
        " P_n^r = \\frac{noofletter!}{noofrepeatation!} = \\frac{n!}{r!}\n",
        "\\end{equation}"
      ],
      "metadata": {
        "id": "qCvtuqg8pK1i"
      }
    },
    {
      "cell_type": "markdown",
      "source": [
        "### Probability\n",
        "the probability of the Event A is given as \n",
        "\\begin{equation}\n",
        "P(A) = n(A)/n \n",
        "\\end{equation}\n",
        "\n",
        "where,\n",
        " - P(A) is a real number where n > 0\n",
        " - n(A) is the number of times event A has occurred.\n",
        "\n",
        "For a Finite Sample Space S, Consider an Event A.\n",
        "\n",
        "The probability P(A) which is a real number assigned to the Event A must follow the below axioms :\n",
        "\n",
        "- P(A) >= 0\n",
        "\n",
        "- P(S) = 1\n",
        "\n",
        "- If event A and Event B are mutually exclusive then,\n",
        "P (A U B) = P(A) + P(B) , (A ∩ B ) = ∅"
      ],
      "metadata": {
        "id": "Kq2aKHp3p1Vh"
      }
    },
    {
      "cell_type": "markdown",
      "source": [
        "Using the axioms the following properties of probability can be obtained:\n",
        "\n",
        "- P ( $\\bar{A}$ ) = 1 - P (A)\n",
        "- P (∅) = 0\n",
        "- P(A) < P(B)  if A ⊂ B\n",
        "- P(A) <= 1\n",
        "- P(A U B) = P(A) + P(B) - P(A ∩ B)"
      ],
      "metadata": {
        "id": "aql0gsmDqq9W"
      }
    },
    {
      "cell_type": "markdown",
      "source": [
        "## Conditional Probability \n",
        "is used to determine the likelihood of an event when a partial information about the event is known.\n",
        "\\begin{equation}\n",
        "P(A|B)= \\frac{P(A ∩ B)}{P(B)}\n",
        "\\end{equation}\n",
        "\n",
        "the probability that the defective bread supplied by supplier ‘k’\n",
        "\n",
        "\\begin{equation}\n",
        "P(S_k|D)=  \\frac{P(S_k)P(D|S_k)}{\\sum_i P(S_i)P(D|S_i)}\n",
        "\\end{equation} \n"
      ],
      "metadata": {
        "id": "xwXYYE26rPvd"
      }
    },
    {
      "cell_type": "markdown",
      "source": [
        "### Bayes Theorem\n",
        "For Event A and Event B,\n",
        "\n",
        "\\begin{equation} P (A ∩ B) = P(A)P(B|A), \\space  if \\space P(A) ≠ 0  \\end{equation} \n",
        "\n",
        "\\begin{equation} P (A ∩ B) = P(B)P(A|B), \\space if  \\space P(B) ≠ 0 \\end{equation} \n",
        "\n",
        "Bayes Theorem gives a relation between P(A|B) as\n",
        "\n",
        "\\begin{equation}\n",
        "P(A|B)= \\frac{P(A)P(B|A)}{P(B)}\n",
        "\\end{equation} \n",
        "\n",
        "\n"
      ],
      "metadata": {
        "id": "hl6fy8BGsOPG"
      }
    },
    {
      "cell_type": "markdown",
      "source": [
        "# Statistics\n",
        "\n",
        "The collection, analysis, interpretation, presentation and organization of data is termed as statistics.\n",
        "\n",
        "Statistics is used to study a population/process (data).\n",
        "\n",
        "- When all data required for observation/analysis is collected and studied, the data is referred to as the `population`.\n",
        "- When limited data is being collected/analyzed, this data is referred to as `sample` and is used as an indicative of the entire population.\n",
        "\n",
        "- Classification\n",
        "  - `Descriptive statistics`: Summarization of data to describe the main features of the sample.\n",
        "  Descriptive statistics summarize the sample and is used to learn about the data under study.\n",
        "  - `Inferential statistics`: When working with samples of the population the techniques and processes we use to draw conclusions come under inferential statistics let's understand it as we progress through this course.\n",
        "\n",
        "\n",
        "  "
      ],
      "metadata": {
        "id": "7AXsN12fcuJZ"
      }
    },
    {
      "cell_type": "markdown",
      "source": [
        "## Descriptive statistics \n",
        "\n",
        "\n"
      ],
      "metadata": {
        "id": "wJW5lHZw2gl2"
      }
    },
    {
      "cell_type": "markdown",
      "source": [
        "### The Measures of central tendency :\n",
        "      \n",
        "      Central tendency measures are statistical measures used to describe or understand a sample using a single value.\n",
        "      \n",
        "      A measure of central tendency could also indicate the tendency of data to centre around a particular value.\n",
        "      \n",
        "\n",
        "| Type | Description|Formula----------|\n",
        "|-----|----------|------|\n",
        "|arithmetic mean |the sum of all values in the data set divided by the total number of values in the data set.<br> Arithmetic Mean is a measure which is used for numeric data and is a single value<br> that represents the typical value in the given set of numbers.| $\\frac{\\sum_i^n x_i}{n}$|\n",
        "|weighted mean |the total of multiplication of individual weights with values divided by total weight.| $\\frac{\\sum_i^n w_ix_i}{\\sum_i^n w_i}$|\n",
        "|geometric mean|The geometric mean is used while finding the average of numbers that represent growth rate| $\\sqrt[n]{x_1x_2..x_n}$|\n",
        "| |the geometric mean as the arithmetic mean of log-transformed values of the data|$exp[\\frac{\\sum_i^n\\log_ex_i}{n}]$|\n",
        "|Harmonic mean |Harmonic mean is a better estimate of the average of data in situations where the data <br>represents rates/ratios such as speed (km per hr.), heart rate(beats per min.), frequency etc.<br>The harmonic mean is the reciprocal of the arithmetic mean of the reciprocals,| $\\frac{n}{\\frac{1}{x_1}\\frac{1}{x_2}...\\frac{1}{x_n}}$|\n",
        "|median|Median is the value that lies at the centre of the data set when data is ordered. <br>Median divides the data into equal halves when the data is sorted.||\n",
        "|mode|Data that is most frequently occurring in a data set is called Mode.||\n",
        "\n"
      ],
      "metadata": {
        "id": "7vC_0xrG2uIR"
      }
    },
    {
      "cell_type": "code",
      "source": [
        "import statistics as st\n",
        "print(\"mean \",st.mean([1,2,3,4]))\n",
        "print(\"median \",st.median([7800,8000,7500,7300,7000,6500,6750,90000,8000,7800]))\n",
        "print(\"mode\",st.mode([1,2,2,3,4,4,4]))"
      ],
      "metadata": {
        "colab": {
          "base_uri": "https://localhost:8080/"
        },
        "id": "kvbr8seM1rI5",
        "outputId": "b4974717-f510-4210-b15d-478e8bea30c2"
      },
      "execution_count": null,
      "outputs": [
        {
          "output_type": "stream",
          "name": "stdout",
          "text": [
            "mean  2.5\n",
            "median  7650.0\n",
            "mode 4\n"
          ]
        }
      ]
    },
    {
      "cell_type": "markdown",
      "source": [
        "### The Measures of dispersion\n",
        "\n",
        "Dispersion represents the variability in the data which simply means, Measures of Dispersion are representative of how squeezed or stretched the data is in comparison with the measures of central tendency. In other words, Measures of Dispersion help us identify how our data is spread overall in the data set.\n",
        "\n",
        "| Type | Description|Formula|\n",
        "|-----|----------|------|\n",
        "|Range|maximum value in a data set - minimum value in a data set|max(x)-min(x)|\n",
        "|Sampe Variance|describes the deviation of data from each other and from the mean.|$ S^2 = \\frac{\\sum_i^n (x_i-\\mu)^2}{n-1}$|\n",
        "|Population Variance|describes the deviation of data from each other and from the mean.|$\\sigma^2 =\\frac{\\sum_i^n (x_i-\\mu)^2}{n}$|\n",
        "|StandardDeviation|the Standard Deviation is the square root of the variance ||\n",
        "|Chebyshev's inequality| relates the mean and the standard deviation<br> It is bound on the probability of finding a value.<br>\"If the value is k standard deviations away from the mean,<br> then the probability of finding it is lesser than 1/k2 \"|$P(|x - µ| ≥ kσ) ≤  1/k2$|\n",
        "|z-score|indicates the distance of the data from the mean in terms of standard deviations.|$z = (x - µ) / σ$\n",
        "|Percentile|Represents the value below which a given percentage of observations fall.| Percentile = (Number of Values Below “x” / Total Number of Values) × 100.\n",
        "|Quartile|Quartiles are 3 points in the data set that divide the data set into 4 equal groups. <br>The first quartile (Q1) is the 25th percentile of the data set i.e. the value below which 25% of the data lies.<br>The second quartile (Q2) is the 50th percentile of the data set i.e. the value below which 50% of the data lies.<br> This is the median (m) of the data set<br>The third quartile (Q3) is the 75th percentile of the data set i.e. the value below which 75% of the data lies.|\n",
        "|IQR|The interquartile range is the difference between the third quartile(Q3) and the first quartile(Q1).<br> This range is used to indicate the spread of the data and is a better measure than range because min and max<br> (used in range) are highly volatile in the presence of unusual values.|IQR = (Q3-Q1) |\n",
        "|Co-efficient of Variation| is the ratio of the standard deviation to the mean and shows the extent of variability <br> in relation to the mean of the population. Lower is better| $COV=S*100/\\bar{x}$\n",
        "\n",
        " \n"
      ],
      "metadata": {
        "id": "7YgKBGLI2w4n"
      }
    },
    {
      "cell_type": "code",
      "source": [
        "import statistics as st\n",
        "import numpy as np\n",
        "from scipy.stats.mstats import mquantiles\n",
        "\n",
        "data = [8,12,4,11,15,10,8,7,4,11,6,6,8,7,4,9,16,6,14,6]\n",
        "print(\"Sample variance \",st.variance(data)) #Sample variance of data.\n",
        "print(\"Population variance \",st.pvariance(data)) #Population variance of data.\n",
        "print(\"Sample Standard Deviation \",st.stdev(data)) # Sample standard deviation of the data.\n",
        "print(\"Population Standard Deviation \",st.pstdev(data)) #Population standard deviation of the data.\n",
        "print(\"90th percentile \", np.percentile(data,90))\n",
        "print(\"90th percentile \", mquantiles(data,prob=[0.25, 0.5, 0.75]))\n",
        "print(\"Five Number Summary\", mquantiles(data ,prob=[0.00,0.25, 0.5, 0.75,1.00]))"
      ],
      "metadata": {
        "colab": {
          "base_uri": "https://localhost:8080/"
        },
        "id": "magcQY-zBVwL",
        "outputId": "a8c8aaf4-f036-4816-9cef-99db329950a3"
      },
      "execution_count": null,
      "outputs": [
        {
          "output_type": "stream",
          "name": "stdout",
          "text": [
            "Sample variance  12.989473684210527\n",
            "Population variance  12.34\n",
            "Sample Standard Deviation  3.604091242492416\n",
            "Population Standard Deviation  3.5128336140500593\n",
            "90th percentile  14.100000000000001\n",
            "90th percentile  [ 6.  8. 11.]\n",
            "Five Number Summary [ 4.  6.  8. 11. 16.]\n"
          ]
        }
      ]
    },
    {
      "cell_type": "code",
      "source": [
        "import scipy.stats as st\n",
        "marks =[64, 47, 40, 45, 54, 63, 12, 21, 79, 95, 58, 74, 30, 50, 10, 21, 48, 85]\n",
        "st.percentileofscore(marks, 70), sum(list(1 for x in marks if x <70))/ len(marks)"
      ],
      "metadata": {
        "colab": {
          "base_uri": "https://localhost:8080/"
        },
        "id": "RmnZPA6BUjmT",
        "outputId": "879838e9-0e6c-4670-cf9e-bf00e1a44d60"
      },
      "execution_count": null,
      "outputs": [
        {
          "output_type": "execute_result",
          "data": {
            "text/plain": [
              "(77.77777777777777, 0.7777777777777778)"
            ]
          },
          "metadata": {},
          "execution_count": 5
        }
      ]
    },
    {
      "cell_type": "markdown",
      "source": [
        "### The Measures of shape"
      ],
      "metadata": {
        "id": "L-92cHdh20j-"
      }
    },
    {
      "cell_type": "markdown",
      "source": [
        "| Type | Description|Formula|\n",
        "|-----|----------|------|\n",
        "|Histogram|To represent the distribution of numeric data graphically we use a histogram. |\n",
        "|Skewness| measure of lack of symmetry of the data in comparison with symmetric distribution.<br> In symmetrically distributed data set, the mean and the median coincide.|Skewness = 3 * (Mean - Median) / (Standard Deviation)|\n",
        "|Kurtosis| helps us identify whether the data spread around the mean is high or not.<br>A higher value of kurtosis indicates that data is largely centred around the <br>meanwhile a lower value of kurtosis indicates that data is not centred around the mean.<br>**A value of kurtosis above 3 indicates a peak, while that below 3 indicates flatness**|$kurtosis =\\frac{\\frac{\\sum_i^n (x_i-\\mu)^4}{n}}{s^4}$|"
      ],
      "metadata": {
        "id": "DHkux1_1Vxw-"
      }
    },
    {
      "cell_type": "code",
      "source": [
        "#skewness\n",
        "from scipy.stats import skew, kurtosis\n",
        "\n",
        "\n",
        "data = [11730,5461,6655,7484,10242,8547,5521,13207,7598,9421,11563,6995,10531,11525,7770,7094,8339,8375,8808,6802]\n",
        "skew(data), 3*(st.mean(data)-st.median(data))/st.stdev(data), kurtosis(data,fisher=False,bias=True)\n"
      ],
      "metadata": {
        "colab": {
          "base_uri": "https://localhost:8080/"
        },
        "id": "KeVaDByWWaIt",
        "outputId": "77c9d813-eb52-479a-dc7e-a7228370de09"
      },
      "execution_count": null,
      "outputs": [
        {
          "output_type": "execute_result",
          "data": {
            "text/plain": [
              "(0.45023241299126027, 0.45088222215824314, 2.2730363035525505)"
            ]
          },
          "metadata": {},
          "execution_count": 13
        }
      ]
    }
  ]
}