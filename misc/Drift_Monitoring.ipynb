{
  "nbformat": 4,
  "nbformat_minor": 0,
  "metadata": {
    "colab": {
      "provenance": [],
      "authorship_tag": "ABX9TyM/zNqq0zzSy+3P8XYggrcs",
      "include_colab_link": true
    },
    "kernelspec": {
      "name": "python3",
      "display_name": "Python 3"
    },
    "language_info": {
      "name": "python"
    }
  },
  "cells": [
    {
      "cell_type": "markdown",
      "metadata": {
        "id": "view-in-github",
        "colab_type": "text"
      },
      "source": [
        "<a href=\"https://colab.research.google.com/github/Sreeshbk/Machine_learning/blob/main/misc/Drift_Monitoring.ipynb\" target=\"_parent\"><img src=\"https://colab.research.google.com/assets/colab-badge.svg\" alt=\"Open In Colab\"/></a>"
      ]
    },
    {
      "cell_type": "markdown",
      "source": [
        "# Drift Monitoring\n",
        "\n",
        "\n",
        "Monitoring models over time entails safeguarding against drift in model performance as well as breaking changes.  In this lesson, you explore solutions to drift and implement statistical methods for identifying drift.\n",
        "\n",
        "The majority of machine learning solutions assume that data is generated according to a stationary probability distribution. However, because most datasets involving human activity change over time, machine learning solutions often go stale.\n",
        "\n",
        "For example, a model trained to predict restaurant sales before the COVID-19 pandemic would likely not be an accurate model of restaurant sales during the pandemic. The distribution generating the data changed, or drifted, over time. "
      ],
      "metadata": {
        "id": "L9MKNdlZsNlo"
      }
    },
    {
      "cell_type": "markdown",
      "source": [
        "Drift is composed of number of different types:\n",
        "* **Data Drift**\n",
        " * **Data Changes**\n",
        " * In practice, upstream data changes is one of the most common sources of drift\n",
        " * For instance, null records from a changed ETL task\n",
        "* **Feature Drift** \n",
        " * Change in the distribution of an input feature(s)\n",
        " * Change in \\\\(P(X)\\\\)\n",
        "* **Label Drift**\n",
        " * Change in the distribution of the label in the data\n",
        " * Change in  \\\\(P(Y)\\\\)\n",
        "* **Prediction Drift** \n",
        " * Change in the distribution of the predicted label given by the model\n",
        " * Change in \\\\(P(\\hat{Y}| X)\\\\) \n",
        "* **Concept Drift** \n",
        " * Change in the relationship between input variables and label\n",
        " * Change in distribution of \\\\(P(Y| X)\\\\)\n",
        " * Likely results in an invalid current model\n",
        "\n",
        "**A rigorous monitoring solution for drift entails monitoring each cause of drift.**"
      ],
      "metadata": {
        "id": "WL6XMLz7s-sZ"
      }
    },
    {
      "cell_type": "markdown",
      "source": [
        " It is important to note that each situation will need to be handled differently and that the presence of drift does not immediately indicate a need to replace the current model. \n",
        "\n",
        "For example:\n",
        "\n",
        "* Imagine a model designed to predict snow cone sales with temperature as an input variable. If more recent data has higher temperatures and higher snow cone sales, we have both feature and label drift, but as long as the model is performing well, then there is not an issue. However, we might still want to take other business action given the change, so it is important to monitor for this anyway. \n",
        "* However, if temperature rose and sales increased, but our predictions did not match this change, we could have concept drift and will need to retrain the model. \n",
        "* In either case, we may want to alert the company of the changes in case they impact other business processes, so it is important to track all potential drift. \n",
        "\n",
        "**In order to best adapt to possible changes, we compare data and predictions across time windows to identify any kind of drift that could be occuring.**\n"
      ],
      "metadata": {
        "id": "-lRAPKKbtqjR"
      }
    },
    {
      "cell_type": "markdown",
      "source": [
        "The essence of drift monitoring is **running statistical tests on time windows of data.** This allows us to detect drift and localize it to specific root causes. Here are some solutions:\n",
        "\n",
        "**Numeric Features**\n",
        "\n",
        "* Summary Statisitcs\n",
        "  * Mean, Median, Variance, Missing value count, Max, Min\n",
        "  * Tests  \n",
        "    * <a href=\"https://en.wikipedia.org/wiki/Jensen%E2%80%93Shannon_divergence\" target=\"_blank\">Jensen-Shannon</a>\n",
        "      - This method provides a smoothed and normalized metric\n",
        "    * <a href=\"https://en.wikipedia.org/wiki/Kolmogorov%E2%80%93Smirnov_test\" target=\"_blank\">Two-Sample Kolmogorov-Smirnov (KS)</a>, <a href=\"https://en.wikipedia.org/wiki/Mann%E2%80%93Whitney_U_test\" target=\"_blank\">Mann-Whitney</a>, or <a href=\"https://en.wikipedia.org/wiki/Wilcoxon_signed-rank_test\" target=\"_blank\">Wilcoxon tests</a>.\n",
        "   <br>Note: These tests vary largely in their assumption of normalcy and ability to handle larger data sizes\n",
        "      - Do a check of normalcy and choose the appropriate test based on this (e.g. Mann-Whitney is more permissive of skew) \n",
        "   * <a href=\"https://en.wikipedia.org/wiki/Wasserstein_metric\" target=\"_blank\">Wasserstein Distance</a>\n",
        "     * <a href=\"https://en.wikipedia.org/wiki/Kullback%E2%80%93Leibler_divergence\" target=\"_blank\">Kullback–Leibler divergence</a>\n",
        "        - This is related to Jensen-Shannon divergence\n",
        "\n",
        "**Categorical Features**\n",
        " * Summary Statistics\n",
        "   * Mode, Number of unique values, Number of missing values\n",
        " * Tests\n",
        "   * <a href=\"https://en.wikipedia.org/wiki/Chi-squared_test\" target=\"_blank\">One-way Chi-Squared Test</a>\n",
        "   * <a href=\"https://en.wikipedia.org/wiki/Chi-squared_test\" target=\"_blank\">Chi-Squared Contingency Test</a>\n",
        "   * <a href=\"https://en.wikipedia.org/wiki/Fisher%27s_exact_test\" target=\"_blank\">Fisher's Exact Test</a>\n",
        "\n",
        "We also might want to store the relationship between the input variables and label. In that case, we handle this differently depending on the label variable type. \n",
        "\n",
        "**Numeric Comparisons**\n",
        "  * <a href=\"https://en.wikipedia.org/wiki/Pearson_correlation_coefficient\" target=\"_blank\">Pearson Coefficient</a>\n",
        "\n",
        "**Categorical Comparisons** \n",
        "  * <a href=\"https://en.wikipedia.org/wiki/Contingency_table#:~:text=In%20statistics%2C%20a%20contingency%20table,frequency%20distribution%20of%20the%20variables.&text=They%20provide%20a%20basic%20picture,help%20find%20interactions%20between%20them.\" target=\"_blank\">Contingency Tables</a>\n",
        "\n",
        "\n",
        "One interesting alternative is to frame monitoring as a supervised learning problem where you use your features and label as inputs to a model and your label is whether a given row comes from the training or inference set. As the model's accuracy improves, it would imply that the model as drifted."
      ],
      "metadata": {
        "id": "HV5jNM7Y3aWq"
      }
    },
    {
      "cell_type": "markdown",
      "source": [
        "# Kolmogorov-Smirnov Test \n",
        " Use the **Two-Sample Kolmogorov-Smirnov (KS) Test** for numeric features. This test determines whether or not two different samples come from the same distribution. This test:<br><br>\n",
        " - Returns a higher KS statistic when there is a higher probability of having two different distributions\n",
        " - Returns a lower P value the higher the statistical significance\n",
        "\n",
        "In practice, we need a thershold for the p-value, where we will consider it ***unlikely enough*** that the samples did not come from the same distribution. Usually this threshold, or alpha level, is 0.05."
      ],
      "metadata": {
        "id": "XDHfwLQq49B6"
      }
    },
    {
      "cell_type": "code",
      "execution_count": 1,
      "metadata": {
        "id": "aJ3f7AHjsAsl"
      },
      "outputs": [],
      "source": [
        "import seaborn as sns\n",
        "from scipy.stats import gaussian_kde, truncnorm\n",
        "import numpy as np\n",
        "import matplotlib.pyplot as plt\n",
        "import numpy as np\n",
        "import pandas as pd\n",
        "from scipy import stats\n",
        "from scipy.spatial import distance"
      ]
    },
    {
      "cell_type": "code",
      "source": [
        "def plot_distribution(distibution_1, distibution_2):\n",
        "    \"\"\"\n",
        "    Plots the two given distributions \n",
        "    :param distribution_1: rv_continuous \n",
        "    :param distribution_2: rv_continuous \n",
        "    \"\"\"\n",
        "    sns.kdeplot(distibution_1, shade=True, color=\"g\", label=1)\n",
        "    sns.kdeplot(distibution_2, shade=True, color=\"b\", label=2)\n",
        "    plt.legend(loc=\"upper right\", borderaxespad=0)\n",
        "\n",
        "def get_truncated_normal(mean=0, sd=1, low=0.2, upp=0.8, n_size=1000, seed=999):\n",
        "    \"\"\"\n",
        "    Generates truncated normal distribution based on given mean, standard deviation, lower bound, upper bound and sample size \n",
        "    :param mean: float, mean used to create the distribution \n",
        "    :param sd: float, standard deviation used to create distribution\n",
        "    :param low: float, lower bound used to create the distribution \n",
        "    :param upp: float, upper bound used to create the distribution \n",
        "    :param n_size: integer, desired sample size \n",
        "    :return distb: rv_continuous \n",
        "    \"\"\"\n",
        "    np.random.seed(seed=seed)\n",
        "\n",
        "    a = (low-mean) / sd\n",
        "    b = (upp-mean) / sd\n",
        "    distb = truncnorm(a, b, loc=mean, scale=sd).rvs(n_size, random_state=seed)\n",
        "    return distb\n",
        "\n",
        "def calculate_ks(distibution_1, distibution_2):\n",
        "    \"\"\"\n",
        "    Helper function that calculated the KS stat and plots the two distributions used in the calculation \n",
        "    :param distribution_1: rv_continuous\n",
        "    :param distribution_2: rv_continuous \n",
        "    :return p_value: float, resulting p-value from KS calculation\n",
        "    :return ks_drift: bool, detection of significant difference across the distributions \n",
        "    \"\"\"\n",
        "    base, comp = distibution_1, distibution_2\n",
        "    p_value = np.round(stats.ks_2samp(base, comp)[1],3)\n",
        "    ks_drift = p_value < 0.05\n",
        "\n",
        "    # Generate plots\n",
        "    plot_distribution(base, comp)\n",
        "    label = f\"KS Stat suggests model drift: {ks_drift} \\n P-value = {p_value}\"\n",
        "    plt.title(label, loc=\"center\")\n",
        "    return p_value, ks_drift\n",
        "\n",
        "def calculate_probability_vector(distibution_1, distibution_2):\n",
        "    \"\"\"\n",
        "    Helper function that turns raw values into a probability vector \n",
        "    :param distribution_1: rv_continuous\n",
        "    :param distribution_2: rv_continuous \n",
        "    :return p: array, probability vector of distribution_1\n",
        "    :return q: array, probability vector of distribution_2\n",
        "    \"\"\"\n",
        "    global_min = min(min(distibution_1), min(distibution_2))\n",
        "    global_max = max(max(distibution_1), max(distibution_2))\n",
        "    \n",
        "    p = np.histogram(distibution_1, bins=20, range=(global_min, global_max))\n",
        "    q = np.histogram(distibution_2, bins=20, range=(global_min, global_max))\n",
        "    \n",
        "    return p[0], q[0]\n",
        "    \n",
        "def calculate_js_distance(p, q, raw_distribution_1, raw_distribution_2, threshold=0.2):\n",
        "    \"\"\"\n",
        "    Helper function that calculated the JS distance and plots the two distributions used in the calculation \n",
        "    :param p: array, probability vector for the first distribution\n",
        "    :param q: array, probability vector for the second distribution \n",
        "    :param raw_distribution_1: array, raw values used in plotting\n",
        "    :param raw_distribution_2: array, raw values used in plotting\n",
        "    :param threshold: float, cutoff threshold for the JS statistic\n",
        "    :return js_stat: float, resulting distance measure from JS calculation\n",
        "    :return js_drift: bool, detection of significant difference across the distributions \n",
        "    \"\"\"\n",
        "    js_stat = distance.jensenshannon(p, q, base=2)\n",
        "    js_stat_rounded = np.round(js_stat, 3)\n",
        "    js_drift = js_stat > threshold\n",
        "\n",
        "    # Generate plot\n",
        "    plot_distribution(raw_distribution_1, raw_distribution_2)\n",
        "    label = f\"Jensen Shannon suggests model drift: {js_drift} \\n JS Distance = {js_stat_rounded}\"\n",
        "    plt.title(label, loc=\"center\")\n",
        "\n",
        "    return js_stat, js_drift"
      ],
      "metadata": {
        "id": "heNFE4jj5Wd-"
      },
      "execution_count": 2,
      "outputs": []
    },
    {
      "cell_type": "markdown",
      "source": [
        "Let's start with a sample size of 50."
      ],
      "metadata": {
        "id": "uaBrY2Cu5xuS"
      }
    },
    {
      "cell_type": "code",
      "source": [
        "calculate_ks(\n",
        "  get_truncated_normal(upp=.80, n_size=50), \n",
        "  get_truncated_normal(upp=.79, n_size=50) \n",
        ")"
      ],
      "metadata": {
        "colab": {
          "base_uri": "https://localhost:8080/",
          "height": 313
        },
        "id": "ndhhTpPX5imG",
        "outputId": "4bd801a6-3843-4c51-d71d-90c6439674fe"
      },
      "execution_count": 3,
      "outputs": [
        {
          "output_type": "execute_result",
          "data": {
            "text/plain": [
              "(1.0, False)"
            ]
          },
          "metadata": {},
          "execution_count": 3
        },
        {
          "output_type": "display_data",
          "data": {
            "text/plain": [
              "<Figure size 432x288 with 1 Axes>"
            ],
            "image/png": "[encoded data removed]"
          },
          "metadata": {
            "needs_background": "light"
          }
        }
      ]
    },
    {
      "cell_type": "markdown",
      "source": [
        "Great! We can see the distributions look pretty similar and we have a high p-value. Now, let's increase the sample size and see its impact on the p-value...Let's set **`N = 1,000`**\n"
      ],
      "metadata": {
        "id": "wM4f7eJE5xDR"
      }
    },
    {
      "cell_type": "code",
      "source": [
        "calculate_ks(\n",
        "  get_truncated_normal(upp=.80, n_size=100000), \n",
        "  get_truncated_normal(upp=.79, n_size=100000) \n",
        ")"
      ],
      "metadata": {
        "colab": {
          "base_uri": "https://localhost:8080/",
          "height": 313
        },
        "id": "F7_Oqs0o6Hrg",
        "outputId": "9f74a537-992d-4b5e-93d7-762475b0fb8d"
      },
      "execution_count": 4,
      "outputs": [
        {
          "output_type": "execute_result",
          "data": {
            "text/plain": [
              "(0.0, True)"
            ]
          },
          "metadata": {},
          "execution_count": 4
        },
        {
          "output_type": "display_data",
          "data": {
            "text/plain": [
              "<Figure size 432x288 with 1 Axes>"
            ],
            "image/png": "[encoded data removed]"
          },
          "metadata": {
            "needs_background": "light"
          }
        }
      ]
    },
    {
      "cell_type": "markdown",
      "source": [
        " With the increased sample size, our **`ks_stat`** has dropped to near zero indicating that our two samples are significantly different. However, by just visually looking at the plot of our two overlapping distributions, they look pretty similar. Caculating the **`ks_stat`** can be useful when determining the similarity between two distributions, however you can quickly run into limitations based on sample size. So how can we test for distribution similarity when we have a *large sample size*?\n"
      ],
      "metadata": {
        "id": "iiGU_D3B6T33"
      }
    },
    {
      "cell_type": "code",
      "source": [],
      "metadata": {
        "id": "UqBvySim6VFp"
      },
      "execution_count": 4,
      "outputs": []
    },
    {
      "cell_type": "markdown",
      "source": [],
      "metadata": {
        "id": "P6rJpqNF6eFJ"
      }
    },
    {
      "cell_type": "markdown",
      "source": [
        "## Jensen Shannon\n",
        "\n",
        "Jensen Shannon (JS) distance is more appropriate for drift detection on a large dataset since it **meaures the distance between two probability distributions and it is smoothed and normalized.** When log base 2 is used for the distance calculation, the JS statistic is bounded between 0 and 1:\n",
        " - 0 means the distributions are identical\n",
        " - 1 means the distributions have no similarity\n",
        "\n",
        "The JS distance is defined as the square root of the <a href=\"https://en.wikipedia.org/wiki/Jensen%E2%80%93Shannon_divergence\" target=\"_blank\">JS </a>\n",
        "\n",
        "![Jensen Shannon Divergence](https://miro.medium.com/max/1400/1*viATYZeg9SiT-ZdzYGjKYA.png)\n",
        "\n",
        " where *M* is defined as the pointwise mean of *P* and *Q* and *H(P)* is defined as the entropy function:\n",
        "\n",
        "![JS Entropy](https://miro.medium.com/max/1400/1*NSIn8OVTKufpSlvOOoXWQg.png)\n",
        "\n",
        "Unlike the KS statistic that provides a p value, the JS statistic only provides a scalar value. You therefore need to **manually provide a cutoff threshold** above which you will count the two datasets as having drifted."
      ],
      "metadata": {
        "id": "rejLrrx36eKJ"
      }
    },
    {
      "cell_type": "markdown",
      "source": [
        "Verify a JS statistic of 0 with two identical distributions. Note that the **`p`** and **`q`** arguments here are probability vectors, not raw values"
      ],
      "metadata": {
        "id": "WpDvQ4jK7B5O"
      }
    },
    {
      "cell_type": "code",
      "source": [
        "distance.jensenshannon(p=[1.0, 0.0, 1.0], q=[1.0, 0.0, 1.0], base=2.0)"
      ],
      "metadata": {
        "colab": {
          "base_uri": "https://localhost:8080/"
        },
        "id": "YG4PKQj_6uis",
        "outputId": "bbbaa4b4-4168-4806-e100-78e631821adc"
      },
      "execution_count": 5,
      "outputs": [
        {
          "output_type": "execute_result",
          "data": {
            "text/plain": [
              "0.0"
            ]
          },
          "metadata": {},
          "execution_count": 5
        }
      ]
    },
    {
      "cell_type": "code",
      "source": [
        "raw_distribution_1 = get_truncated_normal(upp=.80, n_size=1000)\n",
        "raw_distribution_2 = get_truncated_normal(upp=.79, n_size=1000)\n",
        "\n",
        "p, q = calculate_probability_vector(raw_distribution_1, raw_distribution_2)\n",
        "\n",
        "calculate_js_distance(p, q, raw_distribution_1, raw_distribution_2, threshold=0.2) "
      ],
      "metadata": {
        "colab": {
          "base_uri": "https://localhost:8080/",
          "height": 313
        },
        "id": "fssn1vkY7Lg7",
        "outputId": "34e4cfa1-bd73-453c-cc5d-c786e57891ad"
      },
      "execution_count": 6,
      "outputs": [
        {
          "output_type": "execute_result",
          "data": {
            "text/plain": [
              "(0.04147735123124928, False)"
            ]
          },
          "metadata": {},
          "execution_count": 6
        },
        {
          "output_type": "display_data",
          "data": {
            "text/plain": [
              "<Figure size 432x288 with 1 Axes>"
            ],
            "image/png": "[encoded data removed]"
          },
          "metadata": {
            "needs_background": "light"
          }
        }
      ]
    },
    {
      "cell_type": "code",
      "source": [
        "raw_distribution_1 = get_truncated_normal(upp=.80, n_size=10000)\n",
        "raw_distribution_2 = get_truncated_normal(upp=.79, n_size=10000)\n",
        "\n",
        "p, q = calculate_probability_vector(raw_distribution_1, raw_distribution_2)\n",
        "\n",
        "calculate_js_distance(p, q, raw_distribution_1, raw_distribution_2, threshold=0.2) "
      ],
      "metadata": {
        "colab": {
          "base_uri": "https://localhost:8080/",
          "height": 313
        },
        "id": "AZ5ZmttI7R0E",
        "outputId": "619c9814-9661-48f4-aeba-fb7af7342c81"
      },
      "execution_count": 7,
      "outputs": [
        {
          "output_type": "execute_result",
          "data": {
            "text/plain": [
              "(0.03279199904482657, False)"
            ]
          },
          "metadata": {},
          "execution_count": 7
        },
        {
          "output_type": "display_data",
          "data": {
            "text/plain": [
              "<Figure size 432x288 with 1 Axes>"
            ],
            "image/png": "[encoded data removed]"
          },
          "metadata": {
            "needs_background": "light"
          }
        }
      ]
    },
    {
      "cell_type": "code",
      "source": [
        "raw_distribution_1 = get_truncated_normal(upp=.80, n_size=100000)\n",
        "raw_distribution_2 = get_truncated_normal(upp=.79, n_size=100000)\n",
        "\n",
        "p, q = calculate_probability_vector(raw_distribution_1, raw_distribution_2)\n",
        "\n",
        "calculate_js_distance(p, q, raw_distribution_1, raw_distribution_2, threshold=0.2) "
      ],
      "metadata": {
        "colab": {
          "base_uri": "https://localhost:8080/",
          "height": 313
        },
        "id": "aIDo1tcB7X90",
        "outputId": "1ce1e23f-0e40-49ac-9141-8a363f686ddc"
      },
      "execution_count": 8,
      "outputs": [
        {
          "output_type": "execute_result",
          "data": {
            "text/plain": [
              "(0.03177292121031257, False)"
            ]
          },
          "metadata": {},
          "execution_count": 8
        },
        {
          "output_type": "display_data",
          "data": {
            "text/plain": [
              "<Figure size 432x288 with 1 Axes>"
            ],
            "image/png": "[encoded data removed]"
          },
          "metadata": {
            "needs_background": "light"
          }
        }
      ]
    },
    {
      "cell_type": "markdown",
      "source": [
        "As illustrated above, the JS distance is much more resilient to increased sample size because it is smoothed and normalized.\n",
        "\n",
        " In practice, you would have data over a period of time, divide it into groups based on time (e.g. weekly windows), and then run the tests on the two groups to determine if there was a statistically significant change. The frequency of these monitoring jobs depends on the training window, inference data sample size, and use case. We'll simulate this with our datase"
      ],
      "metadata": {
        "id": "ypRhz45K7eoi"
      }
    },
    {
      "cell_type": "code",
      "source": [
        "import pandas as pd\n",
        "df = pd.read_csv('https://query.data.world/s/xirohxytyn2omyvl6xg6wxmu3mcdjx')\n",
        "df['price'] = df[\"price\"].str[1:].str.replace(\",\",\"\").astype(\"float\")"
      ],
      "metadata": {
        "id": "evvpcSwN8uPZ"
      },
      "execution_count": 9,
      "outputs": []
    },
    {
      "cell_type": "code",
      "source": [
        "# Identify Numeric & Categorical Columns\n",
        "num_cols = [\"accommodates\", \"bedrooms\", \"beds\", \"minimum_nights\", \"number_of_reviews\", \"review_scores_rating\", \"price\"]\n",
        "cat_cols = [\"neighbourhood_cleansed\", \"property_type\", \"room_type\"]\n",
        "\n",
        "# Drop extraneous columns for this example\n",
        "airbnb_pdf = df[num_cols + cat_cols]\n",
        "\n",
        "# Split Dataset into the two groups\n",
        "pdf1 = airbnb_pdf.sample(frac = 0.5, random_state=1)\n",
        "pdf2 = airbnb_pdf.drop(pdf1.index)"
      ],
      "metadata": {
        "id": "5urVibNZ83-o"
      },
      "execution_count": 10,
      "outputs": []
    },
    {
      "cell_type": "markdown",
      "source": [
        "Alter **`pdf2`** to simulate drift. Add the following realistic changes: \n",
        " * ***The demand for Airbnbs skyrockted, so the prices of Airbnbs doubled***.\n",
        " * *Type of Drift*: Concept, Label \n",
        "  * ***An upstream data management error resulted in null values for `neighbourhood_cleansed`***\n",
        " * *Type of Drift*: Feature\n",
        "  * ***An upstream data change resulted in `review_score_rating` move to a 5 star rating system, instead of the previous 100 point system. ***\n",
        " * *Type of Drift*: Feature"
      ],
      "metadata": {
        "id": "cCgU0xjt9Rzj"
      }
    },
    {
      "cell_type": "code",
      "source": [
        "\n",
        "pdf2[\"price\"] = 2 * pdf2[\"price\"]\n",
        "pdf2[\"review_scores_rating\"] = pdf2[\"review_scores_rating\"] / 20\n",
        "pdf2[\"neighbourhood_cleansed\"] = pdf2[\"neighbourhood_cleansed\"].map(lambda x: None if x == 0 else x)"
      ],
      "metadata": {
        "id": "4aWh6u7A9LIE"
      },
      "execution_count": 11,
      "outputs": []
    },
    {
      "cell_type": "code",
      "source": [
        "pdf1.describe()"
      ],
      "metadata": {
        "colab": {
          "base_uri": "https://localhost:8080/",
          "height": 300
        },
        "id": "fhW76cQT9qwQ",
        "outputId": "676d65b8-253f-430a-b3d4-f7aadc16d93d"
      },
      "execution_count": 12,
      "outputs": [
        {
          "output_type": "execute_result",
          "data": {
            "text/plain": [
              "       accommodates     bedrooms         beds  minimum_nights  \\\n",
              "count   3788.000000  3788.000000  3784.000000     3788.000000   \n",
              "mean       3.213305     1.346357     1.788584       16.399155   \n",
              "std        1.907115     0.931731     1.166416       28.485096   \n",
              "min        1.000000     0.000000     0.000000        1.000000   \n",
              "25%        2.000000     1.000000     1.000000        2.000000   \n",
              "50%        2.000000     1.000000     1.000000        4.000000   \n",
              "75%        4.000000     2.000000     2.000000       30.000000   \n",
              "max       16.000000     7.000000     9.000000      999.000000   \n",
              "\n",
              "       number_of_reviews  review_scores_rating        price  \n",
              "count        3788.000000           3044.000000  3788.000000  \n",
              "mean           43.587909             95.646189   215.544615  \n",
              "std            73.191235              7.084531   263.698161  \n",
              "min             0.000000             20.000000     0.000000  \n",
              "25%             1.000000             95.000000   100.000000  \n",
              "50%            12.000000             98.000000   150.000000  \n",
              "75%            55.000000            100.000000   249.000000  \n",
              "max           712.000000            100.000000  8000.000000  "
            ],
            "text/html": [
              "\n",
              "  <div id=\"df-8ea6956b-57d3-4cbf-a17f-d858af3e5dea\">\n",
              "    <div class=\"colab-df-container\">\n",
              "      <div>\n",
              "<style scoped>\n",
              "    .dataframe tbody tr th:only-of-type {\n",
              "        vertical-align: middle;\n",
              "    }\n",
              "\n",
              "    .dataframe tbody tr th {\n",
              "        vertical-align: top;\n",
              "    }\n",
              "\n",
              "    .dataframe thead th {\n",
              "        text-align: right;\n",
              "    }\n",
              "</style>\n",
              "<table border=\"1\" class=\"dataframe\">\n",
              "  <thead>\n",
              "    <tr style=\"text-align: right;\">\n",
              "      <th></th>\n",
              "      <th>accommodates</th>\n",
              "      <th>bedrooms</th>\n",
              "      <th>beds</th>\n",
              "      <th>minimum_nights</th>\n",
              "      <th>number_of_reviews</th>\n",
              "      <th>review_scores_rating</th>\n",
              "      <th>price</th>\n",
              "    </tr>\n",
              "  </thead>\n",
              "  <tbody>\n",
              "    <tr>\n",
              "      <th>count</th>\n",
              "      <td>3788.000000</td>\n",
              "      <td>3788.000000</td>\n",
              "      <td>3784.000000</td>\n",
              "      <td>3788.000000</td>\n",
              "      <td>3788.000000</td>\n",
              "      <td>3044.000000</td>\n",
              "      <td>3788.000000</td>\n",
              "    </tr>\n",
              "    <tr>\n",
              "      <th>mean</th>\n",
              "      <td>3.213305</td>\n",
              "      <td>1.346357</td>\n",
              "      <td>1.788584</td>\n",
              "      <td>16.399155</td>\n",
              "      <td>43.587909</td>\n",
              "      <td>95.646189</td>\n",
              "      <td>215.544615</td>\n",
              "    </tr>\n",
              "    <tr>\n",
              "      <th>std</th>\n",
              "      <td>1.907115</td>\n",
              "      <td>0.931731</td>\n",
              "      <td>1.166416</td>\n",
              "      <td>28.485096</td>\n",
              "      <td>73.191235</td>\n",
              "      <td>7.084531</td>\n",
              "      <td>263.698161</td>\n",
              "    </tr>\n",
              "    <tr>\n",
              "      <th>min</th>\n",
              "      <td>1.000000</td>\n",
              "      <td>0.000000</td>\n",
              "      <td>0.000000</td>\n",
              "      <td>1.000000</td>\n",
              "      <td>0.000000</td>\n",
              "      <td>20.000000</td>\n",
              "      <td>0.000000</td>\n",
              "    </tr>\n",
              "    <tr>\n",
              "      <th>25%</th>\n",
              "      <td>2.000000</td>\n",
              "      <td>1.000000</td>\n",
              "      <td>1.000000</td>\n",
              "      <td>2.000000</td>\n",
              "      <td>1.000000</td>\n",
              "      <td>95.000000</td>\n",
              "      <td>100.000000</td>\n",
              "    </tr>\n",
              "    <tr>\n",
              "      <th>50%</th>\n",
              "      <td>2.000000</td>\n",
              "      <td>1.000000</td>\n",
              "      <td>1.000000</td>\n",
              "      <td>4.000000</td>\n",
              "      <td>12.000000</td>\n",
              "      <td>98.000000</td>\n",
              "      <td>150.000000</td>\n",
              "    </tr>\n",
              "    <tr>\n",
              "      <th>75%</th>\n",
              "      <td>4.000000</td>\n",
              "      <td>2.000000</td>\n",
              "      <td>2.000000</td>\n",
              "      <td>30.000000</td>\n",
              "      <td>55.000000</td>\n",
              "      <td>100.000000</td>\n",
              "      <td>249.000000</td>\n",
              "    </tr>\n",
              "    <tr>\n",
              "      <th>max</th>\n",
              "      <td>16.000000</td>\n",
              "      <td>7.000000</td>\n",
              "      <td>9.000000</td>\n",
              "      <td>999.000000</td>\n",
              "      <td>712.000000</td>\n",
              "      <td>100.000000</td>\n",
              "      <td>8000.000000</td>\n",
              "    </tr>\n",
              "  </tbody>\n",
              "</table>\n",
              "</div>\n",
              "      <button class=\"colab-df-convert\" onclick=\"convertToInteractive('df-8ea6956b-57d3-4cbf-a17f-d858af3e5dea')\"\n",
              "              title=\"Convert this dataframe to an interactive table.\"\n",
              "              style=\"display:none;\">\n",
              "        \n",
              "  <svg xmlns=\"http://www.w3.org/2000/svg\" height=\"24px\"viewBox=\"0 0 24 24\"\n",
              "       width=\"24px\">\n",
              "    <path d=\"M0 0h24v24H0V0z\" fill=\"none\"/>\n",
              "    <path d=\"M18.56 5.44l.94 2.06.94-2.06 2.06-.94-2.06-.94-.94-2.06-.94 2.06-2.06.94zm-11 1L8.5 8.5l.94-2.06 2.06-.94-2.06-.94L8.5 2.5l-.94 2.06-2.06.94zm10 10l.94 2.06.94-2.06 2.06-.94-2.06-.94-.94-2.06-.94 2.06-2.06.94z\"/><path d=\"M17.41 7.96l-1.37-1.37c-.4-.4-.92-.59-1.43-.59-.52 0-1.04.2-1.43.59L10.3 9.45l-7.72 7.72c-.78.78-.78 2.05 0 2.83L4 21.41c.39.39.9.59 1.41.59.51 0 1.02-.2 1.41-.59l7.78-7.78 2.81-2.81c.8-.78.8-2.07 0-2.86zM5.41 20L4 18.59l7.72-7.72 1.47 1.35L5.41 20z\"/>\n",
              "  </svg>\n",
              "      </button>\n",
              "      \n",
              "  <style>\n",
              "    .colab-df-container {\n",
              "      display:flex;\n",
              "      flex-wrap:wrap;\n",
              "      gap: 12px;\n",
              "    }\n",
              "\n",
              "    .colab-df-convert {\n",
              "      background-color: #E8F0FE;\n",
              "      border: none;\n",
              "      border-radius: 50%;\n",
              "      cursor: pointer;\n",
              "      display: none;\n",
              "      fill: #1967D2;\n",
              "      height: 32px;\n",
              "      padding: 0 0 0 0;\n",
              "      width: 32px;\n",
              "    }\n",
              "\n",
              "    .colab-df-convert:hover {\n",
              "      background-color: #E2EBFA;\n",
              "      box-shadow: 0px 1px 2px rgba(60, 64, 67, 0.3), 0px 1px 3px 1px rgba(60, 64, 67, 0.15);\n",
              "      fill: #174EA6;\n",
              "    }\n",
              "\n",
              "    [theme=dark] .colab-df-convert {\n",
              "      background-color: #3B4455;\n",
              "      fill: #D2E3FC;\n",
              "    }\n",
              "\n",
              "    [theme=dark] .colab-df-convert:hover {\n",
              "      background-color: #434B5C;\n",
              "      box-shadow: 0px 1px 3px 1px rgba(0, 0, 0, 0.15);\n",
              "      filter: drop-shadow(0px 1px 2px rgba(0, 0, 0, 0.3));\n",
              "      fill: #FFFFFF;\n",
              "    }\n",
              "  </style>\n",
              "\n",
              "      <script>\n",
              "        const buttonEl =\n",
              "          document.querySelector('#df-8ea6956b-57d3-4cbf-a17f-d858af3e5dea button.colab-df-convert');\n",
              "        buttonEl.style.display =\n",
              "          google.colab.kernel.accessAllowed ? 'block' : 'none';\n",
              "\n",
              "        async function convertToInteractive(key) {\n",
              "          const element = document.querySelector('#df-8ea6956b-57d3-4cbf-a17f-d858af3e5dea');\n",
              "          const dataTable =\n",
              "            await google.colab.kernel.invokeFunction('convertToInteractive',\n",
              "                                                     [key], {});\n",
              "          if (!dataTable) return;\n",
              "\n",
              "          const docLinkHtml = 'Like what you see? Visit the ' +\n",
              "            '<a target=\"_blank\" href=https://colab.research.google.com/notebooks/data_table.ipynb>data table notebook</a>'\n",
              "            + ' to learn more about interactive tables.';\n",
              "          element.innerHTML = '';\n",
              "          dataTable['output_type'] = 'display_data';\n",
              "          await google.colab.output.renderOutput(dataTable, element);\n",
              "          const docLink = document.createElement('div');\n",
              "          docLink.innerHTML = docLinkHtml;\n",
              "          element.appendChild(docLink);\n",
              "        }\n",
              "      </script>\n",
              "    </div>\n",
              "  </div>\n",
              "  "
            ]
          },
          "metadata": {},
          "execution_count": 12
        }
      ]
    },
    {
      "cell_type": "code",
      "source": [
        "pdf2.describe()"
      ],
      "metadata": {
        "colab": {
          "base_uri": "https://localhost:8080/",
          "height": 300
        },
        "id": "PLUiA4vy9vmY",
        "outputId": "9ec59850-613a-4cce-dd7e-4158f571195d"
      },
      "execution_count": 13,
      "outputs": [
        {
          "output_type": "execute_result",
          "data": {
            "text/plain": [
              "       accommodates     bedrooms         beds  minimum_nights  \\\n",
              "count   3787.000000  3785.000000  3784.000000    3.787000e+03   \n",
              "mean       3.214682     1.357992     1.780920    2.642255e+04   \n",
              "std        1.950555     0.942299     1.202406    1.624996e+06   \n",
              "min        1.000000     0.000000     0.000000    1.000000e+00   \n",
              "25%        2.000000     1.000000     1.000000    2.000000e+00   \n",
              "50%        2.000000     1.000000     1.000000    4.000000e+00   \n",
              "75%        4.000000     2.000000     2.000000    3.000000e+01   \n",
              "max       16.000000    14.000000    14.000000    1.000000e+08   \n",
              "\n",
              "       number_of_reviews  review_scores_rating         price  \n",
              "count        3787.000000           2994.000000   3787.000000  \n",
              "mean           44.950621              4.781430    429.716398  \n",
              "std            76.357449              0.344259    497.569748  \n",
              "min             0.000000              1.000000     38.000000  \n",
              "25%             1.000000              4.750000    200.000000  \n",
              "50%            11.000000              4.900000    310.000000  \n",
              "75%            54.000000              5.000000    490.000000  \n",
              "max           672.000000              5.000000  10000.000000  "
            ],
            "text/html": [
              "\n",
              "  <div id=\"df-ace83f82-f688-41dc-a49b-c2f33e5d7ada\">\n",
              "    <div class=\"colab-df-container\">\n",
              "      <div>\n",
              "<style scoped>\n",
              "    .dataframe tbody tr th:only-of-type {\n",
              "        vertical-align: middle;\n",
              "    }\n",
              "\n",
              "    .dataframe tbody tr th {\n",
              "        vertical-align: top;\n",
              "    }\n",
              "\n",
              "    .dataframe thead th {\n",
              "        text-align: right;\n",
              "    }\n",
              "</style>\n",
              "<table border=\"1\" class=\"dataframe\">\n",
              "  <thead>\n",
              "    <tr style=\"text-align: right;\">\n",
              "      <th></th>\n",
              "      <th>accommodates</th>\n",
              "      <th>bedrooms</th>\n",
              "      <th>beds</th>\n",
              "      <th>minimum_nights</th>\n",
              "      <th>number_of_reviews</th>\n",
              "      <th>review_scores_rating</th>\n",
              "      <th>price</th>\n",
              "    </tr>\n",
              "  </thead>\n",
              "  <tbody>\n",
              "    <tr>\n",
              "      <th>count</th>\n",
              "      <td>3787.000000</td>\n",
              "      <td>3785.000000</td>\n",
              "      <td>3784.000000</td>\n",
              "      <td>3.787000e+03</td>\n",
              "      <td>3787.000000</td>\n",
              "      <td>2994.000000</td>\n",
              "      <td>3787.000000</td>\n",
              "    </tr>\n",
              "    <tr>\n",
              "      <th>mean</th>\n",
              "      <td>3.214682</td>\n",
              "      <td>1.357992</td>\n",
              "      <td>1.780920</td>\n",
              "      <td>2.642255e+04</td>\n",
              "      <td>44.950621</td>\n",
              "      <td>4.781430</td>\n",
              "      <td>429.716398</td>\n",
              "    </tr>\n",
              "    <tr>\n",
              "      <th>std</th>\n",
              "      <td>1.950555</td>\n",
              "      <td>0.942299</td>\n",
              "      <td>1.202406</td>\n",
              "      <td>1.624996e+06</td>\n",
              "      <td>76.357449</td>\n",
              "      <td>0.344259</td>\n",
              "      <td>497.569748</td>\n",
              "    </tr>\n",
              "    <tr>\n",
              "      <th>min</th>\n",
              "      <td>1.000000</td>\n",
              "      <td>0.000000</td>\n",
              "      <td>0.000000</td>\n",
              "      <td>1.000000e+00</td>\n",
              "      <td>0.000000</td>\n",
              "      <td>1.000000</td>\n",
              "      <td>38.000000</td>\n",
              "    </tr>\n",
              "    <tr>\n",
              "      <th>25%</th>\n",
              "      <td>2.000000</td>\n",
              "      <td>1.000000</td>\n",
              "      <td>1.000000</td>\n",
              "      <td>2.000000e+00</td>\n",
              "      <td>1.000000</td>\n",
              "      <td>4.750000</td>\n",
              "      <td>200.000000</td>\n",
              "    </tr>\n",
              "    <tr>\n",
              "      <th>50%</th>\n",
              "      <td>2.000000</td>\n",
              "      <td>1.000000</td>\n",
              "      <td>1.000000</td>\n",
              "      <td>4.000000e+00</td>\n",
              "      <td>11.000000</td>\n",
              "      <td>4.900000</td>\n",
              "      <td>310.000000</td>\n",
              "    </tr>\n",
              "    <tr>\n",
              "      <th>75%</th>\n",
              "      <td>4.000000</td>\n",
              "      <td>2.000000</td>\n",
              "      <td>2.000000</td>\n",
              "      <td>3.000000e+01</td>\n",
              "      <td>54.000000</td>\n",
              "      <td>5.000000</td>\n",
              "      <td>490.000000</td>\n",
              "    </tr>\n",
              "    <tr>\n",
              "      <th>max</th>\n",
              "      <td>16.000000</td>\n",
              "      <td>14.000000</td>\n",
              "      <td>14.000000</td>\n",
              "      <td>1.000000e+08</td>\n",
              "      <td>672.000000</td>\n",
              "      <td>5.000000</td>\n",
              "      <td>10000.000000</td>\n",
              "    </tr>\n",
              "  </tbody>\n",
              "</table>\n",
              "</div>\n",
              "      <button class=\"colab-df-convert\" onclick=\"convertToInteractive('df-ace83f82-f688-41dc-a49b-c2f33e5d7ada')\"\n",
              "              title=\"Convert this dataframe to an interactive table.\"\n",
              "              style=\"display:none;\">\n",
              "        \n",
              "  <svg xmlns=\"http://www.w3.org/2000/svg\" height=\"24px\"viewBox=\"0 0 24 24\"\n",
              "       width=\"24px\">\n",
              "    <path d=\"M0 0h24v24H0V0z\" fill=\"none\"/>\n",
              "    <path d=\"M18.56 5.44l.94 2.06.94-2.06 2.06-.94-2.06-.94-.94-2.06-.94 2.06-2.06.94zm-11 1L8.5 8.5l.94-2.06 2.06-.94-2.06-.94L8.5 2.5l-.94 2.06-2.06.94zm10 10l.94 2.06.94-2.06 2.06-.94-2.06-.94-.94-2.06-.94 2.06-2.06.94z\"/><path d=\"M17.41 7.96l-1.37-1.37c-.4-.4-.92-.59-1.43-.59-.52 0-1.04.2-1.43.59L10.3 9.45l-7.72 7.72c-.78.78-.78 2.05 0 2.83L4 21.41c.39.39.9.59 1.41.59.51 0 1.02-.2 1.41-.59l7.78-7.78 2.81-2.81c.8-.78.8-2.07 0-2.86zM5.41 20L4 18.59l7.72-7.72 1.47 1.35L5.41 20z\"/>\n",
              "  </svg>\n",
              "      </button>\n",
              "      \n",
              "  <style>\n",
              "    .colab-df-container {\n",
              "      display:flex;\n",
              "      flex-wrap:wrap;\n",
              "      gap: 12px;\n",
              "    }\n",
              "\n",
              "    .colab-df-convert {\n",
              "      background-color: #E8F0FE;\n",
              "      border: none;\n",
              "      border-radius: 50%;\n",
              "      cursor: pointer;\n",
              "      display: none;\n",
              "      fill: #1967D2;\n",
              "      height: 32px;\n",
              "      padding: 0 0 0 0;\n",
              "      width: 32px;\n",
              "    }\n",
              "\n",
              "    .colab-df-convert:hover {\n",
              "      background-color: #E2EBFA;\n",
              "      box-shadow: 0px 1px 2px rgba(60, 64, 67, 0.3), 0px 1px 3px 1px rgba(60, 64, 67, 0.15);\n",
              "      fill: #174EA6;\n",
              "    }\n",
              "\n",
              "    [theme=dark] .colab-df-convert {\n",
              "      background-color: #3B4455;\n",
              "      fill: #D2E3FC;\n",
              "    }\n",
              "\n",
              "    [theme=dark] .colab-df-convert:hover {\n",
              "      background-color: #434B5C;\n",
              "      box-shadow: 0px 1px 3px 1px rgba(0, 0, 0, 0.15);\n",
              "      filter: drop-shadow(0px 1px 2px rgba(0, 0, 0, 0.3));\n",
              "      fill: #FFFFFF;\n",
              "    }\n",
              "  </style>\n",
              "\n",
              "      <script>\n",
              "        const buttonEl =\n",
              "          document.querySelector('#df-ace83f82-f688-41dc-a49b-c2f33e5d7ada button.colab-df-convert');\n",
              "        buttonEl.style.display =\n",
              "          google.colab.kernel.accessAllowed ? 'block' : 'none';\n",
              "\n",
              "        async function convertToInteractive(key) {\n",
              "          const element = document.querySelector('#df-ace83f82-f688-41dc-a49b-c2f33e5d7ada');\n",
              "          const dataTable =\n",
              "            await google.colab.kernel.invokeFunction('convertToInteractive',\n",
              "                                                     [key], {});\n",
              "          if (!dataTable) return;\n",
              "\n",
              "          const docLinkHtml = 'Like what you see? Visit the ' +\n",
              "            '<a target=\"_blank\" href=https://colab.research.google.com/notebooks/data_table.ipynb>data table notebook</a>'\n",
              "            + ' to learn more about interactive tables.';\n",
              "          element.innerHTML = '';\n",
              "          dataTable['output_type'] = 'display_data';\n",
              "          await google.colab.output.renderOutput(dataTable, element);\n",
              "          const docLink = document.createElement('div');\n",
              "          docLink.innerHTML = docLinkHtml;\n",
              "          element.appendChild(docLink);\n",
              "        }\n",
              "      </script>\n",
              "    </div>\n",
              "  </div>\n",
              "  "
            ]
          },
          "metadata": {},
          "execution_count": 13
        }
      ]
    },
    {
      "cell_type": "code",
      "source": [
        "cm = sns.light_palette(\"#2ecc71\", as_cmap=True)\n",
        "summary1_pdf = pdf1.describe()[num_cols]\n",
        "summary2_pdf = pdf2.describe()[num_cols]\n",
        "percent_change = 100 * abs((summary1_pdf - summary2_pdf) / (summary1_pdf + 1e-100))\n",
        "percent_change.style.background_gradient(cmap=cm, text_color_threshold=0.5, axis=1)"
      ],
      "metadata": {
        "colab": {
          "base_uri": "https://localhost:8080/",
          "height": 320
        },
        "id": "EYFz8ymV9-F4",
        "outputId": "74fea8e3-211c-491c-a9fc-b54fc80c65f8"
      },
      "execution_count": 14,
      "outputs": [
        {
          "output_type": "execute_result",
          "data": {
            "text/plain": [
              "<pandas.io.formats.style.Styler at 0x7f2cf2933340>"
            ],
            "text/html": [
              "<style type=\"text/css\">\n",
              "#T_6bbc8_row0_col0, #T_6bbc8_row0_col3, #T_6bbc8_row0_col4, #T_6bbc8_row0_col6, #T_6bbc8_row6_col4 {\n",
              "  background-color: #e8f2eb;\n",
              "  color: #000000;\n",
              "}\n",
              "#T_6bbc8_row0_col1 {\n",
              "  background-color: #e2f1e7;\n",
              "  color: #000000;\n",
              "}\n",
              "#T_6bbc8_row0_col2, #T_6bbc8_row1_col0, #T_6bbc8_row1_col1, #T_6bbc8_row1_col2, #T_6bbc8_row1_col4, #T_6bbc8_row1_col5, #T_6bbc8_row1_col6, #T_6bbc8_row2_col0, #T_6bbc8_row2_col1, #T_6bbc8_row2_col2, #T_6bbc8_row2_col4, #T_6bbc8_row2_col5, #T_6bbc8_row2_col6, #T_6bbc8_row3_col0, #T_6bbc8_row3_col1, #T_6bbc8_row3_col2, #T_6bbc8_row3_col3, #T_6bbc8_row3_col4, #T_6bbc8_row3_col5, #T_6bbc8_row4_col0, #T_6bbc8_row4_col1, #T_6bbc8_row4_col2, #T_6bbc8_row4_col3, #T_6bbc8_row4_col4, #T_6bbc8_row5_col0, #T_6bbc8_row5_col1, #T_6bbc8_row5_col2, #T_6bbc8_row5_col3, #T_6bbc8_row6_col0, #T_6bbc8_row6_col1, #T_6bbc8_row6_col2, #T_6bbc8_row6_col3, #T_6bbc8_row7_col0, #T_6bbc8_row7_col1, #T_6bbc8_row7_col2, #T_6bbc8_row7_col4, #T_6bbc8_row7_col5, #T_6bbc8_row7_col6 {\n",
              "  background-color: #ebf3ec;\n",
              "  color: #000000;\n",
              "}\n",
              "#T_6bbc8_row0_col5, #T_6bbc8_row1_col3, #T_6bbc8_row2_col3, #T_6bbc8_row3_col6, #T_6bbc8_row4_col6, #T_6bbc8_row5_col6, #T_6bbc8_row6_col6, #T_6bbc8_row7_col3 {\n",
              "  background-color: #2ecc71;\n",
              "  color: #f1f1f1;\n",
              "}\n",
              "#T_6bbc8_row4_col5 {\n",
              "  background-color: #37ce77;\n",
              "  color: #f1f1f1;\n",
              "}\n",
              "#T_6bbc8_row5_col4 {\n",
              "  background-color: #dcf0e3;\n",
              "  color: #000000;\n",
              "}\n",
              "#T_6bbc8_row5_col5 {\n",
              "  background-color: #42d07e;\n",
              "  color: #f1f1f1;\n",
              "}\n",
              "#T_6bbc8_row6_col5 {\n",
              "  background-color: #31cd73;\n",
              "  color: #f1f1f1;\n",
              "}\n",
              "</style>\n",
              "<table id=\"T_6bbc8_\" class=\"dataframe\">\n",
              "  <thead>\n",
              "    <tr>\n",
              "      <th class=\"blank level0\" >&nbsp;</th>\n",
              "      <th class=\"col_heading level0 col0\" >accommodates</th>\n",
              "      <th class=\"col_heading level0 col1\" >bedrooms</th>\n",
              "      <th class=\"col_heading level0 col2\" >beds</th>\n",
              "      <th class=\"col_heading level0 col3\" >minimum_nights</th>\n",
              "      <th class=\"col_heading level0 col4\" >number_of_reviews</th>\n",
              "      <th class=\"col_heading level0 col5\" >review_scores_rating</th>\n",
              "      <th class=\"col_heading level0 col6\" >price</th>\n",
              "    </tr>\n",
              "  </thead>\n",
              "  <tbody>\n",
              "    <tr>\n",
              "      <th id=\"T_6bbc8_level0_row0\" class=\"row_heading level0 row0\" >count</th>\n",
              "      <td id=\"T_6bbc8_row0_col0\" class=\"data row0 col0\" >0.026399</td>\n",
              "      <td id=\"T_6bbc8_row0_col1\" class=\"data row0 col1\" >0.079197</td>\n",
              "      <td id=\"T_6bbc8_row0_col2\" class=\"data row0 col2\" >0.000000</td>\n",
              "      <td id=\"T_6bbc8_row0_col3\" class=\"data row0 col3\" >0.026399</td>\n",
              "      <td id=\"T_6bbc8_row0_col4\" class=\"data row0 col4\" >0.026399</td>\n",
              "      <td id=\"T_6bbc8_row0_col5\" class=\"data row0 col5\" >1.642576</td>\n",
              "      <td id=\"T_6bbc8_row0_col6\" class=\"data row0 col6\" >0.026399</td>\n",
              "    </tr>\n",
              "    <tr>\n",
              "      <th id=\"T_6bbc8_level0_row1\" class=\"row_heading level0 row1\" >mean</th>\n",
              "      <td id=\"T_6bbc8_row1_col0\" class=\"data row1 col0\" >0.042842</td>\n",
              "      <td id=\"T_6bbc8_row1_col1\" class=\"data row1 col1\" >0.864196</td>\n",
              "      <td id=\"T_6bbc8_row1_col2\" class=\"data row1 col2\" >0.428487</td>\n",
              "      <td id=\"T_6bbc8_row1_col3\" class=\"data row1 col3\" >161021.399788</td>\n",
              "      <td id=\"T_6bbc8_row1_col4\" class=\"data row1 col4\" >3.126352</td>\n",
              "      <td id=\"T_6bbc8_row1_col5\" class=\"data row1 col5\" >95.000920</td>\n",
              "      <td id=\"T_6bbc8_row1_col6\" class=\"data row1 col6\" >99.363087</td>\n",
              "    </tr>\n",
              "    <tr>\n",
              "      <th id=\"T_6bbc8_level0_row2\" class=\"row_heading level0 row2\" >std</th>\n",
              "      <td id=\"T_6bbc8_row2_col0\" class=\"data row2 col0\" >2.277801</td>\n",
              "      <td id=\"T_6bbc8_row2_col1\" class=\"data row2 col1\" >1.134297</td>\n",
              "      <td id=\"T_6bbc8_row2_col2\" class=\"data row2 col2\" >3.085523</td>\n",
              "      <td id=\"T_6bbc8_row2_col3\" class=\"data row2 col3\" >5704623.312324</td>\n",
              "      <td id=\"T_6bbc8_row2_col4\" class=\"data row2 col4\" >4.325947</td>\n",
              "      <td id=\"T_6bbc8_row2_col5\" class=\"data row2 col5\" >95.140700</td>\n",
              "      <td id=\"T_6bbc8_row2_col6\" class=\"data row2 col6\" >88.689123</td>\n",
              "    </tr>\n",
              "    <tr>\n",
              "      <th id=\"T_6bbc8_level0_row3\" class=\"row_heading level0 row3\" >min</th>\n",
              "      <td id=\"T_6bbc8_row3_col0\" class=\"data row3 col0\" >0.000000</td>\n",
              "      <td id=\"T_6bbc8_row3_col1\" class=\"data row3 col1\" >0.000000</td>\n",
              "      <td id=\"T_6bbc8_row3_col2\" class=\"data row3 col2\" >0.000000</td>\n",
              "      <td id=\"T_6bbc8_row3_col3\" class=\"data row3 col3\" >0.000000</td>\n",
              "      <td id=\"T_6bbc8_row3_col4\" class=\"data row3 col4\" >0.000000</td>\n",
              "      <td id=\"T_6bbc8_row3_col5\" class=\"data row3 col5\" >95.000000</td>\n",
              "      <td id=\"T_6bbc8_row3_col6\" class=\"data row3 col6\" >37999999999999996889926940235282902181759906696423919780887168451751022700782120610306192633897248882688.000000</td>\n",
              "    </tr>\n",
              "    <tr>\n",
              "      <th id=\"T_6bbc8_level0_row4\" class=\"row_heading level0 row4\" >25%</th>\n",
              "      <td id=\"T_6bbc8_row4_col0\" class=\"data row4 col0\" >0.000000</td>\n",
              "      <td id=\"T_6bbc8_row4_col1\" class=\"data row4 col1\" >0.000000</td>\n",
              "      <td id=\"T_6bbc8_row4_col2\" class=\"data row4 col2\" >0.000000</td>\n",
              "      <td id=\"T_6bbc8_row4_col3\" class=\"data row4 col3\" >0.000000</td>\n",
              "      <td id=\"T_6bbc8_row4_col4\" class=\"data row4 col4\" >0.000000</td>\n",
              "      <td id=\"T_6bbc8_row4_col5\" class=\"data row4 col5\" >95.000000</td>\n",
              "      <td id=\"T_6bbc8_row4_col6\" class=\"data row4 col6\" >100.000000</td>\n",
              "    </tr>\n",
              "    <tr>\n",
              "      <th id=\"T_6bbc8_level0_row5\" class=\"row_heading level0 row5\" >50%</th>\n",
              "      <td id=\"T_6bbc8_row5_col0\" class=\"data row5 col0\" >0.000000</td>\n",
              "      <td id=\"T_6bbc8_row5_col1\" class=\"data row5 col1\" >0.000000</td>\n",
              "      <td id=\"T_6bbc8_row5_col2\" class=\"data row5 col2\" >0.000000</td>\n",
              "      <td id=\"T_6bbc8_row5_col3\" class=\"data row5 col3\" >0.000000</td>\n",
              "      <td id=\"T_6bbc8_row5_col4\" class=\"data row5 col4\" >8.333333</td>\n",
              "      <td id=\"T_6bbc8_row5_col5\" class=\"data row5 col5\" >95.000000</td>\n",
              "      <td id=\"T_6bbc8_row5_col6\" class=\"data row5 col6\" >106.666667</td>\n",
              "    </tr>\n",
              "    <tr>\n",
              "      <th id=\"T_6bbc8_level0_row6\" class=\"row_heading level0 row6\" >75%</th>\n",
              "      <td id=\"T_6bbc8_row6_col0\" class=\"data row6 col0\" >0.000000</td>\n",
              "      <td id=\"T_6bbc8_row6_col1\" class=\"data row6 col1\" >0.000000</td>\n",
              "      <td id=\"T_6bbc8_row6_col2\" class=\"data row6 col2\" >0.000000</td>\n",
              "      <td id=\"T_6bbc8_row6_col3\" class=\"data row6 col3\" >0.000000</td>\n",
              "      <td id=\"T_6bbc8_row6_col4\" class=\"data row6 col4\" >1.818182</td>\n",
              "      <td id=\"T_6bbc8_row6_col5\" class=\"data row6 col5\" >95.000000</td>\n",
              "      <td id=\"T_6bbc8_row6_col6\" class=\"data row6 col6\" >96.787149</td>\n",
              "    </tr>\n",
              "    <tr>\n",
              "      <th id=\"T_6bbc8_level0_row7\" class=\"row_heading level0 row7\" >max</th>\n",
              "      <td id=\"T_6bbc8_row7_col0\" class=\"data row7 col0\" >0.000000</td>\n",
              "      <td id=\"T_6bbc8_row7_col1\" class=\"data row7 col1\" >100.000000</td>\n",
              "      <td id=\"T_6bbc8_row7_col2\" class=\"data row7 col2\" >55.555556</td>\n",
              "      <td id=\"T_6bbc8_row7_col3\" class=\"data row7 col3\" >10009910.010010</td>\n",
              "      <td id=\"T_6bbc8_row7_col4\" class=\"data row7 col4\" >5.617978</td>\n",
              "      <td id=\"T_6bbc8_row7_col5\" class=\"data row7 col5\" >95.000000</td>\n",
              "      <td id=\"T_6bbc8_row7_col6\" class=\"data row7 col6\" >25.000000</td>\n",
              "    </tr>\n",
              "  </tbody>\n",
              "</table>\n"
            ]
          },
          "metadata": {},
          "execution_count": 14
        }
      ]
    },
    {
      "cell_type": "markdown",
      "source": [
        " The **`review_scores_rating`** and **`price`** seem to have many of their stats changed significantly, so we would want to look into those. Now run the KS test on the two subsets of the data. However, we cannot use the default alpha level of 0.05 in this situation because we are running a group of tests. This is because the probability of at least one false positive (concluding the feature's distribution changed when it did not) in a group of tests increases with the number of tests in the group. \n",
        "\n",
        "To solve this problem we will employ the **Bonferroni Correction**. This changes the alpha level to 0.05 / number of tests in group. It is common practice and reduces the probability of false positives. \n",
        "\n",
        " More information can be found <a href=\"https://en.wikipedia.org/wiki/Bonferroni_correction\" target=\"_blank\">here</a>."
      ],
      "metadata": {
        "id": "pDO5Qo6iIKvC"
      }
    },
    {
      "cell_type": "code",
      "source": [
        "# Set the Bonferroni Corrected alpha level\n",
        "alpha = 0.05\n",
        "alpha_corrected = alpha / len(num_cols)\n",
        "\n",
        "# Loop over all numeric attributes (numeric cols and target col, price)\n",
        "for num in num_cols:\n",
        "    # Run test comparing old and new for that attribute\n",
        "    ks_stat, ks_pval = stats.ks_2samp(pdf1[num], pdf2[num], mode=\"asymp\")\n",
        "    if ks_pval <= alpha_corrected:\n",
        "        print(f\"{num} had statistically significant change between the two samples\")"
      ],
      "metadata": {
        "colab": {
          "base_uri": "https://localhost:8080/"
        },
        "id": "Q08qClB9Ibxq",
        "outputId": "2cf1d161-b77a-4038-c2f0-07a4bb8d0309"
      },
      "execution_count": 15,
      "outputs": [
        {
          "output_type": "stream",
          "name": "stdout",
          "text": [
            "review_scores_rating had statistically significant change between the two samples\n",
            "price had statistically significant change between the two samples\n"
          ]
        }
      ]
    },
    {
      "cell_type": "code",
      "source": [
        "# Set the JS stat threshold\n",
        "threshold = 0.2\n",
        "\n",
        "# Loop over all numeric attributes (numeric cols and target col, price)\n",
        "for num in num_cols:\n",
        "    # Run test comparing old and new for that attribute\n",
        "    range_min = min(pdf1[num].min(), pdf2[num].min())\n",
        "    range_max = max(pdf1[num].max(), pdf2[num].max())\n",
        "    base = np.histogram(pdf1[num], bins=20, range=(range_min, range_max))\n",
        "    comp = np.histogram(pdf2[num], bins=20, range=(range_min, range_max))\n",
        "    js_stat = distance.jensenshannon(base[0], comp[0], base=2)\n",
        "    if js_stat >= threshold:\n",
        "        print(f\"{num} had statistically significant change between the two samples\")"
      ],
      "metadata": {
        "colab": {
          "base_uri": "https://localhost:8080/"
        },
        "id": "DhX7hiBjIncA",
        "outputId": "570054ae-4946-43a8-bd96-839340e91dfd"
      },
      "execution_count": 16,
      "outputs": [
        {
          "output_type": "stream",
          "name": "stdout",
          "text": [
            "review_scores_rating had statistically significant change between the two samples\n",
            "price had statistically significant change between the two samples\n"
          ]
        }
      ]
    },
    {
      "cell_type": "code",
      "source": [
        "pd.concat(\n",
        "  [100 * pdf1.isnull().sum() / len(pdf1), 100 * pdf2.isnull().sum() / len(pdf2)], \n",
        "  axis=1, \n",
        "  keys=[\"pdf1\", \"pdf2\"]\n",
        ").style.background_gradient(cmap=cm, text_color_threshold=0.5, axis=1)"
      ],
      "metadata": {
        "colab": {
          "base_uri": "https://localhost:8080/",
          "height": 363
        },
        "id": "CRo0ljlkIvRI",
        "outputId": "497876dd-93d7-408f-bb68-72dc4e700bef"
      },
      "execution_count": 17,
      "outputs": [
        {
          "output_type": "execute_result",
          "data": {
            "text/plain": [
              "<pandas.io.formats.style.Styler at 0x7f2ceda3df10>"
            ],
            "text/html": [
              "<style type=\"text/css\">\n",
              "#T_4e520_row0_col0, #T_4e520_row0_col1, #T_4e520_row1_col0, #T_4e520_row2_col1, #T_4e520_row3_col0, #T_4e520_row3_col1, #T_4e520_row4_col0, #T_4e520_row4_col1, #T_4e520_row5_col0, #T_4e520_row6_col0, #T_4e520_row6_col1, #T_4e520_row7_col0, #T_4e520_row7_col1, #T_4e520_row8_col0, #T_4e520_row8_col1, #T_4e520_row9_col0, #T_4e520_row9_col1 {\n",
              "  background-color: #ebf3ec;\n",
              "  color: #000000;\n",
              "}\n",
              "#T_4e520_row1_col1, #T_4e520_row2_col0, #T_4e520_row5_col1 {\n",
              "  background-color: #2ecc71;\n",
              "  color: #f1f1f1;\n",
              "}\n",
              "</style>\n",
              "<table id=\"T_4e520_\" class=\"dataframe\">\n",
              "  <thead>\n",
              "    <tr>\n",
              "      <th class=\"blank level0\" >&nbsp;</th>\n",
              "      <th class=\"col_heading level0 col0\" >pdf1</th>\n",
              "      <th class=\"col_heading level0 col1\" >pdf2</th>\n",
              "    </tr>\n",
              "  </thead>\n",
              "  <tbody>\n",
              "    <tr>\n",
              "      <th id=\"T_4e520_level0_row0\" class=\"row_heading level0 row0\" >accommodates</th>\n",
              "      <td id=\"T_4e520_row0_col0\" class=\"data row0 col0\" >0.000000</td>\n",
              "      <td id=\"T_4e520_row0_col1\" class=\"data row0 col1\" >0.000000</td>\n",
              "    </tr>\n",
              "    <tr>\n",
              "      <th id=\"T_4e520_level0_row1\" class=\"row_heading level0 row1\" >bedrooms</th>\n",
              "      <td id=\"T_4e520_row1_col0\" class=\"data row1 col0\" >0.000000</td>\n",
              "      <td id=\"T_4e520_row1_col1\" class=\"data row1 col1\" >0.052812</td>\n",
              "    </tr>\n",
              "    <tr>\n",
              "      <th id=\"T_4e520_level0_row2\" class=\"row_heading level0 row2\" >beds</th>\n",
              "      <td id=\"T_4e520_row2_col0\" class=\"data row2 col0\" >0.105597</td>\n",
              "      <td id=\"T_4e520_row2_col1\" class=\"data row2 col1\" >0.079218</td>\n",
              "    </tr>\n",
              "    <tr>\n",
              "      <th id=\"T_4e520_level0_row3\" class=\"row_heading level0 row3\" >minimum_nights</th>\n",
              "      <td id=\"T_4e520_row3_col0\" class=\"data row3 col0\" >0.000000</td>\n",
              "      <td id=\"T_4e520_row3_col1\" class=\"data row3 col1\" >0.000000</td>\n",
              "    </tr>\n",
              "    <tr>\n",
              "      <th id=\"T_4e520_level0_row4\" class=\"row_heading level0 row4\" >number_of_reviews</th>\n",
              "      <td id=\"T_4e520_row4_col0\" class=\"data row4 col0\" >0.000000</td>\n",
              "      <td id=\"T_4e520_row4_col1\" class=\"data row4 col1\" >0.000000</td>\n",
              "    </tr>\n",
              "    <tr>\n",
              "      <th id=\"T_4e520_level0_row5\" class=\"row_heading level0 row5\" >review_scores_rating</th>\n",
              "      <td id=\"T_4e520_row5_col0\" class=\"data row5 col0\" >19.640971</td>\n",
              "      <td id=\"T_4e520_row5_col1\" class=\"data row5 col1\" >20.940058</td>\n",
              "    </tr>\n",
              "    <tr>\n",
              "      <th id=\"T_4e520_level0_row6\" class=\"row_heading level0 row6\" >price</th>\n",
              "      <td id=\"T_4e520_row6_col0\" class=\"data row6 col0\" >0.000000</td>\n",
              "      <td id=\"T_4e520_row6_col1\" class=\"data row6 col1\" >0.000000</td>\n",
              "    </tr>\n",
              "    <tr>\n",
              "      <th id=\"T_4e520_level0_row7\" class=\"row_heading level0 row7\" >neighbourhood_cleansed</th>\n",
              "      <td id=\"T_4e520_row7_col0\" class=\"data row7 col0\" >0.000000</td>\n",
              "      <td id=\"T_4e520_row7_col1\" class=\"data row7 col1\" >0.000000</td>\n",
              "    </tr>\n",
              "    <tr>\n",
              "      <th id=\"T_4e520_level0_row8\" class=\"row_heading level0 row8\" >property_type</th>\n",
              "      <td id=\"T_4e520_row8_col0\" class=\"data row8 col0\" >0.000000</td>\n",
              "      <td id=\"T_4e520_row8_col1\" class=\"data row8 col1\" >0.000000</td>\n",
              "    </tr>\n",
              "    <tr>\n",
              "      <th id=\"T_4e520_level0_row9\" class=\"row_heading level0 row9\" >room_type</th>\n",
              "      <td id=\"T_4e520_row9_col0\" class=\"data row9 col0\" >0.000000</td>\n",
              "      <td id=\"T_4e520_row9_col1\" class=\"data row9 col1\" >0.000000</td>\n",
              "    </tr>\n",
              "  </tbody>\n",
              "</table>\n"
            ]
          },
          "metadata": {},
          "execution_count": 17
        }
      ]
    },
    {
      "cell_type": "code",
      "source": [
        "\n",
        "alpha = 0.05\n",
        "corrected_alpha = alpha / len(cat_cols) # Still using the same correction\n",
        "    \n",
        "for feature in cat_cols:\n",
        "    pdf_count1 = pd.DataFrame(pdf1[feature].value_counts()).sort_index().rename(columns={feature:\"pdf1\"})\n",
        "    pdf_count2 = pd.DataFrame(pdf2[feature].value_counts()).sort_index().rename(columns={feature:\"pdf2\"})\n",
        "    pdf_counts = pdf_count1.join(pdf_count2, how=\"outer\").fillna(0)\n",
        "    obs = np.array([pdf_counts[\"pdf1\"], pdf_counts[\"pdf2\"]])\n",
        "    _, p, _, _ = stats.chi2_contingency(obs)\n",
        "    if p < corrected_alpha:\n",
        "        print(f\"{feature} statistically significantly changed\")\n",
        "    else:\n",
        "        print(f\"{feature} did not statistically significantly change\")\n"
      ],
      "metadata": {
        "colab": {
          "base_uri": "https://localhost:8080/"
        },
        "id": "tXsiaWaqI-j5",
        "outputId": "bf4e875c-21f1-4506-e253-2eeee5722233"
      },
      "execution_count": 18,
      "outputs": [
        {
          "output_type": "stream",
          "name": "stdout",
          "text": [
            "neighbourhood_cleansed did not statistically significantly change\n",
            "property_type did not statistically significantly change\n",
            "room_type did not statistically significantly change\n"
          ]
        }
      ]
    },
    {
      "cell_type": "markdown",
      "source": [
        "**Note:** The Two-way Chi-Squared test caught this not because nulls were introduced, but because they were introduced into one neighbourhood specifically, leading to an uneven distribution. If nulls were uniform throughout, then the test would see a similar distribution, just with lower counts, which this test would not flag as a change in dependence."
      ],
      "metadata": {
        "id": "WoMEoaUwKffh"
      }
    },
    {
      "cell_type": "markdown",
      "source": [
        "Optional Note on Chi-Squared tests.\n",
        "\n",
        "For the Chi-Squared tests, distributions with low bin counts can invalidate the test's accuracy and lead to false positives.  \n",
        "\n",
        "There are also two types of Chi-Squared tests: One-way and Two-way (or contingency) tests. One-way testing is a goodness of fit test. It takes a single feature distribution and a population distribution and reports the probabilty of randomly drawing the single feature distribution from that population. In the context of drift monitoring, you would use the old time window as the population distribution and the new time window as the single feature distribution. If the p-value was low, then it would be likely that drift occured and that the new data no longer resembles the old distribution. This test compares counts, so if a more recent time window has a similar distribution but less data in it, this will return a low p-value when it perhaps should not. In that situation, try the Two-way test. \n",
        "\n",
        "The Two-way or contingency test used above is rather a test for independence. It takes in a table where the rows represent time window 1 and 2 and the columns represent feature counts for a given feature. It determines whether or not there is a relationship between the time window and the feature distributions, or, in other words, if the distributions are independent of the time window. It is important to note that this test will not catch differences such as a decrease in total counts in the distribution. This makes it useful when comparing time windows with unequal amounts of data, but make sure to check for changes in null counts or differences in counts separately that you might care about. \n",
        "\n",
        "Both of these assume high bin counts (generally >5) for each category in order to work properly. In our example, because of the large number of categories, some bin counts were lower than we would want for these tests. Fortunately, the scipy implementation of the Two-way test utilizes a correction for low counts that makes the Two-way preferable to the One-way in this situation, although ideally we would still want higher bin counts. \n",
        "\n",
        "The Fisher Exact test is a good alternative in the situation where the counts are too low, however there is currently no Python implemenation for this test in a contingency table larger than 2x2. If you are looking to run this test, you should explore using R. \n",
        "\n",
        "These are subtle differences that are worth taking into account, but in either case, a low p-value would indicate significantly different distributions across the time window and therefore drift for the One-Way or Two-way Chi-Squared."
      ],
      "metadata": {
        "id": "ggYQB2z2KQ8i"
      }
    },
    {
      "cell_type": "code",
      "source": [
        "import pandas as pd\n",
        "import seaborn as sns\n",
        "from scipy import stats\n",
        "import numpy as np \n",
        "from scipy.spatial import distance\n",
        "\n",
        "class Monitor():\n",
        "  \n",
        "    def __init__(self, pdf1, pdf2, cat_cols, num_cols, alpha=.05, js_stat_threshold=0.2):\n",
        "        \"\"\"\n",
        "        Pass in two pandas dataframes with the same columns for two time windows\n",
        "        List the categorical and numeric columns, and optionally provide an alpha level\n",
        "        \"\"\"\n",
        "        assert (pdf1.columns == pdf2.columns).all(), \"Columns do not match\"\n",
        "        self.pdf1 = pdf1\n",
        "        self.pdf2 = pdf2\n",
        "        self.categorical_columns = cat_cols\n",
        "        self.continuous_columns = num_cols\n",
        "        self.alpha = alpha\n",
        "        self.js_stat_threshold = js_stat_threshold\n",
        "    \n",
        "    def run(self):\n",
        "        \"\"\"\n",
        "        Call to run drift monitoring\n",
        "        \"\"\"\n",
        "        self.handle_numeric_js()\n",
        "        self.handle_categorical()\n",
        "        \n",
        "        pdf1_nulls = self.pdf1.isnull().sum().sum()\n",
        "        pdf2_nulls = self.pdf2.isnull().sum().sum()\n",
        "        print(f\"{pdf1_nulls} total null values found in pdf1 and {pdf2_nulls} in pdf2\")\n",
        "        \n",
        "  \n",
        "    def handle_numeric_ks(self):\n",
        "        \"\"\"\n",
        "        Handle the numeric features with the Two-Sample Kolmogorov-Smirnov (KS) Test with Bonferroni Correction \n",
        "        \"\"\"\n",
        "        corrected_alpha = self.alpha / len(self.continuous_columns)\n",
        "\n",
        "        for num in self.continuous_columns:\n",
        "            ks_stat, ks_pval = stats.ks_2samp(self.pdf1[num], self.pdf2[num], mode=\"asymp\")\n",
        "            if ks_pval <= corrected_alpha:\n",
        "                self.on_drift(num)\n",
        "                \n",
        "    def handle_numeric_js(self):\n",
        "        \"\"\"\n",
        "        Handles the numeric features with the Jensen Shannon (JS) test using the threshold attribute\n",
        "        \"\"\"\n",
        "        for num in self.continuous_columns:\n",
        "            # Run test comparing old and new for that attribute\n",
        "            range_min = min(self.pdf1[num].min(), self.pdf2[num].min())\n",
        "            range_max = max(self.pdf1[num].max(), self.pdf2[num].max())\n",
        "            base = np.histogram(self.pdf1[num], bins=20, range=(range_min, range_max))\n",
        "            comp = np.histogram(self.pdf2[num], bins=20, range=(range_min, range_max))\n",
        "            js_stat = distance.jensenshannon(base[0], comp[0], base=2)\n",
        "            if js_stat >= self.js_stat_threshold:\n",
        "                self.on_drift(num)\n",
        "      \n",
        "    def handle_categorical(self):\n",
        "        \"\"\"\n",
        "        Handle the Categorical features with Two-Way Chi-Squared Test with Bonferroni Correction\n",
        "        Note: null counts can skew the results of the Chi-Squared Test so they're currently dropped\n",
        "            by `.value_counts()`\n",
        "        \"\"\"\n",
        "        corrected_alpha = self.alpha / len(self.categorical_columns)\n",
        "\n",
        "        for feature in self.categorical_columns:\n",
        "            pdf_count1 = pd.DataFrame(self.pdf1[feature].value_counts()).sort_index().rename(columns={feature:\"pdf1\"})\n",
        "            pdf_count2 = pd.DataFrame(self.pdf2[feature].value_counts()).sort_index().rename(columns={feature:\"pdf2\"})\n",
        "            pdf_counts = pdf_count1.join(pdf_count2, how=\"outer\")#.fillna(0)\n",
        "            obs = np.array([pdf_counts[\"pdf1\"], pdf_counts[\"pdf2\"]])\n",
        "            _, p, _, _ = stats.chi2_contingency(obs)\n",
        "            if p < corrected_alpha:\n",
        "                self.on_drift(feature)\n",
        "\n",
        "    def generate_null_counts(self, palette=\"#2ecc71\"):\n",
        "        \"\"\"\n",
        "        Generate the visualization of percent null counts of all features\n",
        "        Optionally provide a color palette for the visual\n",
        "        \"\"\"\n",
        "        cm = sns.light_palette(palette, as_cmap=True)\n",
        "        return pd.concat([100 * self.pdf1.isnull().sum() / len(self.pdf1), \n",
        "                          100 * self.pdf2.isnull().sum() / len(self.pdf2)], axis=1, \n",
        "                          keys=[\"pdf1\", \"pdf2\"]).style.background_gradient(cmap=cm, text_color_threshold=0.5, axis=1)\n",
        "    \n",
        "    def generate_percent_change(self, palette=\"#2ecc71\"):\n",
        "        \"\"\"\n",
        "        Generate visualization of percent change in summary statistics of numeric features\n",
        "        Optionally provide a color palette for the visual\n",
        "        \"\"\"\n",
        "        cm = sns.light_palette(palette, as_cmap=True)\n",
        "        summary1_pdf = self.pdf1.describe()[self.continuous_columns]\n",
        "        summary2_pdf = self.pdf2.describe()[self.continuous_columns]\n",
        "        percent_change = 100 * abs((summary1_pdf - summary2_pdf) / (summary1_pdf + 1e-100))\n",
        "        return percent_change.style.background_gradient(cmap=cm, text_color_threshold=0.5, axis=1)\n",
        "  \n",
        "    def on_drift(self, feature):\n",
        "        \"\"\"\n",
        "        Complete this method with your response to drift.  Options include:\n",
        "          - raise an alert\n",
        "          - automatically retrain model\n",
        "        \"\"\"\n",
        "        print(f\"Drift found in {feature}!\")\n",
        "    \n",
        "drift_monitor = Monitor(pdf1, pdf2, cat_cols, num_cols)\n",
        "drift_monitor.run()\n",
        "\n",
        "# COMMAND ----------\n",
        "\n",
        "drift_monitor.generate_percent_change()\n",
        "\n",
        "# COMMAND ----------\n",
        "\n",
        "drift_monitor.generate_null_counts()"
      ],
      "metadata": {
        "colab": {
          "base_uri": "https://localhost:8080/",
          "height": 415
        },
        "id": "9CROykw_JeMD",
        "outputId": "d3f368b3-ff53-488e-96b9-4e6bc7f5715a"
      },
      "execution_count": 19,
      "outputs": [
        {
          "output_type": "stream",
          "name": "stdout",
          "text": [
            "Drift found in review_scores_rating!\n",
            "Drift found in price!\n",
            "748 total null values found in pdf1 and 798 in pdf2\n"
          ]
        },
        {
          "output_type": "execute_result",
          "data": {
            "text/plain": [
              "<pandas.io.formats.style.Styler at 0x7f2cec24efa0>"
            ],
            "text/html": [
              "<style type=\"text/css\">\n",
              "#T_1496a_row0_col0, #T_1496a_row0_col1, #T_1496a_row1_col0, #T_1496a_row2_col1, #T_1496a_row3_col0, #T_1496a_row3_col1, #T_1496a_row4_col0, #T_1496a_row4_col1, #T_1496a_row5_col0, #T_1496a_row6_col0, #T_1496a_row6_col1, #T_1496a_row7_col0, #T_1496a_row7_col1, #T_1496a_row8_col0, #T_1496a_row8_col1, #T_1496a_row9_col0, #T_1496a_row9_col1 {\n",
              "  background-color: #ebf3ec;\n",
              "  color: #000000;\n",
              "}\n",
              "#T_1496a_row1_col1, #T_1496a_row2_col0, #T_1496a_row5_col1 {\n",
              "  background-color: #2ecc71;\n",
              "  color: #f1f1f1;\n",
              "}\n",
              "</style>\n",
              "<table id=\"T_1496a_\" class=\"dataframe\">\n",
              "  <thead>\n",
              "    <tr>\n",
              "      <th class=\"blank level0\" >&nbsp;</th>\n",
              "      <th class=\"col_heading level0 col0\" >pdf1</th>\n",
              "      <th class=\"col_heading level0 col1\" >pdf2</th>\n",
              "    </tr>\n",
              "  </thead>\n",
              "  <tbody>\n",
              "    <tr>\n",
              "      <th id=\"T_1496a_level0_row0\" class=\"row_heading level0 row0\" >accommodates</th>\n",
              "      <td id=\"T_1496a_row0_col0\" class=\"data row0 col0\" >0.000000</td>\n",
              "      <td id=\"T_1496a_row0_col1\" class=\"data row0 col1\" >0.000000</td>\n",
              "    </tr>\n",
              "    <tr>\n",
              "      <th id=\"T_1496a_level0_row1\" class=\"row_heading level0 row1\" >bedrooms</th>\n",
              "      <td id=\"T_1496a_row1_col0\" class=\"data row1 col0\" >0.000000</td>\n",
              "      <td id=\"T_1496a_row1_col1\" class=\"data row1 col1\" >0.052812</td>\n",
              "    </tr>\n",
              "    <tr>\n",
              "      <th id=\"T_1496a_level0_row2\" class=\"row_heading level0 row2\" >beds</th>\n",
              "      <td id=\"T_1496a_row2_col0\" class=\"data row2 col0\" >0.105597</td>\n",
              "      <td id=\"T_1496a_row2_col1\" class=\"data row2 col1\" >0.079218</td>\n",
              "    </tr>\n",
              "    <tr>\n",
              "      <th id=\"T_1496a_level0_row3\" class=\"row_heading level0 row3\" >minimum_nights</th>\n",
              "      <td id=\"T_1496a_row3_col0\" class=\"data row3 col0\" >0.000000</td>\n",
              "      <td id=\"T_1496a_row3_col1\" class=\"data row3 col1\" >0.000000</td>\n",
              "    </tr>\n",
              "    <tr>\n",
              "      <th id=\"T_1496a_level0_row4\" class=\"row_heading level0 row4\" >number_of_reviews</th>\n",
              "      <td id=\"T_1496a_row4_col0\" class=\"data row4 col0\" >0.000000</td>\n",
              "      <td id=\"T_1496a_row4_col1\" class=\"data row4 col1\" >0.000000</td>\n",
              "    </tr>\n",
              "    <tr>\n",
              "      <th id=\"T_1496a_level0_row5\" class=\"row_heading level0 row5\" >review_scores_rating</th>\n",
              "      <td id=\"T_1496a_row5_col0\" class=\"data row5 col0\" >19.640971</td>\n",
              "      <td id=\"T_1496a_row5_col1\" class=\"data row5 col1\" >20.940058</td>\n",
              "    </tr>\n",
              "    <tr>\n",
              "      <th id=\"T_1496a_level0_row6\" class=\"row_heading level0 row6\" >price</th>\n",
              "      <td id=\"T_1496a_row6_col0\" class=\"data row6 col0\" >0.000000</td>\n",
              "      <td id=\"T_1496a_row6_col1\" class=\"data row6 col1\" >0.000000</td>\n",
              "    </tr>\n",
              "    <tr>\n",
              "      <th id=\"T_1496a_level0_row7\" class=\"row_heading level0 row7\" >neighbourhood_cleansed</th>\n",
              "      <td id=\"T_1496a_row7_col0\" class=\"data row7 col0\" >0.000000</td>\n",
              "      <td id=\"T_1496a_row7_col1\" class=\"data row7 col1\" >0.000000</td>\n",
              "    </tr>\n",
              "    <tr>\n",
              "      <th id=\"T_1496a_level0_row8\" class=\"row_heading level0 row8\" >property_type</th>\n",
              "      <td id=\"T_1496a_row8_col0\" class=\"data row8 col0\" >0.000000</td>\n",
              "      <td id=\"T_1496a_row8_col1\" class=\"data row8 col1\" >0.000000</td>\n",
              "    </tr>\n",
              "    <tr>\n",
              "      <th id=\"T_1496a_level0_row9\" class=\"row_heading level0 row9\" >room_type</th>\n",
              "      <td id=\"T_1496a_row9_col0\" class=\"data row9 col0\" >0.000000</td>\n",
              "      <td id=\"T_1496a_row9_col1\" class=\"data row9 col1\" >0.000000</td>\n",
              "    </tr>\n",
              "  </tbody>\n",
              "</table>\n"
            ]
          },
          "metadata": {},
          "execution_count": 19
        }
      ]
    },
    {
      "cell_type": "markdown",
      "source": [
        "%md <i18n value=\"7dd9c6a3-8b89-46f4-a041-790fe2895ffc\"/>\n",
        "\n",
        "\n",
        "\n",
        "## Drift Monitoring Architecture\n",
        "\n",
        "A potential workflow for deployment and dirft monitoring could look something like this:\n",
        "\n",
        "![Azure ML Pipeline](https://files.training.databricks.com/images/monitoring.png)\n",
        "\n",
        "**Workflow**\n",
        "* ***Deploy a model to production, using MLflow and Delta to log the model and data***\n",
        "* ***When the next time step of data arrives:***\n",
        "  * Get the logged input data from the current production model\n",
        "  * Get the observed (true) values\n",
        "  * Compare the evaluation metric (e.g. RMSE) between the observed values and predicted values\n",
        "  * Run the statistical tests shown above to identify potential drift\n",
        "* ***If drift is not found:***\n",
        "  * Keep monitoring but leave original model deployed\n",
        "* ***If drift is found:***\n",
        "  * Analyze the situation and take action\n",
        "  * If retraining/deploying an updated model is needed:\n",
        "    * Create a candidate model on the new data\n",
        "    * Deploy candidate model as long as it performs better than the current model on the more recent data\n",
        "\n",
        "\n",
        "\n",
        "\n",
        "In this lesson, we focused on statistical methods for identifying drift. \n",
        "\n",
        "However, there are other methods.\n",
        "\n",
        "<a href=\"https://scikit-multiflow.github.io/\" target=\"_blank\">The package `skmultiflow`</a> has some good options for drift detection algorithms. Try the DDM method.\n",
        "\n",
        "\n",
        "<div><img src=\"https://files.training.databricks.com/images/eLearning/ML-Part-4/drift.png\" style=\"height: 400px; margin: 20px\"/></div>\n",
        "\n",
        "The detection threshold is calculated as a function of two statistics, obtained when `(pi + si)` is minimum:\n",
        "\n",
        " * `pmin`: The minimum recorded error rate\n",
        " * `smin`: The minimum recorded standard deviation\n",
        "\n",
        "At instant `i`, the detection algorithm uses:\n",
        "\n",
        " * `pi`: The error rate at instant i\n",
        " * `si`: The standard deviation at instant i\n",
        "\n",
        "The default conditions for entering the warning zone and detecting change are as follows:\n",
        "\n",
        " * if `pi + si >= pmin + 2 * smin` -> Warning zone\n",
        " * if `pi + si >= pmin + 3 * smin` -> Change detected\n",
        "\n",
        "#### Model Based Approaches\n",
        "\n",
        "A much less intuitive but possibly more powerful approach would focus on a machine learning based solution. \n",
        "\n",
        "Some common examples: \n",
        "\n",
        "1. Create a supervised approach on a dataset of data classified as normal or abnormal. Finding such a dataset can be difficult, however. \n",
        "2. Use a regression method to predict future values for incoming data over time and detect drift if there is strong prediction error.\n",
        "\n"
      ],
      "metadata": {
        "id": "yP_Tj9CcJv0S"
      }
    }
  ]
}